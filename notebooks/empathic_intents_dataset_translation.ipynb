{
 "cells": [
  {
   "cell_type": "markdown",
   "id": "a4315036",
   "metadata": {},
   "source": [
    "# Перевод датасета EmpathicIntents\n",
    "https://github.com/anuradha1992/EmpatheticIntents.git"
   ]
  },
  {
   "cell_type": "code",
   "execution_count": 1,
   "id": "af5a7b08",
   "metadata": {},
   "outputs": [],
   "source": [
    "import sys\n",
    "import os.path as osp\n",
    "import os\n",
    "\n",
    "current_dir = os.getcwd()\n",
    "\n",
    "parent_dir = os.path.abspath(os.path.join(current_dir, '..'))\n",
    "sys.path.append(parent_dir)\n",
    "sys.path.append(current_dir + '/notebooks')\n",
    "sys.path.append(current_dir)\n",
    "sys.path.append(current_dir + '/data')"
   ]
  },
  {
   "cell_type": "code",
   "execution_count": 16,
   "id": "b9f87ffd",
   "metadata": {},
   "outputs": [],
   "source": [
    "import json\n",
    "from pathlib import Path\n",
    "import re\n",
    "\n",
    "from datasets import Dataset\n",
    "from omegaconf import OmegaConf\n",
    "from copy import deepcopy\n",
    "from collections import defaultdict\n",
    "import pandas as pd\n",
    "from src.core.translate import Translator\n",
    "from src.utils.schemas import GeneralTranslationResultSchema"
   ]
  },
  {
   "cell_type": "markdown",
   "id": "4f6d8d41",
   "metadata": {},
   "source": [
    "вспомогательные функции"
   ]
  },
  {
   "cell_type": "code",
   "execution_count": 688,
   "id": "575683b1",
   "metadata": {},
   "outputs": [],
   "source": [
    "regex_check_russian = re.compile(r'^[а-яА-ЯёЁ0-9\\s,.!?;:\\-—()«»„“\"\\'’]+$')\n",
    "def read_json(path):\n",
    "    return json.load(Path(path).open())\n",
    "\n",
    "def read_file(path: str):\n",
    "\treturn Path(path).open().read()\n",
    "\n",
    "def save_json(obj, path):\n",
    "    json.dump(obj, Path(path).open(\"w\", encoding=\"utf-8\"), indent=4, ensure_ascii=False)\n",
    "\n",
    "def is_russian_text(text):\n",
    "    # Разрешаем:\n",
    "    # - русские буквы (включая ёЁ)\n",
    "    # - цифры (0-9)\n",
    "    # - пробелы, переносы строк (\\s)\n",
    "    # - стандартные знаки препинания: ,.!?;:()\n",
    "    # — длинное тире (—), дефис (-)\n",
    "    # - кавычки («»„““”\"')\n",
    "    # - апостроф (’') для слов типа \"селёдочка\"\n",
    "    return bool(re.fullmatch(regex_check_russian, text))"
   ]
  },
  {
   "cell_type": "code",
   "execution_count": 10,
   "id": "9866994f",
   "metadata": {},
   "outputs": [],
   "source": [
    "from glob import glob\n",
    "files = glob('/Users/n.valieva/Desktop/empathy_dataset_transfer/EmpatheticIntents/datasets/empatheticdialogues_annotated/*.csv')\n",
    "mapping = {Path(f).stem: pd.read_csv(f) for f in files}"
   ]
  },
  {
   "cell_type": "markdown",
   "id": "0472eca0",
   "metadata": {},
   "source": [
    "в датасете содержится 32 файла с аннотациями:"
   ]
  },
  {
   "cell_type": "code",
   "execution_count": 582,
   "id": "2792deea",
   "metadata": {},
   "outputs": [
    {
     "name": "stdout",
     "output_type": "stream",
     "text": [
      "['afraid', 'angry', 'annoyed', 'anticipating', 'anxious', 'apprehensive', 'ashamed', 'caring', 'confident', 'content', 'devastated', 'disappointed', 'disgusted', 'embarrassed', 'excited', 'faithful', 'furious', 'grateful', 'guilty', 'hopeful', 'impressed', 'jealous', 'joyful', 'lonely', 'nostalgic', 'prepared', 'proud', 'sad', 'sentimental', 'surprised', 'terrified', 'trusting']\n"
     ]
    }
   ],
   "source": [
    "print(sorted(mapping.keys()))"
   ]
  },
  {
   "cell_type": "code",
   "execution_count": 164,
   "id": "0008f921",
   "metadata": {},
   "outputs": [
    {
     "data": {
      "text/plain": [
       "32"
      ]
     },
     "execution_count": 164,
     "metadata": {},
     "output_type": "execute_result"
    }
   ],
   "source": [
    "len(mapping)"
   ]
  },
  {
   "cell_type": "code",
   "execution_count": 15,
   "id": "6fde87b6",
   "metadata": {},
   "outputs": [
    {
     "data": {
      "text/html": [
       "<div>\n",
       "<style scoped>\n",
       "    .dataframe tbody tr th:only-of-type {\n",
       "        vertical-align: middle;\n",
       "    }\n",
       "\n",
       "    .dataframe tbody tr th {\n",
       "        vertical-align: top;\n",
       "    }\n",
       "\n",
       "    .dataframe thead th {\n",
       "        text-align: right;\n",
       "    }\n",
       "</style>\n",
       "<table border=\"1\" class=\"dataframe\">\n",
       "  <thead>\n",
       "    <tr style=\"text-align: right;\">\n",
       "      <th></th>\n",
       "      <th>Dialog_ID</th>\n",
       "      <th>Type</th>\n",
       "      <th>Actor</th>\n",
       "      <th>Text</th>\n",
       "      <th>Label</th>\n",
       "    </tr>\n",
       "  </thead>\n",
       "  <tbody>\n",
       "    <tr>\n",
       "      <th>0</th>\n",
       "      <td>hit:4821_conv:9643</td>\n",
       "      <td>situation</td>\n",
       "      <td>none</td>\n",
       "      <td>When my car caught on fire while driving</td>\n",
       "      <td>devastated</td>\n",
       "    </tr>\n",
       "    <tr>\n",
       "      <th>1</th>\n",
       "      <td>hit:4821_conv:9643</td>\n",
       "      <td>utterance</td>\n",
       "      <td>speaker</td>\n",
       "      <td>I had my car catch on fire while driving!</td>\n",
       "      <td>devastated</td>\n",
       "    </tr>\n",
       "    <tr>\n",
       "      <th>2</th>\n",
       "      <td>hit:4821_conv:9643</td>\n",
       "      <td>utterance</td>\n",
       "      <td>listener</td>\n",
       "      <td>Oh my gosh, what did you do?</td>\n",
       "      <td>questioning</td>\n",
       "    </tr>\n",
       "    <tr>\n",
       "      <th>3</th>\n",
       "      <td>hit:4821_conv:9643</td>\n",
       "      <td>utterance</td>\n",
       "      <td>speaker</td>\n",
       "      <td>Pulled over as fast as I could and jumped out....</td>\n",
       "      <td>afraid</td>\n",
       "    </tr>\n",
       "    <tr>\n",
       "      <th>4</th>\n",
       "      <td>hit:4821_conv:9643</td>\n",
       "      <td>utterance</td>\n",
       "      <td>listener</td>\n",
       "      <td>I bet, glad you are ok</td>\n",
       "      <td>encouraging</td>\n",
       "    </tr>\n",
       "  </tbody>\n",
       "</table>\n",
       "</div>"
      ],
      "text/plain": [
       "            Dialog_ID       Type     Actor  \\\n",
       "0  hit:4821_conv:9643  situation      none   \n",
       "1  hit:4821_conv:9643  utterance   speaker   \n",
       "2  hit:4821_conv:9643  utterance  listener   \n",
       "3  hit:4821_conv:9643  utterance   speaker   \n",
       "4  hit:4821_conv:9643  utterance  listener   \n",
       "\n",
       "                                                Text        Label  \n",
       "0           When my car caught on fire while driving   devastated  \n",
       "1          I had my car catch on fire while driving!   devastated  \n",
       "2                       Oh my gosh, what did you do?  questioning  \n",
       "3  Pulled over as fast as I could and jumped out....       afraid  \n",
       "4                             I bet, glad you are ok  encouraging  "
      ]
     },
     "execution_count": 15,
     "metadata": {},
     "output_type": "execute_result"
    }
   ],
   "source": [
    "mapping['afraid'].head()"
   ]
  },
  {
   "cell_type": "code",
   "execution_count": 21,
   "id": "b262e7a5",
   "metadata": {},
   "outputs": [
    {
     "data": {
      "text/plain": [
       "4238"
      ]
     },
     "execution_count": 21,
     "metadata": {},
     "output_type": "execute_result"
    }
   ],
   "source": [
    "len(mapping['afraid'])"
   ]
  },
  {
   "cell_type": "markdown",
   "id": "113138bc",
   "metadata": {},
   "source": [
    "соберем данные в нужном формате для перевода, для начала переведем просто все тексты из диалога"
   ]
  },
  {
   "cell_type": "code",
   "execution_count": 20,
   "id": "ca292668",
   "metadata": {},
   "outputs": [],
   "source": [
    "datasets = defaultdict(list)\n",
    "for i, (fname, df) in enumerate(mapping.items()):\n",
    "    ids = df['Dialog_ID'].unique().tolist()\n",
    "    for id in ids:\n",
    "        texts = df[df['Dialog_ID'] == id]['Text'].tolist()\n",
    "        for j in range(len(texts)):\n",
    "            datasets[fname].append({\"id\": f\"{id}_{j}\", \"text\": texts[j]})"
   ]
  },
  {
   "cell_type": "code",
   "execution_count": 22,
   "id": "3fa7cf03",
   "metadata": {},
   "outputs": [
    {
     "data": {
      "text/plain": [
       "4238"
      ]
     },
     "execution_count": 22,
     "metadata": {},
     "output_type": "execute_result"
    }
   ],
   "source": [
    "len(datasets['afraid'])"
   ]
  },
  {
   "cell_type": "code",
   "execution_count": 23,
   "id": "c539d95a",
   "metadata": {},
   "outputs": [
    {
     "data": {
      "text/plain": [
       "{'id': 'hit:4821_conv:9643_0',\n",
       " 'text': 'When my car caught on fire while driving'}"
      ]
     },
     "execution_count": 23,
     "metadata": {},
     "output_type": "execute_result"
    }
   ],
   "source": [
    "datasets['afraid'][0]"
   ]
  },
  {
   "cell_type": "code",
   "execution_count": 24,
   "id": "994aafa3",
   "metadata": {},
   "outputs": [],
   "source": [
    "for fname, data in datasets.items():\n",
    "    save_json(data, f\"{fname}.json\")"
   ]
  },
  {
   "cell_type": "markdown",
   "id": "f203c965",
   "metadata": {},
   "source": [
    "## Перевод одного файла"
   ]
  },
  {
   "cell_type": "code",
   "execution_count": 685,
   "id": "bcd7a460",
   "metadata": {},
   "outputs": [],
   "source": [
    "name = \"afraid\""
   ]
  },
  {
   "cell_type": "code",
   "execution_count": 686,
   "id": "596dee87",
   "metadata": {},
   "outputs": [],
   "source": [
    "dataset = read_json(f'{name}.json')"
   ]
  },
  {
   "cell_type": "code",
   "execution_count": 687,
   "id": "af9078a5",
   "metadata": {},
   "outputs": [
    {
     "data": {
      "text/plain": [
       "4238"
      ]
     },
     "execution_count": 687,
     "metadata": {},
     "output_type": "execute_result"
    }
   ],
   "source": [
    "len(dataset)"
   ]
  },
  {
   "cell_type": "markdown",
   "id": "ae475e72",
   "metadata": {},
   "source": [
    "подгружаем конфиг для перевода, в этом случае используем батч из 32 текстов"
   ]
  },
  {
   "cell_type": "code",
   "execution_count": null,
   "id": "9d55603a",
   "metadata": {},
   "outputs": [],
   "source": [
    "config = OmegaConf.load('../configs/conf.yaml')\n",
    "general_translation_config = config.general_translation\n",
    "general_translation_config.batch_result_dir = f\"batches_res_general_translation_{name}\"\n",
    "general_translation_config.batches = f\"batches_general_translation_{name}\"\n",
    "general_translation_config.batch_size = 32"
   ]
  },
  {
   "cell_type": "code",
   "execution_count": 572,
   "id": "fb361b83",
   "metadata": {},
   "outputs": [],
   "source": [
    "general_translator = Translator(\n",
    "    system_message=read_file(general_translation_config.prompt_path), \n",
    "    model_config=read_json(general_translation_config.model_config_path), \n",
    "    example_data=read_json(general_translation_config.filepath_examples), \n",
    "    batch_size=general_translation_config.batch_size,\n",
    "    batch_result_dir=general_translation_config.batch_result_dir,\n",
    "    batch_dir=general_translation_config.batches,\n",
    "    model_type=\"openai\"\n",
    ")"
   ]
  },
  {
   "cell_type": "code",
   "execution_count": null,
   "id": "7bc60893",
   "metadata": {},
   "outputs": [],
   "source": [
    "print(read_json(general_translation_config.model_config_path))"
   ]
  },
  {
   "cell_type": "code",
   "execution_count": null,
   "id": "0349a74f",
   "metadata": {},
   "outputs": [],
   "source": [
    "general_input_dataset = Dataset.from_list(dataset)\n",
    "\n",
    "translation_result = general_translator.translate(general_input_dataset, GeneralTranslationResultSchema)"
   ]
  },
  {
   "cell_type": "code",
   "execution_count": null,
   "id": "6b5e42ee",
   "metadata": {},
   "outputs": [],
   "source": [
    "save_json(translation_result, f\"translation_result_empathic_intents_{name}.json\")"
   ]
  },
  {
   "cell_type": "code",
   "execution_count": 577,
   "id": "8d91cf46",
   "metadata": {},
   "outputs": [],
   "source": [
    "translation_result = read_json(\"translation_result_empathic_intents_apprehensive_qwen.json\")"
   ]
  },
  {
   "cell_type": "markdown",
   "id": "9c33054c",
   "metadata": {},
   "source": [
    "смотрим те случаи, когда в тексте есть какие-то иноязычные символы и корректируем их перевод с помощью `gpt-4o`"
   ]
  },
  {
   "cell_type": "code",
   "execution_count": null,
   "id": "cb1335a8",
   "metadata": {},
   "outputs": [],
   "source": [
    "to_correct = []\n",
    "for item in translation_result:\n",
    "    if not is_russian_text(item['text_rus']):\n",
    "        to_correct.append(item)\n",
    "        print(item['text_rus'])\n",
    "        print('***************'*10)"
   ]
  },
  {
   "cell_type": "code",
   "execution_count": 546,
   "id": "69aad9ad",
   "metadata": {},
   "outputs": [
    {
     "data": {
      "text/plain": [
       "165"
      ]
     },
     "execution_count": 546,
     "metadata": {},
     "output_type": "execute_result"
    }
   ],
   "source": [
    "len(to_correct)"
   ]
  },
  {
   "cell_type": "code",
   "execution_count": 547,
   "id": "517fe0a9",
   "metadata": {},
   "outputs": [],
   "source": [
    "dataset_ids = set([item['id'] for item in dataset])\n",
    "tr_ids = set([item['id'] for item in translation_result])"
   ]
  },
  {
   "cell_type": "markdown",
   "id": "c4f93e7f",
   "metadata": {},
   "source": [
    "собираем те тексты, которые не перевелись"
   ]
  },
  {
   "cell_type": "code",
   "execution_count": 548,
   "id": "58be8bc0",
   "metadata": {},
   "outputs": [],
   "source": [
    "more = dataset_ids - tr_ids"
   ]
  },
  {
   "cell_type": "code",
   "execution_count": 549,
   "id": "cf882ceb",
   "metadata": {},
   "outputs": [
    {
     "data": {
      "text/plain": [
       "68"
      ]
     },
     "execution_count": 549,
     "metadata": {},
     "output_type": "execute_result"
    }
   ],
   "source": [
    "len(more)"
   ]
  },
  {
   "cell_type": "markdown",
   "id": "92d3a439",
   "metadata": {},
   "source": [
    "смотрим те случаи, когда у нас в переводе появились тексты, которых нет в датасете. В таких примерах можно вручную изменить `id`, чтобы они совпадали с тем, что есть в датасете."
   ]
  },
  {
   "cell_type": "code",
   "execution_count": 551,
   "id": "f994cb9a",
   "metadata": {},
   "outputs": [
    {
     "data": {
      "text/plain": [
       "set()"
      ]
     },
     "execution_count": 551,
     "metadata": {},
     "output_type": "execute_result"
    }
   ],
   "source": [
    "tr_ids - dataset_ids"
   ]
  },
  {
   "cell_type": "code",
   "execution_count": 553,
   "id": "8a8aedd4",
   "metadata": {},
   "outputs": [],
   "source": [
    "for item in more:\n",
    "    for d in dataset:\n",
    "        if d['id'] == item:\n",
    "            to_correct.append(d)"
   ]
  },
  {
   "cell_type": "code",
   "execution_count": null,
   "id": "51e10822",
   "metadata": {},
   "outputs": [],
   "source": [
    "len(to_correct), len(more)"
   ]
  },
  {
   "cell_type": "code",
   "execution_count": 558,
   "id": "3389403b",
   "metadata": {},
   "outputs": [],
   "source": [
    "for item in to_correct:\n",
    "    if 'text_rus' in item:\n",
    "        del item['text_rus']"
   ]
  },
  {
   "cell_type": "code",
   "execution_count": null,
   "id": "b8e2f4af",
   "metadata": {},
   "outputs": [],
   "source": [
    "to_correct_ids = set([i['id'] for i in to_correct])"
   ]
  },
  {
   "cell_type": "code",
   "execution_count": null,
   "id": "acf6d882",
   "metadata": {},
   "outputs": [],
   "source": [
    "for i, item in enumerate(translation_result):\n",
    "    if item['id'] in to_correct_ids:\n",
    "        translation_result.remove(item)"
   ]
  },
  {
   "cell_type": "code",
   "execution_count": null,
   "id": "3863c89e",
   "metadata": {},
   "outputs": [],
   "source": [
    "len(translation_result), len(dataset)"
   ]
  },
  {
   "cell_type": "code",
   "execution_count": null,
   "id": "99c4b5f4",
   "metadata": {},
   "outputs": [],
   "source": [
    "len(dataset) - len(translation_result) == len(to_correct)"
   ]
  },
  {
   "cell_type": "code",
   "execution_count": null,
   "id": "c8a82c01",
   "metadata": {},
   "outputs": [],
   "source": [
    "save_json(translation_result, f'translation_result_empathic_intents_{name}.json')"
   ]
  },
  {
   "cell_type": "code",
   "execution_count": null,
   "id": "8555da94",
   "metadata": {},
   "outputs": [],
   "source": [
    "config = OmegaConf.load('../configs/conf.yaml')\n",
    "general_translation_config = config.general_translation\n",
    "general_translation_config.batch_result_dir = f\"batches_res_general_translation_{name}\"\n",
    "general_translation_config.batches = f\"batches_general_translation_{name}\"\n",
    "general_translation_config.batch_size = 64\n",
    "model_config = read_json(general_translation_config.model_config_path)\n",
    "model_config['model'] = 'gpt-4o'"
   ]
  },
  {
   "cell_type": "code",
   "execution_count": null,
   "id": "2966ddc6",
   "metadata": {},
   "outputs": [],
   "source": [
    "general_translator = Translator(\n",
    "    system_message=read_file(general_translation_config.prompt_path), \n",
    "    model_config=model_config, \n",
    "    example_data=read_json(general_translation_config.filepath_examples), \n",
    "    batch_size=general_translation_config.batch_size,\n",
    "    batch_result_dir=general_translation_config.batch_result_dir,\n",
    "    batch_dir=general_translation_config.batches,\n",
    "    model_type=\"openai\"\n",
    ")"
   ]
  },
  {
   "cell_type": "code",
   "execution_count": null,
   "id": "15844de9",
   "metadata": {},
   "outputs": [],
   "source": [
    "general_input_dataset = Dataset.from_list(to_correct)\n",
    "\n",
    "translation_result_corrected = general_translator.translate(general_input_dataset, GeneralTranslationResultSchema)"
   ]
  },
  {
   "cell_type": "code",
   "execution_count": null,
   "id": "ce4fae76",
   "metadata": {},
   "outputs": [],
   "source": [
    "all_translation = translation_result_corrected | translation_result"
   ]
  },
  {
   "cell_type": "code",
   "execution_count": null,
   "id": "a77f7093",
   "metadata": {},
   "outputs": [],
   "source": [
    "save_json(all_translation, f'translation_result_empathic_intents_{name}_all.json')"
   ]
  },
  {
   "cell_type": "code",
   "execution_count": null,
   "id": "8fab47eb",
   "metadata": {},
   "outputs": [],
   "source": [
    "translated = read_json(f'translation_result_empathic_intents_{name}_all.json')"
   ]
  },
  {
   "cell_type": "code",
   "execution_count": null,
   "id": "f071b9b5",
   "metadata": {},
   "outputs": [
    {
     "data": {
      "text/plain": [
       "(3262, 3262)"
      ]
     },
     "execution_count": 579,
     "metadata": {},
     "output_type": "execute_result"
    }
   ],
   "source": [
    "len(translated), len(dataset)"
   ]
  },
  {
   "cell_type": "code",
   "execution_count": null,
   "id": "938ba863",
   "metadata": {},
   "outputs": [
    {
     "data": {
      "text/plain": [
       "set()"
      ]
     },
     "execution_count": 580,
     "metadata": {},
     "output_type": "execute_result"
    }
   ],
   "source": [
    "set([i['id'] for i in translated]) - set([i['id'] for i in dataset])"
   ]
  },
  {
   "cell_type": "code",
   "execution_count": null,
   "id": "f5a31428",
   "metadata": {},
   "outputs": [
    {
     "data": {
      "text/plain": [
       "set()"
      ]
     },
     "execution_count": 581,
     "metadata": {},
     "output_type": "execute_result"
    }
   ],
   "source": [
    "set([i['id'] for i in dataset]) - set([i['id'] for i in translated])"
   ]
  },
  {
   "cell_type": "markdown",
   "id": "0ecee9b4",
   "metadata": {},
   "source": [
    "## Собираем переводы всех файлов"
   ]
  },
  {
   "cell_type": "code",
   "execution_count": null,
   "id": "0b19117b",
   "metadata": {},
   "outputs": [],
   "source": [
    "all_names = ['afraid', 'angry', 'annoyed', 'anticipating', 'anxious', 'apprehensive', 'ashamed', \n",
    "'caring', 'confident', 'content', 'devastated', 'disappointed', 'disgusted', 'embarrassed', \n",
    "'excited', 'faithful', 'furious', 'grateful', 'guilty', 'hopeful', 'impressed', 'jealous', \n",
    "'joyful', 'lonely', 'nostalgic', 'prepared', 'proud', 'sad', 'sentimental', 'surprised', 'terrified', 'trusting']\n"
   ]
  },
  {
   "cell_type": "markdown",
   "id": "1c16057c",
   "metadata": {},
   "source": [
    "словарь с переводами каждого из файлов"
   ]
  },
  {
   "cell_type": "code",
   "execution_count": 597,
   "id": "a62af90a",
   "metadata": {},
   "outputs": [],
   "source": [
    "files = {\n",
    "    'afraid': 'translation_result_empathic_intents_afraid_qwen.json',\n",
    "    'angry': 'translation_result_empathic_intents_angry_removing_errors.json',\n",
    "    'annoyed': 'translation_result_empathic_intents_annoyed_qwen.json',\n",
    "    'anticipating': 'translation_result_empathic_intents_anticipating_qwen.json',\n",
    "    'anxious': 'translation_result_empathic_intents_anxious_qwen.json',\n",
    "    'apprehensive': 'translation_result_empathic_intents_apprehensive_qwen.json',\n",
    "    'ashamed': 'translation_result_empathic_intents_ashamed_qwen.json',\n",
    "    'caring': 'translation_result_empathic_intents_caring_qwen.json',\n",
    "    'confident': 'translation_result_empathic_intents_confident_qwen.json',\n",
    "    'content': 'translation_result_empathic_intents_content_qwen.json',\n",
    "    'devastated': 'translation_result_empathic_intents_devastated_qwen.json',\n",
    "    'disappointed': 'translation_result_empathic_intents_disappointed_qwen.json',\n",
    "    'disgusted': 'translation_result_empathic_intents_disgusted_qwen.json',\n",
    "    'embarrassed': 'translation_result_empathic_intents_embarrassed_qwen.json',\n",
    "    'excited': 'translation_result_empathic_intents_excited_qwen.json',\n",
    "    'faithful': 'translation_result_empathic_intents_faithful_qwen.json',\n",
    "    'furious': 'translation_result_empathic_intents_furious_qwen.json',\n",
    "    'grateful': 'translation_result_empathic_intents_grateful_qwen.json',\n",
    "    'guilty': 'translation_result_empathic_intents_guilty_qwen.json',\n",
    "    'hopeful': 'translation_result_empathic_intents_hopeful_qwen.json',\n",
    "    'impressed': 'translation_result_empathic_intents_impressed_qwen.json',\n",
    "    'jealous': 'translation_result_empathic_intents_jealous_qwen.json',\n",
    "    'joyful': 'translation_result_empathic_intents_joyful_qwen.json',\n",
    "    'lonely': 'translation_result_empathic_intents_lonely_qwen.json',\n",
    "    'nostalgic': 'translation_result_empathic_intents_nostalgic_qwen.json',\n",
    "    'prepared': 'translation_result_empathic_intents_prepared_qwen.json',\n",
    "    'proud': 'translation_result_empathic_intents_proud_qwen.json',\n",
    "    'sad': 'translation_result_empathic_intents_sad_qwen.json',\n",
    "    'sentimental': 'translation_result_empathic_intents_sentimental_qwen.json',\n",
    "    'surprised': 'translation_result_empathic_intents_surprised_qwen.json',\n",
    "    'terrified': 'translation_result_empathic_intents_terrified_qwen.json',\n",
    "    'trusting': 'translation_result_empathic_intents_trusting_qwen.json',\n",
    "}"
   ]
  },
  {
   "cell_type": "code",
   "execution_count": 689,
   "id": "2abc0214",
   "metadata": {},
   "outputs": [],
   "source": [
    "for name in files:\n",
    "    if not Path(files[name]).exists():\n",
    "        print(name)"
   ]
  },
  {
   "cell_type": "code",
   "execution_count": null,
   "id": "87b88549",
   "metadata": {},
   "outputs": [],
   "source": [
    "ACTOR = {\n",
    "    'none': \"никто\",\n",
    "    'speaker': \"рассказщик\",\n",
    "    'listener': 'слушатель'\n",
    "}\n",
    "\n",
    "TYPE = {\n",
    "    'situation': 'ситуация',\n",
    "    'utterance': 'высказывание'\n",
    "}\n",
    "\n",
    "ALL_LABELS = {\n",
    "  \"surprised\": \"удивлённый\",  \n",
    "  \"sentimental\": \"сентиментальный\",  \n",
    "  \"content\": \"довольный\",  \n",
    "  \"trusting\": \"доверчивый\",  \n",
    "  \"disappointed\": \"разочарованный\",  \n",
    "  \"questioning\": \"сомневающийся\",  \n",
    "  \"sad\": \"грустный\",  \n",
    "  \"agreeing\": \"соглашающийся\",  \n",
    "  \"joyful\": \"радостный\",  \n",
    "  \"encouraging\": \"ободряющий\",  \n",
    "  \"annoyed\": \"раздражённый\",  \n",
    "  \"terrified\": \"напуганный\",  \n",
    "  \"consoling\": \"утешающий\",  \n",
    "  \"wishing\": \"желающий\",  \n",
    "  \"acknowledging\": \"признающий\",  \n",
    "  \"neutral\": \"нейтральный\",  \n",
    "  \"nostalgic\": \"ностальгирующий\",  \n",
    "  \"lonely\": \"одинокий\",  \n",
    "  \"anxious\": \"тревожный\",  \n",
    "  \"embarrassed\": \"смущённый\",  \n",
    "  \"proud\": \"гордый\",  \n",
    "  \"guilty\": \"виноватый\",  \n",
    "  \"prepared\": \"готовый\",  \n",
    "  \"furious\": \"разъярённый\",  \n",
    "  \"caring\": \"заботливый\",  \n",
    "  \"confident\": \"уверенный\",  \n",
    "  \"jealous\": \"ревнивый\",  \n",
    "  \"hopeful\": \"надеющийся\",  \n",
    "  \"impressed\": \"впечатлённый\",  \n",
    "  \"disgusted\": \"отвращённый\",  \n",
    "  \"grateful\": \"благодарный\",  \n",
    "  \"excited\": \"взволнованный\",  \n",
    "  \"faithful\": \"верный\",  \n",
    "  \"apprehensive\": \"опасающийся\",  \n",
    "  \"suggesting\": \"предлагающий\",  \n",
    "  \"angry\": \"злой\",  \n",
    "  \"devastated\": \"опустошённый\",  \n",
    "  \"afraid\": \"испуганный\",  \n",
    "  \"anticipating\": \"ожидающий\",  \n",
    "  \"sympathizing\": \"сочувствующий\",  \n",
    "  \"ashamed\": \"пристыженный\"  \n",
    "}"
   ]
  },
  {
   "cell_type": "markdown",
   "id": "be205075",
   "metadata": {},
   "source": [
    "собираем файл, аналогичный англискому, на русском языке"
   ]
  },
  {
   "cell_type": "code",
   "execution_count": null,
   "id": "1afa5cd6",
   "metadata": {},
   "outputs": [],
   "source": [
    "all_data = {}\n",
    "for name in files:\n",
    "    fname = Path(f'/Users/n.valieva/Desktop/empathy_dataset_transfer/EmpatheticIntents/datasets/empatheticdialogues_annotated/{name}.csv') \n",
    "    df = pd.read_csv(fname)\n",
    "    tr = read_json(files[name])\n",
    "    all_ids = df.Dialog_ID.unique().tolist()\n",
    "    all_diag = {}\n",
    "    all_data[name] = defaultdict(list)\n",
    "\n",
    "    for i, item in enumerate(tr):\n",
    "        upper_id = '_'.join(item['id'].split('_')[:2]).strip()\n",
    "        tr[i]['upper_id'] = upper_id\n",
    "    \n",
    "    for id in all_ids:\n",
    "        items = [item for item in tr if item['upper_id'] == id]\n",
    "        sorted_ids = sorted(items, key=lambda x: int(x['id'].split('_')[-1]))\n",
    "        all_diag[id] = sorted_ids\n",
    "    \n",
    "    for id in all_diag:\n",
    "        for item in all_diag[id]:\n",
    "            all_data[name]['Dialog_ID'].append(id)\n",
    "            all_data[name]['Text'].append(item['text_rus'])\n",
    "    df_ru = pd.DataFrame.from_dict(all_data[name])\n",
    "    assert (df_ru[\"Dialog_ID\"] == df[\"Dialog_ID\"]).all(),  \"Dialog_ID mismatch!\"\n",
    "    df_ru['Text_eng'] = df[\"Text\"]\n",
    "    df_ru[\"Type\"] = df[\"Type\"].apply(lambda x: TYPE[x])\n",
    "    df_ru[\"Actor\"] = df[\"Actor\"].apply(lambda x: ACTOR[x])\n",
    "    df_ru[\"Label\"] = df[\"Label\"].apply(lambda x: ALL_LABELS[x])\n",
    "    df_ru.to_csv(f\"empathic_intents_rus/{name}_rus.csv\")"
   ]
  },
  {
   "cell_type": "code",
   "execution_count": 683,
   "id": "28c948ab",
   "metadata": {},
   "outputs": [
    {
     "data": {
      "text/html": [
       "<div>\n",
       "<style scoped>\n",
       "    .dataframe tbody tr th:only-of-type {\n",
       "        vertical-align: middle;\n",
       "    }\n",
       "\n",
       "    .dataframe tbody tr th {\n",
       "        vertical-align: top;\n",
       "    }\n",
       "\n",
       "    .dataframe thead th {\n",
       "        text-align: right;\n",
       "    }\n",
       "</style>\n",
       "<table border=\"1\" class=\"dataframe\">\n",
       "  <thead>\n",
       "    <tr style=\"text-align: right;\">\n",
       "      <th></th>\n",
       "      <th>Dialog_ID</th>\n",
       "      <th>Text</th>\n",
       "      <th>Text_eng</th>\n",
       "      <th>Type</th>\n",
       "      <th>Actor</th>\n",
       "      <th>Label</th>\n",
       "    </tr>\n",
       "  </thead>\n",
       "  <tbody>\n",
       "    <tr>\n",
       "      <th>0</th>\n",
       "      <td>hit:4375_conv:8750</td>\n",
       "      <td>В прошлые выходные я оставил свою квартиру дру...</td>\n",
       "      <td>I left my apartment to my friend last weekend....</td>\n",
       "      <td>ситуация</td>\n",
       "      <td>никто</td>\n",
       "      <td>доверчивый</td>\n",
       "    </tr>\n",
       "    <tr>\n",
       "      <th>1</th>\n",
       "      <td>hit:4375_conv:8750</td>\n",
       "      <td>Я уехал в другую страну на 2 месяца и оставил ...</td>\n",
       "      <td>I am away in another country for 2 months and ...</td>\n",
       "      <td>высказывание</td>\n",
       "      <td>рассказщик</td>\n",
       "      <td>доверчивый</td>\n",
       "    </tr>\n",
       "    <tr>\n",
       "      <th>2</th>\n",
       "      <td>hit:4375_conv:8750</td>\n",
       "      <td>Вау, должно быть страшно доверить все свои вещ...</td>\n",
       "      <td>Wow, that must be scary to have to trust someo...</td>\n",
       "      <td>высказывание</td>\n",
       "      <td>слушатель</td>\n",
       "      <td>сомневающийся</td>\n",
       "    </tr>\n",
       "    <tr>\n",
       "      <th>3</th>\n",
       "      <td>hit:4375_conv:8750</td>\n",
       "      <td>Я в отпуске на Багамах! Я уверен, что они наде...</td>\n",
       "      <td>I'm on vacation in the Bahamas! I feel they ar...</td>\n",
       "      <td>высказывание</td>\n",
       "      <td>рассказщик</td>\n",
       "      <td>доверчивый</td>\n",
       "    </tr>\n",
       "    <tr>\n",
       "      <th>4</th>\n",
       "      <td>hit:4375_conv:8750</td>\n",
       "      <td>Двухмесячный отпуск звучит потрясающе! Я думал...</td>\n",
       "      <td>A two month vacation sounds amazing! I figured...</td>\n",
       "      <td>высказывание</td>\n",
       "      <td>слушатель</td>\n",
       "      <td>сомневающийся</td>\n",
       "    </tr>\n",
       "    <tr>\n",
       "      <th>...</th>\n",
       "      <td>...</td>\n",
       "      <td>...</td>\n",
       "      <td>...</td>\n",
       "      <td>...</td>\n",
       "      <td>...</td>\n",
       "      <td>...</td>\n",
       "    </tr>\n",
       "    <tr>\n",
       "      <th>3521</th>\n",
       "      <td>hit:906_conv:1812</td>\n",
       "      <td>Когда я катался на катапульте, это было ужасно!</td>\n",
       "      <td>When I went on the slingshot ride, it was horr...</td>\n",
       "      <td>ситуация</td>\n",
       "      <td>никто</td>\n",
       "      <td>напуганный</td>\n",
       "    </tr>\n",
       "    <tr>\n",
       "      <th>3522</th>\n",
       "      <td>hit:906_conv:1812</td>\n",
       "      <td>Я катался на этой аттракционе на пляже, которы...</td>\n",
       "      <td>I went on this ride at the beach called the Sl...</td>\n",
       "      <td>высказывание</td>\n",
       "      <td>рассказщик</td>\n",
       "      <td>доверчивый</td>\n",
       "    </tr>\n",
       "    <tr>\n",
       "      <th>3523</th>\n",
       "      <td>hit:906_conv:1812</td>\n",
       "      <td>Ого, я видел один из таких!</td>\n",
       "      <td>Omg, I have seen one of those!</td>\n",
       "      <td>высказывание</td>\n",
       "      <td>слушатель</td>\n",
       "      <td>напуганный</td>\n",
       "    </tr>\n",
       "    <tr>\n",
       "      <th>3524</th>\n",
       "      <td>hit:906_conv:1812</td>\n",
       "      <td>Это было реально так страшно, я еле удержался,...</td>\n",
       "      <td>It was seriously so scary, I almost pooped mys...</td>\n",
       "      <td>высказывание</td>\n",
       "      <td>рассказщик</td>\n",
       "      <td>напуганный</td>\n",
       "    </tr>\n",
       "    <tr>\n",
       "      <th>3525</th>\n",
       "      <td>hit:906_conv:1812</td>\n",
       "      <td>Я тебе верю!</td>\n",
       "      <td>I believe that!</td>\n",
       "      <td>высказывание</td>\n",
       "      <td>слушатель</td>\n",
       "      <td>верный</td>\n",
       "    </tr>\n",
       "  </tbody>\n",
       "</table>\n",
       "<p>3526 rows × 6 columns</p>\n",
       "</div>"
      ],
      "text/plain": [
       "               Dialog_ID                                               Text  \\\n",
       "0     hit:4375_conv:8750  В прошлые выходные я оставил свою квартиру дру...   \n",
       "1     hit:4375_conv:8750  Я уехал в другую страну на 2 месяца и оставил ...   \n",
       "2     hit:4375_conv:8750  Вау, должно быть страшно доверить все свои вещ...   \n",
       "3     hit:4375_conv:8750  Я в отпуске на Багамах! Я уверен, что они наде...   \n",
       "4     hit:4375_conv:8750  Двухмесячный отпуск звучит потрясающе! Я думал...   \n",
       "...                  ...                                                ...   \n",
       "3521   hit:906_conv:1812    Когда я катался на катапульте, это было ужасно!   \n",
       "3522   hit:906_conv:1812  Я катался на этой аттракционе на пляже, которы...   \n",
       "3523   hit:906_conv:1812                        Ого, я видел один из таких!   \n",
       "3524   hit:906_conv:1812  Это было реально так страшно, я еле удержался,...   \n",
       "3525   hit:906_conv:1812                                       Я тебе верю!   \n",
       "\n",
       "                                               Text_eng          Type  \\\n",
       "0     I left my apartment to my friend last weekend....      ситуация   \n",
       "1     I am away in another country for 2 months and ...  высказывание   \n",
       "2     Wow, that must be scary to have to trust someo...  высказывание   \n",
       "3     I'm on vacation in the Bahamas! I feel they ar...  высказывание   \n",
       "4     A two month vacation sounds amazing! I figured...  высказывание   \n",
       "...                                                 ...           ...   \n",
       "3521  When I went on the slingshot ride, it was horr...      ситуация   \n",
       "3522  I went on this ride at the beach called the Sl...  высказывание   \n",
       "3523                     Omg, I have seen one of those!  высказывание   \n",
       "3524  It was seriously so scary, I almost pooped mys...  высказывание   \n",
       "3525                                    I believe that!  высказывание   \n",
       "\n",
       "           Actor          Label  \n",
       "0          никто     доверчивый  \n",
       "1     рассказщик     доверчивый  \n",
       "2      слушатель  сомневающийся  \n",
       "3     рассказщик     доверчивый  \n",
       "4      слушатель  сомневающийся  \n",
       "...          ...            ...  \n",
       "3521       никто     напуганный  \n",
       "3522  рассказщик     доверчивый  \n",
       "3523   слушатель     напуганный  \n",
       "3524  рассказщик     напуганный  \n",
       "3525   слушатель         верный  \n",
       "\n",
       "[3526 rows x 6 columns]"
      ]
     },
     "execution_count": 683,
     "metadata": {},
     "output_type": "execute_result"
    }
   ],
   "source": [
    "df_ru"
   ]
  },
  {
   "cell_type": "code",
   "execution_count": null,
   "id": "bf8f097a",
   "metadata": {},
   "outputs": [],
   "source": []
  }
 ],
 "metadata": {
  "kernelspec": {
   "display_name": "empathy-dataset-transfer-U0sX-K_5-py3.12",
   "language": "python",
   "name": "python3"
  },
  "language_info": {
   "codemirror_mode": {
    "name": "ipython",
    "version": 3
   },
   "file_extension": ".py",
   "mimetype": "text/x-python",
   "name": "python",
   "nbconvert_exporter": "python",
   "pygments_lexer": "ipython3",
   "version": "3.12.7"
  }
 },
 "nbformat": 4,
 "nbformat_minor": 5
}
