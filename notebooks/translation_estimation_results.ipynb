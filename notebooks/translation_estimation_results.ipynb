{
 "cells": [
  {
   "cell_type": "code",
   "execution_count": 1,
   "id": "21755eae",
   "metadata": {},
   "outputs": [],
   "source": [
    "import pandas as pd\n",
    "from scipy.stats import binomtest"
   ]
  },
  {
   "cell_type": "code",
   "execution_count": 5,
   "id": "55e934a0",
   "metadata": {},
   "outputs": [],
   "source": [
    "data = pd.read_csv(\"/Users/n.valieva/Downloads/trans_comparison.csv\")"
   ]
  },
  {
   "cell_type": "code",
   "execution_count": 6,
   "id": "308668ef",
   "metadata": {},
   "outputs": [
    {
     "data": {
      "text/html": [
       "<div>\n",
       "<style scoped>\n",
       "    .dataframe tbody tr th:only-of-type {\n",
       "        vertical-align: middle;\n",
       "    }\n",
       "\n",
       "    .dataframe tbody tr th {\n",
       "        vertical-align: top;\n",
       "    }\n",
       "\n",
       "    .dataframe thead th {\n",
       "        text-align: right;\n",
       "    }\n",
       "</style>\n",
       "<table border=\"1\" class=\"dataframe\">\n",
       "  <thead>\n",
       "    <tr style=\"text-align: right;\">\n",
       "      <th></th>\n",
       "      <th>id</th>\n",
       "      <th>text</th>\n",
       "      <th>translation1</th>\n",
       "      <th>translation2</th>\n",
       "      <th>result</th>\n",
       "    </tr>\n",
       "  </thead>\n",
       "  <tbody>\n",
       "    <tr>\n",
       "      <th>0</th>\n",
       "      <td>406_18</td>\n",
       "      <td>Exactly, she has to understand that life goes ...</td>\n",
       "      <td>Точно, она должна понять, что жизнь не огранич...</td>\n",
       "      <td>Именно, она должна понять, что жизнь не ограни...</td>\n",
       "      <td>1</td>\n",
       "    </tr>\n",
       "    <tr>\n",
       "      <th>1</th>\n",
       "      <td>73_3</td>\n",
       "      <td>I am still having bad flashbacks from War in I...</td>\n",
       "      <td>У меня до сих пор плохие воспоминания о войне ...</td>\n",
       "      <td>У меня все еще плохие флэшбеки от войны в Ирак...</td>\n",
       "      <td>1</td>\n",
       "    </tr>\n",
       "    <tr>\n",
       "      <th>2</th>\n",
       "      <td>587_10</td>\n",
       "      <td>I would look to talk to a therapist about thes...</td>\n",
       "      <td>Я бы посоветовал поговорить с терапевтом об эт...</td>\n",
       "      <td>Я бы посоветовал обратиться к терапевту с этим...</td>\n",
       "      <td>2</td>\n",
       "    </tr>\n",
       "  </tbody>\n",
       "</table>\n",
       "</div>"
      ],
      "text/plain": [
       "       id                                               text  \\\n",
       "0  406_18  Exactly, she has to understand that life goes ...   \n",
       "1    73_3  I am still having bad flashbacks from War in I...   \n",
       "2  587_10  I would look to talk to a therapist about thes...   \n",
       "\n",
       "                                        translation1  \\\n",
       "0  Точно, она должна понять, что жизнь не огранич...   \n",
       "1  У меня до сих пор плохие воспоминания о войне ...   \n",
       "2  Я бы посоветовал поговорить с терапевтом об эт...   \n",
       "\n",
       "                                        translation2  result  \n",
       "0  Именно, она должна понять, что жизнь не ограни...       1  \n",
       "1  У меня все еще плохие флэшбеки от войны в Ирак...       1  \n",
       "2  Я бы посоветовал обратиться к терапевту с этим...       2  "
      ]
     },
     "execution_count": 6,
     "metadata": {},
     "output_type": "execute_result"
    }
   ],
   "source": [
    "data.head(3)"
   ]
  },
  {
   "cell_type": "code",
   "execution_count": 25,
   "id": "9590375c",
   "metadata": {},
   "outputs": [
    {
     "data": {
      "text/plain": [
       "(200, 5)"
      ]
     },
     "execution_count": 25,
     "metadata": {},
     "output_type": "execute_result"
    }
   ],
   "source": [
    "data.shape"
   ]
  },
  {
   "cell_type": "code",
   "execution_count": 16,
   "id": "a013c1ee",
   "metadata": {},
   "outputs": [],
   "source": [
    "data_filtered = data[data.result != 3]"
   ]
  },
  {
   "cell_type": "code",
   "execution_count": 24,
   "id": "91f79531",
   "metadata": {},
   "outputs": [
    {
     "data": {
      "text/plain": [
       "186"
      ]
     },
     "execution_count": 24,
     "metadata": {},
     "output_type": "execute_result"
    }
   ],
   "source": [
    "n = data_filtered.shape[0]\n",
    "n"
   ]
  },
  {
   "cell_type": "code",
   "execution_count": 21,
   "id": "c25d91dc",
   "metadata": {},
   "outputs": [
    {
     "data": {
      "text/plain": [
       "114"
      ]
     },
     "execution_count": 21,
     "metadata": {},
     "output_type": "execute_result"
    }
   ],
   "source": [
    "new_win = data[data.result == 2].shape[0]\n",
    "new_win"
   ]
  },
  {
   "cell_type": "code",
   "execution_count": 22,
   "id": "dc39a0bc",
   "metadata": {},
   "outputs": [],
   "source": [
    "result = binomtest(new_win, n=n, p=0.5, alternative='greater')"
   ]
  },
  {
   "cell_type": "code",
   "execution_count": 23,
   "id": "88d32efb",
   "metadata": {},
   "outputs": [
    {
     "data": {
      "text/plain": [
       "np.float64(0.0012752596263399644)"
      ]
     },
     "execution_count": 23,
     "metadata": {},
     "output_type": "execute_result"
    }
   ],
   "source": [
    "result.pvalue"
   ]
  },
  {
   "cell_type": "code",
   "execution_count": 3,
   "id": "450de7b8",
   "metadata": {},
   "outputs": [],
   "source": [
    "import pandas as pd\n",
    "from scipy.stats import mannwhitneyu"
   ]
  },
  {
   "cell_type": "code",
   "execution_count": 5,
   "id": "b495dc0c",
   "metadata": {},
   "outputs": [],
   "source": [
    "estim = pd.read_csv('/Users/n.valieva/Downloads/translation estimation - оценка перевода.csv')"
   ]
  },
  {
   "cell_type": "code",
   "execution_count": 6,
   "id": "8acdcffe",
   "metadata": {},
   "outputs": [
    {
     "data": {
      "text/html": [
       "<div>\n",
       "<style scoped>\n",
       "    .dataframe tbody tr th:only-of-type {\n",
       "        vertical-align: middle;\n",
       "    }\n",
       "\n",
       "    .dataframe tbody tr th {\n",
       "        vertical-align: top;\n",
       "    }\n",
       "\n",
       "    .dataframe thead th {\n",
       "        text-align: right;\n",
       "    }\n",
       "</style>\n",
       "<table border=\"1\" class=\"dataframe\">\n",
       "  <thead>\n",
       "    <tr style=\"text-align: right;\">\n",
       "      <th></th>\n",
       "      <th>id</th>\n",
       "      <th>text</th>\n",
       "      <th>translation</th>\n",
       "      <th>оценка перевода (Иван)</th>\n",
       "      <th>оценка перевода (Екатерина)</th>\n",
       "      <th>оценка перевода (Артем)</th>\n",
       "    </tr>\n",
       "  </thead>\n",
       "  <tbody>\n",
       "    <tr>\n",
       "      <th>0</th>\n",
       "      <td>812_19</td>\n",
       "      <td>I think that is truly when I started feeling d...</td>\n",
       "      <td>Думаю, именно тогда я начал чувствовать себя п...</td>\n",
       "      <td>4</td>\n",
       "      <td>3</td>\n",
       "      <td>2</td>\n",
       "    </tr>\n",
       "    <tr>\n",
       "      <th>1</th>\n",
       "      <td>900_20</td>\n",
       "      <td>I am hearing that while you have thought about...</td>\n",
       "      <td>Я слышу, что хотя ты уже думала об обращении з...</td>\n",
       "      <td>4</td>\n",
       "      <td>2</td>\n",
       "      <td>3</td>\n",
       "    </tr>\n",
       "    <tr>\n",
       "      <th>2</th>\n",
       "      <td>431_26</td>\n",
       "      <td>That's great! IT's also a good place because y...</td>\n",
       "      <td>Это здорово! Это ещё и хорошее место, потому ч...</td>\n",
       "      <td>3</td>\n",
       "      <td>4</td>\n",
       "      <td>1</td>\n",
       "    </tr>\n",
       "    <tr>\n",
       "      <th>3</th>\n",
       "      <td>1121_19</td>\n",
       "      <td>yeah, lool something like that ;). Glad your b...</td>\n",
       "      <td>да, лол примерно так ;). Рад, что тебе лучше</td>\n",
       "      <td>3</td>\n",
       "      <td>5</td>\n",
       "      <td>5</td>\n",
       "    </tr>\n",
       "    <tr>\n",
       "      <th>4</th>\n",
       "      <td>260_25</td>\n",
       "      <td>the only thing you can really do right now is ...</td>\n",
       "      <td>единственное, что ты можешь сделать прямо сейч...</td>\n",
       "      <td>5</td>\n",
       "      <td>4</td>\n",
       "      <td>5</td>\n",
       "    </tr>\n",
       "  </tbody>\n",
       "</table>\n",
       "</div>"
      ],
      "text/plain": [
       "        id                                               text  \\\n",
       "0   812_19  I think that is truly when I started feeling d...   \n",
       "1   900_20  I am hearing that while you have thought about...   \n",
       "2   431_26  That's great! IT's also a good place because y...   \n",
       "3  1121_19  yeah, lool something like that ;). Glad your b...   \n",
       "4   260_25  the only thing you can really do right now is ...   \n",
       "\n",
       "                                         translation  оценка перевода (Иван)  \\\n",
       "0  Думаю, именно тогда я начал чувствовать себя п...                       4   \n",
       "1  Я слышу, что хотя ты уже думала об обращении з...                       4   \n",
       "2  Это здорово! Это ещё и хорошее место, потому ч...                       3   \n",
       "3       да, лол примерно так ;). Рад, что тебе лучше                       3   \n",
       "4  единственное, что ты можешь сделать прямо сейч...                       5   \n",
       "\n",
       "   оценка перевода (Екатерина)  оценка перевода (Артем)  \n",
       "0                            3                        2  \n",
       "1                            2                        3  \n",
       "2                            4                        1  \n",
       "3                            5                        5  \n",
       "4                            4                        5  "
      ]
     },
     "execution_count": 6,
     "metadata": {},
     "output_type": "execute_result"
    }
   ],
   "source": [
    "estim.head()"
   ]
  },
  {
   "cell_type": "code",
   "execution_count": 11,
   "id": "edcb7432",
   "metadata": {},
   "outputs": [],
   "source": [
    "estim['overall'] =  (estim['оценка перевода (Иван)'] + estim['оценка перевода (Екатерина)'] + estim['оценка перевода (Артем)']) / 3\n",
    "estim['overall'] = estim['overall'].astype(int)"
   ]
  },
  {
   "cell_type": "code",
   "execution_count": 17,
   "id": "307fd22e",
   "metadata": {},
   "outputs": [
    {
     "data": {
      "text/plain": [
       "(50, 7)"
      ]
     },
     "execution_count": 17,
     "metadata": {},
     "output_type": "execute_result"
    }
   ],
   "source": [
    "estim.shape"
   ]
  },
  {
   "cell_type": "code",
   "execution_count": 12,
   "id": "4f610141",
   "metadata": {},
   "outputs": [
    {
     "data": {
      "text/html": [
       "<div>\n",
       "<style scoped>\n",
       "    .dataframe tbody tr th:only-of-type {\n",
       "        vertical-align: middle;\n",
       "    }\n",
       "\n",
       "    .dataframe tbody tr th {\n",
       "        vertical-align: top;\n",
       "    }\n",
       "\n",
       "    .dataframe thead th {\n",
       "        text-align: right;\n",
       "    }\n",
       "</style>\n",
       "<table border=\"1\" class=\"dataframe\">\n",
       "  <thead>\n",
       "    <tr style=\"text-align: right;\">\n",
       "      <th></th>\n",
       "      <th>id</th>\n",
       "      <th>text</th>\n",
       "      <th>translation</th>\n",
       "      <th>оценка перевода (Иван)</th>\n",
       "      <th>оценка перевода (Екатерина)</th>\n",
       "      <th>оценка перевода (Артем)</th>\n",
       "      <th>overall</th>\n",
       "    </tr>\n",
       "  </thead>\n",
       "  <tbody>\n",
       "    <tr>\n",
       "      <th>0</th>\n",
       "      <td>812_19</td>\n",
       "      <td>I think that is truly when I started feeling d...</td>\n",
       "      <td>Думаю, именно тогда я начал чувствовать себя п...</td>\n",
       "      <td>4</td>\n",
       "      <td>3</td>\n",
       "      <td>2</td>\n",
       "      <td>3</td>\n",
       "    </tr>\n",
       "    <tr>\n",
       "      <th>1</th>\n",
       "      <td>900_20</td>\n",
       "      <td>I am hearing that while you have thought about...</td>\n",
       "      <td>Я слышу, что хотя ты уже думала об обращении з...</td>\n",
       "      <td>4</td>\n",
       "      <td>2</td>\n",
       "      <td>3</td>\n",
       "      <td>3</td>\n",
       "    </tr>\n",
       "    <tr>\n",
       "      <th>2</th>\n",
       "      <td>431_26</td>\n",
       "      <td>That's great! IT's also a good place because y...</td>\n",
       "      <td>Это здорово! Это ещё и хорошее место, потому ч...</td>\n",
       "      <td>3</td>\n",
       "      <td>4</td>\n",
       "      <td>1</td>\n",
       "      <td>2</td>\n",
       "    </tr>\n",
       "    <tr>\n",
       "      <th>3</th>\n",
       "      <td>1121_19</td>\n",
       "      <td>yeah, lool something like that ;). Glad your b...</td>\n",
       "      <td>да, лол примерно так ;). Рад, что тебе лучше</td>\n",
       "      <td>3</td>\n",
       "      <td>5</td>\n",
       "      <td>5</td>\n",
       "      <td>4</td>\n",
       "    </tr>\n",
       "    <tr>\n",
       "      <th>4</th>\n",
       "      <td>260_25</td>\n",
       "      <td>the only thing you can really do right now is ...</td>\n",
       "      <td>единственное, что ты можешь сделать прямо сейч...</td>\n",
       "      <td>5</td>\n",
       "      <td>4</td>\n",
       "      <td>5</td>\n",
       "      <td>4</td>\n",
       "    </tr>\n",
       "  </tbody>\n",
       "</table>\n",
       "</div>"
      ],
      "text/plain": [
       "        id                                               text  \\\n",
       "0   812_19  I think that is truly when I started feeling d...   \n",
       "1   900_20  I am hearing that while you have thought about...   \n",
       "2   431_26  That's great! IT's also a good place because y...   \n",
       "3  1121_19  yeah, lool something like that ;). Glad your b...   \n",
       "4   260_25  the only thing you can really do right now is ...   \n",
       "\n",
       "                                         translation  оценка перевода (Иван)  \\\n",
       "0  Думаю, именно тогда я начал чувствовать себя п...                       4   \n",
       "1  Я слышу, что хотя ты уже думала об обращении з...                       4   \n",
       "2  Это здорово! Это ещё и хорошее место, потому ч...                       3   \n",
       "3       да, лол примерно так ;). Рад, что тебе лучше                       3   \n",
       "4  единственное, что ты можешь сделать прямо сейч...                       5   \n",
       "\n",
       "   оценка перевода (Екатерина)  оценка перевода (Артем)  overall  \n",
       "0                            3                        2        3  \n",
       "1                            2                        3        3  \n",
       "2                            4                        1        2  \n",
       "3                            5                        5        4  \n",
       "4                            4                        5        4  "
      ]
     },
     "execution_count": 12,
     "metadata": {},
     "output_type": "execute_result"
    }
   ],
   "source": [
    "estim.head()"
   ]
  },
  {
   "cell_type": "code",
   "execution_count": 13,
   "id": "a998a4c1",
   "metadata": {},
   "outputs": [],
   "source": [
    "perplexity_selected_ids = pd.read_csv(\"top25_bad_perplexity.csv\").id\n",
    "random_selected_ids = pd.read_csv(\"25_samples_from_all_set.csv\").id"
   ]
  },
  {
   "cell_type": "code",
   "execution_count": 14,
   "id": "7da0649d",
   "metadata": {},
   "outputs": [],
   "source": [
    "perplexity_selected = estim[estim.id.isin(perplexity_selected_ids)]\n",
    "random_selected = estim[estim.id.isin(random_selected_ids)]"
   ]
  },
  {
   "cell_type": "code",
   "execution_count": 16,
   "id": "d58793ec",
   "metadata": {},
   "outputs": [
    {
     "data": {
      "text/plain": [
       "((25, 7), (25, 7))"
      ]
     },
     "execution_count": 16,
     "metadata": {},
     "output_type": "execute_result"
    }
   ],
   "source": [
    "perplexity_selected.shape, random_selected.shape"
   ]
  },
  {
   "cell_type": "code",
   "execution_count": 18,
   "id": "a9ed6a05",
   "metadata": {},
   "outputs": [
    {
     "data": {
      "text/plain": [
       "MannwhitneyuResult(statistic=np.float64(231.0), pvalue=np.float64(0.0938000706682478))"
      ]
     },
     "execution_count": 18,
     "metadata": {},
     "output_type": "execute_result"
    }
   ],
   "source": [
    "mannwhitneyu(perplexity_selected.overall, random_selected.overall)"
   ]
  },
  {
   "cell_type": "code",
   "execution_count": null,
   "id": "9a4f6912",
   "metadata": {},
   "outputs": [],
   "source": []
  }
 ],
 "metadata": {
  "kernelspec": {
   "display_name": "empathy-dataset-transfer-U0sX-K_5-py3.12",
   "language": "python",
   "name": "python3"
  },
  "language_info": {
   "codemirror_mode": {
    "name": "ipython",
    "version": 3
   },
   "file_extension": ".py",
   "mimetype": "text/x-python",
   "name": "python",
   "nbconvert_exporter": "python",
   "pygments_lexer": "ipython3",
   "version": "3.12.7"
  }
 },
 "nbformat": 4,
 "nbformat_minor": 5
}
