{
 "cells": [
  {
   "cell_type": "markdown",
   "id": "dc45eeeb",
   "metadata": {},
   "source": [
    "## Проверка сравнения 2х переводов"
   ]
  },
  {
   "cell_type": "code",
   "execution_count": 1,
   "id": "21755eae",
   "metadata": {},
   "outputs": [],
   "source": [
    "import pandas as pd\n",
    "from scipy.stats import binomtest"
   ]
  },
  {
   "cell_type": "code",
   "execution_count": 5,
   "id": "55e934a0",
   "metadata": {},
   "outputs": [],
   "source": [
    "data = pd.read_csv(\"/Users/n.valieva/Downloads/trans_comparison.csv\")"
   ]
  },
  {
   "cell_type": "code",
   "execution_count": 6,
   "id": "308668ef",
   "metadata": {},
   "outputs": [
    {
     "data": {
      "text/html": [
       "<div>\n",
       "<style scoped>\n",
       "    .dataframe tbody tr th:only-of-type {\n",
       "        vertical-align: middle;\n",
       "    }\n",
       "\n",
       "    .dataframe tbody tr th {\n",
       "        vertical-align: top;\n",
       "    }\n",
       "\n",
       "    .dataframe thead th {\n",
       "        text-align: right;\n",
       "    }\n",
       "</style>\n",
       "<table border=\"1\" class=\"dataframe\">\n",
       "  <thead>\n",
       "    <tr style=\"text-align: right;\">\n",
       "      <th></th>\n",
       "      <th>id</th>\n",
       "      <th>text</th>\n",
       "      <th>translation1</th>\n",
       "      <th>translation2</th>\n",
       "      <th>result</th>\n",
       "    </tr>\n",
       "  </thead>\n",
       "  <tbody>\n",
       "    <tr>\n",
       "      <th>0</th>\n",
       "      <td>406_18</td>\n",
       "      <td>Exactly, she has to understand that life goes ...</td>\n",
       "      <td>Точно, она должна понять, что жизнь не огранич...</td>\n",
       "      <td>Именно, она должна понять, что жизнь не ограни...</td>\n",
       "      <td>1</td>\n",
       "    </tr>\n",
       "    <tr>\n",
       "      <th>1</th>\n",
       "      <td>73_3</td>\n",
       "      <td>I am still having bad flashbacks from War in I...</td>\n",
       "      <td>У меня до сих пор плохие воспоминания о войне ...</td>\n",
       "      <td>У меня все еще плохие флэшбеки от войны в Ирак...</td>\n",
       "      <td>1</td>\n",
       "    </tr>\n",
       "    <tr>\n",
       "      <th>2</th>\n",
       "      <td>587_10</td>\n",
       "      <td>I would look to talk to a therapist about thes...</td>\n",
       "      <td>Я бы посоветовал поговорить с терапевтом об эт...</td>\n",
       "      <td>Я бы посоветовал обратиться к терапевту с этим...</td>\n",
       "      <td>2</td>\n",
       "    </tr>\n",
       "  </tbody>\n",
       "</table>\n",
       "</div>"
      ],
      "text/plain": [
       "       id                                               text  \\\n",
       "0  406_18  Exactly, she has to understand that life goes ...   \n",
       "1    73_3  I am still having bad flashbacks from War in I...   \n",
       "2  587_10  I would look to talk to a therapist about thes...   \n",
       "\n",
       "                                        translation1  \\\n",
       "0  Точно, она должна понять, что жизнь не огранич...   \n",
       "1  У меня до сих пор плохие воспоминания о войне ...   \n",
       "2  Я бы посоветовал поговорить с терапевтом об эт...   \n",
       "\n",
       "                                        translation2  result  \n",
       "0  Именно, она должна понять, что жизнь не ограни...       1  \n",
       "1  У меня все еще плохие флэшбеки от войны в Ирак...       1  \n",
       "2  Я бы посоветовал обратиться к терапевту с этим...       2  "
      ]
     },
     "execution_count": 6,
     "metadata": {},
     "output_type": "execute_result"
    }
   ],
   "source": [
    "data.head(3)"
   ]
  },
  {
   "cell_type": "code",
   "execution_count": 25,
   "id": "9590375c",
   "metadata": {},
   "outputs": [
    {
     "data": {
      "text/plain": [
       "(200, 5)"
      ]
     },
     "execution_count": 25,
     "metadata": {},
     "output_type": "execute_result"
    }
   ],
   "source": [
    "data.shape"
   ]
  },
  {
   "cell_type": "code",
   "execution_count": 16,
   "id": "a013c1ee",
   "metadata": {},
   "outputs": [],
   "source": [
    "data_filtered = data[data.result != 3]"
   ]
  },
  {
   "cell_type": "code",
   "execution_count": 24,
   "id": "91f79531",
   "metadata": {},
   "outputs": [
    {
     "data": {
      "text/plain": [
       "186"
      ]
     },
     "execution_count": 24,
     "metadata": {},
     "output_type": "execute_result"
    }
   ],
   "source": [
    "n = data_filtered.shape[0]\n",
    "n"
   ]
  },
  {
   "cell_type": "code",
   "execution_count": 21,
   "id": "c25d91dc",
   "metadata": {},
   "outputs": [
    {
     "data": {
      "text/plain": [
       "114"
      ]
     },
     "execution_count": 21,
     "metadata": {},
     "output_type": "execute_result"
    }
   ],
   "source": [
    "new_win = data[data.result == 2].shape[0]\n",
    "new_win"
   ]
  },
  {
   "cell_type": "code",
   "execution_count": 22,
   "id": "dc39a0bc",
   "metadata": {},
   "outputs": [],
   "source": [
    "result = binomtest(new_win, n=n, p=0.5, alternative='greater')"
   ]
  },
  {
   "cell_type": "code",
   "execution_count": 23,
   "id": "88d32efb",
   "metadata": {},
   "outputs": [
    {
     "data": {
      "text/plain": [
       "np.float64(0.0012752596263399644)"
      ]
     },
     "execution_count": 23,
     "metadata": {},
     "output_type": "execute_result"
    }
   ],
   "source": [
    "result.pvalue"
   ]
  },
  {
   "cell_type": "markdown",
   "id": "777d50f0",
   "metadata": {},
   "source": [
    "## Проверка оценки переводов экспертами"
   ]
  },
  {
   "cell_type": "code",
   "execution_count": 3,
   "id": "450de7b8",
   "metadata": {},
   "outputs": [],
   "source": [
    "import pandas as pd\n",
    "from scipy.stats import mannwhitneyu"
   ]
  },
  {
   "cell_type": "code",
   "execution_count": 5,
   "id": "b495dc0c",
   "metadata": {},
   "outputs": [],
   "source": [
    "estim = pd.read_csv('/Users/n.valieva/Downloads/translation estimation - оценка перевода.csv')"
   ]
  },
  {
   "cell_type": "code",
   "execution_count": 6,
   "id": "8acdcffe",
   "metadata": {},
   "outputs": [
    {
     "data": {
      "text/html": [
       "<div>\n",
       "<style scoped>\n",
       "    .dataframe tbody tr th:only-of-type {\n",
       "        vertical-align: middle;\n",
       "    }\n",
       "\n",
       "    .dataframe tbody tr th {\n",
       "        vertical-align: top;\n",
       "    }\n",
       "\n",
       "    .dataframe thead th {\n",
       "        text-align: right;\n",
       "    }\n",
       "</style>\n",
       "<table border=\"1\" class=\"dataframe\">\n",
       "  <thead>\n",
       "    <tr style=\"text-align: right;\">\n",
       "      <th></th>\n",
       "      <th>id</th>\n",
       "      <th>text</th>\n",
       "      <th>translation</th>\n",
       "      <th>оценка перевода (Иван)</th>\n",
       "      <th>оценка перевода (Екатерина)</th>\n",
       "      <th>оценка перевода (Артем)</th>\n",
       "    </tr>\n",
       "  </thead>\n",
       "  <tbody>\n",
       "    <tr>\n",
       "      <th>0</th>\n",
       "      <td>812_19</td>\n",
       "      <td>I think that is truly when I started feeling d...</td>\n",
       "      <td>Думаю, именно тогда я начал чувствовать себя п...</td>\n",
       "      <td>4</td>\n",
       "      <td>3</td>\n",
       "      <td>2</td>\n",
       "    </tr>\n",
       "    <tr>\n",
       "      <th>1</th>\n",
       "      <td>900_20</td>\n",
       "      <td>I am hearing that while you have thought about...</td>\n",
       "      <td>Я слышу, что хотя ты уже думала об обращении з...</td>\n",
       "      <td>4</td>\n",
       "      <td>2</td>\n",
       "      <td>3</td>\n",
       "    </tr>\n",
       "    <tr>\n",
       "      <th>2</th>\n",
       "      <td>431_26</td>\n",
       "      <td>That's great! IT's also a good place because y...</td>\n",
       "      <td>Это здорово! Это ещё и хорошее место, потому ч...</td>\n",
       "      <td>3</td>\n",
       "      <td>4</td>\n",
       "      <td>1</td>\n",
       "    </tr>\n",
       "    <tr>\n",
       "      <th>3</th>\n",
       "      <td>1121_19</td>\n",
       "      <td>yeah, lool something like that ;). Glad your b...</td>\n",
       "      <td>да, лол примерно так ;). Рад, что тебе лучше</td>\n",
       "      <td>3</td>\n",
       "      <td>5</td>\n",
       "      <td>5</td>\n",
       "    </tr>\n",
       "    <tr>\n",
       "      <th>4</th>\n",
       "      <td>260_25</td>\n",
       "      <td>the only thing you can really do right now is ...</td>\n",
       "      <td>единственное, что ты можешь сделать прямо сейч...</td>\n",
       "      <td>5</td>\n",
       "      <td>4</td>\n",
       "      <td>5</td>\n",
       "    </tr>\n",
       "  </tbody>\n",
       "</table>\n",
       "</div>"
      ],
      "text/plain": [
       "        id                                               text  \\\n",
       "0   812_19  I think that is truly when I started feeling d...   \n",
       "1   900_20  I am hearing that while you have thought about...   \n",
       "2   431_26  That's great! IT's also a good place because y...   \n",
       "3  1121_19  yeah, lool something like that ;). Glad your b...   \n",
       "4   260_25  the only thing you can really do right now is ...   \n",
       "\n",
       "                                         translation  оценка перевода (Иван)  \\\n",
       "0  Думаю, именно тогда я начал чувствовать себя п...                       4   \n",
       "1  Я слышу, что хотя ты уже думала об обращении з...                       4   \n",
       "2  Это здорово! Это ещё и хорошее место, потому ч...                       3   \n",
       "3       да, лол примерно так ;). Рад, что тебе лучше                       3   \n",
       "4  единственное, что ты можешь сделать прямо сейч...                       5   \n",
       "\n",
       "   оценка перевода (Екатерина)  оценка перевода (Артем)  \n",
       "0                            3                        2  \n",
       "1                            2                        3  \n",
       "2                            4                        1  \n",
       "3                            5                        5  \n",
       "4                            4                        5  "
      ]
     },
     "execution_count": 6,
     "metadata": {},
     "output_type": "execute_result"
    }
   ],
   "source": [
    "estim.head()"
   ]
  },
  {
   "cell_type": "code",
   "execution_count": 11,
   "id": "edcb7432",
   "metadata": {},
   "outputs": [],
   "source": [
    "estim['overall'] =  (estim['оценка перевода (Иван)'] + estim['оценка перевода (Екатерина)'] + estim['оценка перевода (Артем)']) / 3\n",
    "estim['overall'] = estim['overall'].astype(int)"
   ]
  },
  {
   "cell_type": "code",
   "execution_count": 17,
   "id": "307fd22e",
   "metadata": {},
   "outputs": [
    {
     "data": {
      "text/plain": [
       "(50, 7)"
      ]
     },
     "execution_count": 17,
     "metadata": {},
     "output_type": "execute_result"
    }
   ],
   "source": [
    "estim.shape"
   ]
  },
  {
   "cell_type": "code",
   "execution_count": 12,
   "id": "4f610141",
   "metadata": {},
   "outputs": [
    {
     "data": {
      "text/html": [
       "<div>\n",
       "<style scoped>\n",
       "    .dataframe tbody tr th:only-of-type {\n",
       "        vertical-align: middle;\n",
       "    }\n",
       "\n",
       "    .dataframe tbody tr th {\n",
       "        vertical-align: top;\n",
       "    }\n",
       "\n",
       "    .dataframe thead th {\n",
       "        text-align: right;\n",
       "    }\n",
       "</style>\n",
       "<table border=\"1\" class=\"dataframe\">\n",
       "  <thead>\n",
       "    <tr style=\"text-align: right;\">\n",
       "      <th></th>\n",
       "      <th>id</th>\n",
       "      <th>text</th>\n",
       "      <th>translation</th>\n",
       "      <th>оценка перевода (Иван)</th>\n",
       "      <th>оценка перевода (Екатерина)</th>\n",
       "      <th>оценка перевода (Артем)</th>\n",
       "      <th>overall</th>\n",
       "    </tr>\n",
       "  </thead>\n",
       "  <tbody>\n",
       "    <tr>\n",
       "      <th>0</th>\n",
       "      <td>812_19</td>\n",
       "      <td>I think that is truly when I started feeling d...</td>\n",
       "      <td>Думаю, именно тогда я начал чувствовать себя п...</td>\n",
       "      <td>4</td>\n",
       "      <td>3</td>\n",
       "      <td>2</td>\n",
       "      <td>3</td>\n",
       "    </tr>\n",
       "    <tr>\n",
       "      <th>1</th>\n",
       "      <td>900_20</td>\n",
       "      <td>I am hearing that while you have thought about...</td>\n",
       "      <td>Я слышу, что хотя ты уже думала об обращении з...</td>\n",
       "      <td>4</td>\n",
       "      <td>2</td>\n",
       "      <td>3</td>\n",
       "      <td>3</td>\n",
       "    </tr>\n",
       "    <tr>\n",
       "      <th>2</th>\n",
       "      <td>431_26</td>\n",
       "      <td>That's great! IT's also a good place because y...</td>\n",
       "      <td>Это здорово! Это ещё и хорошее место, потому ч...</td>\n",
       "      <td>3</td>\n",
       "      <td>4</td>\n",
       "      <td>1</td>\n",
       "      <td>2</td>\n",
       "    </tr>\n",
       "    <tr>\n",
       "      <th>3</th>\n",
       "      <td>1121_19</td>\n",
       "      <td>yeah, lool something like that ;). Glad your b...</td>\n",
       "      <td>да, лол примерно так ;). Рад, что тебе лучше</td>\n",
       "      <td>3</td>\n",
       "      <td>5</td>\n",
       "      <td>5</td>\n",
       "      <td>4</td>\n",
       "    </tr>\n",
       "    <tr>\n",
       "      <th>4</th>\n",
       "      <td>260_25</td>\n",
       "      <td>the only thing you can really do right now is ...</td>\n",
       "      <td>единственное, что ты можешь сделать прямо сейч...</td>\n",
       "      <td>5</td>\n",
       "      <td>4</td>\n",
       "      <td>5</td>\n",
       "      <td>4</td>\n",
       "    </tr>\n",
       "  </tbody>\n",
       "</table>\n",
       "</div>"
      ],
      "text/plain": [
       "        id                                               text  \\\n",
       "0   812_19  I think that is truly when I started feeling d...   \n",
       "1   900_20  I am hearing that while you have thought about...   \n",
       "2   431_26  That's great! IT's also a good place because y...   \n",
       "3  1121_19  yeah, lool something like that ;). Glad your b...   \n",
       "4   260_25  the only thing you can really do right now is ...   \n",
       "\n",
       "                                         translation  оценка перевода (Иван)  \\\n",
       "0  Думаю, именно тогда я начал чувствовать себя п...                       4   \n",
       "1  Я слышу, что хотя ты уже думала об обращении з...                       4   \n",
       "2  Это здорово! Это ещё и хорошее место, потому ч...                       3   \n",
       "3       да, лол примерно так ;). Рад, что тебе лучше                       3   \n",
       "4  единственное, что ты можешь сделать прямо сейч...                       5   \n",
       "\n",
       "   оценка перевода (Екатерина)  оценка перевода (Артем)  overall  \n",
       "0                            3                        2        3  \n",
       "1                            2                        3        3  \n",
       "2                            4                        1        2  \n",
       "3                            5                        5        4  \n",
       "4                            4                        5        4  "
      ]
     },
     "execution_count": 12,
     "metadata": {},
     "output_type": "execute_result"
    }
   ],
   "source": [
    "estim.head()"
   ]
  },
  {
   "cell_type": "code",
   "execution_count": 13,
   "id": "a998a4c1",
   "metadata": {},
   "outputs": [],
   "source": [
    "perplexity_selected_ids = pd.read_csv(\"top25_bad_perplexity.csv\").id\n",
    "random_selected_ids = pd.read_csv(\"25_samples_from_all_set.csv\").id"
   ]
  },
  {
   "cell_type": "code",
   "execution_count": 14,
   "id": "7da0649d",
   "metadata": {},
   "outputs": [],
   "source": [
    "perplexity_selected = estim[estim.id.isin(perplexity_selected_ids)]\n",
    "random_selected = estim[estim.id.isin(random_selected_ids)]"
   ]
  },
  {
   "cell_type": "code",
   "execution_count": 16,
   "id": "d58793ec",
   "metadata": {},
   "outputs": [
    {
     "data": {
      "text/plain": [
       "((25, 7), (25, 7))"
      ]
     },
     "execution_count": 16,
     "metadata": {},
     "output_type": "execute_result"
    }
   ],
   "source": [
    "perplexity_selected.shape, random_selected.shape"
   ]
  },
  {
   "cell_type": "code",
   "execution_count": 18,
   "id": "a9ed6a05",
   "metadata": {},
   "outputs": [
    {
     "data": {
      "text/plain": [
       "MannwhitneyuResult(statistic=np.float64(231.0), pvalue=np.float64(0.0938000706682478))"
      ]
     },
     "execution_count": 18,
     "metadata": {},
     "output_type": "execute_result"
    }
   ],
   "source": [
    "mannwhitneyu(perplexity_selected.overall, random_selected.overall)"
   ]
  },
  {
   "cell_type": "markdown",
   "id": "a017c000",
   "metadata": {},
   "source": [
    "## Проверка оценки переводов моделями"
   ]
  },
  {
   "cell_type": "code",
   "execution_count": 9,
   "id": "ca9c3cc7",
   "metadata": {},
   "outputs": [],
   "source": [
    "%load_ext autoreload\n",
    "%autoreload 2 "
   ]
  },
  {
   "cell_type": "code",
   "execution_count": 1,
   "id": "11d994d5",
   "metadata": {},
   "outputs": [],
   "source": [
    "import sys\n",
    "import os.path as osp\n",
    "import os\n",
    "\n",
    "current_dir = os.getcwd()\n",
    "\n",
    "parent_dir = os.path.abspath(os.path.join(current_dir, '..'))\n",
    "sys.path.append(parent_dir)\n",
    "sys.path.append(current_dir + '/notebooks')\n",
    "sys.path.append(current_dir)\n",
    "sys.path.append(current_dir + '/data')\n",
    "sys.path.append(current_dir + '/src')\n",
    "sys.path.append(current_dir + '/src/utils')\n",
    "sys.path.append(current_dir + '/src/utils')"
   ]
  },
  {
   "cell_type": "code",
   "execution_count": 64,
   "id": "a0400923",
   "metadata": {},
   "outputs": [],
   "source": [
    "import json\n",
    "from pathlib import Path\n",
    "from omegaconf import OmegaConf\n",
    "from datasets import Dataset\n",
    "from src.core.translate import Translator\n",
    "from src.utils.schemas import TranslationEstimationResultSchema\n",
    "import pandas as pd \n",
    "from scipy.stats import chisquare\n",
    "from collections import defaultdict\n",
    "\n",
    "def read_json(path):\n",
    "    return json.load(Path(path).open())\n",
    "\n",
    "def save_json(obj, path):\n",
    "    json.dump(obj, Path(path).open(\"w\", encoding=\"utf-8\"), indent=4, ensure_ascii=False)\n",
    "    \n",
    "def read_file(path: str):\n",
    "    \treturn Path(path).open().read()"
   ]
  },
  {
   "cell_type": "code",
   "execution_count": 57,
   "id": "237f7920",
   "metadata": {},
   "outputs": [],
   "source": [
    "estim = pd.read_csv('/Users/n.valieva/Downloads/translation estimation - оценка перевода.csv')"
   ]
  },
  {
   "cell_type": "code",
   "execution_count": 58,
   "id": "b3e6a7db",
   "metadata": {},
   "outputs": [
    {
     "data": {
      "text/html": [
       "<div>\n",
       "<style scoped>\n",
       "    .dataframe tbody tr th:only-of-type {\n",
       "        vertical-align: middle;\n",
       "    }\n",
       "\n",
       "    .dataframe tbody tr th {\n",
       "        vertical-align: top;\n",
       "    }\n",
       "\n",
       "    .dataframe thead th {\n",
       "        text-align: right;\n",
       "    }\n",
       "</style>\n",
       "<table border=\"1\" class=\"dataframe\">\n",
       "  <thead>\n",
       "    <tr style=\"text-align: right;\">\n",
       "      <th></th>\n",
       "      <th>id</th>\n",
       "      <th>text</th>\n",
       "      <th>translation</th>\n",
       "      <th>оценка перевода (Иван)</th>\n",
       "      <th>оценка перевода (Екатерина)</th>\n",
       "      <th>оценка перевода (Артем)</th>\n",
       "    </tr>\n",
       "  </thead>\n",
       "  <tbody>\n",
       "    <tr>\n",
       "      <th>0</th>\n",
       "      <td>812_19</td>\n",
       "      <td>I think that is truly when I started feeling d...</td>\n",
       "      <td>Думаю, именно тогда я начал чувствовать себя п...</td>\n",
       "      <td>4</td>\n",
       "      <td>3</td>\n",
       "      <td>2</td>\n",
       "    </tr>\n",
       "    <tr>\n",
       "      <th>1</th>\n",
       "      <td>900_20</td>\n",
       "      <td>I am hearing that while you have thought about...</td>\n",
       "      <td>Я слышу, что хотя ты уже думала об обращении з...</td>\n",
       "      <td>4</td>\n",
       "      <td>2</td>\n",
       "      <td>3</td>\n",
       "    </tr>\n",
       "    <tr>\n",
       "      <th>2</th>\n",
       "      <td>431_26</td>\n",
       "      <td>That's great! IT's also a good place because y...</td>\n",
       "      <td>Это здорово! Это ещё и хорошее место, потому ч...</td>\n",
       "      <td>3</td>\n",
       "      <td>4</td>\n",
       "      <td>1</td>\n",
       "    </tr>\n",
       "    <tr>\n",
       "      <th>3</th>\n",
       "      <td>1121_19</td>\n",
       "      <td>yeah, lool something like that ;). Glad your b...</td>\n",
       "      <td>да, лол примерно так ;). Рад, что тебе лучше</td>\n",
       "      <td>3</td>\n",
       "      <td>5</td>\n",
       "      <td>5</td>\n",
       "    </tr>\n",
       "    <tr>\n",
       "      <th>4</th>\n",
       "      <td>260_25</td>\n",
       "      <td>the only thing you can really do right now is ...</td>\n",
       "      <td>единственное, что ты можешь сделать прямо сейч...</td>\n",
       "      <td>5</td>\n",
       "      <td>4</td>\n",
       "      <td>5</td>\n",
       "    </tr>\n",
       "  </tbody>\n",
       "</table>\n",
       "</div>"
      ],
      "text/plain": [
       "        id                                               text  \\\n",
       "0   812_19  I think that is truly when I started feeling d...   \n",
       "1   900_20  I am hearing that while you have thought about...   \n",
       "2   431_26  That's great! IT's also a good place because y...   \n",
       "3  1121_19  yeah, lool something like that ;). Glad your b...   \n",
       "4   260_25  the only thing you can really do right now is ...   \n",
       "\n",
       "                                         translation  оценка перевода (Иван)  \\\n",
       "0  Думаю, именно тогда я начал чувствовать себя п...                       4   \n",
       "1  Я слышу, что хотя ты уже думала об обращении з...                       4   \n",
       "2  Это здорово! Это ещё и хорошее место, потому ч...                       3   \n",
       "3       да, лол примерно так ;). Рад, что тебе лучше                       3   \n",
       "4  единственное, что ты можешь сделать прямо сейч...                       5   \n",
       "\n",
       "   оценка перевода (Екатерина)  оценка перевода (Артем)  \n",
       "0                            3                        2  \n",
       "1                            2                        3  \n",
       "2                            4                        1  \n",
       "3                            5                        5  \n",
       "4                            4                        5  "
      ]
     },
     "execution_count": 58,
     "metadata": {},
     "output_type": "execute_result"
    }
   ],
   "source": [
    "estim.head()"
   ]
  },
  {
   "cell_type": "code",
   "execution_count": 59,
   "id": "419772ba",
   "metadata": {},
   "outputs": [],
   "source": [
    "dataset = Dataset.from_pandas(estim[['id', 'text', 'translation']]).rename_column(\"translation\", \"text_rus\")"
   ]
  },
  {
   "cell_type": "code",
   "execution_count": 60,
   "id": "f62d9a7f",
   "metadata": {},
   "outputs": [],
   "source": [
    "MODELS = ['gpt-4o', 'claude-sonnet-4', 'gemini-2.5-flash', 'qwen3-235b-a22b', 'deepseek-chat-v3-0324', 'llama-4-maverick']"
   ]
  },
  {
   "cell_type": "code",
   "execution_count": null,
   "id": "9a4f6912",
   "metadata": {},
   "outputs": [],
   "source": [
    "for model in MODELS:\n",
    "\tconfig = OmegaConf.load('../configs/conf.yaml')\n",
    "\tgeneral_translation_config = config.general_translation\n",
    "\n",
    "\tgeneral_translation_config.batch_result_dir = f\"batches_res_general_translation_{model}\"\n",
    "\tgeneral_translation_config.batches = f\"batches_general_translation_{model}\"\n",
    "\tgeneral_translation_config.batch_size = 10\n",
    "\tgeneral_translation_config.prompt_path = \"/Users/n.valieva/Desktop/empathy_dataset_transfer/configs/prompts/translation_estimation_prompt.txt\"\n",
    "\n",
    "\tmodel_config = read_json(general_translation_config.model_config_path)\n",
    "\tmodel_config['model_name'] = model\n",
    "\tprint(f\"Using model: {model}\")\n",
    "\n",
    "\tgeneral_translator = Translator(\n",
    "\t\tsystem_message=read_file(general_translation_config.prompt_path), \n",
    "\t\tmodel_config=model_config,\n",
    "\t\texample_data=read_json(general_translation_config.filepath_examples), \n",
    "\t\tbatch_size=general_translation_config.batch_size,\n",
    "\t\tbatch_result_dir=general_translation_config.batch_result_dir,\n",
    "\t\tbatch_dir=general_translation_config.batches,\n",
    "\t\tmodel_type=\"openai\"\n",
    "\t)\n",
    "\n",
    "\ttranslation_result = general_translator.translate(dataset, TranslationEstimationResultSchema)\n",
    "\n",
    "\tsave_json(translation_result, f\"translation_result_estimation_{model}.json\")\n",
    "\n",
    "\testim = pd.DataFrame(translation_result).rename(columns={'value': f\"value_{model}\"}).merge(estim, on='id')"
   ]
  },
  {
   "cell_type": "code",
   "execution_count": 62,
   "id": "5943f8a3",
   "metadata": {},
   "outputs": [
    {
     "data": {
      "text/html": [
       "<div>\n",
       "<style scoped>\n",
       "    .dataframe tbody tr th:only-of-type {\n",
       "        vertical-align: middle;\n",
       "    }\n",
       "\n",
       "    .dataframe tbody tr th {\n",
       "        vertical-align: top;\n",
       "    }\n",
       "\n",
       "    .dataframe thead th {\n",
       "        text-align: right;\n",
       "    }\n",
       "</style>\n",
       "<table border=\"1\" class=\"dataframe\">\n",
       "  <thead>\n",
       "    <tr style=\"text-align: right;\">\n",
       "      <th></th>\n",
       "      <th>id</th>\n",
       "      <th>value_llama-4-maverick</th>\n",
       "      <th>value_deepseek-chat-v3-0324</th>\n",
       "      <th>value_qwen3-235b-a22b</th>\n",
       "      <th>value_gemini-2.5-flash</th>\n",
       "      <th>value_claude-sonnet-4</th>\n",
       "      <th>value_gpt-4o</th>\n",
       "      <th>text</th>\n",
       "      <th>translation</th>\n",
       "      <th>оценка перевода (Иван)</th>\n",
       "      <th>оценка перевода (Екатерина)</th>\n",
       "      <th>оценка перевода (Артем)</th>\n",
       "    </tr>\n",
       "  </thead>\n",
       "  <tbody>\n",
       "    <tr>\n",
       "      <th>0</th>\n",
       "      <td>812_19</td>\n",
       "      <td>5</td>\n",
       "      <td>5</td>\n",
       "      <td>5</td>\n",
       "      <td>5</td>\n",
       "      <td>5</td>\n",
       "      <td>5</td>\n",
       "      <td>I think that is truly when I started feeling d...</td>\n",
       "      <td>Думаю, именно тогда я начал чувствовать себя п...</td>\n",
       "      <td>4</td>\n",
       "      <td>3</td>\n",
       "      <td>2</td>\n",
       "    </tr>\n",
       "    <tr>\n",
       "      <th>1</th>\n",
       "      <td>900_20</td>\n",
       "      <td>5</td>\n",
       "      <td>5</td>\n",
       "      <td>5</td>\n",
       "      <td>5</td>\n",
       "      <td>5</td>\n",
       "      <td>5</td>\n",
       "      <td>I am hearing that while you have thought about...</td>\n",
       "      <td>Я слышу, что хотя ты уже думала об обращении з...</td>\n",
       "      <td>4</td>\n",
       "      <td>2</td>\n",
       "      <td>3</td>\n",
       "    </tr>\n",
       "    <tr>\n",
       "      <th>2</th>\n",
       "      <td>431_26</td>\n",
       "      <td>5</td>\n",
       "      <td>5</td>\n",
       "      <td>5</td>\n",
       "      <td>5</td>\n",
       "      <td>5</td>\n",
       "      <td>5</td>\n",
       "      <td>That's great! IT's also a good place because y...</td>\n",
       "      <td>Это здорово! Это ещё и хорошее место, потому ч...</td>\n",
       "      <td>3</td>\n",
       "      <td>4</td>\n",
       "      <td>1</td>\n",
       "    </tr>\n",
       "    <tr>\n",
       "      <th>3</th>\n",
       "      <td>1121_19</td>\n",
       "      <td>4</td>\n",
       "      <td>5</td>\n",
       "      <td>5</td>\n",
       "      <td>4</td>\n",
       "      <td>5</td>\n",
       "      <td>4</td>\n",
       "      <td>yeah, lool something like that ;). Glad your b...</td>\n",
       "      <td>да, лол примерно так ;). Рад, что тебе лучше</td>\n",
       "      <td>3</td>\n",
       "      <td>5</td>\n",
       "      <td>5</td>\n",
       "    </tr>\n",
       "    <tr>\n",
       "      <th>4</th>\n",
       "      <td>260_25</td>\n",
       "      <td>5</td>\n",
       "      <td>5</td>\n",
       "      <td>5</td>\n",
       "      <td>5</td>\n",
       "      <td>5</td>\n",
       "      <td>5</td>\n",
       "      <td>the only thing you can really do right now is ...</td>\n",
       "      <td>единственное, что ты можешь сделать прямо сейч...</td>\n",
       "      <td>5</td>\n",
       "      <td>4</td>\n",
       "      <td>5</td>\n",
       "    </tr>\n",
       "  </tbody>\n",
       "</table>\n",
       "</div>"
      ],
      "text/plain": [
       "        id  value_llama-4-maverick  value_deepseek-chat-v3-0324  \\\n",
       "0   812_19                       5                            5   \n",
       "1   900_20                       5                            5   \n",
       "2   431_26                       5                            5   \n",
       "3  1121_19                       4                            5   \n",
       "4   260_25                       5                            5   \n",
       "\n",
       "   value_qwen3-235b-a22b  value_gemini-2.5-flash  value_claude-sonnet-4  \\\n",
       "0                      5                       5                      5   \n",
       "1                      5                       5                      5   \n",
       "2                      5                       5                      5   \n",
       "3                      5                       4                      5   \n",
       "4                      5                       5                      5   \n",
       "\n",
       "   value_gpt-4o                                               text  \\\n",
       "0             5  I think that is truly when I started feeling d...   \n",
       "1             5  I am hearing that while you have thought about...   \n",
       "2             5  That's great! IT's also a good place because y...   \n",
       "3             4  yeah, lool something like that ;). Glad your b...   \n",
       "4             5  the only thing you can really do right now is ...   \n",
       "\n",
       "                                         translation  оценка перевода (Иван)  \\\n",
       "0  Думаю, именно тогда я начал чувствовать себя п...                       4   \n",
       "1  Я слышу, что хотя ты уже думала об обращении з...                       4   \n",
       "2  Это здорово! Это ещё и хорошее место, потому ч...                       3   \n",
       "3       да, лол примерно так ;). Рад, что тебе лучше                       3   \n",
       "4  единственное, что ты можешь сделать прямо сейч...                       5   \n",
       "\n",
       "   оценка перевода (Екатерина)  оценка перевода (Артем)  \n",
       "0                            3                        2  \n",
       "1                            2                        3  \n",
       "2                            4                        1  \n",
       "3                            5                        5  \n",
       "4                            4                        5  "
      ]
     },
     "execution_count": 62,
     "metadata": {},
     "output_type": "execute_result"
    }
   ],
   "source": [
    "estim.head()"
   ]
  },
  {
   "cell_type": "code",
   "execution_count": 63,
   "id": "5e716ba5",
   "metadata": {},
   "outputs": [],
   "source": [
    "estim['overall_person'] = (estim['оценка перевода (Иван)'] + estim['оценка перевода (Екатерина)'] + estim['оценка перевода (Артем)']) / 3\n",
    "estim['overall_person'] = estim['overall_person'].astype(int)"
   ]
  },
  {
   "cell_type": "code",
   "execution_count": 71,
   "id": "fd522b1c",
   "metadata": {},
   "outputs": [],
   "source": [
    "df_data = defaultdict(dict)\n",
    "\n",
    "for model in MODELS:\n",
    "\tfor col in ['оценка перевода (Иван)', 'оценка перевода (Екатерина)', 'оценка перевода (Артем)', 'overall_person']:\n",
    "\t\texpected = estim[col]\n",
    "\t\tobserved = estim[f'value_{model}']\n",
    "\t\texpected_scaled = expected * (observed.sum() / expected.sum())\n",
    "\t\tdf_data[model][col] = chisquare(f_obs=observed, f_exp=expected_scaled)[1]"
   ]
  },
  {
   "cell_type": "code",
   "execution_count": 72,
   "id": "4946ced5",
   "metadata": {},
   "outputs": [
    {
     "data": {
      "text/html": [
       "<div>\n",
       "<style scoped>\n",
       "    .dataframe tbody tr th:only-of-type {\n",
       "        vertical-align: middle;\n",
       "    }\n",
       "\n",
       "    .dataframe tbody tr th {\n",
       "        vertical-align: top;\n",
       "    }\n",
       "\n",
       "    .dataframe thead th {\n",
       "        text-align: right;\n",
       "    }\n",
       "</style>\n",
       "<table border=\"1\" class=\"dataframe\">\n",
       "  <thead>\n",
       "    <tr style=\"text-align: right;\">\n",
       "      <th></th>\n",
       "      <th>оценка перевода (Иван)</th>\n",
       "      <th>оценка перевода (Екатерина)</th>\n",
       "      <th>оценка перевода (Артем)</th>\n",
       "      <th>overall_person</th>\n",
       "    </tr>\n",
       "  </thead>\n",
       "  <tbody>\n",
       "    <tr>\n",
       "      <th>gpt-4o</th>\n",
       "      <td>1.000000</td>\n",
       "      <td>0.175658</td>\n",
       "      <td>0.001253</td>\n",
       "      <td>0.999996</td>\n",
       "    </tr>\n",
       "    <tr>\n",
       "      <th>claude-sonnet-4</th>\n",
       "      <td>1.000000</td>\n",
       "      <td>0.387769</td>\n",
       "      <td>0.005886</td>\n",
       "      <td>1.000000</td>\n",
       "    </tr>\n",
       "    <tr>\n",
       "      <th>gemini-2.5-flash</th>\n",
       "      <td>0.999996</td>\n",
       "      <td>0.118529</td>\n",
       "      <td>0.000040</td>\n",
       "      <td>0.999956</td>\n",
       "    </tr>\n",
       "    <tr>\n",
       "      <th>qwen3-235b-a22b</th>\n",
       "      <td>0.999993</td>\n",
       "      <td>0.160640</td>\n",
       "      <td>0.000288</td>\n",
       "      <td>0.999976</td>\n",
       "    </tr>\n",
       "    <tr>\n",
       "      <th>deepseek-chat-v3-0324</th>\n",
       "      <td>0.999997</td>\n",
       "      <td>0.101087</td>\n",
       "      <td>0.000426</td>\n",
       "      <td>0.999987</td>\n",
       "    </tr>\n",
       "    <tr>\n",
       "      <th>llama-4-maverick</th>\n",
       "      <td>1.000000</td>\n",
       "      <td>0.214498</td>\n",
       "      <td>0.000771</td>\n",
       "      <td>0.999997</td>\n",
       "    </tr>\n",
       "  </tbody>\n",
       "</table>\n",
       "</div>"
      ],
      "text/plain": [
       "                       оценка перевода (Иван)  оценка перевода (Екатерина)  \\\n",
       "gpt-4o                               1.000000                     0.175658   \n",
       "claude-sonnet-4                      1.000000                     0.387769   \n",
       "gemini-2.5-flash                     0.999996                     0.118529   \n",
       "qwen3-235b-a22b                      0.999993                     0.160640   \n",
       "deepseek-chat-v3-0324                0.999997                     0.101087   \n",
       "llama-4-maverick                     1.000000                     0.214498   \n",
       "\n",
       "                       оценка перевода (Артем)  overall_person  \n",
       "gpt-4o                                0.001253        0.999996  \n",
       "claude-sonnet-4                       0.005886        1.000000  \n",
       "gemini-2.5-flash                      0.000040        0.999956  \n",
       "qwen3-235b-a22b                       0.000288        0.999976  \n",
       "deepseek-chat-v3-0324                 0.000426        0.999987  \n",
       "llama-4-maverick                      0.000771        0.999997  "
      ]
     },
     "execution_count": 72,
     "metadata": {},
     "output_type": "execute_result"
    }
   ],
   "source": [
    "pd.DataFrame(df_data).T"
   ]
  },
  {
   "cell_type": "markdown",
   "id": "24d29727",
   "metadata": {},
   "source": [
    "меняем (1, 2, 3) -> 1, (4, 5) -> 2"
   ]
  },
  {
   "cell_type": "code",
   "execution_count": 73,
   "id": "4bff1ef1",
   "metadata": {},
   "outputs": [],
   "source": [
    "estim1 = pd.read_csv('/Users/n.valieva/Downloads/translation estimation - оценка перевода.csv')"
   ]
  },
  {
   "cell_type": "code",
   "execution_count": null,
   "id": "b0812323",
   "metadata": {},
   "outputs": [],
   "source": [
    "value_map = {1: 1, 2: 1, 3: 1, 4: 2, 5: 2}"
   ]
  },
  {
   "cell_type": "code",
   "execution_count": 76,
   "id": "c447bd64",
   "metadata": {},
   "outputs": [],
   "source": [
    "for col in ['оценка перевода (Иван)', 'оценка перевода (Екатерина)', 'оценка перевода (Артем)']:\n",
    "\testim1[col] = estim1[col].map(value_map)"
   ]
  },
  {
   "cell_type": "code",
   "execution_count": 78,
   "id": "5a432e7f",
   "metadata": {},
   "outputs": [],
   "source": [
    "estim1['overall_person'] = (estim1['оценка перевода (Иван)'] + estim1['оценка перевода (Екатерина)'] + estim1['оценка перевода (Артем)']) / 3\n",
    "estim1['overall_person'] = estim1['overall_person'].astype(int)"
   ]
  },
  {
   "cell_type": "code",
   "execution_count": 79,
   "id": "8ae3b836",
   "metadata": {},
   "outputs": [],
   "source": [
    "dataset = Dataset.from_pandas(estim1[['id', 'text', 'translation']]).rename_column(\"translation\", \"text_rus\")"
   ]
  },
  {
   "cell_type": "code",
   "execution_count": 88,
   "id": "2f8b802e",
   "metadata": {},
   "outputs": [],
   "source": [
    "examples_data = read_json(general_translation_config.filepath_examples)"
   ]
  },
  {
   "cell_type": "code",
   "execution_count": 90,
   "id": "746827a9",
   "metadata": {},
   "outputs": [],
   "source": [
    "for i, item in enumerate(examples_data['examples']):\n",
    "    examples_data['examples'][i]['result']['value'] = value_map[item['result']['value']]"
   ]
  },
  {
   "cell_type": "code",
   "execution_count": 92,
   "id": "7ded9add",
   "metadata": {},
   "outputs": [
    {
     "name": "stdout",
     "output_type": "stream",
     "text": [
      "Using model: gpt-4o\n"
     ]
    },
    {
     "name": "stderr",
     "output_type": "stream",
     "text": [
      "Creating json from Arrow format: 100%|██████████| 1/1 [00:00<00:00, 276.94ba/s]\n",
      "Creating json from Arrow format:   0%|          | 0/1 [00:00<?, ?ba/s]"
     ]
    },
    {
     "name": "stderr",
     "output_type": "stream",
     "text": [
      "Creating json from Arrow format: 100%|██████████| 1/1 [00:00<00:00, 829.90ba/s]\n",
      "Creating json from Arrow format: 100%|██████████| 1/1 [00:00<00:00, 1455.34ba/s]\n",
      "Creating json from Arrow format: 100%|██████████| 1/1 [00:00<00:00, 1778.75ba/s]\n",
      "Creating json from Arrow format: 100%|██████████| 1/1 [00:00<00:00, 906.68ba/s]"
     ]
    },
    {
     "name": "stdout",
     "output_type": "stream",
     "text": [
      "Processing batch 1/5...\n"
     ]
    },
    {
     "name": "stderr",
     "output_type": "stream",
     "text": [
      "\n",
      "Creating json from Arrow format: 100%|██████████| 1/1 [00:00<00:00, 1792.44ba/s]\n"
     ]
    },
    {
     "name": "stdout",
     "output_type": "stream",
     "text": [
      "Processing batch 2/5...\n"
     ]
    },
    {
     "name": "stderr",
     "output_type": "stream",
     "text": [
      "Creating json from Arrow format: 100%|██████████| 1/1 [00:00<00:00, 1775.74ba/s]\n"
     ]
    },
    {
     "name": "stdout",
     "output_type": "stream",
     "text": [
      "Processing batch 3/5...\n"
     ]
    },
    {
     "name": "stderr",
     "output_type": "stream",
     "text": [
      "Creating json from Arrow format: 100%|██████████| 1/1 [00:00<00:00, 1103.76ba/s]\n"
     ]
    },
    {
     "name": "stdout",
     "output_type": "stream",
     "text": [
      "Processing batch 4/5...\n"
     ]
    },
    {
     "name": "stderr",
     "output_type": "stream",
     "text": [
      "Creating json from Arrow format: 100%|██████████| 1/1 [00:00<00:00, 700.69ba/s]\n"
     ]
    },
    {
     "name": "stdout",
     "output_type": "stream",
     "text": [
      "Processing batch 5/5...\n"
     ]
    },
    {
     "name": "stderr",
     "output_type": "stream",
     "text": [
      "Creating json from Arrow format: 100%|██████████| 1/1 [00:00<00:00, 203.54ba/s]\n"
     ]
    },
    {
     "name": "stdout",
     "output_type": "stream",
     "text": [
      "Using model: claude-sonnet-4\n"
     ]
    },
    {
     "name": "stderr",
     "output_type": "stream",
     "text": [
      "Creating json from Arrow format: 100%|██████████| 1/1 [00:00<00:00, 1057.03ba/s]\n",
      "Creating json from Arrow format: 100%|██████████| 1/1 [00:00<00:00, 685.90ba/s]\n",
      "Creating json from Arrow format: 100%|██████████| 1/1 [00:00<00:00, 1490.51ba/s]\n",
      "Creating json from Arrow format: 100%|██████████| 1/1 [00:00<00:00, 1572.08ba/s]\n",
      "Creating json from Arrow format: 100%|██████████| 1/1 [00:00<00:00, 663.03ba/s]\n"
     ]
    },
    {
     "name": "stdout",
     "output_type": "stream",
     "text": [
      "Processing batch 1/5...\n"
     ]
    },
    {
     "name": "stderr",
     "output_type": "stream",
     "text": [
      "Creating json from Arrow format: 100%|██████████| 1/1 [00:00<00:00, 1003.90ba/s]\n"
     ]
    },
    {
     "name": "stdout",
     "output_type": "stream",
     "text": [
      "Processing batch 2/5...\n"
     ]
    },
    {
     "name": "stderr",
     "output_type": "stream",
     "text": [
      "Creating json from Arrow format: 100%|██████████| 1/1 [00:00<00:00, 259.28ba/s]\n"
     ]
    },
    {
     "name": "stdout",
     "output_type": "stream",
     "text": [
      "Processing batch 3/5...\n"
     ]
    },
    {
     "name": "stderr",
     "output_type": "stream",
     "text": [
      "Creating json from Arrow format: 100%|██████████| 1/1 [00:00<00:00, 1394.85ba/s]\n"
     ]
    },
    {
     "name": "stdout",
     "output_type": "stream",
     "text": [
      "Processing batch 4/5...\n"
     ]
    },
    {
     "name": "stderr",
     "output_type": "stream",
     "text": [
      "Creating json from Arrow format: 100%|██████████| 1/1 [00:00<00:00, 1213.63ba/s]\n"
     ]
    },
    {
     "name": "stdout",
     "output_type": "stream",
     "text": [
      "Processing batch 5/5...\n"
     ]
    },
    {
     "name": "stderr",
     "output_type": "stream",
     "text": [
      "Creating json from Arrow format: 100%|██████████| 1/1 [00:00<00:00, 920.01ba/s]\n"
     ]
    },
    {
     "name": "stdout",
     "output_type": "stream",
     "text": [
      "Using model: gemini-2.5-flash\n"
     ]
    },
    {
     "name": "stderr",
     "output_type": "stream",
     "text": [
      "Creating json from Arrow format: 100%|██████████| 1/1 [00:00<00:00, 1070.79ba/s]\n",
      "Creating json from Arrow format: 100%|██████████| 1/1 [00:00<00:00, 1324.38ba/s]\n",
      "Creating json from Arrow format: 100%|██████████| 1/1 [00:00<00:00, 1186.17ba/s]\n",
      "Creating json from Arrow format: 100%|██████████| 1/1 [00:00<00:00, 154.33ba/s]\n",
      "Creating json from Arrow format: 100%|██████████| 1/1 [00:00<00:00, 297.11ba/s]\n"
     ]
    },
    {
     "name": "stdout",
     "output_type": "stream",
     "text": [
      "Processing batch 1/5...\n"
     ]
    },
    {
     "name": "stderr",
     "output_type": "stream",
     "text": [
      "Creating json from Arrow format: 100%|██████████| 1/1 [00:00<00:00, 105.88ba/s]\n"
     ]
    },
    {
     "name": "stdout",
     "output_type": "stream",
     "text": [
      "Processing batch 2/5...\n"
     ]
    },
    {
     "name": "stderr",
     "output_type": "stream",
     "text": [
      "Creating json from Arrow format: 100%|██████████| 1/1 [00:00<00:00, 880.42ba/s]\n"
     ]
    },
    {
     "name": "stdout",
     "output_type": "stream",
     "text": [
      "Processing batch 3/5...\n"
     ]
    },
    {
     "name": "stderr",
     "output_type": "stream",
     "text": [
      "Creating json from Arrow format: 100%|██████████| 1/1 [00:00<00:00, 638.99ba/s]\n"
     ]
    },
    {
     "name": "stdout",
     "output_type": "stream",
     "text": [
      "Processing batch 4/5...\n"
     ]
    },
    {
     "name": "stderr",
     "output_type": "stream",
     "text": [
      "Creating json from Arrow format: 100%|██████████| 1/1 [00:00<00:00, 412.01ba/s]\n"
     ]
    },
    {
     "name": "stdout",
     "output_type": "stream",
     "text": [
      "Processing batch 5/5...\n"
     ]
    },
    {
     "name": "stderr",
     "output_type": "stream",
     "text": [
      "Creating json from Arrow format: 100%|██████████| 1/1 [00:00<00:00, 549.71ba/s]\n"
     ]
    },
    {
     "name": "stdout",
     "output_type": "stream",
     "text": [
      "Using model: qwen3-235b-a22b\n"
     ]
    },
    {
     "name": "stderr",
     "output_type": "stream",
     "text": [
      "Creating json from Arrow format: 100%|██████████| 1/1 [00:00<00:00, 1042.58ba/s]\n",
      "Creating json from Arrow format: 100%|██████████| 1/1 [00:00<00:00, 863.38ba/s]\n",
      "Creating json from Arrow format: 100%|██████████| 1/1 [00:00<00:00, 1312.77ba/s]\n",
      "Creating json from Arrow format: 100%|██████████| 1/1 [00:00<00:00, 1444.82ba/s]\n",
      "Creating json from Arrow format: 100%|██████████| 1/1 [00:00<00:00, 1223.90ba/s]\n"
     ]
    },
    {
     "name": "stdout",
     "output_type": "stream",
     "text": [
      "Processing batch 1/5...\n"
     ]
    },
    {
     "name": "stderr",
     "output_type": "stream",
     "text": [
      "Creating json from Arrow format: 100%|██████████| 1/1 [00:00<00:00, 1700.85ba/s]\n"
     ]
    },
    {
     "name": "stdout",
     "output_type": "stream",
     "text": [
      "Processing batch 2/5...\n"
     ]
    },
    {
     "name": "stderr",
     "output_type": "stream",
     "text": [
      "Creating json from Arrow format: 100%|██████████| 1/1 [00:00<00:00, 986.20ba/s]\n"
     ]
    },
    {
     "name": "stdout",
     "output_type": "stream",
     "text": [
      "Processing batch 3/5...\n"
     ]
    },
    {
     "name": "stderr",
     "output_type": "stream",
     "text": [
      "Creating json from Arrow format: 100%|██████████| 1/1 [00:00<00:00, 1960.87ba/s]\n"
     ]
    },
    {
     "name": "stdout",
     "output_type": "stream",
     "text": [
      "Processing batch 4/5...\n"
     ]
    },
    {
     "name": "stderr",
     "output_type": "stream",
     "text": [
      "WARNING:root:Error on batch #3: Extra data: line 1 column 2 (char 1). Attempt 1 of 3. Retrying...\n",
      "Creating json from Arrow format: 100%|██████████| 1/1 [00:00<00:00, 146.80ba/s]\n"
     ]
    },
    {
     "name": "stdout",
     "output_type": "stream",
     "text": [
      "Processing batch 5/5...\n"
     ]
    },
    {
     "name": "stderr",
     "output_type": "stream",
     "text": [
      "Creating json from Arrow format: 100%|██████████| 1/1 [00:00<00:00, 804.59ba/s]\n"
     ]
    },
    {
     "name": "stdout",
     "output_type": "stream",
     "text": [
      "Using model: deepseek-chat-v3-0324\n"
     ]
    },
    {
     "name": "stderr",
     "output_type": "stream",
     "text": [
      "Creating json from Arrow format: 100%|██████████| 1/1 [00:00<00:00, 1108.43ba/s]\n",
      "Creating json from Arrow format: 100%|██████████| 1/1 [00:00<00:00, 1822.03ba/s]\n",
      "Creating json from Arrow format: 100%|██████████| 1/1 [00:00<00:00, 1247.19ba/s]\n",
      "Creating json from Arrow format: 100%|██████████| 1/1 [00:00<00:00, 1453.33ba/s]\n",
      "Creating json from Arrow format: 100%|██████████| 1/1 [00:00<00:00, 1519.68ba/s]\n"
     ]
    },
    {
     "name": "stdout",
     "output_type": "stream",
     "text": [
      "Processing batch 1/5...\n"
     ]
    },
    {
     "name": "stderr",
     "output_type": "stream",
     "text": [
      "Creating json from Arrow format: 100%|██████████| 1/1 [00:00<00:00, 769.31ba/s]\n"
     ]
    },
    {
     "name": "stdout",
     "output_type": "stream",
     "text": [
      "Processing batch 2/5...\n"
     ]
    },
    {
     "name": "stderr",
     "output_type": "stream",
     "text": [
      "Creating json from Arrow format: 100%|██████████| 1/1 [00:00<00:00, 308.25ba/s]\n"
     ]
    },
    {
     "name": "stdout",
     "output_type": "stream",
     "text": [
      "Processing batch 3/5...\n"
     ]
    },
    {
     "name": "stderr",
     "output_type": "stream",
     "text": [
      "Creating json from Arrow format: 100%|██████████| 1/1 [00:00<00:00, 575.03ba/s]\n"
     ]
    },
    {
     "name": "stdout",
     "output_type": "stream",
     "text": [
      "Processing batch 4/5...\n"
     ]
    },
    {
     "name": "stderr",
     "output_type": "stream",
     "text": [
      "Creating json from Arrow format: 100%|██████████| 1/1 [00:00<00:00, 1745.44ba/s]\n"
     ]
    },
    {
     "name": "stdout",
     "output_type": "stream",
     "text": [
      "Processing batch 5/5...\n"
     ]
    },
    {
     "name": "stderr",
     "output_type": "stream",
     "text": [
      "WARNING:root:Error on batch #4: Extra data: line 1 column 2 (char 1). Attempt 1 of 3. Retrying...\n",
      "Creating json from Arrow format: 100%|██████████| 1/1 [00:00<00:00, 288.61ba/s]\n"
     ]
    },
    {
     "name": "stdout",
     "output_type": "stream",
     "text": [
      "Using model: llama-4-maverick\n"
     ]
    },
    {
     "name": "stderr",
     "output_type": "stream",
     "text": [
      "Creating json from Arrow format: 100%|██████████| 1/1 [00:00<00:00, 1479.47ba/s]\n",
      "Creating json from Arrow format: 100%|██████████| 1/1 [00:00<00:00, 1310.72ba/s]\n",
      "Creating json from Arrow format: 100%|██████████| 1/1 [00:00<00:00, 1231.81ba/s]\n",
      "Creating json from Arrow format: 100%|██████████| 1/1 [00:00<00:00, 926.92ba/s]\n",
      "Creating json from Arrow format: 100%|██████████| 1/1 [00:00<00:00, 1036.40ba/s]\n"
     ]
    },
    {
     "name": "stdout",
     "output_type": "stream",
     "text": [
      "Processing batch 1/5...\n"
     ]
    },
    {
     "name": "stderr",
     "output_type": "stream",
     "text": [
      "Creating json from Arrow format: 100%|██████████| 1/1 [00:00<00:00, 1449.31ba/s]\n"
     ]
    },
    {
     "name": "stdout",
     "output_type": "stream",
     "text": [
      "Processing batch 2/5...\n"
     ]
    },
    {
     "name": "stderr",
     "output_type": "stream",
     "text": [
      "Creating json from Arrow format: 100%|██████████| 1/1 [00:00<00:00, 476.84ba/s]\n"
     ]
    },
    {
     "name": "stdout",
     "output_type": "stream",
     "text": [
      "Processing batch 3/5...\n"
     ]
    },
    {
     "name": "stderr",
     "output_type": "stream",
     "text": [
      "Creating json from Arrow format: 100%|██████████| 1/1 [00:00<00:00, 541.41ba/s]\n"
     ]
    },
    {
     "name": "stdout",
     "output_type": "stream",
     "text": [
      "Processing batch 4/5...\n"
     ]
    },
    {
     "name": "stderr",
     "output_type": "stream",
     "text": [
      "Creating json from Arrow format: 100%|██████████| 1/1 [00:00<00:00, 580.69ba/s]\n"
     ]
    },
    {
     "name": "stdout",
     "output_type": "stream",
     "text": [
      "Processing batch 5/5...\n"
     ]
    },
    {
     "name": "stderr",
     "output_type": "stream",
     "text": [
      "Creating json from Arrow format: 100%|██████████| 1/1 [00:00<00:00, 608.58ba/s]\n"
     ]
    }
   ],
   "source": [
    "for model in MODELS:\n",
    "    config = OmegaConf.load('../configs/conf.yaml')\n",
    "    general_translation_config = config.general_translation\n",
    "    general_translation_config.batch_result_dir = f\"batches_res_general_translation_{model}_1\"\n",
    "    general_translation_config.batches = f\"batches_general_translation_{model}_1\"\n",
    "    general_translation_config.batch_size = 10\n",
    "    general_translation_config.prompt_path = \"/Users/n.valieva/Desktop/empathy_dataset_transfer/configs/prompts/translation_estimation_prompt1.txt\"\n",
    "    model_config = read_json(general_translation_config.model_config_path)\n",
    "    model_config['model_name'] = model\n",
    "    print(f\"Using model: {model}\")\n",
    "    general_translator = Translator(\n",
    "\t\tsystem_message=read_file(general_translation_config.prompt_path), \n",
    "\t\tmodel_config=model_config,\n",
    "\t\texample_data=examples_data, \n",
    "\t\tbatch_size=general_translation_config.batch_size,\n",
    "\t\tbatch_result_dir=general_translation_config.batch_result_dir,\n",
    "\t\tbatch_dir=general_translation_config.batches,\n",
    "\t\tmodel_type=\"openai\"\n",
    "\t)\n",
    "    translation_result = general_translator.translate(dataset, TranslationEstimationResultSchema)\n",
    "    save_json(translation_result, f\"translation_result_estimation_{model}_1.json\")\n",
    "    estim1 = pd.DataFrame(translation_result).rename(columns={'value': f\"value_{model}\"}).merge(estim1, on='id')"
   ]
  },
  {
   "cell_type": "code",
   "execution_count": 103,
   "id": "16733640",
   "metadata": {},
   "outputs": [],
   "source": [
    "df_data1 = defaultdict(dict)\n",
    "\n",
    "for model in MODELS:\n",
    "\tfor col in ['оценка перевода (Иван)', 'оценка перевода (Екатерина)', 'оценка перевода (Артем)', 'overall_person']:\n",
    "\t\texpected = estim1[col]\n",
    "\t\tobserved = estim1[f'value_{model}']\n",
    "\t\texpected_scaled = expected * (observed.sum() / expected.sum())\n",
    "\t\tdf_data1[model][col] = chisquare(f_obs=observed, f_exp=expected_scaled)[1]"
   ]
  },
  {
   "cell_type": "code",
   "execution_count": 104,
   "id": "74ed509c",
   "metadata": {},
   "outputs": [],
   "source": [
    "df1 = pd.DataFrame(df_data1).rename(columns={col: f\"{col}__12\" for col in df_data1.keys()}).T"
   ]
  },
  {
   "cell_type": "code",
   "execution_count": 105,
   "id": "1cedc055",
   "metadata": {},
   "outputs": [],
   "source": [
    "df = pd.DataFrame(df_data).rename(columns={col: f\"{col}__15\" for col in df_data.keys()}).T"
   ]
  },
  {
   "cell_type": "code",
   "execution_count": 106,
   "id": "d4c2da7f",
   "metadata": {},
   "outputs": [
    {
     "data": {
      "text/html": [
       "<div>\n",
       "<style scoped>\n",
       "    .dataframe tbody tr th:only-of-type {\n",
       "        vertical-align: middle;\n",
       "    }\n",
       "\n",
       "    .dataframe tbody tr th {\n",
       "        vertical-align: top;\n",
       "    }\n",
       "\n",
       "    .dataframe thead th {\n",
       "        text-align: right;\n",
       "    }\n",
       "</style>\n",
       "<table border=\"1\" class=\"dataframe\">\n",
       "  <thead>\n",
       "    <tr style=\"text-align: right;\">\n",
       "      <th></th>\n",
       "      <th>оценка перевода (Иван)</th>\n",
       "      <th>оценка перевода (Екатерина)</th>\n",
       "      <th>оценка перевода (Артем)</th>\n",
       "      <th>overall_person</th>\n",
       "    </tr>\n",
       "  </thead>\n",
       "  <tbody>\n",
       "    <tr>\n",
       "      <th>gpt-4o__15</th>\n",
       "      <td>1.000000</td>\n",
       "      <td>0.175658</td>\n",
       "      <td>0.001253</td>\n",
       "      <td>0.999996</td>\n",
       "    </tr>\n",
       "    <tr>\n",
       "      <th>claude-sonnet-4__15</th>\n",
       "      <td>1.000000</td>\n",
       "      <td>0.387769</td>\n",
       "      <td>0.005886</td>\n",
       "      <td>1.000000</td>\n",
       "    </tr>\n",
       "    <tr>\n",
       "      <th>gemini-2.5-flash__15</th>\n",
       "      <td>0.999996</td>\n",
       "      <td>0.118529</td>\n",
       "      <td>0.000040</td>\n",
       "      <td>0.999956</td>\n",
       "    </tr>\n",
       "    <tr>\n",
       "      <th>qwen3-235b-a22b__15</th>\n",
       "      <td>0.999993</td>\n",
       "      <td>0.160640</td>\n",
       "      <td>0.000288</td>\n",
       "      <td>0.999976</td>\n",
       "    </tr>\n",
       "    <tr>\n",
       "      <th>deepseek-chat-v3-0324__15</th>\n",
       "      <td>0.999997</td>\n",
       "      <td>0.101087</td>\n",
       "      <td>0.000426</td>\n",
       "      <td>0.999987</td>\n",
       "    </tr>\n",
       "    <tr>\n",
       "      <th>llama-4-maverick__15</th>\n",
       "      <td>1.000000</td>\n",
       "      <td>0.214498</td>\n",
       "      <td>0.000771</td>\n",
       "      <td>0.999997</td>\n",
       "    </tr>\n",
       "  </tbody>\n",
       "</table>\n",
       "</div>"
      ],
      "text/plain": [
       "                           оценка перевода (Иван)  \\\n",
       "gpt-4o__15                               1.000000   \n",
       "claude-sonnet-4__15                      1.000000   \n",
       "gemini-2.5-flash__15                     0.999996   \n",
       "qwen3-235b-a22b__15                      0.999993   \n",
       "deepseek-chat-v3-0324__15                0.999997   \n",
       "llama-4-maverick__15                     1.000000   \n",
       "\n",
       "                           оценка перевода (Екатерина)  \\\n",
       "gpt-4o__15                                    0.175658   \n",
       "claude-sonnet-4__15                           0.387769   \n",
       "gemini-2.5-flash__15                          0.118529   \n",
       "qwen3-235b-a22b__15                           0.160640   \n",
       "deepseek-chat-v3-0324__15                     0.101087   \n",
       "llama-4-maverick__15                          0.214498   \n",
       "\n",
       "                           оценка перевода (Артем)  overall_person  \n",
       "gpt-4o__15                                0.001253        0.999996  \n",
       "claude-sonnet-4__15                       0.005886        1.000000  \n",
       "gemini-2.5-flash__15                      0.000040        0.999956  \n",
       "qwen3-235b-a22b__15                       0.000288        0.999976  \n",
       "deepseek-chat-v3-0324__15                 0.000426        0.999987  \n",
       "llama-4-maverick__15                      0.000771        0.999997  "
      ]
     },
     "execution_count": 106,
     "metadata": {},
     "output_type": "execute_result"
    }
   ],
   "source": [
    "df"
   ]
  },
  {
   "cell_type": "code",
   "execution_count": 107,
   "id": "7260cd6d",
   "metadata": {},
   "outputs": [
    {
     "data": {
      "text/html": [
       "<div>\n",
       "<style scoped>\n",
       "    .dataframe tbody tr th:only-of-type {\n",
       "        vertical-align: middle;\n",
       "    }\n",
       "\n",
       "    .dataframe tbody tr th {\n",
       "        vertical-align: top;\n",
       "    }\n",
       "\n",
       "    .dataframe thead th {\n",
       "        text-align: right;\n",
       "    }\n",
       "</style>\n",
       "<table border=\"1\" class=\"dataframe\">\n",
       "  <thead>\n",
       "    <tr style=\"text-align: right;\">\n",
       "      <th></th>\n",
       "      <th>оценка перевода (Иван)</th>\n",
       "      <th>оценка перевода (Екатерина)</th>\n",
       "      <th>оценка перевода (Артем)</th>\n",
       "      <th>overall_person</th>\n",
       "    </tr>\n",
       "  </thead>\n",
       "  <tbody>\n",
       "    <tr>\n",
       "      <th>gpt-4o__12</th>\n",
       "      <td>1.0</td>\n",
       "      <td>1.0</td>\n",
       "      <td>1.0</td>\n",
       "      <td>1.0</td>\n",
       "    </tr>\n",
       "    <tr>\n",
       "      <th>claude-sonnet-4__12</th>\n",
       "      <td>1.0</td>\n",
       "      <td>1.0</td>\n",
       "      <td>1.0</td>\n",
       "      <td>1.0</td>\n",
       "    </tr>\n",
       "    <tr>\n",
       "      <th>gemini-2.5-flash__12</th>\n",
       "      <td>1.0</td>\n",
       "      <td>1.0</td>\n",
       "      <td>1.0</td>\n",
       "      <td>1.0</td>\n",
       "    </tr>\n",
       "    <tr>\n",
       "      <th>qwen3-235b-a22b__12</th>\n",
       "      <td>1.0</td>\n",
       "      <td>1.0</td>\n",
       "      <td>1.0</td>\n",
       "      <td>1.0</td>\n",
       "    </tr>\n",
       "    <tr>\n",
       "      <th>deepseek-chat-v3-0324__12</th>\n",
       "      <td>1.0</td>\n",
       "      <td>1.0</td>\n",
       "      <td>1.0</td>\n",
       "      <td>1.0</td>\n",
       "    </tr>\n",
       "    <tr>\n",
       "      <th>llama-4-maverick__12</th>\n",
       "      <td>1.0</td>\n",
       "      <td>1.0</td>\n",
       "      <td>1.0</td>\n",
       "      <td>1.0</td>\n",
       "    </tr>\n",
       "  </tbody>\n",
       "</table>\n",
       "</div>"
      ],
      "text/plain": [
       "                           оценка перевода (Иван)  \\\n",
       "gpt-4o__12                                    1.0   \n",
       "claude-sonnet-4__12                           1.0   \n",
       "gemini-2.5-flash__12                          1.0   \n",
       "qwen3-235b-a22b__12                           1.0   \n",
       "deepseek-chat-v3-0324__12                     1.0   \n",
       "llama-4-maverick__12                          1.0   \n",
       "\n",
       "                           оценка перевода (Екатерина)  \\\n",
       "gpt-4o__12                                         1.0   \n",
       "claude-sonnet-4__12                                1.0   \n",
       "gemini-2.5-flash__12                               1.0   \n",
       "qwen3-235b-a22b__12                                1.0   \n",
       "deepseek-chat-v3-0324__12                          1.0   \n",
       "llama-4-maverick__12                               1.0   \n",
       "\n",
       "                           оценка перевода (Артем)  overall_person  \n",
       "gpt-4o__12                                     1.0             1.0  \n",
       "claude-sonnet-4__12                            1.0             1.0  \n",
       "gemini-2.5-flash__12                           1.0             1.0  \n",
       "qwen3-235b-a22b__12                            1.0             1.0  \n",
       "deepseek-chat-v3-0324__12                      1.0             1.0  \n",
       "llama-4-maverick__12                           1.0             1.0  "
      ]
     },
     "execution_count": 107,
     "metadata": {},
     "output_type": "execute_result"
    }
   ],
   "source": [
    "df1"
   ]
  },
  {
   "cell_type": "code",
   "execution_count": 114,
   "id": "008ddcd7",
   "metadata": {},
   "outputs": [],
   "source": [
    "combined_df = pd.concat([df, df1])"
   ]
  },
  {
   "cell_type": "code",
   "execution_count": 115,
   "id": "a98837df",
   "metadata": {},
   "outputs": [
    {
     "data": {
      "text/html": [
       "<div>\n",
       "<style scoped>\n",
       "    .dataframe tbody tr th:only-of-type {\n",
       "        vertical-align: middle;\n",
       "    }\n",
       "\n",
       "    .dataframe tbody tr th {\n",
       "        vertical-align: top;\n",
       "    }\n",
       "\n",
       "    .dataframe thead th {\n",
       "        text-align: right;\n",
       "    }\n",
       "</style>\n",
       "<table border=\"1\" class=\"dataframe\">\n",
       "  <thead>\n",
       "    <tr style=\"text-align: right;\">\n",
       "      <th></th>\n",
       "      <th>оценка перевода (Иван)</th>\n",
       "      <th>оценка перевода (Екатерина)</th>\n",
       "      <th>оценка перевода (Артем)</th>\n",
       "      <th>overall_person</th>\n",
       "    </tr>\n",
       "  </thead>\n",
       "  <tbody>\n",
       "    <tr>\n",
       "      <th>gpt-4o__15</th>\n",
       "      <td>1.000000</td>\n",
       "      <td>0.175658</td>\n",
       "      <td>0.001253</td>\n",
       "      <td>0.999996</td>\n",
       "    </tr>\n",
       "    <tr>\n",
       "      <th>claude-sonnet-4__15</th>\n",
       "      <td>1.000000</td>\n",
       "      <td>0.387769</td>\n",
       "      <td>0.005886</td>\n",
       "      <td>1.000000</td>\n",
       "    </tr>\n",
       "    <tr>\n",
       "      <th>gemini-2.5-flash__15</th>\n",
       "      <td>0.999996</td>\n",
       "      <td>0.118529</td>\n",
       "      <td>0.000040</td>\n",
       "      <td>0.999956</td>\n",
       "    </tr>\n",
       "    <tr>\n",
       "      <th>qwen3-235b-a22b__15</th>\n",
       "      <td>0.999993</td>\n",
       "      <td>0.160640</td>\n",
       "      <td>0.000288</td>\n",
       "      <td>0.999976</td>\n",
       "    </tr>\n",
       "    <tr>\n",
       "      <th>deepseek-chat-v3-0324__15</th>\n",
       "      <td>0.999997</td>\n",
       "      <td>0.101087</td>\n",
       "      <td>0.000426</td>\n",
       "      <td>0.999987</td>\n",
       "    </tr>\n",
       "    <tr>\n",
       "      <th>llama-4-maverick__15</th>\n",
       "      <td>1.000000</td>\n",
       "      <td>0.214498</td>\n",
       "      <td>0.000771</td>\n",
       "      <td>0.999997</td>\n",
       "    </tr>\n",
       "    <tr>\n",
       "      <th>gpt-4o__12</th>\n",
       "      <td>1.000000</td>\n",
       "      <td>1.000000</td>\n",
       "      <td>1.000000</td>\n",
       "      <td>1.000000</td>\n",
       "    </tr>\n",
       "    <tr>\n",
       "      <th>claude-sonnet-4__12</th>\n",
       "      <td>1.000000</td>\n",
       "      <td>1.000000</td>\n",
       "      <td>1.000000</td>\n",
       "      <td>1.000000</td>\n",
       "    </tr>\n",
       "    <tr>\n",
       "      <th>gemini-2.5-flash__12</th>\n",
       "      <td>1.000000</td>\n",
       "      <td>1.000000</td>\n",
       "      <td>1.000000</td>\n",
       "      <td>1.000000</td>\n",
       "    </tr>\n",
       "    <tr>\n",
       "      <th>qwen3-235b-a22b__12</th>\n",
       "      <td>1.000000</td>\n",
       "      <td>1.000000</td>\n",
       "      <td>1.000000</td>\n",
       "      <td>1.000000</td>\n",
       "    </tr>\n",
       "    <tr>\n",
       "      <th>deepseek-chat-v3-0324__12</th>\n",
       "      <td>1.000000</td>\n",
       "      <td>1.000000</td>\n",
       "      <td>1.000000</td>\n",
       "      <td>1.000000</td>\n",
       "    </tr>\n",
       "    <tr>\n",
       "      <th>llama-4-maverick__12</th>\n",
       "      <td>1.000000</td>\n",
       "      <td>1.000000</td>\n",
       "      <td>1.000000</td>\n",
       "      <td>1.000000</td>\n",
       "    </tr>\n",
       "  </tbody>\n",
       "</table>\n",
       "</div>"
      ],
      "text/plain": [
       "                           оценка перевода (Иван)  \\\n",
       "gpt-4o__15                               1.000000   \n",
       "claude-sonnet-4__15                      1.000000   \n",
       "gemini-2.5-flash__15                     0.999996   \n",
       "qwen3-235b-a22b__15                      0.999993   \n",
       "deepseek-chat-v3-0324__15                0.999997   \n",
       "llama-4-maverick__15                     1.000000   \n",
       "gpt-4o__12                               1.000000   \n",
       "claude-sonnet-4__12                      1.000000   \n",
       "gemini-2.5-flash__12                     1.000000   \n",
       "qwen3-235b-a22b__12                      1.000000   \n",
       "deepseek-chat-v3-0324__12                1.000000   \n",
       "llama-4-maverick__12                     1.000000   \n",
       "\n",
       "                           оценка перевода (Екатерина)  \\\n",
       "gpt-4o__15                                    0.175658   \n",
       "claude-sonnet-4__15                           0.387769   \n",
       "gemini-2.5-flash__15                          0.118529   \n",
       "qwen3-235b-a22b__15                           0.160640   \n",
       "deepseek-chat-v3-0324__15                     0.101087   \n",
       "llama-4-maverick__15                          0.214498   \n",
       "gpt-4o__12                                    1.000000   \n",
       "claude-sonnet-4__12                           1.000000   \n",
       "gemini-2.5-flash__12                          1.000000   \n",
       "qwen3-235b-a22b__12                           1.000000   \n",
       "deepseek-chat-v3-0324__12                     1.000000   \n",
       "llama-4-maverick__12                          1.000000   \n",
       "\n",
       "                           оценка перевода (Артем)  overall_person  \n",
       "gpt-4o__15                                0.001253        0.999996  \n",
       "claude-sonnet-4__15                       0.005886        1.000000  \n",
       "gemini-2.5-flash__15                      0.000040        0.999956  \n",
       "qwen3-235b-a22b__15                       0.000288        0.999976  \n",
       "deepseek-chat-v3-0324__15                 0.000426        0.999987  \n",
       "llama-4-maverick__15                      0.000771        0.999997  \n",
       "gpt-4o__12                                1.000000        1.000000  \n",
       "claude-sonnet-4__12                       1.000000        1.000000  \n",
       "gemini-2.5-flash__12                      1.000000        1.000000  \n",
       "qwen3-235b-a22b__12                       1.000000        1.000000  \n",
       "deepseek-chat-v3-0324__12                 1.000000        1.000000  \n",
       "llama-4-maverick__12                      1.000000        1.000000  "
      ]
     },
     "execution_count": 115,
     "metadata": {},
     "output_type": "execute_result"
    }
   ],
   "source": [
    "combined_df"
   ]
  },
  {
   "cell_type": "code",
   "execution_count": null,
   "id": "5fc14b62",
   "metadata": {},
   "outputs": [],
   "source": []
  }
 ],
 "metadata": {
  "kernelspec": {
   "display_name": "empathy-dataset-transfer-U0sX-K_5-py3.12",
   "language": "python",
   "name": "python3"
  },
  "language_info": {
   "codemirror_mode": {
    "name": "ipython",
    "version": 3
   },
   "file_extension": ".py",
   "mimetype": "text/x-python",
   "name": "python",
   "nbconvert_exporter": "python",
   "pygments_lexer": "ipython3",
   "version": "3.12.7"
  }
 },
 "nbformat": 4,
 "nbformat_minor": 5
}
