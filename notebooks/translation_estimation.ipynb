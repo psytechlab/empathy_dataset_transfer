{
 "cells": [
  {
   "cell_type": "code",
   "execution_count": 12,
   "metadata": {},
   "outputs": [],
   "source": [
    "import json\n",
    "from collections import defaultdict\n",
    "from pathlib import Path\n",
    "\n",
    "import numpy as np\n",
    "from sentence_transformers import SentenceTransformer"
   ]
  },
  {
   "cell_type": "code",
   "execution_count": 7,
   "metadata": {},
   "outputs": [],
   "source": [
    "path_to_result = \"int_path_gpt-4o_general-translation.json\""
   ]
  },
  {
   "cell_type": "code",
   "execution_count": 8,
   "metadata": {},
   "outputs": [],
   "source": [
    "model = SentenceTransformer('sentence-transformers/LaBSE')"
   ]
  },
  {
   "cell_type": "code",
   "execution_count": 9,
   "metadata": {},
   "outputs": [],
   "source": [
    "translation_result = json.load(Path(path_to_result).open())"
   ]
  },
  {
   "cell_type": "code",
   "execution_count": 23,
   "metadata": {},
   "outputs": [
    {
     "name": "stdout",
     "output_type": "stream",
     "text": [
      "Text in Russian: Это довольно расплывчато, вы не знаете, что делать в отношении конкретной части вашей жизни? Как школа или работа?\n",
      "Text in English: That's pretty vague, do you not know what you're doing in regards to a specific section of your life? Like school or work?\n",
      "L1-norm: 9.804048538208008\n",
      "\n",
      "\n",
      "Text in Russian: Я точно не знаю, что означает Красная таблетка, но мой совет тебе: если она с тобой хорошо обращается, тогда черт с ней, ведь в мире миллиарды других девушек, и если ты чувствуешь, что влюбился в нее и просто брось ее, тогда постарайся не беспокоиться, и ты должен принять тот факт, что некоторые девушки (как и некоторые парни) будут годами лгать прямо в лицо без всякого сожаления. Мой совет - перестать заботиться, пока не стало слишком поздно.\n",
      "Text in English: idk what a Red pill means exactly but my advice to you is if she treating you right then fuck her there are billions of other girls out there, and if u feel like in love with her and just leave her then try to not care and you have to accept the fact that some girls(as well as some guys) will lie straight to your face for years without any remorse. my advice is stop caring before too late.\n",
      "L1-norm: 11.420076370239258\n",
      "\n",
      "\n",
      "Text in Russian: Я думаю, это социальная тревожность, которая создает параноидальные чувства, если только я не ошибаюсь, но именно так я себя чувствую\n",
      "Text in English: I think it's social anxiety , that creates paranoid feelings , unless I'm wrong but that's how I feel\n",
      "L1-norm: 11.557292938232422\n",
      "\n",
      "\n",
      "Text in Russian: Как думаешь, возможно, ты застрял в цикле? Нездоровая еда может сделать тебя депрессивным. И депрессия, вероятно, заставляет тебя есть больше вредной еды? Некоторое время это была и моя проблема. Даже если это просто случайно, я, вероятно, съем много и потом почувствую себя плохо. Только чтобы потом снова побаловать себя в попытке поднять себе настроение.\n",
      "Text in English: By any chance do you think you're in a loop. Junk food can make you depressed. And being depressed probably makes you eat more junk food? For a while that was my problem too. Even if its just random, ill probably binge and feel bad later. Only to indulge in more later to try to cheer up.\n",
      "L1-norm: 10.497884750366211\n",
      "\n",
      "\n",
      "Text in Russian: депрессия. не грусть, которая вызвана чем-то и является здоровой. Депрессия это серьезное психическое расстройство, которое часто остается невыявленным. Лучшее, что вы можете сделать при депрессии, это, прежде всего, не скрывать ее, рассказать близким, чтобы они могли помочь вам. также найдите терапевта, это очень полезно, и он поможет вам справиться с депрессией и преодолеть ее. Если вам совсем плохо, вы можете обратиться к врачу и узнать, подходит ли вам медикаментозное лечение. Я принимаю антидепрессанты, и моя депрессия прошла, это не изменяет вас так, как я думал изначально, оно просто делает меня таким же, но не грустным все время.\n",
      "Text in English: depression. not sadness which is caused by something and is healthy. Depression is an actual mental disorder which commonly goes untreated. The best things you can do for depression is first of all, not hiding it, tell your loved ones so they can help you. also get a therapist, very helpful and help you cope with depression and get over it. If you think really bad you can see a doctor and see if medication is a good idea. I take antidepressants and my depression is gone, it change you like I originally thought it would, it just makes me the same but not sad all the time.\n",
      "L1-norm: 8.145974159240723\n",
      "\n",
      "\n",
      "Text in Russian: Вот почему я повторяю 11-й класс. Это отстой.\n",
      "Text in English: That's why I'm repeating 11th grade. It sucks.\n",
      "L1-norm: 8.384267807006836\n",
      "\n",
      "\n",
      "Text in Russian: Спросите у школьного консультанта, какие ресурсы они могут вам предоставить. Просто зайдите в офис, попросите консультанта и узнайте, что у них есть.\n",
      "Text in English: Ask your school counselor what resources they can give you. Just go into the office, ask for the counselor, and see what they've got.\n",
      "L1-norm: 9.361780166625977\n",
      "\n",
      "\n",
      "Text in Russian: Это действительно так плохо? Возможно, это было умным решением, потому что вам нужно было это время для восстановления. Вы добры к себе, когда это необходимо, и это важно. Надеюсь, вы скоро почувствуете себя лучше.\n",
      "Text in English: Is that really so bad? Maybe it was the smart decision because you needed that time to read recover. You're being kind to yourself when you need it and that's important. Hope you feel better soon.\n",
      "L1-norm: 11.562583923339844\n",
      "\n",
      "\n",
      "Text in Russian: Почему ты не можешь устроиться на работу адвокатом?\n",
      "Text in English: Why can't you get a job as a lawyer?\n",
      "L1-norm: 9.2157564163208\n",
      "\n",
      "\n",
      "Text in Russian: Я не хочу, чтобы ты прыгал. Я не хочу, чтобы ты умирал, ни в первом, ни во втором случае. Я точно не знаю, через что ты проходишь, но судя по всему, я бы посоветовал сосредоточиться на тех частях твоей жизни, которые тебе нравятся.\n",
      "Text in English: I don't want you to jump. I don't want you to die, in either one. I don't know exactly what you're going through but from the sounds of it, I'd suggest focusing on the parts in your life that you enjoy.\n",
      "L1-norm: 11.366008758544922\n",
      "\n",
      "\n",
      "Text in Russian: Это не редкость. Биполярное расстройство может быть очень трудно диагностировать. Мы склонны думать о нем как о постоянном колебании между высоким и низким, но на самом деле вы можете быть внизу все время и все равно быть биполярным, если у вас был один подъем в какой-то момент. То, что вы делаете, это продвигаетесь вперед с новым диагнозом и работаете над лечением и навыками преодоления. СДВГ и депрессия, как правило, легче управляемы в долгосрочной перспективе, чем биполярное расстройство, так что это плюс.\n",
      "Text in English: It's not uncommon. Bipolar can be very difficult to diagnose. We tend to think of it as a constant swinging between high and low but really you can be low all the time and still be bipolar if you had one high at some point. What you do is move forward with your new diagnosis and work on treatment and coping skills. ADHD and depression are generally easier to manage long term than bipolar disorder, so that's a plus.\n",
      "L1-norm: 9.636717796325684\n",
      "\n",
      "\n",
      "Text in Russian: Ожидать, что люди перестанут быть в депрессии, как выключить свет, - это крайне глупо.\n",
      "Text in English: Expecting people to stop being depressed like turning off a light is extremely stupid.\n",
      "L1-norm: 11.684161186218262\n",
      "\n",
      "\n",
      "Text in Russian: жаль это слышать, но я был в подобной ситуации после того, как взял перерыв в учебе. Мой лучший совет - брать минимальное количество занятий, чтобы слишком не перегрузиться. Для меня важно планировать задания заранее, чтобы делать всё поочередно и не давать всему накапливаться, потому что тогда я хочу умереть. Также, если нужен перерыв, возьми его. Учеба всегда будет, но о себе важно заботиться тоже :)\n",
      "Text in English: sorry to hear that, but been in a similar situation after taking some time off of school. My best advice is to take the minimum amount of classes possible so you get too overwhelmed. For me essential to plan my assignments in advance, so that I can just do things one by one and not let it all get piled up cuz then I wanna die. Also, if you need a break, take one. School will always be there but good to take care of yourself too :)\n",
      "L1-norm: 9.590424537658691\n",
      "\n",
      "\n",
      "Text in Russian: Общие ответы, слышанные на протяжении лет, обычно звучат примерно так: упражнения, солнечный свет, разговоры, терапия, поглаживание животных, здоровое питание, медитация и ежедневное написание одной вещи, за которую благодарен. Я говорю искренне, что ни одно из этих не работало для меня, но помогло другим. Занятость хобби в те дни, когда в состоянии функционировать, может помочь. Это немного помогает мне.\n",
      "Text in English: The generic answers heard over the years tend to go something like the following; exercise, sunlight, talking, therapy, stroking animals, eating healthily, meditation and writing one thing thankful for daily. I say with sincerity that any of those have worked for me but helped others. Keeping busy with hobbies on the days able to function might help. It does slightly for me.\n",
      "L1-norm: 8.764416694641113\n",
      "\n",
      "\n",
      "Text in Russian: Эй, просто подожди. Я знаю, что ты чувствуешь. Иногда я думаю, что я привлекательный, а иногда я не могу даже смотреть на себя, потому что я так отвратителен. Я понял, что это просто испорченная игра разума, в которую я играю с собой. Я сомневаюсь, что ты действительно такой уродливый, ты, вероятно, довольно милый, если честно, но если ты что-то вроде меня, ты обманул себя, думая, что ты уродливый. Если ты хочешь, чтобы люди хотели быть рядом с тобой, ты должен делать несколько базовых вещей, таких как душ, надевать настоящую одежду, улыбаться, немного тренироваться и притворяться, что у тебя есть уверенность. Это на самом деле глупо, но эти вещи могут быть трудно сделать, особенно если ты борешься с низкой уверенностью и депрессией. Но если ты заботишься о себе, не слишком трудно найти людей. И просто подожди, пока не найдешь кого-то, чтобы поцеловать в Новый год, потому что это чувство стоит ожидания. Я знаю, что это все немного банально, но если ты когда-нибудь захочешь поговорить о чем-нибудь, я буду более чем счастлив :)\n",
      "Text in English: Hey, just wait it out. I know what you feel. Sometimes I think I'm attractive, and sometimes I can't even look at myself I'm so disgusted. I've come to realize it's all just a fucked up mind game I play with myself. I doubt you're actually that ugly, you're probably kinda cute honestly, but if you're anything like me, you've tricked yourself into thinking you're ugly. If you want people to want to be around you, you have to do some basic things like showering, putting on actual clothes, smiling, excercising a little and pretending you have confidence. It's honestly dumb, but these things can be hard to do, especially if you struggle with low confidence and depression. But if you take care of yourself, it's not too hard to find people. And just you wait until you find a person to kiss on New Years, because the feeling is worth the wait. I know this is all a bit corny, but if you ever wanna talk about anything I'd be more than happy to :)\n",
      "L1-norm: 11.402932167053223\n",
      "\n",
      "\n",
      "Text in Russian: Никакое количество 'ты не одинок' от случайных людей из интернета, которые не свяжутся с вами позже, не поможет. Моя местная система психического здоровья — абсолютная насмешка и часто делала меня более суицидальным. Так что я тоже одинок, когда в кризисе.\n",
      "Text in English: No amount of 'you are not alone's from internet randos who won't reach out to you after will help. My local mental health system is an absolute joke and often made me more suicidal. So I also am alone when in crisis.\n",
      "L1-norm: 11.671565055847168\n",
      "\n",
      "\n",
      "Text in Russian: по крайней мере, у тебя есть люди, которые пытаются утешить тебя. У меня даже этого нет. Опять же, есть люди, у которых все намного хуже\n",
      "Text in English: at least you got people trying to comfort you. I even dont have that. Again there are people who got it Much worse\n",
      "L1-norm: 9.146520614624023\n",
      "\n",
      "\n",
      "Text in Russian: Нужна ли причина? Депрессия - это болезнь, и как любая другая болезнь, она не требует какой-то обоснованности, она просто *есть*\n",
      "Text in English: Does there need to be a reason? Depression is an illness, and like any other illness it doesn't need some form of justification, it just *is*\n",
      "L1-norm: 11.155582427978516\n",
      "\n",
      "\n",
      "Text in Russian: Ты хороший человек, Медиан. Надеюсь, ты знаешь это. Надеюсь, что у тебя есть люди вокруг, которые будут рассказывать твою историю веками, и что ты останешься героем в умах новых поколений. Но я предпочел бы, чтобы ты жил лично.\n",
      "Text in English: You're a good man, Median. I hope you know this. I hope that you have people around you that will tell your story for centuries, and that you live on as a hero in the minds of newer generations. But, I'd rather you live, personally.\n",
      "L1-norm: 9.386016845703125\n",
      "\n",
      "\n"
     ]
    }
   ],
   "source": [
    "result = []\n",
    "for item in translation_result:\n",
    "\tembedding_rus = model.encode(item['text_rus'])\n",
    "\tembedding_eng = model.encode(item['text'])\n",
    "\n",
    "\tl1_diff = np.sum(np.abs(embedding_rus - embedding_eng))\n",
    "\n",
    "\tresult.append({\"text_rus\": item['text_rus'], \"text_eng\": item['text'], \"l1_norm\": str(l1_diff)})\n",
    "\n",
    "\tprint(f\"Text in Russian: {item['text_rus']}\")\n",
    "\tprint(f\"Text in English: {item['text']}\")\n",
    "\tprint(f\"L1-norm: {l1_diff}\\n\\n\")"
   ]
  },
  {
   "cell_type": "code",
   "execution_count": 24,
   "metadata": {},
   "outputs": [],
   "source": [
    "json.dump(result, Path(\"labse_estimation.json\").open(\"w\"), indent=4, ensure_ascii=False)"
   ]
  },
  {
   "cell_type": "code",
   "execution_count": null,
   "metadata": {},
   "outputs": [],
   "source": []
  }
 ],
 "metadata": {
  "kernelspec": {
   "display_name": "Python 3",
   "language": "python",
   "name": "python3"
  },
  "language_info": {
   "codemirror_mode": {
    "name": "ipython",
    "version": 3
   },
   "file_extension": ".py",
   "mimetype": "text/x-python",
   "name": "python",
   "nbconvert_exporter": "python",
   "pygments_lexer": "ipython3",
   "version": "3.13.0"
  }
 },
 "nbformat": 4,
 "nbformat_minor": 2
}
