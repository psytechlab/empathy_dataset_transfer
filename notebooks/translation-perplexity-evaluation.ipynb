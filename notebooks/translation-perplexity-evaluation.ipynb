{
 "cells": [
  {
   "cell_type": "markdown",
   "id": "297a721d",
   "metadata": {},
   "source": [
    "# Тестирование перплексии, как отборщика плохих переводов\n",
    "https://github.com/psytechlab/empathy_dataset_transfer/issues/24"
   ]
  },
  {
   "cell_type": "code",
   "execution_count": null,
   "id": "5af69dc2-45c6-47d6-ad52-5e3feaeec469",
   "metadata": {
    "execution": {
     "iopub.execute_input": "2025-06-29T14:13:25.272487Z",
     "iopub.status.busy": "2025-06-29T14:13:25.272264Z",
     "iopub.status.idle": "2025-06-29T14:13:25.496388Z",
     "shell.execute_reply": "2025-06-29T14:13:25.495384Z",
     "shell.execute_reply.started": "2025-06-29T14:13:25.272469Z"
    },
    "trusted": true
   },
   "outputs": [],
   "source": [
    "!nvidia-smi"
   ]
  },
  {
   "cell_type": "code",
   "execution_count": 2,
   "id": "2cc4210d",
   "metadata": {
    "execution": {
     "iopub.execute_input": "2025-06-29T14:13:25.497732Z",
     "iopub.status.busy": "2025-06-29T14:13:25.497485Z",
     "iopub.status.idle": "2025-06-29T14:13:25.503182Z",
     "shell.execute_reply": "2025-06-29T14:13:25.502447Z",
     "shell.execute_reply.started": "2025-06-29T14:13:25.497705Z"
    },
    "trusted": true
   },
   "outputs": [],
   "source": [
    "import sys\n",
    "import os.path as osp\n",
    "import os\n",
    "\n",
    "current_dir = os.getcwd()\n",
    "\n",
    "parent_dir = os.path.abspath(os.path.join(current_dir, '..'))\n",
    "sys.path.append(parent_dir)\n",
    "sys.path.append(current_dir + '/notebooks')\n",
    "sys.path.append(current_dir)\n",
    "sys.path.append(current_dir + '/data')"
   ]
  },
  {
   "cell_type": "code",
   "execution_count": null,
   "id": "839587a6",
   "metadata": {
    "execution": {
     "iopub.execute_input": "2025-06-29T14:13:25.505578Z",
     "iopub.status.busy": "2025-06-29T14:13:25.505317Z",
     "iopub.status.idle": "2025-06-29T14:13:31.627142Z",
     "shell.execute_reply": "2025-06-29T14:13:31.626327Z",
     "shell.execute_reply.started": "2025-06-29T14:13:25.505561Z"
    },
    "trusted": true
   },
   "outputs": [],
   "source": [
    "!pip install transformers evaluate tqdm -q"
   ]
  },
  {
   "cell_type": "code",
   "execution_count": 4,
   "id": "c657b09a",
   "metadata": {
    "execution": {
     "iopub.execute_input": "2025-06-29T14:13:31.628969Z",
     "iopub.status.busy": "2025-06-29T14:13:31.628436Z",
     "iopub.status.idle": "2025-06-29T14:14:16.119956Z",
     "shell.execute_reply": "2025-06-29T14:14:16.119191Z",
     "shell.execute_reply.started": "2025-06-29T14:13:31.628913Z"
    },
    "trusted": true
   },
   "outputs": [
    {
     "name": "stderr",
     "output_type": "stream",
     "text": [
      "2025-06-29 14:13:51.950539: E external/local_xla/xla/stream_executor/cuda/cuda_fft.cc:477] Unable to register cuFFT factory: Attempting to register factory for plugin cuFFT when one has already been registered\n",
      "WARNING: All log messages before absl::InitializeLog() is called are written to STDERR\n",
      "E0000 00:00:1751206432.400509      35 cuda_dnn.cc:8310] Unable to register cuDNN factory: Attempting to register factory for plugin cuDNN when one has already been registered\n",
      "E0000 00:00:1751206432.526887      35 cuda_blas.cc:1418] Unable to register cuBLAS factory: Attempting to register factory for plugin cuBLAS when one has already been registered\n"
     ]
    }
   ],
   "source": [
    "import json\n",
    "from pathlib import Path\n",
    "import torch\n",
    "from evaluate import load\n",
    "from tqdm import tqdm\n",
    "import matplotlib.pyplot as plt"
   ]
  },
  {
   "cell_type": "code",
   "execution_count": 5,
   "id": "66a601c4",
   "metadata": {
    "execution": {
     "iopub.execute_input": "2025-06-29T14:14:16.121378Z",
     "iopub.status.busy": "2025-06-29T14:14:16.120868Z",
     "iopub.status.idle": "2025-06-29T14:14:16.125526Z",
     "shell.execute_reply": "2025-06-29T14:14:16.124997Z",
     "shell.execute_reply.started": "2025-06-29T14:14:16.121349Z"
    },
    "trusted": true
   },
   "outputs": [],
   "source": [
    "def read_json(path):\n",
    "    return json.load(Path(path).open())\n",
    "\n",
    "def save_json(obj, path):\n",
    "    json.dump(obj, Path(path).open(\"w\", encoding=\"utf-8\"), indent=4, ensure_ascii=False)\n",
    "\n",
    "def read_file(path: str):\n",
    "\treturn Path(path).open().read()"
   ]
  },
  {
   "cell_type": "code",
   "execution_count": 6,
   "id": "8c147657",
   "metadata": {
    "execution": {
     "iopub.execute_input": "2025-06-29T14:14:16.126618Z",
     "iopub.status.busy": "2025-06-29T14:14:16.126349Z",
     "iopub.status.idle": "2025-06-29T14:14:16.375545Z",
     "shell.execute_reply": "2025-06-29T14:14:16.374982Z",
     "shell.execute_reply.started": "2025-06-29T14:14:16.126597Z"
    },
    "trusted": true
   },
   "outputs": [],
   "source": [
    "data_to_check = read_json(\"/kaggle/input/esconv/esconv_translations_all_normalize.json\")"
   ]
  },
  {
   "cell_type": "code",
   "execution_count": 7,
   "id": "ec6c6811",
   "metadata": {
    "execution": {
     "iopub.execute_input": "2025-06-29T14:14:16.376398Z",
     "iopub.status.busy": "2025-06-29T14:14:16.376190Z",
     "iopub.status.idle": "2025-06-29T14:14:16.382301Z",
     "shell.execute_reply": "2025-06-29T14:14:16.381578Z",
     "shell.execute_reply.started": "2025-06-29T14:14:16.376382Z"
    },
    "trusted": true
   },
   "outputs": [
    {
     "data": {
      "text/plain": [
       "'cuda'"
      ]
     },
     "execution_count": 7,
     "metadata": {},
     "output_type": "execute_result"
    }
   ],
   "source": [
    "DEVICE = \"cuda\" if torch.cuda.is_available() else \"cpu\"\n",
    "MODEL_NAMES = {\n",
    "    # \"aeonium\": \"aeonium/Aeonium-v1-Base-1B\",\n",
    "    \"rugpt3small\": \"ai-forever/rugpt3small_based_on_gpt2\",\n",
    "    # \"rugpt3medium\": \"ai-forever/rugpt3medium_based_on_gpt2\",\n",
    "    # \"rugpt3large\": \"ai-forever/rugpt3large_based_on_gpt2\"\n",
    "}\n",
    "DEVICE"
   ]
  },
  {
   "cell_type": "code",
   "execution_count": 8,
   "id": "fdca8381",
   "metadata": {
    "execution": {
     "iopub.execute_input": "2025-06-29T14:14:16.383150Z",
     "iopub.status.busy": "2025-06-29T14:14:16.382901Z",
     "iopub.status.idle": "2025-06-29T14:14:16.401529Z",
     "shell.execute_reply": "2025-06-29T14:14:16.400778Z",
     "shell.execute_reply.started": "2025-06-29T14:14:16.383133Z"
    },
    "trusted": true
   },
   "outputs": [],
   "source": [
    "def process_data(data, model_id):\n",
    "    print(f\"\\nProcessing with {model_id}\")\n",
    "    perplexity = load(\"perplexity\", module_type=\"metric\")\n",
    "    \n",
    "    texts = [item[\"text_rus\"] for item in data]\n",
    "    ids = [item[\"id\"] for item in data]\n",
    "    original_texts = [item[\"text\"] for item in data]\n",
    "    \n",
    "    batch_size = 32 if DEVICE == \"cuda\" else 8\n",
    "    results = []\n",
    "    \n",
    "    for i in tqdm(range(0, len(texts), batch_size), desc=\"Calculating perplexity\"):\n",
    "        batch_texts = texts[i:i+batch_size]\n",
    "        try:\n",
    "            batch_results = perplexity.compute(\n",
    "                predictions=batch_texts,\n",
    "                model_id=model_id,\n",
    "                batch_size=batch_size,\n",
    "                device=DEVICE\n",
    "            )\n",
    "            \n",
    "            for j, ppl in enumerate(batch_results[\"perplexities\"]):\n",
    "                results.append({\n",
    "                    \"id\": ids[i+j],\n",
    "                    \"text\": original_texts[i+j],\n",
    "                    \"text_rus\": batch_texts[j],\n",
    "                    \"perplexity\": ppl\n",
    "                })\n",
    "        except Exception as e:\n",
    "            print(f\"Error processing batch {i//batch_size}: {str(e)}\")\n",
    "            for j in range(len(batch_texts)):\n",
    "                results.append({\n",
    "                    \"id\": ids[i+j],\n",
    "                    \"text\": original_texts[i+j],\n",
    "                    \"text_rus\": batch_texts[j],\n",
    "                    \"perplexity\": None\n",
    "                })\n",
    "    \n",
    "    return results"
   ]
  },
  {
   "cell_type": "code",
   "execution_count": null,
   "id": "9b784af0",
   "metadata": {
    "execution": {
     "iopub.execute_input": "2025-06-29T14:14:16.403675Z",
     "iopub.status.busy": "2025-06-29T14:14:16.403465Z",
     "iopub.status.idle": "2025-06-29T14:14:16.421511Z",
     "shell.execute_reply": "2025-06-29T14:14:16.420969Z",
     "shell.execute_reply.started": "2025-06-29T14:14:16.403659Z"
    },
    "trusted": true
   },
   "outputs": [],
   "source": [
    "def visualize_results(results, model_id):\n",
    "    perplexities = [item[\"perplexity\"] for item in results if item[\"perplexity\"] is not None]\n",
    "    \n",
    "    plt.figure(figsize=(10, 6))\n",
    "    plt.boxplot(perplexities)\n",
    "    plt.title(f\"Perplexity distribution ({model_id})\")\n",
    "    plt.ylabel(\"Perplexity\")\n",
    "    plt.savefig(f\"perplexity_boxplot_{model_id.replace('/', '_')}.png\")\n",
    "    plt.close()\n",
    "    \n",
    "    valid_results = [item for item in results if item[\"perplexity\"] is not None]\n",
    "    sorted_results = sorted(valid_results, key=lambda x: x[\"perplexity\"])\n",
    "    \n",
    "    top_low = sorted_results[:50]\n",
    "    top_high = sorted_results[-50:][::-1]\n",
    "    \n",
    "    model_name = model_id.replace('/', '_')\n",
    "    with open(f\"top_low_perplexity_{model_name}.txt\", \"w\", encoding=\"utf-8\") as f:\n",
    "        for item in top_low:\n",
    "            f.write(f\"ID: {item['id']}\\n\")\n",
    "            f.write(f\"Perplexity: {item['perplexity']:.2f}\\n\")\n",
    "            f.write(f\"Original: {item['text']}\\n\")\n",
    "            f.write(f\"Translation: {item['text_rus']}\\n\")\n",
    "            f.write(\"\\n\" + \"=\"*80 + \"\\n\")\n",
    "    \n",
    "    with open(f\"top_high_perplexity_{model_name}.txt\", \"w\", encoding=\"utf-8\") as f:\n",
    "        for item in top_high:\n",
    "            f.write(f\"ID: {item['id']}\\n\")\n",
    "            f.write(f\"Perplexity: {item['perplexity']:.2f}\\n\")\n",
    "            f.write(f\"Original: {item['text']}\\n\")\n",
    "            f.write(f\"Translation: {item['text_rus']}\\n\")\n",
    "            f.write(\"\\n\" + \"=\"*80 + \"\\n\")"
   ]
  },
  {
   "cell_type": "code",
   "execution_count": null,
   "id": "841c79bc",
   "metadata": {
    "trusted": true
   },
   "outputs": [],
   "source": [
    "for model_name in MODEL_NAMES:\n",
    "    model_id = MODEL_NAMES[model_name]\n",
    "    results = process_data(data_to_check, model_id)\n",
    "    \n",
    "    with open(f\"full_results_{model_name}.json\", \"w\", encoding=\"utf-8\") as f:\n",
    "        json.dump(results, f, ensure_ascii=False, indent=2)\n",
    "    \n",
    "    visualize_results(results, model_id)"
   ]
  },
  {
   "cell_type": "code",
   "execution_count": 11,
   "id": "bc442dda-d296-469f-8fbd-827ec947a8cf",
   "metadata": {
    "execution": {
     "iopub.execute_input": "2025-06-29T15:11:14.301418Z",
     "iopub.status.busy": "2025-06-29T15:11:14.300913Z",
     "iopub.status.idle": "2025-06-29T15:11:14.318566Z",
     "shell.execute_reply": "2025-06-29T15:11:14.317821Z",
     "shell.execute_reply.started": "2025-06-29T15:11:14.301396Z"
    },
    "trusted": true
   },
   "outputs": [],
   "source": [
    "perplexities = [item[\"perplexity\"] for item in results if item[\"perplexity\"] is not None]"
   ]
  },
  {
   "cell_type": "code",
   "execution_count": null,
   "id": "df9bc8d2",
   "metadata": {
    "execution": {
     "iopub.execute_input": "2025-06-29T15:11:16.668337Z",
     "iopub.status.busy": "2025-06-29T15:11:16.668063Z",
     "iopub.status.idle": "2025-06-29T15:11:16.698002Z",
     "shell.execute_reply": "2025-06-29T15:11:16.697119Z",
     "shell.execute_reply.started": "2025-06-29T15:11:16.668317Z"
    },
    "trusted": true
   },
   "outputs": [],
   "source": [
    "import numpy as np\n",
    "from scipy import stats\n",
    "\n",
    "mean_perp = np.mean(perplexities)\n",
    "median_perp = np.median(perplexities)\n",
    "std_perp = np.std(perplexities)\n",
    "min_perp = np.min(perplexities)\n",
    "max_perp = np.max(perplexities)\n",
    "percentile_25 = np.percentile(perplexities, 25)\n",
    "percentile_75 = np.percentile(perplexities, 75)\n",
    "\n",
    "print(f\"Mean perplexity: {mean_perp:.2f}\")\n",
    "print(f\"Median: {median_perp:.2f}\")\n",
    "print(f\"STD perplexity: {std_perp:.2f}\")\n",
    "print(f\"Min: {min_perp:.2f}, Максимум: {max_perp:.2f}\")\n",
    "print(f\"25%: {percentile_25:.2f}, 75-й процентиль: {percentile_75:.2f}\")"
   ]
  },
  {
   "cell_type": "code",
   "execution_count": null,
   "id": "4a71027f-bd2d-4361-9100-548bfab07e28",
   "metadata": {
    "execution": {
     "iopub.execute_input": "2025-06-29T15:11:30.173290Z",
     "iopub.status.busy": "2025-06-29T15:11:30.173029Z",
     "iopub.status.idle": "2025-06-29T15:11:31.340644Z",
     "shell.execute_reply": "2025-06-29T15:11:31.339998Z",
     "shell.execute_reply.started": "2025-06-29T15:11:30.173272Z"
    },
    "trusted": true
   },
   "outputs": [],
   "source": [
    "import matplotlib.pyplot as plt\n",
    "import seaborn as sns\n",
    "\n",
    "plt.figure(figsize=(8, 5))\n",
    "sns.histplot(perplexities, bins=20, kde=True)\n",
    "plt.title(\"Perplexities distribution\")\n",
    "plt.xlabel(\"Perplexity\")\n",
    "plt.ylabel(\"Frequency\")\n",
    "plt.show()\n",
    "\n",
    "plt.figure(figsize=(6, 4))\n",
    "sns.boxplot(perplexities)\n",
    "plt.title(\"Boxplot\")\n",
    "plt.show()"
   ]
  },
  {
   "cell_type": "code",
   "execution_count": null,
   "id": "66f2cf9b-37ba-4909-8355-4305ef2bc577",
   "metadata": {
    "trusted": true
   },
   "outputs": [],
   "source": []
  }
 ],
 "metadata": {
  "kaggle": {
   "accelerator": "nvidiaTeslaT4",
   "dataSources": [
    {
     "datasetId": 7737048,
     "sourceId": 12320090,
     "sourceType": "datasetVersion"
    }
   ],
   "dockerImageVersionId": 31041,
   "isGpuEnabled": true,
   "isInternetEnabled": true,
   "language": "python",
   "sourceType": "notebook"
  },
  "kernelspec": {
   "display_name": "Python 3",
   "language": "python",
   "name": "python3"
  },
  "language_info": {
   "codemirror_mode": {
    "name": "ipython",
    "version": 3
   },
   "file_extension": ".py",
   "mimetype": "text/x-python",
   "name": "python",
   "nbconvert_exporter": "python",
   "pygments_lexer": "ipython3",
   "version": "3.11.11"
  }
 },
 "nbformat": 4,
 "nbformat_minor": 5
}
