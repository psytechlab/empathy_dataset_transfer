{
 "cells": [
  {
   "cell_type": "code",
   "execution_count": 1,
   "metadata": {},
   "outputs": [],
   "source": [
    "import json\n",
    "import re\n",
    "from dataclasses import dataclass, field\n",
    "from datetime import datetime\n",
    "from pathlib import Path\n",
    "\n",
    "import pandas as pd\n",
    "from datasets import Dataset\n",
    "from omegaconf import OmegaConf\n",
    "\n",
    "from src.core.translate import Translator\n",
    "from src.utils.schemas import (GeneralTranslationResultSchema,\n",
    "                               RationaleTranslationResultSchema)\n",
    "from collections import defaultdict\n",
    "from copy import copy"
   ]
  },
  {
   "cell_type": "code",
   "execution_count": 2,
   "metadata": {},
   "outputs": [],
   "source": [
    "regex_check_enhlsih = re.compile(r'\\b[a-zA-Z]{2,}\\b')"
   ]
  },
  {
   "cell_type": "code",
   "execution_count": 3,
   "metadata": {},
   "outputs": [],
   "source": [
    "def contains_english(text: str) -> bool:\n",
    "\t\"\"\"\n",
    "\tChecks if the given text contains English words.\n",
    "\n",
    "\tArgs:\n",
    "\t\ttext (str): Text to check.\n",
    "\n",
    "\tReturns:\n",
    "\t\tbool:\t\tTrue if English words are found, False otherwise.\n",
    "\t\"\"\"\n",
    "\treturn bool(re.search(regex_check_enhlsih, text))\n",
    "\n",
    "def read_file(path: str):\n",
    "\treturn Path(path).open().read()\n",
    "\t\n",
    "def read_json(path: str):\n",
    "\treturn json.load(Path(path).open())"
   ]
  },
  {
   "cell_type": "code",
   "execution_count": 4,
   "metadata": {},
   "outputs": [],
   "source": [
    "config = OmegaConf.load('configs/conf.yaml')\n",
    "general_translation_config = config.general_translation\n",
    "general_translation_correction_config = config.general_translation_correction\n",
    "rationales_translation_config = config.rationales_translation\n",
    "rationales_translation_correction_config = config.rationales_translation_correction"
   ]
  },
  {
   "cell_type": "code",
   "execution_count": 5,
   "metadata": {},
   "outputs": [
    {
     "name": "stdout",
     "output_type": "stream",
     "text": [
      "{'model_uri': 'gpt://b1gjag92sd76ed87o4h8/yandexgpt-lite', 'api_key': 'AQVNxEuHAQ777bIGDAXgumFxuRBtnB0A__JeWWJJ', 'url': 'https://llm.api.cloud.yandex.net/foundationModels/v1/completion'}\n"
     ]
    }
   ],
   "source": [
    "print(read_json(general_translation_config.model_config_path))"
   ]
  },
  {
   "cell_type": "code",
   "execution_count": 6,
   "metadata": {},
   "outputs": [],
   "source": [
    "general_translator = Translator(\n",
    "    system_message=read_file(general_translation_config.prompt_path), \n",
    "    model_config=read_json(general_translation_config.model_config_path), \n",
    "    example_data=read_json(general_translation_config.filepath_examples), \n",
    "    batch_size=general_translation_config.batch_size,\n",
    "    batch_result_dir=general_translation_config.batch_result_dir,\n",
    "    batch_dir=general_translation_config.batches,\n",
    "    model_type=\"yandex_gpt\"\n",
    ")\n",
    "\n",
    "general_translator_corrector = Translator(\n",
    "    system_message=read_file(general_translation_correction_config.prompt_path), \n",
    "    model_config=read_json(general_translation_correction_config.model_config_path), \n",
    "    example_data=read_json(general_translation_correction_config.filepath_examples), \n",
    "    batch_size=general_translation_correction_config.batch_size,\n",
    "    batch_result_dir=general_translation_correction_config.batch_result_dir,\n",
    "    batch_dir=general_translation_correction_config.batches,\n",
    "    model_type=\"yandex_gpt\"\n",
    ")\n",
    "\n",
    "rational_translator = Translator(\n",
    "    system_message=read_file(rationales_translation_config.prompt_path), \n",
    "    model_config=read_json(rationales_translation_config.model_config_path), \n",
    "    example_data=read_json(rationales_translation_config.filepath_examples), \n",
    "    batch_size=rationales_translation_config.batch_size,\n",
    "    batch_result_dir=rationales_translation_config.batch_result_dir,\n",
    "    batch_dir=rationales_translation_config.batches,\n",
    "    model_type=\"yandex_gpt\"\n",
    ")\n",
    "\n",
    "rational_translator_corrector = Translator(\n",
    "    system_message=read_file(rationales_translation_correction_config.prompt_path), \n",
    "    model_config=read_json(rationales_translation_correction_config.model_config_path), \n",
    "    example_data=read_json(rationales_translation_correction_config.filepath_examples), \n",
    "    batch_size=rationales_translation_correction_config.batch_size,\n",
    "    batch_result_dir=rationales_translation_correction_config.batch_result_dir,\n",
    "    batch_dir=rationales_translation_correction_config.batches,\n",
    "    model_type=\"yandex_gpt\"\n",
    ")\n",
    "\n",
    "general_translation_int_path = f\"int_path_general_translator_{datetime.now()}.json\"\n",
    "rational_translation_int_path = f\"int_path_rational_translator_{datetime.now()}.json\""
   ]
  },
  {
   "cell_type": "markdown",
   "metadata": {},
   "source": [
    "## Translating"
   ]
  },
  {
   "cell_type": "code",
   "execution_count": 7,
   "metadata": {},
   "outputs": [],
   "source": [
    "all_translations = []"
   ]
  },
  {
   "cell_type": "code",
   "execution_count": 8,
   "metadata": {},
   "outputs": [],
   "source": [
    "general_data = json.load(Path(\"all_data.json\").open())[:5]"
   ]
  },
  {
   "cell_type": "code",
   "execution_count": 9,
   "metadata": {},
   "outputs": [],
   "source": [
    "def index(a_list, value):\n",
    "    try:\n",
    "        return a_list.index(value)\n",
    "    except ValueError:\n",
    "        return -1"
   ]
  },
  {
   "cell_type": "code",
   "execution_count": 10,
   "metadata": {},
   "outputs": [],
   "source": [
    "incorrect_translations = defaultdict()"
   ]
  },
  {
   "cell_type": "code",
   "execution_count": 11,
   "metadata": {},
   "outputs": [
    {
     "name": "stdout",
     "output_type": "stream",
     "text": [
      "{'id': '65m92s_dgbdk7z', 'text': \"Help. Help me. I dunno what I'm doing anymore\"}\n"
     ]
    },
    {
     "name": "stderr",
     "output_type": "stream",
     "text": [
      "Creating json from Arrow format: 100%|██████████| 1/1 [00:00<00:00, 372.83ba/s]\n",
      "Creating json from Arrow format: 100%|██████████| 1/1 [00:00<00:00, 1064.81ba/s]\n",
      "Creating json from Arrow format: 100%|██████████| 1/1 [00:00<00:00, 1067.25ba/s]"
     ]
    },
    {
     "name": "stdout",
     "output_type": "stream",
     "text": [
      "Processing batch 1/3...\n"
     ]
    },
    {
     "name": "stderr",
     "output_type": "stream",
     "text": [
      "\n",
      "Creating json from Arrow format: 100%|██████████| 1/1 [00:00<00:00, 557.16ba/s]\n"
     ]
    },
    {
     "name": "stdout",
     "output_type": "stream",
     "text": [
      "Processing batch 2/3...\n"
     ]
    },
    {
     "name": "stderr",
     "output_type": "stream",
     "text": [
      "Creating json from Arrow format: 100%|██████████| 1/1 [00:00<00:00, 551.88ba/s]\n"
     ]
    },
    {
     "name": "stdout",
     "output_type": "stream",
     "text": [
      "Processing batch 3/3...\n"
     ]
    },
    {
     "name": "stderr",
     "output_type": "stream",
     "text": [
      "Creating json from Arrow format: 100%|██████████| 1/1 [00:00<00:00, 325.01ba/s]\n"
     ]
    },
    {
     "name": "stdout",
     "output_type": "stream",
     "text": [
      "Texts containing English:  Dataset({\n",
      "    features: [],\n",
      "    num_rows: 0\n",
      "})\n",
      "{'id': '65m92s_dgbdk7z', 'text': \"That's pretty vague, do you not know what you're doing in regards to a specific section of your life? Like school or work?\"}\n"
     ]
    },
    {
     "name": "stderr",
     "output_type": "stream",
     "text": [
      "Creating json from Arrow format: 100%|██████████| 1/1 [00:00<00:00, 1133.90ba/s]\n",
      "Creating json from Arrow format: 100%|██████████| 1/1 [00:00<00:00, 1276.80ba/s]\n",
      "Creating json from Arrow format: 100%|██████████| 1/1 [00:00<00:00, 1805.55ba/s]\n"
     ]
    },
    {
     "name": "stdout",
     "output_type": "stream",
     "text": [
      "Processing batch 1/3...\n"
     ]
    },
    {
     "name": "stderr",
     "output_type": "stream",
     "text": [
      "Creating json from Arrow format: 100%|██████████| 1/1 [00:00<00:00, 724.53ba/s]\n"
     ]
    },
    {
     "name": "stdout",
     "output_type": "stream",
     "text": [
      "Processing batch 2/3...\n"
     ]
    },
    {
     "name": "stderr",
     "output_type": "stream",
     "text": [
      "Creating json from Arrow format: 100%|██████████| 1/1 [00:00<00:00, 269.89ba/s]\n"
     ]
    },
    {
     "name": "stdout",
     "output_type": "stream",
     "text": [
      "Processing batch 3/3...\n"
     ]
    },
    {
     "name": "stderr",
     "output_type": "stream",
     "text": [
      "Creating json from Arrow format: 100%|██████████| 1/1 [00:00<00:00, 704.81ba/s]"
     ]
    },
    {
     "name": "stdout",
     "output_type": "stream",
     "text": [
      "Texts containing English:  Dataset({\n",
      "    features: [],\n",
      "    num_rows: 0\n",
      "})\n"
     ]
    },
    {
     "name": "stderr",
     "output_type": "stream",
     "text": [
      "\n"
     ]
    }
   ],
   "source": [
    "for name in [\"seeker_post\", \"response_post\"]:\n",
    "\tgeneral_dataset = [{\"id\": item['id'], \"text\": item[name]} for item in general_data]\n",
    "\tgeneral_input_dataset = Dataset.from_list(general_dataset)\n",
    "\n",
    "\tprint(general_input_dataset[0])\n",
    "\n",
    "\ttranslation_result = general_translator.translate(general_input_dataset, GeneralTranslationResultSchema)\n",
    "\tincorrect_translations[name] = list(filter(lambda x: contains_english(x['text_rus']), translation_result))\n",
    "\ttexts_containing_english = Dataset.from_list(incorrect_translations[name])\n",
    "\t\n",
    "\tprint(\"Texts containing English: \", texts_containing_english)\n",
    "\n",
    "\tall_translations_ids = [item[\"id\"] for item in all_translations]\n",
    "\tfor t in texts_containing_english:\n",
    "\t\tpresent_idx = index(all_translations_ids, t['id'])\n",
    "\t\ttranslation_result.remove(t)\n",
    "\t\tif present_idx != -1:\n",
    "\t\t\tdel all_translations[present_idx]\n",
    "\n",
    "\tall_translations_ids = [item[\"id\"] for item in all_translations]\n",
    "\tfor t in translation_result:\n",
    "\t\tpresent_idx = index(all_translations_ids, t['id'])\n",
    "\t\tif present_idx != -1:\n",
    "\t\t\tall_translations[present_idx].update({f\"{name}_rus\": t[\"text_rus\"], f\"{name}_en\": t[\"text\"]})\n",
    "\t\telse:\n",
    "\t\t\tall_translations.append({\"id\": t[\"id\"], f\"{name}_rus\": t[\"text_rus\"], f\"{name}_en\": t[\"text\"]})\n",
    "\tif texts_containing_english:\n",
    "\t\tjson.dump(texts_containing_english.to_dict(), Path(f\"wrong_translations_{name}_yandex\").open(\"w\"), ensure_ascii=False, indent=4)"
   ]
  },
  {
   "cell_type": "code",
   "execution_count": 12,
   "metadata": {},
   "outputs": [],
   "source": [
    "with open(\"posts_translations_correct_yandex.json\", \"w\", encoding=\"utf-8\") as f:\n",
    "\tjson.dump(all_translations, f, ensure_ascii=False, indent=4)"
   ]
  },
  {
   "cell_type": "markdown",
   "metadata": {},
   "source": [
    "### Correcting translation"
   ]
  },
  {
   "cell_type": "code",
   "execution_count": 13,
   "metadata": {},
   "outputs": [
    {
     "data": {
      "text/plain": [
       "defaultdict(None, {'seeker_post': [], 'response_post': []})"
      ]
     },
     "execution_count": 13,
     "metadata": {},
     "output_type": "execute_result"
    }
   ],
   "source": [
    "incorrect_translations"
   ]
  },
  {
   "cell_type": "code",
   "execution_count": null,
   "metadata": {},
   "outputs": [],
   "source": [
    "for name, items in incorrect_translations.items():\n",
    "    keys = ['id', 'text_rus', 'text']\n",
    "    dataset_correction = {k: [d[k] for d in items] for k in keys}\n",
    "    dataset_correction['text'] = dataset_correction.pop('text_rus')\n",
    "    if dataset_correction['id']:\n",
    "        all_translations_ids = [item[\"id\"] for item in all_translations]\n",
    "        input_dataset_correction = Dataset.from_dict(dataset_correction)\n",
    "        translation_result_corrected = general_translator_corrector.translate(input_dataset_correction, GeneralTranslationResultSchema)\n",
    "        incorrect_translations[name] = list(filter(lambda x: contains_english(x['text_rus']), translation_result_corrected))\n",
    "        for item in translation_result_corrected:\n",
    "            if not contains_english(item['text_rus']):\n",
    "                present_idx = index(all_translations_ids, item['id'])\n",
    "                if present_idx != -1:\n",
    "                    all_translations[present_idx].update({f\"{name}_rus\": t[\"text_rus\"], f\"{name}_en\": t[\"text\"]})"
   ]
  },
  {
   "cell_type": "code",
   "execution_count": 15,
   "metadata": {},
   "outputs": [
    {
     "data": {
      "text/plain": [
       "defaultdict(None, {'seeker_post': [], 'response_post': []})"
      ]
     },
     "execution_count": 15,
     "metadata": {},
     "output_type": "execute_result"
    }
   ],
   "source": [
    "incorrect_translations"
   ]
  },
  {
   "cell_type": "code",
   "execution_count": 16,
   "metadata": {},
   "outputs": [],
   "source": [
    "with open(\"all_posts_translations\", \"w\", encoding=\"utf-8\") as f:\n",
    "\tjson.dump(all_translations, f, ensure_ascii=False, indent=4)"
   ]
  },
  {
   "cell_type": "markdown",
   "metadata": {},
   "source": [
    "## Translating rationales"
   ]
  },
  {
   "cell_type": "code",
   "execution_count": 17,
   "metadata": {},
   "outputs": [],
   "source": [
    "incorrectly_translated_rationales = defaultdict()"
   ]
  },
  {
   "cell_type": "code",
   "execution_count": null,
   "metadata": {},
   "outputs": [],
   "source": [
    "for name in [\"emotional_reactions_rationales\", \"explorations_rationales\", \"interpretations_rationales\"]:\n",
    "\tall_data = Dataset.from_list(general_data).filter(lambda x: x[name]).sort(\"id\")\n",
    "\ttranslation_result_filtered = list(filter(lambda x: x['id'] in all_data['id'], all_translations))\n",
    "\ttranslation_result_filtered = sorted(translation_result_filtered, key=lambda x: x['id'])\n",
    "\tdataset_rationales = [{\"id\": item['id'], \"text_eng\": item[\"response_post\"], \"text_rus\": item1['response_post_rus'], 'rationales_eng': item[name]} for item, item1 in zip(all_data, translation_result_filtered)]\n",
    "\tinput_dataset_rationales = Dataset.from_list(dataset_rationales)\n",
    "\n",
    "\tprint(input_dataset_rationales[0])\n",
    "\n",
    "\ttranslation_result_rationales = rational_translator.translate(input_dataset_rationales, RationaleTranslationResultSchema)\n",
    "\tall_translations_ids = [item[\"id\"] for item in all_translations]\n",
    "\t\n",
    "\tincorrectly_translated = [] \n",
    "\tfor item in translation_result_rationales:\n",
    "\t\trats = item['rationales_rus'].strip('|').split('|')\n",
    "\t\tif len(item['rationales_eng'].strip('|').split(\"|\")) != len(rats):\n",
    "\t\t\tincorrectly_translated.append(item)\n",
    "\t\tfor r in rats:\n",
    "\t\t\tif item['text_rus'].find(r) == -1:\n",
    "\t\t\t\tincorrectly_translated.append(item)\n",
    "\t\n",
    "\tincorrectly_translated_rationales[name] = incorrectly_translated\n",
    "\n",
    "\ttranslated_rationales = list(filter(lambda x : x not in incorrectly_translated, translation_result_rationales))\n",
    "\tprint(\"Incorrectly translated: \", incorrectly_translated)\n",
    "\tif incorrectly_translated:\n",
    "\t\tjson.dump(incorrectly_translated, Path(f\"wrong_translations_{name}_yandex_32batch\").open(\"w\"), ensure_ascii=False, indent=4)\n",
    "\n",
    "\tfor t in translated_rationales:\n",
    "\t\tpresent_idx = index(all_translations_ids, t['id'])\n",
    "\t\tif present_idx != -1:\n",
    "\t\t\tall_translations[present_idx].update({f\"{name}_rus\": t[\"rationales_rus\"], f\"{name}_en\": t[\"rationales_eng\"]})"
   ]
  },
  {
   "cell_type": "code",
   "execution_count": 37,
   "metadata": {},
   "outputs": [],
   "source": [
    "for a in general_data:\n",
    "\tall_translations_ids = [item[\"id\"] for item in all_translations]\n",
    "\tpresent_idx = index(all_translations_ids, a['id'])\n",
    "\tif present_idx != -1:\n",
    "\t\tall_translations[present_idx].update({\"emotional_reactions_level\": a[\"emotional_reactions_level\"], \"explorations_level\": a[\"explorations_level\"], \"interpretations_level\": a[\"interpretations_level\"]})\n",
    "\t\tif a[\"emotional_reactions_level\"] == 0:\n",
    "\t\t\tall_translations[present_idx].update({\"emotional_reactions_rationales_rus\": \"\", \"emotional_reactions_rationales_en\": \"\"})\n",
    "\t\tif a[\"explorations_level\"] == 0:\n",
    "\t\t\tall_translations[present_idx].update({\"explorations_rationales_rus\": \"\", \"explorations_rationales_en\": \"\"})\n",
    "\t\tif a[\"interpretations_level\"] == 0:\n",
    "\t\t\tall_translations[present_idx].update({\"interpretations_rationales_rus\": \"\", \"interpretations_rationales_en\": \"\"})"
   ]
  },
  {
   "cell_type": "code",
   "execution_count": 38,
   "metadata": {},
   "outputs": [],
   "source": [
    "with open(\"all_translations_yandex_correct.json\", \"w\", encoding=\"utf-8\") as f:\n",
    "\tjson.dump(all_translations, f, ensure_ascii=False, indent=4)"
   ]
  },
  {
   "cell_type": "markdown",
   "metadata": {},
   "source": [
    "### Correcting rationales"
   ]
  },
  {
   "cell_type": "code",
   "execution_count": 39,
   "metadata": {},
   "outputs": [
    {
     "data": {
      "text/plain": [
       "defaultdict(None,\n",
       "            {'emotional_reactions_rationales': [{'id': '50sgzd_d76kxsp',\n",
       "               'text_rus': 'Это совершенно нормально, большинство людей время от времени испытывают такое. Это пройдёт, когда — вот в чём вопрос. Хорошая новость в том, что ты можешь поработать над этим «когда», по крайней мере, у меня это работает. Я думаю, ключ в том, чтобы принимать всё, что ты чувствуешь, не бороться с этим и не пытаться изменить, даже пытаться заставить себя плакать. Суть в том, чтобы действительно изменить своё мышление с «у меня депрессия, я не могу её вылечить, она убивает меня» на «я снова грущу без причины, человеческий мозг — куча дерьма и чертовски глючный, я буду плакать весь день, чтобы дать ему то, что он хочет»... ',\n",
       "               'text_eng': \"I'm sorry to hear that you're feeling this way. You're not alone.\",\n",
       "               'rationales_eng': \"I'm sorry to hear that you're feeling this way|You're not alone.\",\n",
       "               'rationales_rus': 'Мне жаль слышать, что ты так себя чувствуешь|Ты не один.'},\n",
       "              {'id': '50sgzd_d76kxsp',\n",
       "               'text_rus': 'Это совершенно нормально, большинство людей время от времени испытывают такое. Это пройдёт, когда — вот в чём вопрос. Хорошая новость в том, что ты можешь поработать над этим «когда», по крайней мере, у меня это работает. Я думаю, ключ в том, чтобы принимать всё, что ты чувствуешь, не бороться с этим и не пытаться изменить, даже пытаться заставить себя плакать. Суть в том, чтобы действительно изменить своё мышление с «у меня депрессия, я не могу её вылечить, она убивает меня» на «я снова грущу без причины, человеческий мозг — куча дерьма и чертовски глючный, я буду плакать весь день, чтобы дать ему то, что он хочет»... ',\n",
       "               'text_eng': \"I'm sorry to hear that you're feeling this way. You're not alone.\",\n",
       "               'rationales_eng': \"I'm sorry to hear that you're feeling this way|You're not alone.\",\n",
       "               'rationales_rus': 'Мне жаль слышать, что ты так себя чувствуешь|Ты не один.'},\n",
       "              {'id': '5xea9y_dehmbgx',\n",
       "               'text_rus': 'Ты хороший человек, Мэдиан. Надеюсь, ты это знаешь. Надеюсь, что вокруг тебя есть люди, которые расскажут твою историю на века, и что ты будешь жить как герой в умах новых поколений. Но я бы предпочёл, чтобы ты жил, лично.',\n",
       "               'text_eng': \"You're a good man, Median. I hope you know this. I hope that you have people around you that will tell your story for centuries, and that you live on as a hero in the minds of newer generations. But, I'd rather you live, personally.\",\n",
       "               'rationales_eng': \"You're a good man|I'd rather you live, personally.|\",\n",
       "               'rationales_rus': 'Ты хороший человек|Я бы предпочёл, чтобы ты жил, лично.'}],\n",
       "             'explorations_rationales': [],\n",
       "             'interpretations_rationales': [{'id': '50sgzd_d76kxsp',\n",
       "               'text_rus': 'Это совершенно нормально, большинство людей время от времени испытывают такое. Это пройдёт, когда — вот в чём вопрос. Хорошая новость в том, что ты можешь поработать над этим «когда», по крайней мере, у меня это работает. Я думаю, ключ в том, чтобы принимать всё, что ты чувствуешь, не бороться с этим и не пытаться изменить, даже пытаться заставить себя плакать. Суть в том, чтобы действительно изменить своё мышление с «у меня депрессия, я не могу её вылечить, она убивает меня» на «я снова грущу без причины, человеческий мозг — куча дерьма и чертовски глючный, я буду плакать весь день, чтобы дать ему то, что он хочет»... ',\n",
       "               'text_eng': \"I'm sorry to hear that you're feeling this way. You're not alone.\",\n",
       "               'rationales_eng': \"I'm sorry to hear that you're feeling this way|You're not alone.\",\n",
       "               'rationales_rus': 'Мне жаль слышать, что ты так себя чувствуешь|Ты не один.'},\n",
       "              {'id': '50sgzd_d76kxsp',\n",
       "               'text_rus': 'Это совершенно нормально, большинство людей время от времени испытывают такое. Это пройдёт, когда — вот в чём вопрос. Хорошая новость в том, что ты можешь поработать над этим «когда», по крайней мере, у меня это работает. Я думаю, ключ в том, чтобы принимать всё, что ты чувствуешь, не бороться с этим и не пытаться изменить, даже пытаться заставить себя плакать. Суть в том, чтобы действительно изменить своё мышление с «у меня депрессия, я не могу её вылечить, она убивает меня» на «я снова грущу без причины, человеческий мозг — куча дерьма и чертовски глючный, я буду плакать весь день, чтобы дать ему то, что он хочет»... ',\n",
       "               'text_eng': \"I'm sorry to hear that you're feeling this way. You're not alone.\",\n",
       "               'rationales_eng': \"I'm sorry to hear that you're feeling this way|You're not alone.\",\n",
       "               'rationales_rus': 'Мне жаль слышать, что ты так себя чувствуешь|Ты не один.'},\n",
       "              {'id': '8iz0as_dyvq1ne',\n",
       "               'text_rus': 'Как ты думаешь, ты попал в замкнутый круг? Фастфуд может вызывать у тебя депрессию. А из-за депрессии ты, вероятно, ешь ещё больше фастфуда? Какое-то время это было и моей проблемой. Даже если это просто случайность, я, вероятно, буду переедать и потом чувствовать себя плохо. Только чтобы позже снова позволить себе лишнее в попытке поднять настроение',\n",
       "               'text_eng': \"By any chance do you think you're in a loop. Junk food can make you depressed. And being depressed probably makes you eat more junk food? For a while that was my problem too. Even if its just random, ill probably binge and feel bad later. Only to indulge in more later to try to cheer up.\",\n",
       "               'rationales_eng': 'For a while that was my problem too. Even if its just random, ill probably binge and feel bad later. Only to indulge in more later to try to cheer up.|',\n",
       "               'rationales_rus': 'Как ты думаешь, ты попал в замкнутый круг|Фастфуд может вызывать у тебя депрессию|А из-за депрессии ты, вероятно, ешь ещё больше фастфуда|Какое-то время это было и моей проблемой|Даже если это просто случайность, я, вероятно, буду переедать и потом чувствовать себя плохо|Только чтобы позже снова позволить себе лишнее в попытке поднять настроение|'},\n",
       "              {'id': '8jsjf8_dz25gpo',\n",
       "               'text_rus': 'по крайней мере, у тебя есть люди, которые пытаются тебя утешить. У меня даже этого нет. Опять же, есть люди, которым гораздо хуже',\n",
       "               'text_eng': 'at least you got people trying to comfort you. I even dont have that. Again there are people who got it Much worse',\n",
       "               'rationales_eng': 'I even dont have that. Again there are people who got it Much worse|',\n",
       "               'rationales_rus': 'У меня даже этого нет|Опять же, есть люди, которым гораздо хуже|'}]})"
      ]
     },
     "execution_count": 39,
     "metadata": {},
     "output_type": "execute_result"
    }
   ],
   "source": [
    "incorrectly_translated_rationales"
   ]
  },
  {
   "cell_type": "code",
   "execution_count": 40,
   "metadata": {},
   "outputs": [
    {
     "name": "stderr",
     "output_type": "stream",
     "text": [
      "Creating json from Arrow format: 100%|██████████| 1/1 [00:00<00:00, 278.38ba/s]\n",
      "Creating json from Arrow format: 100%|██████████| 1/1 [00:00<00:00, 733.14ba/s]"
     ]
    },
    {
     "name": "stderr",
     "output_type": "stream",
     "text": [
      "\n"
     ]
    },
    {
     "name": "stdout",
     "output_type": "stream",
     "text": [
      "Processing batch 1/2...\n"
     ]
    },
    {
     "name": "stderr",
     "output_type": "stream",
     "text": [
      "Creating json from Arrow format: 100%|██████████| 1/1 [00:00<00:00, 422.30ba/s]\n"
     ]
    },
    {
     "name": "stdout",
     "output_type": "stream",
     "text": [
      "Processing batch 2/2...\n"
     ]
    },
    {
     "name": "stderr",
     "output_type": "stream",
     "text": [
      "Creating json from Arrow format: 100%|██████████| 1/1 [00:00<00:00, 825.00ba/s]\n",
      "Creating json from Arrow format: 100%|██████████| 1/1 [00:00<00:00, 1337.04ba/s]\n",
      "Creating json from Arrow format: 100%|██████████| 1/1 [00:00<00:00, 1880.01ba/s]\n"
     ]
    },
    {
     "name": "stdout",
     "output_type": "stream",
     "text": [
      "Processing batch 1/2...\n"
     ]
    },
    {
     "name": "stderr",
     "output_type": "stream",
     "text": [
      "Creating json from Arrow format: 100%|██████████| 1/1 [00:00<00:00, 693.39ba/s]\n"
     ]
    },
    {
     "name": "stdout",
     "output_type": "stream",
     "text": [
      "Processing batch 2/2...\n"
     ]
    },
    {
     "name": "stderr",
     "output_type": "stream",
     "text": [
      "Creating json from Arrow format: 100%|██████████| 1/1 [00:00<00:00, 96.52ba/s]\n"
     ]
    }
   ],
   "source": [
    "for name, items in incorrectly_translated_rationales.items():\n",
    "\tkeys = ['id', 'text_rus', 'text_eng', 'rationales_rus']\n",
    "\tdataset_correction_rationales = {k: [d[k] for d in items] for k in keys}\n",
    "\tdataset_correction_rationales['rationales_eng'] = dataset_correction_rationales.pop('rationales_rus')\n",
    "\tif dataset_correction_rationales['id']:\n",
    "\t\tall_translations_ids = [item[\"id\"] for item in all_translations]\n",
    "\t\tinput_dataset_correction = Dataset.from_dict(dataset_correction_rationales)\n",
    "\t\ttranslation_result_corrected = rational_translator_corrector.translate(input_dataset_correction, RationaleTranslationResultSchema)\n",
    "\t\tfor item in translation_result_corrected:\n",
    "\t\t\tbase_item = list(filter(lambda x: x['id'] == item['id'], items))[0]\n",
    "\t\t\tcorrect = True\n",
    "\t\t\trats = item['rationales_rus'].strip('|').split('|')\n",
    "\t\t\tif len(base_item['rationales_eng'].strip('|').split(\"|\")) != len(rats):\n",
    "\t\t\t\tcorrect = False\n",
    "\t\t\tfor r in rats:\n",
    "\t\t\t\tif item['text_rus'].find(r) == -1:\n",
    "\t\t\t\t\tcorrect = False\n",
    "\t\t\tif correct:\n",
    "\t\t\t\tpresent_idx = index(all_translations_ids, item['id'])\n",
    "\t\t\t\tincorrectly_translated_rationales[name].remove(base_item)\n",
    "\t\t\t\tif present_idx != -1:\n",
    "\t\t\t\t\tall_translations[present_idx].update({f\"{name}_rus\": t[\"rationales_rus\"], f\"{name}_en\": base_item[\"rationales_eng\"]})\n",
    "\t\t\telse:\n",
    "\t\t\t\titems[index(items, base_item)] = item"
   ]
  },
  {
   "cell_type": "code",
   "execution_count": 41,
   "metadata": {},
   "outputs": [
    {
     "data": {
      "text/plain": [
       "defaultdict(None,\n",
       "            {'emotional_reactions_rationales': [{'id': '50sgzd_d76kxsp',\n",
       "               'text_rus': 'Это совершенно нормально, большинство людей время от времени испытывают такое. Это пройдёт, когда — вот в чём вопрос. Хорошая новость в том, что ты можешь поработать над этим «когда», по крайней мере, у меня это работает. Я думаю, ключ в том, чтобы принимать всё, что ты чувствуешь, не бороться с этим и не пытаться изменить, даже пытаться заставить себя плакать. Суть в том, чтобы действительно изменить своё мышление с «у меня депрессия, я не могу её вылечить, она убивает меня» на «я снова грущу без причины, человеческий мозг — куча дерьма и чертовски глючный, я буду плакать весь день, чтобы дать ему то, что он хочет»... ',\n",
       "               'text_eng': \"I'm sorry to hear that you're feeling this way. You're not alone.\",\n",
       "               'rationales_eng': 'Мне жаль слышать, что ты так себя чувствуешь|Ты не один.',\n",
       "               'rationales_rus': 'Мне жаль слышать, что ты так себя чувствуешь|Ты не один.'},\n",
       "              {'id': '50sgzd_d76kxsp',\n",
       "               'text_rus': 'Это совершенно нормально, большинство людей время от времени испытывают такое. Это пройдёт, когда — вот в чём вопрос. Хорошая новость в том, что ты можешь поработать над этим «когда», по крайней мере, у меня это работает. Я думаю, ключ в том, чтобы принимать всё, что ты чувствуешь, не бороться с этим и не пытаться изменить, даже пытаться заставить себя плакать. Суть в том, чтобы действительно изменить своё мышление с «у меня депрессия, я не могу её вылечить, она убивает меня» на «я снова грущу без причины, человеческий мозг — куча дерьма и чертовски глючный, я буду плакать весь день, чтобы дать ему то, что он хочет»... ',\n",
       "               'text_eng': \"I'm sorry to hear that you're feeling this way. You're not alone.\",\n",
       "               'rationales_eng': \"I'm sorry to hear that you're feeling this way|You're not alone.\",\n",
       "               'rationales_rus': 'Мне жаль слышать, что ты так себя чувствуешь|Ты не один.'},\n",
       "              {'id': '5xea9y_dehmbgx',\n",
       "               'text_rus': 'Ты хороший человек, Мэдиан. Надеюсь, ты это знаешь. Надеюсь, что вокруг тебя есть люди, которые расскажут твою историю на века, и что ты будешь жить как герой в умах новых поколений. Но я бы предпочёл, чтобы ты жил, лично.',\n",
       "               'text_eng': \"You're a good man, Median. I hope you know this. I hope that you have people around you that will tell your story for centuries, and that you live on as a hero in the minds of newer generations. But, I'd rather you live, personally.\",\n",
       "               'rationales_eng': 'Ты хороший человек|Я бы предпочёл, чтобы ты жил, лично.',\n",
       "               'rationales_rus': 'Ты хороший человек|Я бы предпочёл, чтобы ты жил, лично.'}],\n",
       "             'explorations_rationales': [],\n",
       "             'interpretations_rationales': [{'id': '50sgzd_d76kxsp',\n",
       "               'text_rus': 'Это совершенно нормально, большинство людей время от времени испытывают такое. Это пройдёт, когда — вот в чём вопрос. Хорошая новость в том, что ты можешь поработать над этим «когда», по крайней мере, у меня это работает. Я думаю, ключ в том, чтобы принимать всё, что ты чувствуешь, не бороться с этим и не пытаться изменить, даже пытаться заставить себя плакать. Суть в том, чтобы действительно изменить своё мышление с «у меня депрессия, я не могу её вылечить, она убивает меня» на «я снова грущу без причины, человеческий мозг — куча дерьма и чертовски глючный, я буду плакать весь день, чтобы дать ему то, что он хочет»... ',\n",
       "               'text_eng': \"I'm sorry to hear that you're feeling this way. You're not alone.\",\n",
       "               'rationales_eng': 'Мне жаль слышать, что ты так себя чувствуешь|Ты не один.',\n",
       "               'rationales_rus': 'Мне жаль слышать, что ты так себя чувствуешь|Ты не один.'},\n",
       "              {'id': '50sgzd_d76kxsp',\n",
       "               'text_rus': 'Это совершенно нормально, большинство людей время от времени испытывают такое. Это пройдёт, когда — вот в чём вопрос. Хорошая новость в том, что ты можешь поработать над этим «когда», по крайней мере, у меня это работает. Я думаю, ключ в том, чтобы принимать всё, что ты чувствуешь, не бороться с этим и не пытаться изменить, даже пытаться заставить себя плакать. Суть в том, чтобы действительно изменить своё мышление с «у меня депрессия, я не могу её вылечить, она убивает меня» на «я снова грущу без причины, человеческий мозг — куча дерьма и чертовски глючный, я буду плакать весь день, чтобы дать ему то, что он хочет»... ',\n",
       "               'text_eng': \"I'm sorry to hear that you're feeling this way. You're not alone.\",\n",
       "               'rationales_eng': \"I'm sorry to hear that you're feeling this way|You're not alone.\",\n",
       "               'rationales_rus': 'Мне жаль слышать, что ты так себя чувствуешь|Ты не один.'},\n",
       "              {'id': '8iz0as_dyvq1ne',\n",
       "               'text_rus': 'Как ты думаешь, ты попал в замкнутый круг? Фастфуд может вызывать у тебя депрессию. А из-за депрессии ты, вероятно, ешь ещё больше фастфуда? Какое-то время это было и моей проблемой. Даже если это просто случайность, я, вероятно, буду переедать и потом чувствовать себя плохо. Только чтобы позже снова позволить себе лишнее в попытке поднять настроение',\n",
       "               'text_eng': \"By any chance do you think you're in a loop. Junk food can make you depressed. And being depressed probably makes you eat more junk food? For a while that was my problem too. Even if its just random, ill probably binge and feel bad later. Only to indulge in more later to try to cheer up.\",\n",
       "               'rationales_eng': 'Как ты думаешь, ты попал в замкнутый круг|Фастфуд может вызывать у тебя депрессию|А из-за депрессии ты, вероятно, ешь ещё больше фастфуда|Какое-то время это было и моей проблемой|Даже если это просто случайность, я, вероятно, буду переедать и потом чувствовать себя плохо|Только чтобы позже снова позволить себе лишнее в попытке поднять настроение|',\n",
       "               'rationales_rus': 'Как ты думаешь, ты попал в замкнутый круг|Фастфуд может вызывать у тебя депрессию|А из-за депрессии ты, вероятно, ешь ещё больше фастфуда|Какое-то время это было и моей проблемой|Даже если это просто случайность, я, вероятно, буду переедать и потом чувствовать себя плохо|Только чтобы позже снова позволить себе лишнее в попытке поднять настроение|'},\n",
       "              {'id': '8jsjf8_dz25gpo',\n",
       "               'text_rus': 'по крайней мере, у тебя есть люди, которые пытаются тебя утешить. У меня даже этого нет. Опять же, есть люди, которым гораздо хуже',\n",
       "               'text_eng': 'at least you got people trying to comfort you. I even dont have that. Again there are people who got it Much worse',\n",
       "               'rationales_eng': 'У меня даже этого нет|Опять же, есть люди, которым гораздо хуже|',\n",
       "               'rationales_rus': 'У меня даже этого нет|Опять же, есть люди, которым гораздо хуже|'}]})"
      ]
     },
     "execution_count": 41,
     "metadata": {},
     "output_type": "execute_result"
    }
   ],
   "source": [
    "incorrectly_translated_rationales"
   ]
  },
  {
   "cell_type": "code",
   "execution_count": 42,
   "metadata": {},
   "outputs": [],
   "source": [
    "with open(\"all_translations_yandex_corrected.json\", \"w\", encoding=\"utf-8\") as f:\n",
    "\tjson.dump(all_translations, f, ensure_ascii=False, indent=4)"
   ]
  },
  {
   "cell_type": "code",
   "execution_count": null,
   "metadata": {},
   "outputs": [],
   "source": []
  },
  {
   "cell_type": "code",
   "execution_count": null,
   "metadata": {},
   "outputs": [],
   "source": []
  }
 ],
 "metadata": {
  "kernelspec": {
   "display_name": "Python 3",
   "language": "python",
   "name": "python3"
  },
  "language_info": {
   "codemirror_mode": {
    "name": "ipython",
    "version": 3
   },
   "file_extension": ".py",
   "mimetype": "text/x-python",
   "name": "python",
   "nbconvert_exporter": "python",
   "pygments_lexer": "ipython3",
   "version": "3.13.0"
  }
 },
 "nbformat": 4,
 "nbformat_minor": 2
}
