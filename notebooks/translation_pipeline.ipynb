{
 "cells": [
  {
   "cell_type": "code",
   "execution_count": 96,
   "metadata": {},
   "outputs": [],
   "source": [
    "import json\n",
    "import re\n",
    "from dataclasses import dataclass, field\n",
    "from datetime import datetime\n",
    "from pathlib import Path\n",
    "\n",
    "import pandas as pd\n",
    "from datasets import Dataset\n",
    "from omegaconf import OmegaConf\n",
    "\n",
    "from src.core.translate import Translator\n",
    "from src.utils.schemas import (GeneralTranslationResultSchema,\n",
    "                               RationaleTranslationResultSchema)"
   ]
  },
  {
   "cell_type": "code",
   "execution_count": 97,
   "metadata": {},
   "outputs": [],
   "source": [
    "regex_check_enhlsih = re.compile(r'\\b[a-zA-Z]{2,}\\b')"
   ]
  },
  {
   "cell_type": "code",
   "execution_count": 98,
   "metadata": {},
   "outputs": [],
   "source": [
    "def contains_english(text: str) -> bool:\n",
    "\t\"\"\"\n",
    "\tChecks if the given text contains English words.\n",
    "\n",
    "\tArgs:\n",
    "\t\ttext (str): Text to check.\n",
    "\n",
    "\tReturns:\n",
    "\t\tbool:\t\tTrue if English words are found, False otherwise.\n",
    "\t\"\"\"\n",
    "\treturn bool(re.search(regex_check_enhlsih, text))"
   ]
  },
  {
   "cell_type": "code",
   "execution_count": 99,
   "metadata": {},
   "outputs": [],
   "source": [
    "config = OmegaConf.load('configs/conf.yaml')\n",
    "general_translation_config = config.general_translation\n",
    "general_translation_correction_config = config.general_translation_correction\n",
    "rationales_translation_config = config.rationales_translation\n",
    "rationales_translation_correction_config = config.rationales_translation_correction"
   ]
  },
  {
   "cell_type": "code",
   "execution_count": 100,
   "metadata": {},
   "outputs": [],
   "source": [
    "@dataclass\n",
    "class TranslatorDataConfig:\n",
    "    system_message: str\n",
    "    model_config: dict\n",
    "    example_data: dict\n",
    "    suffix: str = \"\"\n",
    "    intermediate_path: str = field(init=False) \n",
    "    \n",
    "    def __post_init__(self):\n",
    "        self.intermediate_path = f\"int_path_{self.model_config['model']}_{self.suffix}_{datetime.now()}.json\""
   ]
  },
  {
   "cell_type": "code",
   "execution_count": 132,
   "metadata": {},
   "outputs": [],
   "source": [
    "general_tr_conf = TranslatorDataConfig(\n",
    "    system_message=Path(general_translation_config['prompt_path']).open().read(),\n",
    "    model_config=json.load(Path(general_translation_config['model_config_path']).open()),\n",
    "    example_data=json.load(Path(general_translation_config['filepath_examples']).open()),\n",
    "    suffix=\"general-translation\"\n",
    ")\n",
    "\n",
    "general_tr_corr_conf = TranslatorDataConfig(\n",
    "    system_message=Path(general_translation_correction_config['prompt_path']).open().read(),\n",
    "    model_config=json.load(Path(general_translation_correction_config['model_config_path']).open()),\n",
    "    example_data=json.load(Path(general_translation_correction_config['filepath_examples']).open()),\n",
    ")\n",
    "\n",
    "rational_tr_conf = TranslatorDataConfig(\n",
    "    system_message=Path(rationales_translation_config['prompt_path']).open().read(),\n",
    "    model_config=json.load(Path(rationales_translation_config['model_config_path']).open()),\n",
    "    example_data=json.load(Path(rationales_translation_config['filepath_examples']).open()),\n",
    "    suffix=\"rational-translation\"\n",
    ")\n",
    "\n",
    "rational_tr_corr_conf = TranslatorDataConfig(\n",
    "    system_message=Path(rationales_translation_correction_config['prompt_path']).open().read(),\n",
    "    model_config=json.load(Path(rationales_translation_correction_config['model_config_path']).open()),\n",
    "    example_data=json.load(Path(rationales_translation_correction_config['filepath_examples']).open()),\n",
    ")"
   ]
  },
  {
   "cell_type": "code",
   "execution_count": 102,
   "metadata": {},
   "outputs": [],
   "source": [
    "general_translator = Translator(\n",
    "    system_message=general_tr_conf.system_message, \n",
    "    model_config=general_tr_conf.model_config, \n",
    "    example_data=general_tr_conf.example_data, \n",
    "    batch_size=general_translation_config.batch_size,\n",
    "    batch_result_dir=general_translation_config.batch_result_dir,\n",
    "    batch_dir=general_translation_config.batches\n",
    ")\n",
    "\n",
    "general_translator_corrector = Translator(\n",
    "    system_message=general_tr_corr_conf.system_message, \n",
    "    model_config=general_tr_corr_conf.model_config, \n",
    "    example_data=general_tr_corr_conf.example_data, \n",
    "    batch_size=general_translation_correction_config.batch_size,\n",
    "    batch_result_dir=general_translation_correction_config.batch_result_dir,\n",
    "    batch_dir=general_translation_correction_config.batches\n",
    ")\n",
    "\n",
    "rational_translator = Translator(\n",
    "    system_message=rational_tr_conf.system_message, \n",
    "    model_config=rational_tr_conf.model_config, \n",
    "    example_data=rational_tr_conf.example_data, \n",
    "    batch_size=rationales_translation_config.batch_size,\n",
    "    batch_result_dir=rationales_translation_config.batch_result_dir,\n",
    "    batch_dir=rationales_translation_config.batches\n",
    ")\n",
    "\n",
    "rational_translator_corrector = Translator(\n",
    "    system_message=rational_tr_corr_conf.system_message, \n",
    "    model_config=rational_tr_corr_conf.model_config, \n",
    "    example_data=rational_tr_corr_conf.example_data, \n",
    "    batch_size=rationales_translation_correction_config.batch_size,\n",
    "    batch_result_dir=rationales_translation_correction_config.batch_result_dir,\n",
    "    batch_dir=rationales_translation_correction_config.batches\n",
    ")"
   ]
  },
  {
   "cell_type": "markdown",
   "metadata": {},
   "source": [
    "## Translating"
   ]
  },
  {
   "cell_type": "code",
   "execution_count": 103,
   "metadata": {},
   "outputs": [],
   "source": [
    "general_data = pd.read_csv(general_translation_config.data_path)\n",
    "general_dataset = {colname: general_data[colname].tolist() for colname in general_translation_config.cols.split()}\n",
    "general_input_dataset = Dataset.from_dict(general_dataset)"
   ]
  },
  {
   "cell_type": "code",
   "execution_count": 104,
   "metadata": {},
   "outputs": [
    {
     "name": "stderr",
     "output_type": "stream",
     "text": [
      "Creating json from Arrow format: 100%|██████████| 1/1 [00:00<00:00, 157.56ba/s]\n",
      "Creating json from Arrow format: 100%|██████████| 1/1 [00:00<00:00, 1631.39ba/s]\n",
      "Creating json from Arrow format: 100%|██████████| 1/1 [00:00<00:00, 1669.04ba/s]\n",
      "Creating json from Arrow format: 100%|██████████| 1/1 [00:00<00:00, 1818.87ba/s]\n",
      "Creating json from Arrow format: 100%|██████████| 1/1 [00:00<00:00, 1594.19ba/s]\n"
     ]
    },
    {
     "name": "stdout",
     "output_type": "stream",
     "text": [
      "Processing batch 1/5...\n"
     ]
    },
    {
     "name": "stderr",
     "output_type": "stream",
     "text": [
      "Creating json from Arrow format: 100%|██████████| 1/1 [00:00<00:00, 171.82ba/s]\n"
     ]
    },
    {
     "name": "stdout",
     "output_type": "stream",
     "text": [
      "Processing batch 2/5...\n"
     ]
    },
    {
     "name": "stderr",
     "output_type": "stream",
     "text": [
      "Creating json from Arrow format: 100%|██████████| 1/1 [00:00<00:00, 462.28ba/s]\n"
     ]
    },
    {
     "name": "stdout",
     "output_type": "stream",
     "text": [
      "Processing batch 3/5...\n"
     ]
    },
    {
     "name": "stderr",
     "output_type": "stream",
     "text": [
      "Creating json from Arrow format: 100%|██████████| 1/1 [00:00<00:00, 169.29ba/s]\n"
     ]
    },
    {
     "name": "stdout",
     "output_type": "stream",
     "text": [
      "Processing batch 4/5...\n"
     ]
    },
    {
     "name": "stderr",
     "output_type": "stream",
     "text": [
      "Creating json from Arrow format: 100%|██████████| 1/1 [00:00<00:00, 473.61ba/s]\n"
     ]
    },
    {
     "name": "stdout",
     "output_type": "stream",
     "text": [
      "Processing batch 5/5...\n"
     ]
    },
    {
     "name": "stderr",
     "output_type": "stream",
     "text": [
      "Creating json from Arrow format: 100%|██████████| 1/1 [00:00<00:00, 699.75ba/s]\n"
     ]
    }
   ],
   "source": [
    "translation_result = general_translator.translate(general_input_dataset, GeneralTranslationResultSchema)"
   ]
  },
  {
   "cell_type": "code",
   "execution_count": 105,
   "metadata": {},
   "outputs": [
    {
     "name": "stderr",
     "output_type": "stream",
     "text": [
      "Filter: 100%|██████████| 19/19 [00:00<00:00, 2511.56 examples/s]\n"
     ]
    }
   ],
   "source": [
    "texts_containing_english = Dataset.from_list(translation_result).filter(lambda text: contains_english(text['text_rus'])) "
   ]
  },
  {
   "cell_type": "code",
   "execution_count": 106,
   "metadata": {},
   "outputs": [
    {
     "data": {
      "text/plain": [
       "[]"
      ]
     },
     "execution_count": 106,
     "metadata": {},
     "output_type": "execute_result"
    }
   ],
   "source": [
    "texts_containing_english[\"text_rus\"]"
   ]
  },
  {
   "cell_type": "code",
   "execution_count": 107,
   "metadata": {},
   "outputs": [],
   "source": [
    "for t in texts_containing_english:\n",
    "    translation_result.remove(t)"
   ]
  },
  {
   "cell_type": "markdown",
   "metadata": {},
   "source": [
    "### Correcting translation"
   ]
  },
  {
   "cell_type": "code",
   "execution_count": 108,
   "metadata": {},
   "outputs": [],
   "source": [
    "input_dataset_correction = texts_containing_english.remove_columns([\"text\"]).rename_column(\"text_rus\", \"text\")"
   ]
  },
  {
   "cell_type": "code",
   "execution_count": 109,
   "metadata": {},
   "outputs": [],
   "source": [
    "translation_result_corrected = general_translator_corrector.translate(input_dataset_correction, GeneralTranslationResultSchema)"
   ]
  },
  {
   "cell_type": "code",
   "execution_count": 110,
   "metadata": {},
   "outputs": [
    {
     "data": {
      "text/plain": [
       "[]"
      ]
     },
     "execution_count": 110,
     "metadata": {},
     "output_type": "execute_result"
    }
   ],
   "source": [
    "translation_result_corrected"
   ]
  },
  {
   "cell_type": "code",
   "execution_count": 111,
   "metadata": {},
   "outputs": [
    {
     "data": {
      "text/plain": [
       "Dataset({\n",
       "    features: [],\n",
       "    num_rows: 0\n",
       "})"
      ]
     },
     "execution_count": 111,
     "metadata": {},
     "output_type": "execute_result"
    }
   ],
   "source": [
    "Dataset.from_list(translation_result_corrected).filter(lambda text: contains_english(text['text_rus'])) "
   ]
  },
  {
   "cell_type": "code",
   "execution_count": 112,
   "metadata": {},
   "outputs": [],
   "source": [
    "for item in translation_result_corrected:\n",
    "    if not contains_english(item['text_rus']):\n",
    "        translation_result.append(item)"
   ]
  },
  {
   "cell_type": "code",
   "execution_count": 135,
   "metadata": {},
   "outputs": [],
   "source": [
    "with open(general_tr_conf.intermediate_path, \"w\", encoding=\"utf-8\") as f:\n",
    "\tjson.dump(translation_result, f, ensure_ascii=False, indent=4)"
   ]
  },
  {
   "cell_type": "markdown",
   "metadata": {},
   "source": [
    "## Translating rationales"
   ]
  },
  {
   "cell_type": "code",
   "execution_count": 114,
   "metadata": {},
   "outputs": [],
   "source": [
    "dataset_rationales = json.load(Path(rationales_translation_config.data_path).open())"
   ]
  },
  {
   "cell_type": "code",
   "execution_count": 115,
   "metadata": {},
   "outputs": [],
   "source": [
    "input_dataset_rationales = Dataset.from_dict(dataset_rationales)"
   ]
  },
  {
   "cell_type": "code",
   "execution_count": 116,
   "metadata": {},
   "outputs": [
    {
     "name": "stderr",
     "output_type": "stream",
     "text": [
      "Creating json from Arrow format: 100%|██████████| 1/1 [00:00<00:00, 644.29ba/s]"
     ]
    },
    {
     "name": "stderr",
     "output_type": "stream",
     "text": [
      "\n",
      "Creating json from Arrow format: 100%|██████████| 1/1 [00:00<00:00, 65.13ba/s]\n",
      "Creating json from Arrow format: 100%|██████████| 1/1 [00:00<00:00, 1103.76ba/s]\n",
      "Creating json from Arrow format: 100%|██████████| 1/1 [00:00<00:00, 848.02ba/s]\n",
      "Creating json from Arrow format: 100%|██████████| 1/1 [00:00<00:00, 727.29ba/s]\n",
      "Creating json from Arrow format: 100%|██████████| 1/1 [00:00<00:00, 960.67ba/s]\n",
      "Creating json from Arrow format: 100%|██████████| 1/1 [00:00<00:00, 1331.95ba/s]\n",
      "Creating json from Arrow format: 100%|██████████| 1/1 [00:00<00:00, 1466.54ba/s]\n"
     ]
    },
    {
     "name": "stdout",
     "output_type": "stream",
     "text": [
      "Processing batch 1/8...\n"
     ]
    },
    {
     "name": "stderr",
     "output_type": "stream",
     "text": [
      "Creating json from Arrow format: 100%|██████████| 1/1 [00:00<00:00, 356.87ba/s]\n"
     ]
    },
    {
     "name": "stdout",
     "output_type": "stream",
     "text": [
      "Processing batch 2/8...\n"
     ]
    },
    {
     "name": "stderr",
     "output_type": "stream",
     "text": [
      "Creating json from Arrow format: 100%|██████████| 1/1 [00:00<00:00, 500.75ba/s]\n"
     ]
    },
    {
     "name": "stdout",
     "output_type": "stream",
     "text": [
      "Processing batch 3/8...\n"
     ]
    },
    {
     "name": "stderr",
     "output_type": "stream",
     "text": [
      "Creating json from Arrow format: 100%|██████████| 1/1 [00:00<00:00, 439.38ba/s]\n"
     ]
    },
    {
     "name": "stdout",
     "output_type": "stream",
     "text": [
      "Processing batch 4/8...\n"
     ]
    },
    {
     "name": "stderr",
     "output_type": "stream",
     "text": [
      "ERROR:root:Unexpected error on input #3 (id: 15): 'id'. Attempt 1 of 3. Retrying...\n",
      "Creating json from Arrow format: 100%|██████████| 1/1 [00:00<00:00, 838.19ba/s]\n"
     ]
    },
    {
     "name": "stdout",
     "output_type": "stream",
     "text": [
      "Processing batch 5/8...\n"
     ]
    },
    {
     "name": "stderr",
     "output_type": "stream",
     "text": [
      "Creating json from Arrow format: 100%|██████████| 1/1 [00:00<00:00, 269.25ba/s]\n"
     ]
    },
    {
     "name": "stdout",
     "output_type": "stream",
     "text": [
      "Processing batch 6/8...\n"
     ]
    },
    {
     "name": "stderr",
     "output_type": "stream",
     "text": [
      "Creating json from Arrow format: 100%|██████████| 1/1 [00:00<00:00, 601.94ba/s]\n"
     ]
    },
    {
     "name": "stdout",
     "output_type": "stream",
     "text": [
      "Processing batch 7/8...\n"
     ]
    },
    {
     "name": "stderr",
     "output_type": "stream",
     "text": [
      "Creating json from Arrow format: 100%|██████████| 1/1 [00:00<00:00, 541.20ba/s]\n"
     ]
    },
    {
     "name": "stdout",
     "output_type": "stream",
     "text": [
      "Processing batch 8/8...\n"
     ]
    },
    {
     "name": "stderr",
     "output_type": "stream",
     "text": [
      "Creating json from Arrow format: 100%|██████████| 1/1 [00:00<00:00, 434.91ba/s]\n"
     ]
    }
   ],
   "source": [
    "translation_result_rationales = rational_translator.translate(input_dataset_rationales, RationaleTranslationResultSchema)"
   ]
  },
  {
   "cell_type": "code",
   "execution_count": 117,
   "metadata": {},
   "outputs": [],
   "source": [
    "incorrectly_translated = [] \n",
    "for item in translation_result_rationales:\n",
    "    rats = item['rationales_rus'].split('|')\n",
    "    for r in rats:\n",
    "        if item['text_rus'].find(r) == -1:\n",
    "            incorrectly_translated.append(item)\n",
    "\n",
    "translated_rationales = list(filter(lambda x : x not in incorrectly_translated, translation_result_rationales))"
   ]
  },
  {
   "cell_type": "code",
   "execution_count": 118,
   "metadata": {},
   "outputs": [
    {
     "data": {
      "text/plain": [
       "[]"
      ]
     },
     "execution_count": 118,
     "metadata": {},
     "output_type": "execute_result"
    }
   ],
   "source": [
    "incorrectly_translated"
   ]
  },
  {
   "cell_type": "markdown",
   "metadata": {},
   "source": [
    "### Correcting rationales"
   ]
  },
  {
   "cell_type": "code",
   "execution_count": 119,
   "metadata": {},
   "outputs": [
    {
     "name": "stderr",
     "output_type": "stream",
     "text": [
      "Filter: 100%|██████████| 30/30 [00:00<00:00, 13140.05 examples/s]\n"
     ]
    }
   ],
   "source": [
    "rationales_containing_english = Dataset.from_list(translation_result_rationales).filter(lambda text: contains_english(text['rationales_rus'])) "
   ]
  },
  {
   "cell_type": "code",
   "execution_count": 120,
   "metadata": {},
   "outputs": [
    {
     "data": {
      "text/plain": [
       "Dataset({\n",
       "    features: ['id', 'text_rus', 'text_eng', 'rationales_eng', 'rationales_rus'],\n",
       "    num_rows: 0\n",
       "})"
      ]
     },
     "execution_count": 120,
     "metadata": {},
     "output_type": "execute_result"
    }
   ],
   "source": [
    "rationales_containing_english"
   ]
  },
  {
   "cell_type": "code",
   "execution_count": 121,
   "metadata": {},
   "outputs": [],
   "source": [
    "for t in rationales_containing_english:\n",
    "    translation_result_rationales.remove(t)"
   ]
  },
  {
   "cell_type": "code",
   "execution_count": 122,
   "metadata": {},
   "outputs": [],
   "source": [
    "keys = ['id', 'text_rus', 'text_eng', 'rationales_rus']\n",
    "dataset_correction_rationales = {k: [d[k] for d in rationales_containing_english] for k in keys}\n",
    "dataset_correction_rationales['rationales_eng'] = dataset_correction_rationales.pop('rationales_rus')"
   ]
  },
  {
   "cell_type": "code",
   "execution_count": 123,
   "metadata": {},
   "outputs": [],
   "source": [
    "input_dataset_correction = Dataset.from_dict(dataset_correction_rationales)"
   ]
  },
  {
   "cell_type": "code",
   "execution_count": 124,
   "metadata": {},
   "outputs": [],
   "source": [
    "translation_result_corrected = rational_translator_corrector.translate(input_dataset_correction, RationaleTranslationResultSchema)"
   ]
  },
  {
   "cell_type": "code",
   "execution_count": 125,
   "metadata": {},
   "outputs": [
    {
     "data": {
      "text/plain": [
       "[]"
      ]
     },
     "execution_count": 125,
     "metadata": {},
     "output_type": "execute_result"
    }
   ],
   "source": [
    "translation_result_corrected"
   ]
  },
  {
   "cell_type": "code",
   "execution_count": 126,
   "metadata": {},
   "outputs": [
    {
     "data": {
      "text/plain": [
       "Dataset({\n",
       "    features: [],\n",
       "    num_rows: 0\n",
       "})"
      ]
     },
     "execution_count": 126,
     "metadata": {},
     "output_type": "execute_result"
    }
   ],
   "source": [
    "Dataset.from_list(translation_result_corrected).filter(lambda text: contains_english(text['text_rus'])) "
   ]
  },
  {
   "cell_type": "code",
   "execution_count": 127,
   "metadata": {},
   "outputs": [],
   "source": [
    "for item, rationale in zip(translation_result_corrected, rationales_containing_english):\n",
    "    if not contains_english(item['text_rus']):\n",
    "        translation_result_rationales.append({'id': item['id'], 'rationales_eng': rationale['rationales_eng'], 'rationales_rus': item['text_rus'], 'text_rus': rationale['text_rus'], 'text_eng': rationale['text_eng']})"
   ]
  },
  {
   "cell_type": "code",
   "execution_count": 133,
   "metadata": {},
   "outputs": [],
   "source": [
    "if rational_tr_conf.intermediate_path:\n",
    "\td = Dataset.from_list(translation_result_rationales)\n",
    "\twith open(rational_tr_conf.intermediate_path, \"w\", encoding=\"utf-8\") as f:\n",
    "\t\tjson.dump(d.to_list(), f, ensure_ascii=False, indent=4)"
   ]
  },
  {
   "cell_type": "code",
   "execution_count": 129,
   "metadata": {},
   "outputs": [],
   "source": [
    "incorrectly_translated = [] \n",
    "for item in translation_result_rationales:\n",
    "    rats = item['rationales_rus'].split('|')\n",
    "    for r in rats:\n",
    "        if item['text_rus'].find(r) == -1:\n",
    "            incorrectly_translated.append(item)\n",
    "\n",
    "translated_rationales = list(filter(lambda x : x not in incorrectly_translated, translation_result_rationales))"
   ]
  }
 ],
 "metadata": {
  "kernelspec": {
   "display_name": "Python 3",
   "language": "python",
   "name": "python3"
  },
  "language_info": {
   "codemirror_mode": {
    "name": "ipython",
    "version": 3
   },
   "file_extension": ".py",
   "mimetype": "text/x-python",
   "name": "python",
   "nbconvert_exporter": "python",
   "pygments_lexer": "ipython3",
   "version": "3.13.0"
  }
 },
 "nbformat": 4,
 "nbformat_minor": 2
}
