{
 "cells": [
  {
   "cell_type": "markdown",
   "id": "a4315036",
   "metadata": {},
   "source": [
    "# Перевод датасета ESConv\n",
    "https://github.com/thu-coai/Emotional-Support-Conversation"
   ]
  },
  {
   "cell_type": "code",
   "execution_count": 2,
   "id": "af5a7b08",
   "metadata": {},
   "outputs": [],
   "source": [
    "import sys\n",
    "import os.path as osp\n",
    "import os\n",
    "\n",
    "current_dir = os.getcwd()\n",
    "\n",
    "parent_dir = os.path.abspath(os.path.join(current_dir, '..'))\n",
    "sys.path.append(parent_dir)\n",
    "sys.path.append(current_dir + '/notebooks')\n",
    "sys.path.append(current_dir)\n",
    "sys.path.append(current_dir + '/data')"
   ]
  },
  {
   "cell_type": "code",
   "execution_count": null,
   "id": "b9f87ffd",
   "metadata": {},
   "outputs": [],
   "source": [
    "import json\n",
    "from pathlib import Path\n",
    "import re\n",
    "\n",
    "from datasets import Dataset\n",
    "from omegaconf import OmegaConf\n",
    "from copy import deepcopy\n",
    "import pandas as pd\n",
    "\n",
    "from src.core.translate import Translator\n",
    "from src.utils.schemas import GeneralTranslationResultSchema"
   ]
  },
  {
   "cell_type": "markdown",
   "id": "4f6d8d41",
   "metadata": {},
   "source": [
    "вспомогательные функции"
   ]
  },
  {
   "cell_type": "code",
   "execution_count": 347,
   "id": "575683b1",
   "metadata": {},
   "outputs": [],
   "source": [
    "regex_check_enhlsih = re.compile(r'\\b[a-zA-Z]{2,}\\b')\n",
    "def contains_english(text: str) -> bool:\n",
    "\treturn bool(re.search(regex_check_enhlsih, text))\n",
    "\n",
    "def read_json(path):\n",
    "    return json.load(Path(path).open())\n",
    "\n",
    "def save_json(obj, path):\n",
    "    json.dump(obj, Path(path).open(\"w\", encoding=\"utf-8\"), indent=4, ensure_ascii=False)\n",
    "\n",
    "def read_file(path: str):\n",
    "\treturn Path(path).open().read()\n",
    "\n",
    "def index(a_list, value):\n",
    "    try:\n",
    "        return a_list.index(value)\n",
    "    except ValueError:\n",
    "        return -1\n",
    "    \n",
    "def get_sort_key(id_string):\n",
    "    \"\"\"Extract the two numbers from the ID for sorting\"\"\"\n",
    "    first, second = map(int, id_string.split('_'))\n",
    "    return (first, second)"
   ]
  },
  {
   "cell_type": "code",
   "execution_count": 7,
   "id": "9866994f",
   "metadata": {},
   "outputs": [],
   "source": [
    "esconv_data = read_json(\"../ESConv.json\")"
   ]
  },
  {
   "cell_type": "code",
   "execution_count": 324,
   "id": "4055dffb",
   "metadata": {},
   "outputs": [],
   "source": [
    "# esconv_data[2]['dialog']"
   ]
  },
  {
   "cell_type": "code",
   "execution_count": 8,
   "id": "f8b4ba74",
   "metadata": {},
   "outputs": [
    {
     "data": {
      "text/plain": [
       "1300"
      ]
     },
     "execution_count": 8,
     "metadata": {},
     "output_type": "execute_result"
    }
   ],
   "source": [
    "len(esconv_data)"
   ]
  },
  {
   "cell_type": "markdown",
   "id": "113138bc",
   "metadata": {},
   "source": [
    "соберем данные в нужном формате для перевода, для начала переведем просто все тексты из диалога"
   ]
  },
  {
   "cell_type": "code",
   "execution_count": 325,
   "id": "292dda54",
   "metadata": {},
   "outputs": [],
   "source": [
    "dataset = []"
   ]
  },
  {
   "cell_type": "code",
   "execution_count": 326,
   "id": "ca292668",
   "metadata": {},
   "outputs": [],
   "source": [
    "for i, item in enumerate(esconv_data):\n",
    "    for j, mess in enumerate(item['dialog']):\n",
    "        dataset.append(\n",
    "            {\n",
    "                \"id\": f\"{i}_{j}\",\n",
    "                \"text\": mess[\"content\"]\n",
    "            }\n",
    "        )"
   ]
  },
  {
   "cell_type": "code",
   "execution_count": 328,
   "id": "c539d95a",
   "metadata": {},
   "outputs": [
    {
     "data": {
      "text/plain": [
       "{'id': '0_0', 'text': 'Hello\\n'}"
      ]
     },
     "execution_count": 328,
     "metadata": {},
     "output_type": "execute_result"
    }
   ],
   "source": [
    "dataset[0]"
   ]
  },
  {
   "cell_type": "code",
   "execution_count": 327,
   "id": "33c4b26c",
   "metadata": {},
   "outputs": [
    {
     "data": {
      "text/plain": [
       "38365"
      ]
     },
     "execution_count": 327,
     "metadata": {},
     "output_type": "execute_result"
    }
   ],
   "source": [
    "len(dataset)"
   ]
  },
  {
   "cell_type": "code",
   "execution_count": 14,
   "id": "994aafa3",
   "metadata": {},
   "outputs": [],
   "source": [
    "save_json(dataset, \"../esconv_data.json\")"
   ]
  },
  {
   "cell_type": "markdown",
   "id": "ae475e72",
   "metadata": {},
   "source": [
    "подгружаем конфиг для перевода, в этом случае используем батч из 32 текстов"
   ]
  },
  {
   "cell_type": "code",
   "execution_count": 146,
   "id": "9d55603a",
   "metadata": {},
   "outputs": [],
   "source": [
    "config = OmegaConf.load('../configs/conf.yaml')\n",
    "general_translation_config = config.general_translation"
   ]
  },
  {
   "cell_type": "code",
   "execution_count": 329,
   "id": "fb361b83",
   "metadata": {},
   "outputs": [],
   "source": [
    "general_translator = Translator(\n",
    "    system_message=read_file(general_translation_config.prompt_path), \n",
    "    model_config=read_json(general_translation_config.model_config_path), \n",
    "    example_data=read_json(general_translation_config.filepath_examples), \n",
    "    batch_size=general_translation_config.batch_size,\n",
    "    batch_result_dir=general_translation_config.batch_result_dir,\n",
    "    batch_dir=general_translation_config.batches,\n",
    "    model_type=\"openai\"\n",
    ")"
   ]
  },
  {
   "cell_type": "code",
   "execution_count": null,
   "id": "7bc60893",
   "metadata": {},
   "outputs": [],
   "source": [
    "print(read_json(general_translation_config.model_config_path))"
   ]
  },
  {
   "cell_type": "code",
   "execution_count": 331,
   "id": "cb682c59",
   "metadata": {},
   "outputs": [],
   "source": [
    "all_translations = []"
   ]
  },
  {
   "cell_type": "code",
   "execution_count": 332,
   "id": "0349a74f",
   "metadata": {},
   "outputs": [
    {
     "name": "stderr",
     "output_type": "stream",
     "text": [
      "Creating json from Arrow format: 100%|██████████| 1/1 [00:00<00:00, 31.35ba/s]\n"
     ]
    },
    {
     "name": "stdout",
     "output_type": "stream",
     "text": [
      "Processing batch 1/1...\n"
     ]
    },
    {
     "name": "stderr",
     "output_type": "stream",
     "text": [
      "Creating json from Arrow format: 100%|██████████| 1/1 [00:00<00:00, 924.47ba/s]\n"
     ]
    }
   ],
   "source": [
    "general_input_dataset = Dataset.from_list(dataset[:1])\n",
    "\n",
    "translation_result = general_translator.translate(general_input_dataset, GeneralTranslationResultSchema)\n",
    "save_json(translation_result, \"translation_result_esconv_yandex_gpt_1st_try.json\")"
   ]
  },
  {
   "cell_type": "code",
   "execution_count": 333,
   "id": "69c111ad",
   "metadata": {},
   "outputs": [],
   "source": [
    "incorrect_translations = list(filter(lambda x: contains_english(x['text_rus']), translation_result))\n",
    "texts_containing_english = Dataset.from_list(incorrect_translations)"
   ]
  },
  {
   "cell_type": "code",
   "execution_count": 334,
   "id": "9e068038",
   "metadata": {},
   "outputs": [
    {
     "data": {
      "text/plain": [
       "[]"
      ]
     },
     "execution_count": 334,
     "metadata": {},
     "output_type": "execute_result"
    }
   ],
   "source": [
    "incorrect_translations"
   ]
  },
  {
   "cell_type": "code",
   "execution_count": 335,
   "id": "f56386ea",
   "metadata": {},
   "outputs": [
    {
     "data": {
      "text/plain": [
       "Dataset({\n",
       "    features: [],\n",
       "    num_rows: 0\n",
       "})"
      ]
     },
     "execution_count": 335,
     "metadata": {},
     "output_type": "execute_result"
    }
   ],
   "source": [
    "texts_containing_english"
   ]
  },
  {
   "cell_type": "code",
   "execution_count": 336,
   "id": "82849698",
   "metadata": {},
   "outputs": [
    {
     "data": {
      "text/plain": [
       "1"
      ]
     },
     "execution_count": 336,
     "metadata": {},
     "output_type": "execute_result"
    }
   ],
   "source": [
    "len(translation_result)"
   ]
  },
  {
   "cell_type": "code",
   "execution_count": 337,
   "id": "7e521f0b",
   "metadata": {},
   "outputs": [],
   "source": [
    "all_translations_ids = [item[\"id\"] for item in translation_result]\n",
    "for t in texts_containing_english:\n",
    "\tpresent_idx = index(all_translations_ids, t['id'])\n",
    "\ttranslation_result.remove(t)"
   ]
  },
  {
   "cell_type": "code",
   "execution_count": 338,
   "id": "6f878f09",
   "metadata": {},
   "outputs": [],
   "source": [
    "save_json(translation_result, \"esconv_translations1.json\")"
   ]
  },
  {
   "cell_type": "code",
   "execution_count": 339,
   "id": "e446c327",
   "metadata": {},
   "outputs": [],
   "source": [
    "if texts_containing_english:\n",
    "\tsave_json(texts_containing_english.to_dict(), \"wrong_translations_esconv1.json\")"
   ]
  },
  {
   "cell_type": "code",
   "execution_count": 340,
   "id": "403b3426",
   "metadata": {},
   "outputs": [],
   "source": [
    "all_translated = read_json(\"esconv_translations1.json\")"
   ]
  },
  {
   "cell_type": "code",
   "execution_count": 341,
   "id": "585057e0",
   "metadata": {},
   "outputs": [
    {
     "data": {
      "text/plain": [
       "[{'id': '0_0', 'text': 'Hello\\n', 'text_rus': 'Привет\\n'}]"
      ]
     },
     "execution_count": 341,
     "metadata": {},
     "output_type": "execute_result"
    }
   ],
   "source": [
    "all_translated"
   ]
  },
  {
   "cell_type": "code",
   "execution_count": 348,
   "id": "4028b27f",
   "metadata": {},
   "outputs": [],
   "source": [
    "alltr_sorted = sorted(all_translated, key=lambda x: get_sort_key(x['id']))"
   ]
  },
  {
   "cell_type": "code",
   "execution_count": 349,
   "id": "08b6890d",
   "metadata": {},
   "outputs": [
    {
     "data": {
      "text/plain": [
       "1"
      ]
     },
     "execution_count": 349,
     "metadata": {},
     "output_type": "execute_result"
    }
   ],
   "source": [
    "len(alltr_sorted)"
   ]
  },
  {
   "cell_type": "code",
   "execution_count": 350,
   "id": "74374ac2",
   "metadata": {},
   "outputs": [
    {
     "data": {
      "text/plain": [
       "38365"
      ]
     },
     "execution_count": 350,
     "metadata": {},
     "output_type": "execute_result"
    }
   ],
   "source": [
    "allids = set([i['id'] for i in dataset])\n",
    "len(allids)"
   ]
  },
  {
   "cell_type": "code",
   "execution_count": 351,
   "id": "8dae0785",
   "metadata": {},
   "outputs": [],
   "source": [
    "not_translated = []\n",
    "for item in alltr_sorted:\n",
    "    if item['id'] not in allids:\n",
    "        not_translated.append(item)"
   ]
  },
  {
   "cell_type": "code",
   "execution_count": 352,
   "id": "0361cc68",
   "metadata": {},
   "outputs": [
    {
     "data": {
      "text/plain": [
       "0"
      ]
     },
     "execution_count": 352,
     "metadata": {},
     "output_type": "execute_result"
    }
   ],
   "source": [
    "len(not_translated)"
   ]
  },
  {
   "cell_type": "code",
   "execution_count": 353,
   "id": "02ef0330",
   "metadata": {},
   "outputs": [],
   "source": [
    "alltr_normalized = []\n",
    "seen_ids = set()\n",
    "for item in alltr_sorted:\n",
    "    if item['id'] not in seen_ids:\n",
    "        seen_ids.add(item['id'])\n",
    "        alltr_normalized.append(item)"
   ]
  },
  {
   "cell_type": "code",
   "execution_count": 354,
   "id": "0143023d",
   "metadata": {},
   "outputs": [
    {
     "data": {
      "text/plain": [
       "1"
      ]
     },
     "execution_count": 354,
     "metadata": {},
     "output_type": "execute_result"
    }
   ],
   "source": [
    "len(alltr_normalized)"
   ]
  },
  {
   "cell_type": "code",
   "execution_count": 355,
   "id": "115fd3a0",
   "metadata": {},
   "outputs": [],
   "source": [
    "save_json(alltr_normalized, \"esconv_dialog_content_translations1.json\")"
   ]
  },
  {
   "cell_type": "code",
   "execution_count": null,
   "id": "ccacafd8",
   "metadata": {},
   "outputs": [],
   "source": [
    "dataset = json.load(Path(\"esconv_data.json\").open())\n",
    "# здесь уже мой файл со всеми переводами, выше для примера перевода показан только перевод одного примера\n",
    "trans = json.load(Path(\"esconv_unique_sorted_38359_all.json\").open())\n",
    "esconv_data = read_json(\"../ESConv.json\")"
   ]
  },
  {
   "cell_type": "markdown",
   "id": "6910ea8f",
   "metadata": {},
   "source": [
    "также в файле содрежится много другой информации, поэтому переводим и другие поля."
   ]
  },
  {
   "cell_type": "code",
   "execution_count": 382,
   "id": "a29ae342",
   "metadata": {},
   "outputs": [],
   "source": [
    "ANNOTATIONS = {\n",
    "    'strategy': {\n",
    "        'Affirmation and Reassurance': 'Подтверждение и заверение',\n",
    "        'Information': 'Информирование',\n",
    "        'Others': 'Другое',\n",
    "        'Providing Suggestions': 'Предоставление советов',\n",
    "        'Question': 'Вопрос',\n",
    "        'Reflection of feelings': 'Отражение чувств',\n",
    "        'Restatement or Paraphrasing': 'Перефразирование',\n",
    "        'Self-disclosure': 'Самораскрытие'\n",
    "    },\n",
    "    'feedback': {'1', '2', '3', '4', '5'}\n",
    "}"
   ]
  },
  {
   "cell_type": "code",
   "execution_count": 383,
   "id": "344cf369",
   "metadata": {},
   "outputs": [],
   "source": [
    "PROBLEM_TYPES = {\n",
    "    'Alcohol Abuse': 'Злоупотребление алкоголем',\n",
    "    'Appearance Anxiety': 'Тревога из-за внешности',\n",
    "    'Issues with Children': 'Проблемы с детьми',\n",
    "    'Issues with Parents': 'Проблемы с родителями',\n",
    "    'Procrastination': 'Прокрастинация',\n",
    "    'School Bullying': 'Школьная травля',\n",
    "    'Sleep Problems': 'Проблемы со сном',\n",
    "    'academic pressure': 'Учебное давление',\n",
    "    'breakup with partner': 'Расставание с партнёром',\n",
    "    'conflict with parents': 'Конфликт с родителями',\n",
    "    'job crisis': 'Кризис на работе',\n",
    "    'ongoing depression': 'Затяжная депрессия',\n",
    "    'problems with friends': 'Проблемы с друзьями'\n",
    "}"
   ]
  },
  {
   "cell_type": "code",
   "execution_count": 384,
   "id": "049bb208",
   "metadata": {},
   "outputs": [],
   "source": [
    "EMOTION_TYPES = {\n",
    "    'anger': 'гнев',\n",
    "    'anxiety': 'тревога',\n",
    "    'depression': 'депрессия',\n",
    "    'disgust': 'отвращение',\n",
    "    'fear': 'страх',\n",
    "    'guilt': 'вина',\n",
    "    'jealousy': 'ревность',\n",
    "    'nervousness': 'нервозность',\n",
    "    'pain': 'боль',\n",
    "    'sadness': 'грусть',\n",
    "    'shame': 'стыд'\n",
    "}"
   ]
  },
  {
   "cell_type": "code",
   "execution_count": 385,
   "id": "d3f9cf91",
   "metadata": {},
   "outputs": [],
   "source": [
    "EXPERIENCE_TYPES = {\n",
    "    'Current Experience': 'Текущий опыт',\n",
    "    'Previous Experience': 'Предыдущий опыт'\n",
    "}"
   ]
  },
  {
   "cell_type": "code",
   "execution_count": null,
   "id": "3d055eea",
   "metadata": {},
   "outputs": [],
   "source": [
    "situations = []\n",
    "seeker_question1 = []\n",
    "seeker_question2 = []\n",
    "supporter_question1 = []\n",
    "supporter_question2 = []\n",
    "for i, item in enumerate(esconv_data):\n",
    "    if item['situation']:\n",
    "        situations.append({'id': i, 'text': item['situation']})\n",
    "    if item['seeker_question1']:\n",
    "        seeker_question1.append({'id': i, 'text': item['seeker_question1']})\n",
    "    if item['seeker_question2']:\n",
    "        seeker_question2.append({'id': i, 'text': item['seeker_question2']})\n",
    "    if item['supporter_question1']:\n",
    "        supporter_question1.append({'id': i, 'text': item['supporter_question1']})\n",
    "    if item['supporter_question2']:\n",
    "        supporter_question2.append({'id': i, 'text': item['supporter_question2']})"
   ]
  },
  {
   "cell_type": "code",
   "execution_count": 357,
   "id": "15b60b88",
   "metadata": {},
   "outputs": [],
   "source": [
    "to_translate = {\n",
    "    \"situation\": situations,\n",
    "    \"seeker_question1\": seeker_question1,\n",
    "    \"seeker_question2\": seeker_question2,\n",
    "    \"supporter_question1\": supporter_question1,\n",
    "    \"supporter_question2\": supporter_question2\n",
    "}"
   ]
  },
  {
   "cell_type": "code",
   "execution_count": 356,
   "id": "ab8c0981",
   "metadata": {},
   "outputs": [],
   "source": [
    "config = OmegaConf.load('../configs/conf.yaml')\n",
    "general_translation_config = config.general_translation\n",
    "general_translator = Translator(\n",
    "    system_message=read_file(general_translation_config.prompt_path), \n",
    "    model_config=read_json(general_translation_config.model_config_path), \n",
    "    example_data=read_json(general_translation_config.filepath_examples), \n",
    "    batch_size=general_translation_config.batch_size,\n",
    "    batch_result_dir=general_translation_config.batch_result_dir,\n",
    "    batch_dir=general_translation_config.batches,\n",
    "    model_type=\"openai\"\n",
    ")"
   ]
  },
  {
   "cell_type": "code",
   "execution_count": null,
   "id": "63248abb",
   "metadata": {},
   "outputs": [],
   "source": [
    "for key, values in to_translate.items():\n",
    "    general_input_dataset = Dataset.from_list(values[:2])\n",
    "    translation_result = general_translator.translate(general_input_dataset, GeneralTranslationResultSchema)\n",
    "    data = {t['id']: t['text_rus'] for t in translation_result}\n",
    "    save_json(translation_result, f\"{key}_translations_list.json\")\n",
    "    save_json(data, f\"{key}_translations.json\")\n",
    "    sk1ids = set([str(i['id']) for i in values])\n",
    "    sktr1ids = set([i['id'] for i in translation_result])\n",
    "    print(sk1ids - sktr1ids)\n",
    "    print(sktr1ids - sk1ids)"
   ]
  },
  {
   "cell_type": "code",
   "execution_count": null,
   "id": "cd56cbb6",
   "metadata": {},
   "outputs": [],
   "source": [
    "sk1 = read_json('seeker_question1_translations.json')\n",
    "sk2 = read_json('seeker_question2_translations.json')\n",
    "sp1 = read_json('supporter_question1_translations.json')\n",
    "sp2 = read_json('supporter_question2_translations.json')\n",
    "sit = read_json('situation_translations.json')"
   ]
  },
  {
   "cell_type": "code",
   "execution_count": 389,
   "id": "18aa4e59",
   "metadata": {},
   "outputs": [],
   "source": [
    "grouped = {}\n",
    "\n",
    "for item in trans:\n",
    "    prefix = item[\"id\"].split(\"_\")[0] \n",
    "    if prefix not in grouped:\n",
    "        grouped[prefix] = []  \n",
    "    grouped[prefix].append(item['text_rus'])"
   ]
  },
  {
   "cell_type": "code",
   "execution_count": 390,
   "id": "763cf775",
   "metadata": {},
   "outputs": [
    {
     "data": {
      "text/plain": [
       "(1300, 1300)"
      ]
     },
     "execution_count": 390,
     "metadata": {},
     "output_type": "execute_result"
    }
   ],
   "source": [
    "len(esconv_data), len(grouped)"
   ]
  },
  {
   "cell_type": "markdown",
   "id": "3e1aaaa5",
   "metadata": {},
   "source": [
    "собираем переведенные данные в исходный формат"
   ]
  },
  {
   "cell_type": "code",
   "execution_count": null,
   "id": "6f5853df",
   "metadata": {},
   "outputs": [],
   "source": [
    "new_esconv_data = []\n",
    "for id, (item1, tr) in enumerate(zip(esconv_data, grouped.values())):\n",
    "    new_item = deepcopy(item1)\n",
    "    new_item['experience_type'] = EXPERIENCE_TYPES[item1['experience_type']]\n",
    "    new_item['emotion_type'] = EMOTION_TYPES[item1['emotion_type']]\n",
    "    new_item['problem_type'] = PROBLEM_TYPES[item1['problem_type']]\n",
    "    new_item['situation'] = sit[str(id)]\n",
    "    # new_item['situation_eng'] = dataset[id]['situation']\n",
    "    if item1['seeker_question1']:\n",
    "        new_item['seeker_question1'] = sk1[str(id)]\n",
    "    if item1['seeker_question2']:\n",
    "        new_item['seeker_question2'] = sk2[str(id)]\n",
    "    if item1['supporter_question1']:\n",
    "        new_item['supporter_question1'] = sp1[str(id)]\n",
    "    if item1['supporter_question2']:\n",
    "        new_item['supporter_question2'] = sp2[str(id)]\n",
    "    for i, d in enumerate(new_item['dialog']):\n",
    "        new_item['dialog'][i]['content'] = tr[i]\n",
    "        # new_item['dialog'][i]['content_eng'] = dataset[id]['dialog'][i]['content']\n",
    "        if new_item['dialog'][i]['annotation']:\n",
    "            if 'strategy' in new_item['dialog'][i]['annotation']:\n",
    "                new_item['dialog'][i]['annotation']['strategy'] = ANNOTATIONS['strategy'][item1['dialog'][i]['annotation']['strategy']]\n",
    "\n",
    "    new_esconv_data.append(new_item)"
   ]
  },
  {
   "cell_type": "code",
   "execution_count": null,
   "id": "97d3165c",
   "metadata": {},
   "outputs": [],
   "source": [
    "save_json(new_esconv_data, \"all_esconv_translated_witheng.json\")"
   ]
  },
  {
   "cell_type": "markdown",
   "id": "bcf2e9fb",
   "metadata": {},
   "source": [
    "собираем в датасет формата huggingface"
   ]
  },
  {
   "cell_type": "code",
   "execution_count": null,
   "id": "51345bea",
   "metadata": {},
   "outputs": [],
   "source": [
    "data = read_json('all_esconv_translated_witheng.json')"
   ]
  },
  {
   "cell_type": "code",
   "execution_count": null,
   "id": "e8131476",
   "metadata": {},
   "outputs": [],
   "source": [
    "rows = []\n",
    "for item in data:\n",
    "    dialog_id = f\"{item['experience_type']}_{item['emotion_type']}_{item['problem_type']}\"\n",
    "    \n",
    "    metadata = {\n",
    "        \"dialog_id\": dialog_id,\n",
    "        \"experience_type\": item[\"experience_type\"],\n",
    "        \"emotion_type\": item[\"emotion_type\"],\n",
    "        \"problem_type\": item[\"problem_type\"],\n",
    "        \"situation\": item[\"situation\"],\n",
    "        \"situation_eng\": item[\"situation_eng\"],\n",
    "        \"seeker_question1\": item.get(\"seeker_question1\", \"\"),\n",
    "        \"seeker_question2\": item.get(\"seeker_question2\", \"\"),\n",
    "        \"supporter_question1\": item.get(\"supporter_question1\", \"\"),\n",
    "        \"supporter_question2\": item.get(\"supporter_question2\", \"\"),\n",
    "        \n",
    "        \"seeker_initial_emotion_intensity\": item.get(\"survey_score\", {}).get(\"seeker\", {}).get(\"initial_emotion_intensity\", \"\"),\n",
    "        \"seeker_relevance\": item.get(\"survey_score\", {}).get(\"seeker\", {}).get(\"relevance\", \"\"),\n",
    "        \"seeker_empathy\": item.get(\"survey_score\", {}).get(\"seeker\", {}).get(\"empathy\", \"\"),\n",
    "        \"seeker_final_emotion_intensity\": item.get(\"survey_score\", {}).get(\"seeker\", {}).get(\"final_emotion_intensity\", \"\"),\n",
    "        \"supporter_relevance\": item.get(\"survey_score\", {}).get(\"supporter\", {}).get(\"relevance\", \"\"),\n",
    "    }\n",
    "    \n",
    "    for i, turn in enumerate(item[\"dialog\"]):\n",
    "        row = {\n",
    "            **metadata,  \n",
    "            \"turn_id\": i,\n",
    "            \"speaker\": turn[\"speaker\"],\n",
    "            \"text\": turn[\"content\"],\n",
    "            \"text_eng\": turn[\"content_eng\"],\n",
    "            \"strategy\": turn[\"annotation\"].get(\"strategy\", \"\"),\n",
    "            \"feedback\": turn[\"annotation\"].get(\"feedback\", \"\"),\n",
    "        }\n",
    "        rows.append(row)\n",
    "\n",
    "df = pd.DataFrame(rows)"
   ]
  },
  {
   "cell_type": "code",
   "execution_count": null,
   "id": "1c7aadb3",
   "metadata": {},
   "outputs": [],
   "source": [
    "dataset = Dataset.from_pandas(df)\n",
    "dataset[8]"
   ]
  }
 ],
 "metadata": {
  "kernelspec": {
   "display_name": "empathy-dataset-transfer-U0sX-K_5-py3.12",
   "language": "python",
   "name": "python3"
  },
  "language_info": {
   "codemirror_mode": {
    "name": "ipython",
    "version": 3
   },
   "file_extension": ".py",
   "mimetype": "text/x-python",
   "name": "python",
   "nbconvert_exporter": "python",
   "pygments_lexer": "ipython3",
   "version": "3.12.7"
  }
 },
 "nbformat": 4,
 "nbformat_minor": 5
}
