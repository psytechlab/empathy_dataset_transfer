{
 "cells": [
  {
   "cell_type": "markdown",
   "id": "84a08cc1",
   "metadata": {},
   "source": [
    "# Перевести датасет с когнитивными искажениями\n",
    "https://github.com/psytechlab/empathy_dataset_transfer/issues/33"
   ]
  },
  {
   "cell_type": "code",
   "execution_count": 30,
   "id": "af306384",
   "metadata": {},
   "outputs": [
    {
     "name": "stdout",
     "output_type": "stream",
     "text": [
      "The autoreload extension is already loaded. To reload it, use:\n",
      "  %reload_ext autoreload\n"
     ]
    },
    {
     "data": {
      "text/plain": [
       "'%.3f'"
      ]
     },
     "execution_count": 30,
     "metadata": {},
     "output_type": "execute_result"
    }
   ],
   "source": [
    "%load_ext autoreload\n",
    "%autoreload 2\n",
    "\n",
    "%precision 3"
   ]
  },
  {
   "cell_type": "code",
   "execution_count": 2,
   "id": "024b095b",
   "metadata": {},
   "outputs": [],
   "source": [
    "import sys\n",
    "import os.path as osp\n",
    "import os\n",
    "\n",
    "current_dir = os.getcwd()\n",
    "\n",
    "parent_dir = os.path.abspath(os.path.join(current_dir, '..'))\n",
    "sys.path.append(parent_dir)\n",
    "sys.path.append(current_dir + '/notebooks')\n",
    "sys.path.append(current_dir)\n",
    "sys.path.append(current_dir + '/data')"
   ]
  },
  {
   "cell_type": "code",
   "execution_count": 64,
   "id": "441a9cec",
   "metadata": {},
   "outputs": [],
   "source": [
    "import json\n",
    "from pathlib import Path\n",
    "import re\n",
    "import ast\n",
    "import numpy as np\n",
    "from datasets import Dataset\n",
    "from omegaconf import OmegaConf\n",
    "from copy import deepcopy\n",
    "from collections import defaultdict\n",
    "import pandas as pd\n",
    "from src.core.translate import Translator\n",
    "from src.utils.schemas import GeneralTranslationResultSchema, RationaleTranslationResultSchema"
   ]
  },
  {
   "cell_type": "code",
   "execution_count": null,
   "id": "e8c58417",
   "metadata": {},
   "outputs": [],
   "source": [
    "regex_check_russian = re.compile(r'^[а-яА-ЯёЁ0-9\\s,.!?;:\\-—()«»„“\"\\'’]+$')\n",
    "def read_json(path):\n",
    "    return json.load(Path(path).open())\n",
    "\n",
    "def read_file(path: str):\n",
    "\treturn Path(path).open().read()\n",
    "\n",
    "def save_json(obj, path):\n",
    "    json.dump(obj, Path(path).open(\"w\", encoding=\"utf-8\"), indent=4, ensure_ascii=False)\n",
    "\n",
    "def is_russian_text(text):\n",
    "    return bool(re.fullmatch(regex_check_russian, text))"
   ]
  },
  {
   "cell_type": "markdown",
   "id": "ba851776",
   "metadata": {},
   "source": [
    "### Подготовка данных"
   ]
  },
  {
   "cell_type": "code",
   "execution_count": 7,
   "id": "a34bd99b",
   "metadata": {},
   "outputs": [],
   "source": [
    "df = pd.read_csv(\"../Annotated_data.csv\")\n",
    "df.loc[df['Distorted part'].isna(), 'Distorted part'] = ''\n",
    "df['Patient Question'] = df['Patient Question'].apply(lambda x: x.replace(\"\\xa0\", \" \").replace(\"  \", \" \"))"
   ]
  },
  {
   "cell_type": "code",
   "execution_count": 6,
   "id": "2d1147e9",
   "metadata": {},
   "outputs": [
    {
     "data": {
      "text/html": [
       "<div>\n",
       "<style scoped>\n",
       "    .dataframe tbody tr th:only-of-type {\n",
       "        vertical-align: middle;\n",
       "    }\n",
       "\n",
       "    .dataframe tbody tr th {\n",
       "        vertical-align: top;\n",
       "    }\n",
       "\n",
       "    .dataframe thead th {\n",
       "        text-align: right;\n",
       "    }\n",
       "</style>\n",
       "<table border=\"1\" class=\"dataframe\">\n",
       "  <thead>\n",
       "    <tr style=\"text-align: right;\">\n",
       "      <th></th>\n",
       "      <th>Id_Number</th>\n",
       "      <th>Patient Question</th>\n",
       "      <th>Distorted part</th>\n",
       "      <th>Dominant Distortion</th>\n",
       "      <th>Secondary Distortion (Optional)</th>\n",
       "    </tr>\n",
       "  </thead>\n",
       "  <tbody>\n",
       "    <tr>\n",
       "      <th>0</th>\n",
       "      <td>4500</td>\n",
       "      <td>Hello, I have a beautiful,smart,outgoing and a...</td>\n",
       "      <td>The voice are always fimilar (someone she know...</td>\n",
       "      <td>Personalization</td>\n",
       "      <td>NaN</td>\n",
       "    </tr>\n",
       "    <tr>\n",
       "      <th>1</th>\n",
       "      <td>4501</td>\n",
       "      <td>Since I was about 16 years old I’ve had these ...</td>\n",
       "      <td>I feel trapped inside my disgusting self and l...</td>\n",
       "      <td>Labeling</td>\n",
       "      <td>Emotional Reasoning</td>\n",
       "    </tr>\n",
       "    <tr>\n",
       "      <th>2</th>\n",
       "      <td>4502</td>\n",
       "      <td>So I’ve been dating on and off this guy for a...</td>\n",
       "      <td></td>\n",
       "      <td>No Distortion</td>\n",
       "      <td>NaN</td>\n",
       "    </tr>\n",
       "    <tr>\n",
       "      <th>3</th>\n",
       "      <td>4503</td>\n",
       "      <td>My parents got divorced in 2004. My mother has...</td>\n",
       "      <td></td>\n",
       "      <td>No Distortion</td>\n",
       "      <td>NaN</td>\n",
       "    </tr>\n",
       "    <tr>\n",
       "      <th>4</th>\n",
       "      <td>4504</td>\n",
       "      <td>I don’t really know how to explain the situati...</td>\n",
       "      <td>I refused to go because I didn’t know if it wa...</td>\n",
       "      <td>Fortune-telling</td>\n",
       "      <td>Emotional Reasoning</td>\n",
       "    </tr>\n",
       "  </tbody>\n",
       "</table>\n",
       "</div>"
      ],
      "text/plain": [
       "   Id_Number                                   Patient Question  \\\n",
       "0       4500  Hello, I have a beautiful,smart,outgoing and a...   \n",
       "1       4501  Since I was about 16 years old I’ve had these ...   \n",
       "2       4502   So I’ve been dating on and off this guy for a...   \n",
       "3       4503  My parents got divorced in 2004. My mother has...   \n",
       "4       4504  I don’t really know how to explain the situati...   \n",
       "\n",
       "                                      Distorted part Dominant Distortion  \\\n",
       "0  The voice are always fimilar (someone she know...     Personalization   \n",
       "1  I feel trapped inside my disgusting self and l...            Labeling   \n",
       "2                                                          No Distortion   \n",
       "3                                                          No Distortion   \n",
       "4  I refused to go because I didn’t know if it wa...     Fortune-telling   \n",
       "\n",
       "  Secondary Distortion (Optional)  \n",
       "0                             NaN  \n",
       "1             Emotional Reasoning  \n",
       "2                             NaN  \n",
       "3                             NaN  \n",
       "4             Emotional Reasoning  "
      ]
     },
     "execution_count": 6,
     "metadata": {},
     "output_type": "execute_result"
    }
   ],
   "source": [
    "df.head()"
   ]
  },
  {
   "cell_type": "code",
   "execution_count": 7,
   "id": "1fe9fdf4",
   "metadata": {},
   "outputs": [],
   "source": [
    "def split_distorted_by_max_matches(question, distorted):\n",
    "    q_lower = question.lower()\n",
    "    d = distorted.strip()\n",
    "    i = 0\n",
    "    segments = []\n",
    "    while i < len(d):\n",
    "        best = \"\"\n",
    "        for j in range(i+1, len(d)+1):\n",
    "            sub = d[i:j]\n",
    "            if sub.lower() in q_lower:\n",
    "                best = sub\n",
    "            else:\n",
    "                break\n",
    "        if best:\n",
    "            segments.append(best)\n",
    "            i += len(best)\n",
    "        else:\n",
    "            i += 1 \n",
    "    return [seg.strip() for seg in segments if seg.strip()]\n"
   ]
  },
  {
   "cell_type": "code",
   "execution_count": 8,
   "id": "bbfbd10d",
   "metadata": {},
   "outputs": [
    {
     "name": "stdout",
     "output_type": "stream",
     "text": [
      "From a grandmother in Canada: My grandchildren ages 7 and 8 have been telling me for almost 2 years that they are afraid of mommy, my Grandson age 7 started soiling his pants, so I took him to the doctors and he said he’s afraid of mommy and she smacks them quite a bit in the head, I got the CPS involved and they sent the children to counselling. The counsellor seen the children one time and informed the children’s father the children are lying and are making stories up to get mommy and daddy back together.\n",
      "\n",
      "Hi, Doctor, I think I’m continued dive in the depression. I can’t feel very well. When I trying to get rid of my bad thoughts which is continuously coming to my mind –I can’t. When I trying to concentrate on my work I can’t. Every time I think about ” what happened next or what if I can’t do anything in my life.” I literally struggled to live a normal Happy life. 'Please help me to overcome my meaningless fear and the big one of the big problems for me is I’m not very Happy with my physique… I’m a very skinny guy and of course, I just want to get rid of this skinny shit… Pls help me what should I do…….pls pls pls reply soon…..Awaited to ur reply. (From India)\n",
      "\n",
      "Hi. I have had Obsessive-Compulsive Disorder for a number of years. I eventually got help for it, and it went away for a while , but it has now come back again. I hear a voice telling me that if I do not do a particular ritual, I will die. (I also have phobias and general fears). As I have had OCD for many years (since I was 11 years old), I believe I can more or less deal with it. However, in recent months, I have experienced new voices. They are telling me that I do not love my boyfriend. They do not require any kind of ritualistic behaviour and therefore i cannot make them go away. I constantly have 2 different thoughts and i argue with myself all the time in my head. 'Could they be a different form of OCD? or could it be some form of schizophrenia? Either way what is the best approach to deal with them and finally make them go away? Thank you very much in advance for your help.\n",
      "\n"
     ]
    }
   ],
   "source": [
    "parts = df['Distorted part'].tolist()\n",
    "qus = df['Patient Question'].tolist()\n",
    "new_parts = []\n",
    "i = 0\n",
    "inc = []\n",
    "for q, p in zip(qus, parts):\n",
    "\tif p in q:\n",
    "\t\ti += 1\n",
    "\t\tnew_parts.append([p])\n",
    "\telse:\n",
    "\t\trr = split_distorted_by_max_matches(q, p)\n",
    "\t\tgood = True\n",
    "\t\tfor t in rr:\n",
    "\t\t\tif t not in q:\n",
    "\t\t\t\tprint(q)\n",
    "\t\t\t\tprint()\n",
    "\t\t\t\tinc.append(q)\n",
    "\t\t\t\tgood = False\n",
    "\t\t\t\tbreak\n",
    "\t\tif good:\n",
    "\t\t\tnew_parts.append(rr)\n",
    "\t\telse:\n",
    "\t\t\tnew_parts.append([])"
   ]
  },
  {
   "cell_type": "code",
   "execution_count": 9,
   "id": "b31bb2f2",
   "metadata": {},
   "outputs": [],
   "source": [
    "inc.append('Im 17 years old. ive lied about having an eating disorder and have been hospitalized many times. ive lied about trauma and have been hospitalized for it as well.')\n",
    "inc.append(\"From a teen in the U.S.: So to begin, I’ve been diagnosed and recieved treatment for depression and an eating disorder, seen 2 therapists, and struggled with self-harm in the past 3 years. Lately I’ve noticed a few behaviors that are bit strange to me. Here’s a list of the behaviors that are concerning me: – I excessive clean my room – When I’m the only one home, I organize the pantry, clean and straighten up the countertops, and try to put everything in order – When I babysit, after the kids have gone to bed, I wipe down all the counter and table tops, straighten paperwork/books and put them in the upper corners of the table, straighten the TV remotes so they are perpendicular to the TV, and put all dishes in the sink – I used to bring all my horse equipment home every weekend to clean it (I don’t ride anymore so this isn’t happening anymore) – I regularly go through all my school work and try to organize it based on class and date – I’m picking at my skin a lot. I pick at my chapped lips for hours at a time, as well as ripping open the skin around my fingernails, and picking off all scabs multiple times – I have very limited personal relationships with people and struggle to make friends – I had 2 childhood friends that I kept for a long time (one for 8 years, one for 10 years) the 8 year friendship ended recently and I really don’t feel like I miss her – When my family goes out of town for long periods of time I don’t really miss them but when they call I tell them I miss them because I feel rude if I say that I don’t – I hardly spend time with my friend (the 10 year friendship I mentioned) I see her maybe once every couple months – ' – I lie a lot and am extremely secretive\")"
   ]
  },
  {
   "cell_type": "code",
   "execution_count": 10,
   "id": "7307c730",
   "metadata": {},
   "outputs": [],
   "source": [
    "df['restored_distorted_part'] = new_parts\n",
    "df.drop(df[df['Patient Question'].isin(inc)].index, inplace=True)"
   ]
  },
  {
   "cell_type": "code",
   "execution_count": 82,
   "id": "73f53aa5",
   "metadata": {},
   "outputs": [
    {
     "data": {
      "text/html": [
       "<div>\n",
       "<style scoped>\n",
       "    .dataframe tbody tr th:only-of-type {\n",
       "        vertical-align: middle;\n",
       "    }\n",
       "\n",
       "    .dataframe tbody tr th {\n",
       "        vertical-align: top;\n",
       "    }\n",
       "\n",
       "    .dataframe thead th {\n",
       "        text-align: right;\n",
       "    }\n",
       "</style>\n",
       "<table border=\"1\" class=\"dataframe\">\n",
       "  <thead>\n",
       "    <tr style=\"text-align: right;\">\n",
       "      <th></th>\n",
       "      <th>Id_Number</th>\n",
       "      <th>Patient Question</th>\n",
       "      <th>Distorted part</th>\n",
       "      <th>Dominant Distortion</th>\n",
       "      <th>Secondary Distortion (Optional)</th>\n",
       "      <th>restored_distorted_part</th>\n",
       "    </tr>\n",
       "  </thead>\n",
       "  <tbody>\n",
       "    <tr>\n",
       "      <th>0</th>\n",
       "      <td>4500</td>\n",
       "      <td>Hello, I have a beautiful,smart,outgoing and a...</td>\n",
       "      <td>The voice are always fimilar (someone she know...</td>\n",
       "      <td>Personalization</td>\n",
       "      <td>NaN</td>\n",
       "      <td>[The voice are always fimilar (someone she kno...</td>\n",
       "    </tr>\n",
       "    <tr>\n",
       "      <th>1</th>\n",
       "      <td>4501</td>\n",
       "      <td>Since I was about 16 years old I’ve had these ...</td>\n",
       "      <td>I feel trapped inside my disgusting self and l...</td>\n",
       "      <td>Labeling</td>\n",
       "      <td>Emotional Reasoning</td>\n",
       "      <td>[I feel trapped inside my disgusting self and ...</td>\n",
       "    </tr>\n",
       "    <tr>\n",
       "      <th>2</th>\n",
       "      <td>4502</td>\n",
       "      <td>So I’ve been dating on and off this guy for a...</td>\n",
       "      <td></td>\n",
       "      <td>No Distortion</td>\n",
       "      <td>NaN</td>\n",
       "      <td>[]</td>\n",
       "    </tr>\n",
       "    <tr>\n",
       "      <th>3</th>\n",
       "      <td>4503</td>\n",
       "      <td>My parents got divorced in 2004. My mother has...</td>\n",
       "      <td></td>\n",
       "      <td>No Distortion</td>\n",
       "      <td>NaN</td>\n",
       "      <td>[]</td>\n",
       "    </tr>\n",
       "    <tr>\n",
       "      <th>4</th>\n",
       "      <td>4504</td>\n",
       "      <td>I don’t really know how to explain the situati...</td>\n",
       "      <td>I refused to go because I didn’t know if it wa...</td>\n",
       "      <td>Fortune-telling</td>\n",
       "      <td>Emotional Reasoning</td>\n",
       "      <td>[I refused to go because I didn’t know if it w...</td>\n",
       "    </tr>\n",
       "  </tbody>\n",
       "</table>\n",
       "</div>"
      ],
      "text/plain": [
       "   Id_Number                                   Patient Question  \\\n",
       "0       4500  Hello, I have a beautiful,smart,outgoing and a...   \n",
       "1       4501  Since I was about 16 years old I’ve had these ...   \n",
       "2       4502   So I’ve been dating on and off this guy for a...   \n",
       "3       4503  My parents got divorced in 2004. My mother has...   \n",
       "4       4504  I don’t really know how to explain the situati...   \n",
       "\n",
       "                                      Distorted part Dominant Distortion  \\\n",
       "0  The voice are always fimilar (someone she know...     Personalization   \n",
       "1  I feel trapped inside my disgusting self and l...            Labeling   \n",
       "2                                                          No Distortion   \n",
       "3                                                          No Distortion   \n",
       "4  I refused to go because I didn’t know if it wa...     Fortune-telling   \n",
       "\n",
       "  Secondary Distortion (Optional)  \\\n",
       "0                             NaN   \n",
       "1             Emotional Reasoning   \n",
       "2                             NaN   \n",
       "3                             NaN   \n",
       "4             Emotional Reasoning   \n",
       "\n",
       "                             restored_distorted_part  \n",
       "0  [The voice are always fimilar (someone she kno...  \n",
       "1  [I feel trapped inside my disgusting self and ...  \n",
       "2                                                 []  \n",
       "3                                                 []  \n",
       "4  [I refused to go because I didn’t know if it w...  "
      ]
     },
     "execution_count": 82,
     "metadata": {},
     "output_type": "execute_result"
    }
   ],
   "source": [
    "df.head()"
   ]
  },
  {
   "cell_type": "code",
   "execution_count": 83,
   "id": "e212b091",
   "metadata": {},
   "outputs": [
    {
     "data": {
      "text/plain": [
       "(2525, 6)"
      ]
     },
     "execution_count": 83,
     "metadata": {},
     "output_type": "execute_result"
    }
   ],
   "source": [
    "df.shape"
   ]
  },
  {
   "cell_type": "code",
   "execution_count": 101,
   "id": "562258fc",
   "metadata": {},
   "outputs": [],
   "source": [
    "annot_list = []\n",
    "for i, annot in enumerate(df.restored_distorted_part.to_list()):\n",
    "    subdf = df.iloc[i, 1]\n",
    "    annot_list.append(annot)\n",
    "    if not all(True if x in subdf else False for x in annot):\n",
    "        raise ValueError"
   ]
  },
  {
   "cell_type": "code",
   "execution_count": null,
   "id": "fcb40a87",
   "metadata": {},
   "outputs": [],
   "source": [
    "# df.to_csv(\"annotated_data_restored.csv\", index=False, sep=\"|\")"
   ]
  },
  {
   "cell_type": "code",
   "execution_count": 120,
   "id": "31a09274",
   "metadata": {},
   "outputs": [],
   "source": [
    "df = pd.read_csv(\"annotated_data_restored.csv\", sep=\"|\")\n",
    "df.Id_Number = df.Id_Number.astype(str)"
   ]
  },
  {
   "cell_type": "code",
   "execution_count": 122,
   "id": "d730428e",
   "metadata": {},
   "outputs": [],
   "source": [
    "samples = df.sample(20)"
   ]
  },
  {
   "cell_type": "code",
   "execution_count": 123,
   "id": "27288730",
   "metadata": {},
   "outputs": [],
   "source": [
    "samples_data = [{'id': i['Id_Number'], 'text': i['Patient Question']} for _, i in samples.iterrows()]"
   ]
  },
  {
   "cell_type": "code",
   "execution_count": 124,
   "id": "9c2456f6",
   "metadata": {},
   "outputs": [
    {
     "data": {
      "text/plain": [
       "{'id': '949',\n",
       " 'text': 'From a teen in the U.S.: I have an extremely low self esteem for no apparent reason; my mom and my family always go out of their way to tell me im beautiful, and sometimes i feel that way, but sometimes i feel horrible, which is selfish when i think about it. I also feel really self conscious about my personality, since it feels like no one likes me, maybe thinks im annoying or that im not worth talking to them.'}"
      ]
     },
     "execution_count": 124,
     "metadata": {},
     "output_type": "execute_result"
    }
   ],
   "source": [
    "samples_data[0]"
   ]
  },
  {
   "cell_type": "code",
   "execution_count": 125,
   "id": "de37224f",
   "metadata": {},
   "outputs": [
    {
     "data": {
      "text/plain": [
       "20"
      ]
     },
     "execution_count": 125,
     "metadata": {},
     "output_type": "execute_result"
    }
   ],
   "source": [
    "len(samples_data)"
   ]
  },
  {
   "cell_type": "markdown",
   "id": "e5aa5ed8",
   "metadata": {},
   "source": [
    "### Проверяем модели"
   ]
  },
  {
   "cell_type": "markdown",
   "id": "8e2499fb",
   "metadata": {},
   "source": [
    "выбираем лучшу модель для перевода, сначала протестируем на 30 примерах по 4 батча"
   ]
  },
  {
   "cell_type": "code",
   "execution_count": 134,
   "id": "4a64e624",
   "metadata": {},
   "outputs": [],
   "source": [
    "models = [\n",
    "    'qwen3-235b-a22b',\n",
    "\t'qwen3-32b',\n",
    "\t'llama-3.3-70b-instruct',\n",
    "\t'gpt-4o',\n",
    "\t'gpt-oss-20b',\n",
    "\t'claude-sonnet-4',\n",
    "\t'gemini-2.5-pro',\n",
    "\t'grok-4'\n",
    "]"
   ]
  },
  {
   "cell_type": "code",
   "execution_count": null,
   "id": "f8aa5ac9",
   "metadata": {},
   "outputs": [],
   "source": [
    "for modelname in models:\n",
    "\tconfig = OmegaConf.load('../configs/conf.yaml')\n",
    "\tgeneral_translation_config = config.general_translation\n",
    "\tgeneral_translation_config.batch_result_dir = f\"batches_res_general_translation_cognitive_{modelname}\"\n",
    "\tgeneral_translation_config.batches = f\"batches_general_translation_cognitive_{modelname}\"\n",
    "\tgeneral_translation_config.batch_size = 2\n",
    "\tgeneral_translation_config.prompt_path = \"../configs/prompts/translation_prompt_cognitive_distortions.txt\"\n",
    "\n",
    "\tmodel_config = read_json(general_translation_config.model_config_path)\n",
    "\tmodel_config['model'] = modelname\n",
    "\n",
    "\tprint(model_config)\n",
    "\n",
    "\tgeneral_translator = Translator(\n",
    "\t\tsystem_message=read_file(general_translation_config.prompt_path), \n",
    "\t\tmodel_config=model_config, \n",
    "\t\texample_data=read_json(general_translation_config.filepath_examples), \n",
    "\t\tbatch_size=general_translation_config.batch_size,\n",
    "\t\tbatch_result_dir=general_translation_config.batch_result_dir,\n",
    "\t\tbatch_dir=general_translation_config.batches,\n",
    "\t\tmodel_type=\"openai\"\n",
    "\t)\n",
    "\t\n",
    "\tgeneral_input_dataset = Dataset.from_list(samples_data)\n",
    "\ttranslation_result = general_translator.translate(general_input_dataset, GeneralTranslationResultSchema)\n",
    "\tsave_json(translation_result, f\"translation_result_{modelname}_cognitive_distortions_20.json\")"
   ]
  },
  {
   "cell_type": "code",
   "execution_count": 135,
   "id": "95d33111",
   "metadata": {},
   "outputs": [],
   "source": [
    "jsons = []\n",
    "for modelname in models:\n",
    "    jsons.append(read_json(f\"translation_result_{modelname}_cognitive_distortions_20.json\"))\n",
    "\n",
    "data = {}\n",
    "for modelname, model_json in zip(models, jsons):\n",
    "    for entry in model_json:\n",
    "        text_id = entry['id']\n",
    "        text_en = entry['text']\n",
    "        translation = entry['text_rus']\n",
    "        if text_id not in data:\n",
    "            data[text_id] = {'id': text_id, 'text_en': text_en}\n",
    "        data[text_id][f'translation_{modelname}'] = translation"
   ]
  },
  {
   "cell_type": "code",
   "execution_count": 138,
   "id": "1dae045c",
   "metadata": {},
   "outputs": [
    {
     "data": {
      "text/html": [
       "<div>\n",
       "<style scoped>\n",
       "    .dataframe tbody tr th:only-of-type {\n",
       "        vertical-align: middle;\n",
       "    }\n",
       "\n",
       "    .dataframe tbody tr th {\n",
       "        vertical-align: top;\n",
       "    }\n",
       "\n",
       "    .dataframe thead th {\n",
       "        text-align: right;\n",
       "    }\n",
       "</style>\n",
       "<table border=\"1\" class=\"dataframe\">\n",
       "  <thead>\n",
       "    <tr style=\"text-align: right;\">\n",
       "      <th></th>\n",
       "      <th>id</th>\n",
       "      <th>text_en</th>\n",
       "      <th>translation_qwen3-235b-a22b</th>\n",
       "      <th>translation_qwen3-32b</th>\n",
       "      <th>translation_llama-3.3-70b-instruct</th>\n",
       "      <th>translation_gpt-4o</th>\n",
       "      <th>translation_gpt-oss-20b</th>\n",
       "      <th>translation_claude-sonnet-4</th>\n",
       "      <th>translation_gemini-2.5-pro</th>\n",
       "      <th>translation_grok-4</th>\n",
       "    </tr>\n",
       "  </thead>\n",
       "  <tbody>\n",
       "    <tr>\n",
       "      <th>0</th>\n",
       "      <td>949</td>\n",
       "      <td>From a teen in the U.S.: I have an extremely l...</td>\n",
       "      <td>От подростка из США: У меня крайне низкая само...</td>\n",
       "      <td>От подростка в США: у меня предельно низкая са...</td>\n",
       "      <td>Из письма подростка из США: У меня очень низка...</td>\n",
       "      <td>От подростка из США: У меня чрезвычайно заниже...</td>\n",
       "      <td>Из подростка из США: У меня крайне низкая само...</td>\n",
       "      <td>От подростка из США: У меня крайне низкая само...</td>\n",
       "      <td>От подростка из США: У меня крайне низкая само...</td>\n",
       "      <td>От подростка из США: У меня крайне низкая само...</td>\n",
       "    </tr>\n",
       "    <tr>\n",
       "      <th>1</th>\n",
       "      <td>1784</td>\n",
       "      <td>I am a 12 year old who has not been diagnosed ...</td>\n",
       "      <td>Мне 12 лет, и у меня не поставлено никаких диа...</td>\n",
       "      <td>Мне 12 лет, у меня не поставлен диагноз заболе...</td>\n",
       "      <td>Мне 12 лет, и у меня нет никаких диагностирова...</td>\n",
       "      <td>Мне 12 лет, и мне не поставлен диагноз никаких...</td>\n",
       "      <td>Мне 12 лет, и у меня не диагностировано никаки...</td>\n",
       "      <td>Мне 12 лет, и у меня не диагностировано никаки...</td>\n",
       "      <td>Мне 12 лет, и у меня не диагностировано никаки...</td>\n",
       "      <td>Мне 12 лет, и у меня не диагностировано никаки...</td>\n",
       "    </tr>\n",
       "    <tr>\n",
       "      <th>2</th>\n",
       "      <td>1133</td>\n",
       "      <td>For the past two years or so I have noticed my...</td>\n",
       "      <td>В течение последних двух лет я замечаю, что мо...</td>\n",
       "      <td>В течение последних двух лет я заметила, что м...</td>\n",
       "      <td>За последние два года или около того я заметил...</td>\n",
       "      <td>На протяжении последних двух лет или около тог...</td>\n",
       "      <td>За последние два года я заметил, что мои эмоци...</td>\n",
       "      <td></td>\n",
       "      <td>Последние года два я замечаю, что мои эмоции б...</td>\n",
       "      <td>За последние два года или около того я заметил...</td>\n",
       "    </tr>\n",
       "    <tr>\n",
       "      <th>3</th>\n",
       "      <td>1538</td>\n",
       "      <td>My best friend of 2 years is going through a l...</td>\n",
       "      <td>Мой лучший друг уже 2 года переживает сложный ...</td>\n",
       "      <td>Мой лучший друг в течение двух лет переживает ...</td>\n",
       "      <td>Мой лучший друг за последние 2 года проходит ч...</td>\n",
       "      <td>Мой лучший друг, с которым мы дружим 2 года, п...</td>\n",
       "      <td>Мой лучший друг, с которым я дружу два года, с...</td>\n",
       "      <td></td>\n",
       "      <td>У моего лучшего друга, с которым мы дружим два...</td>\n",
       "      <td>Мой лучший друг двух лет переживает много всег...</td>\n",
       "    </tr>\n",
       "    <tr>\n",
       "      <th>4</th>\n",
       "      <td>384</td>\n",
       "      <td>I have a problem. I don’t feel like I have a h...</td>\n",
       "      <td>У меня проблема. Я не испытываю ощущение счаст...</td>\n",
       "      <td>У меня проблема. Мне не кажется, что у меня сч...</td>\n",
       "      <td>У меня есть проблема. Мне не кажется, что у ме...</td>\n",
       "      <td>У меня проблема. Я не чувствую, что у меня впе...</td>\n",
       "      <td>У меня проблема. Я не чувствую, что у меня ест...</td>\n",
       "      <td>У меня есть проблема. Я не чувствую, что впере...</td>\n",
       "      <td>У меня проблема. Я не чувствую, что меня ждёт ...</td>\n",
       "      <td>У меня проблема. Я не чувствую, что впереди ме...</td>\n",
       "    </tr>\n",
       "  </tbody>\n",
       "</table>\n",
       "</div>"
      ],
      "text/plain": [
       "     id                                            text_en  \\\n",
       "0   949  From a teen in the U.S.: I have an extremely l...   \n",
       "1  1784  I am a 12 year old who has not been diagnosed ...   \n",
       "2  1133  For the past two years or so I have noticed my...   \n",
       "3  1538  My best friend of 2 years is going through a l...   \n",
       "4   384  I have a problem. I don’t feel like I have a h...   \n",
       "\n",
       "                         translation_qwen3-235b-a22b  \\\n",
       "0  От подростка из США: У меня крайне низкая само...   \n",
       "1  Мне 12 лет, и у меня не поставлено никаких диа...   \n",
       "2  В течение последних двух лет я замечаю, что мо...   \n",
       "3  Мой лучший друг уже 2 года переживает сложный ...   \n",
       "4  У меня проблема. Я не испытываю ощущение счаст...   \n",
       "\n",
       "                               translation_qwen3-32b  \\\n",
       "0  От подростка в США: у меня предельно низкая са...   \n",
       "1  Мне 12 лет, у меня не поставлен диагноз заболе...   \n",
       "2  В течение последних двух лет я заметила, что м...   \n",
       "3  Мой лучший друг в течение двух лет переживает ...   \n",
       "4  У меня проблема. Мне не кажется, что у меня сч...   \n",
       "\n",
       "                  translation_llama-3.3-70b-instruct  \\\n",
       "0  Из письма подростка из США: У меня очень низка...   \n",
       "1  Мне 12 лет, и у меня нет никаких диагностирова...   \n",
       "2  За последние два года или около того я заметил...   \n",
       "3  Мой лучший друг за последние 2 года проходит ч...   \n",
       "4  У меня есть проблема. Мне не кажется, что у ме...   \n",
       "\n",
       "                                  translation_gpt-4o  \\\n",
       "0  От подростка из США: У меня чрезвычайно заниже...   \n",
       "1  Мне 12 лет, и мне не поставлен диагноз никаких...   \n",
       "2  На протяжении последних двух лет или около тог...   \n",
       "3  Мой лучший друг, с которым мы дружим 2 года, п...   \n",
       "4  У меня проблема. Я не чувствую, что у меня впе...   \n",
       "\n",
       "                             translation_gpt-oss-20b  \\\n",
       "0  Из подростка из США: У меня крайне низкая само...   \n",
       "1  Мне 12 лет, и у меня не диагностировано никаки...   \n",
       "2  За последние два года я заметил, что мои эмоци...   \n",
       "3  Мой лучший друг, с которым я дружу два года, с...   \n",
       "4  У меня проблема. Я не чувствую, что у меня ест...   \n",
       "\n",
       "                         translation_claude-sonnet-4  \\\n",
       "0  От подростка из США: У меня крайне низкая само...   \n",
       "1  Мне 12 лет, и у меня не диагностировано никаки...   \n",
       "2                                                      \n",
       "3                                                      \n",
       "4  У меня есть проблема. Я не чувствую, что впере...   \n",
       "\n",
       "                          translation_gemini-2.5-pro  \\\n",
       "0  От подростка из США: У меня крайне низкая само...   \n",
       "1  Мне 12 лет, и у меня не диагностировано никаки...   \n",
       "2  Последние года два я замечаю, что мои эмоции б...   \n",
       "3  У моего лучшего друга, с которым мы дружим два...   \n",
       "4  У меня проблема. Я не чувствую, что меня ждёт ...   \n",
       "\n",
       "                                  translation_grok-4  \n",
       "0  От подростка из США: У меня крайне низкая само...  \n",
       "1  Мне 12 лет, и у меня не диагностировано никаки...  \n",
       "2  За последние два года или около того я заметил...  \n",
       "3  Мой лучший друг двух лет переживает много всег...  \n",
       "4  У меня проблема. Я не чувствую, что впереди ме...  "
      ]
     },
     "execution_count": 138,
     "metadata": {},
     "output_type": "execute_result"
    }
   ],
   "source": [
    "df_translations = pd.DataFrame(list(data.values()))\n",
    "df_translations.replace(np.nan, \"\", inplace=True)\n",
    "df_translations.head()"
   ]
  },
  {
   "cell_type": "code",
   "execution_count": 140,
   "id": "6366b013",
   "metadata": {},
   "outputs": [
    {
     "data": {
      "text/plain": [
       "(20, 10)"
      ]
     },
     "execution_count": 140,
     "metadata": {},
     "output_type": "execute_result"
    }
   ],
   "source": [
    "df_translations.shape"
   ]
  },
  {
   "cell_type": "code",
   "execution_count": null,
   "id": "bfa1a240",
   "metadata": {},
   "outputs": [],
   "source": [
    "# df_translations.to_csv(\"cognitive_distortions_translations20.csv\", index=False, sep=\"|\")"
   ]
  },
  {
   "cell_type": "markdown",
   "id": "f420647c",
   "metadata": {},
   "source": [
    "### Перевод текстов"
   ]
  },
  {
   "cell_type": "markdown",
   "id": "cf3fe0b1",
   "metadata": {},
   "source": [
    "выбрали для перевода текстов модель grok-4:"
   ]
  },
  {
   "cell_type": "code",
   "execution_count": null,
   "id": "45e87fbc",
   "metadata": {},
   "outputs": [],
   "source": [
    "modelname = 'grok-4'\n",
    "\n",
    "config = OmegaConf.load('../configs/conf.yaml')\n",
    "general_translation_config = config.general_translation\n",
    "\n",
    "model_config = read_json(general_translation_config.model_config_path)\n",
    "model_config['model'] = modelname\n",
    "\n",
    "general_translation_config.batch_result_dir = f\"batches_res_general_translation_cognitive_{modelname}_all1\"\n",
    "general_translation_config.batches = f\"batches_general_translation_cognitive_{modelname}_all1\"\n",
    "general_translation_config.prompt_path = \"../configs/prompts/translation_promp_cognitive_distortions.txt\"\n",
    "general_translation_config.batch_size = 4\n",
    "\n",
    "\n",
    "general_translator = Translator(\n",
    "\tsystem_message=read_file(general_translation_config.prompt_path), \n",
    "\tmodel_config=model_config, \n",
    "\texample_data=read_json(general_translation_config.filepath_examples), \n",
    "\tbatch_size=general_translation_config.batch_size,\n",
    "\tbatch_result_dir=general_translation_config.batch_result_dir,\n",
    "\tbatch_dir=general_translation_config.batches,\n",
    "\tmodel_type=\"openai\"\n",
    ")"
   ]
  },
  {
   "cell_type": "code",
   "execution_count": null,
   "id": "555baddd",
   "metadata": {},
   "outputs": [],
   "source": [
    "samples_data = [{'id': i['Id_Number'], 'text': i['Patient Question']} for _, i in df.iterrows()]\n",
    "general_input_dataset = Dataset.from_list(samples_data)\n",
    "translation_result = general_translator.translate(general_input_dataset, GeneralTranslationResultSchema)"
   ]
  },
  {
   "cell_type": "code",
   "execution_count": null,
   "id": "70bd6fce",
   "metadata": {},
   "outputs": [],
   "source": [
    "# save_json(translation_result, f\"translation_result_{modelname}_cognitive_distortions.json\")"
   ]
  },
  {
   "cell_type": "code",
   "execution_count": null,
   "id": "cba0f01f",
   "metadata": {},
   "outputs": [],
   "source": [
    "dataset_ids = set([str(item['id']) for item in samples_data])\n",
    "tr_ids = set([item['id'] for item in translation_result])"
   ]
  },
  {
   "cell_type": "code",
   "execution_count": 41,
   "id": "2ced470b",
   "metadata": {},
   "outputs": [
    {
     "data": {
      "text/plain": [
       "0"
      ]
     },
     "execution_count": 41,
     "metadata": {},
     "output_type": "execute_result"
    }
   ],
   "source": [
    "more = dataset_ids - tr_ids\n",
    "len(more)"
   ]
  },
  {
   "cell_type": "code",
   "execution_count": 42,
   "id": "584bd55c",
   "metadata": {},
   "outputs": [
    {
     "data": {
      "text/plain": [
       "0"
      ]
     },
     "execution_count": 42,
     "metadata": {},
     "output_type": "execute_result"
    }
   ],
   "source": [
    "len(tr_ids - dataset_ids)"
   ]
  },
  {
   "cell_type": "code",
   "execution_count": null,
   "id": "057a13fd",
   "metadata": {},
   "outputs": [],
   "source": [
    "i = 0\n",
    "to_correct = []\n",
    "for item in translation_result:\n",
    "    if not is_russian_text(item['text_rus']):\n",
    "        to_correct.append(item)\n",
    "        print(item['text_rus'])\n",
    "        print('***************'*10)\n",
    "        i += 1"
   ]
  },
  {
   "cell_type": "code",
   "execution_count": null,
   "id": "c6cf0114",
   "metadata": {},
   "outputs": [],
   "source": [
    "for item in more:\n",
    "    for d in samples_data:\n",
    "        if d['id'] == item:\n",
    "            to_correct.append(d)"
   ]
  },
  {
   "cell_type": "code",
   "execution_count": null,
   "id": "6e915769",
   "metadata": {},
   "outputs": [],
   "source": [
    "for item in to_correct:\n",
    "    if 'text_rus' in item:\n",
    "        del item['text_rus']"
   ]
  },
  {
   "cell_type": "code",
   "execution_count": null,
   "id": "5f333cdb",
   "metadata": {},
   "outputs": [],
   "source": [
    "len(to_correct)"
   ]
  },
  {
   "cell_type": "code",
   "execution_count": null,
   "id": "2e1de63d",
   "metadata": {},
   "outputs": [],
   "source": [
    "to_correct_ids = set([i['id'] for i in to_correct])"
   ]
  },
  {
   "cell_type": "code",
   "execution_count": null,
   "id": "3bc094b1",
   "metadata": {},
   "outputs": [],
   "source": [
    "for i, item in enumerate(translation_result):\n",
    "    if item['id'] in to_correct_ids:\n",
    "        samples_data.remove(item)"
   ]
  },
  {
   "cell_type": "code",
   "execution_count": null,
   "id": "ec6c6006",
   "metadata": {},
   "outputs": [],
   "source": [
    "save_json(translation_result, \"alltr_normalized_cognitive_distortions.json\")"
   ]
  },
  {
   "cell_type": "markdown",
   "id": "eb5984e7",
   "metadata": {},
   "source": [
    "### Перевод подстрок"
   ]
  },
  {
   "cell_type": "markdown",
   "id": "33e43135",
   "metadata": {},
   "source": [
    "теперь переведем подстроки, для этого используем модель gpt-4o"
   ]
  },
  {
   "cell_type": "code",
   "execution_count": 65,
   "id": "5e4b8d59",
   "metadata": {},
   "outputs": [],
   "source": [
    "alltr_normalized = read_json(\"alltr_normalized_cognitive_distortions.json\")\n",
    "alltr_normalized_dict = {item['id']: item for item in alltr_normalized}"
   ]
  },
  {
   "cell_type": "code",
   "execution_count": 68,
   "id": "b41eb6bb",
   "metadata": {},
   "outputs": [],
   "source": [
    "rationales_data = []\n",
    "for _, row in df.iterrows():\n",
    "    if row.restored_distorted_part != \"['']\":\n",
    "        rationales_data.append({\n",
    "\t\t\t'id': row.Id_Number,\n",
    "\t\t\t'text_eng': row['Patient Question'],\n",
    "            'text_rus': alltr_normalized_dict[str(row.Id_Number)]['text_rus'],\n",
    "\t\t\t'rationales_eng': \"|\".join(ast.literal_eval(row.restored_distorted_part))\n",
    "\t\t})"
   ]
  },
  {
   "cell_type": "code",
   "execution_count": 72,
   "id": "1a0aa55b",
   "metadata": {},
   "outputs": [],
   "source": [
    "incorrectly_formed = [] \n",
    "for item in rationales_data:\n",
    "\trats = item['rationales_eng'].strip('|').split('|')\n",
    "\tfor r in rats:\n",
    "\t\tif item['text_eng'].find(r) == -1:\n",
    "\t\t\tincorrectly_formed.append(item)"
   ]
  },
  {
   "cell_type": "code",
   "execution_count": 73,
   "id": "5b287b31",
   "metadata": {},
   "outputs": [
    {
     "data": {
      "text/plain": [
       "[]"
      ]
     },
     "execution_count": 73,
     "metadata": {},
     "output_type": "execute_result"
    }
   ],
   "source": [
    "incorrectly_formed"
   ]
  },
  {
   "cell_type": "code",
   "execution_count": 69,
   "id": "32e5cfb2",
   "metadata": {},
   "outputs": [
    {
     "data": {
      "text/plain": [
       "1592"
      ]
     },
     "execution_count": 69,
     "metadata": {},
     "output_type": "execute_result"
    }
   ],
   "source": [
    "len(rationales_data)"
   ]
  },
  {
   "cell_type": "code",
   "execution_count": 71,
   "id": "cbc197ce",
   "metadata": {},
   "outputs": [
    {
     "data": {
      "text/plain": [
       "{'id': 4500,\n",
       " 'text_eng': 'Hello, I have a beautiful,smart,outgoing and amazing five year old little girl. Yesterday she came to me and said mom can you take me to the doctor. I ask her what was wrong and she replied: I hear voices in my ears but I dont see the people saying it. She says it happened during school doing a reading circle. She thought someone called her stupid and let the teacher know. The teacher said no one said anything. It happened again when my husband was talking to my other children, she said I heard daddy say shut up, but he didnt really say it. The voice are always fimilar (someone she knows) Im very concerned about this and hope it has nothing to do with my pregnancy while on active duty.',\n",
       " 'text_rus': 'Здравствуйте, у меня есть красивая, умная, общительная и удивительная пятилетняя девочка. Вчера она подошла ко мне и сказала: мама, ты можешь отвезти меня к врачу. Я спросила, что случилось, и она ответила: я слышу голоса в ушах, но не вижу людей, которые это говорят. Она говорит, что это произошло в школе в круге чтения. Она подумала, что кто-то назвал ее глупой, и сообщила учителю. Учитель сказал, что никто ничего не говорил. Это случилось снова, когда мой муж разговаривал с другими детьми, и она сказала, что слышала, как папа сказал: замолчи, хотя на самом деле он этого не говорил. Голоса всегда знакомы (кто-то, кого она знает). Я очень обеспокоина этим и надеюсь, что это не связано с моим беременностью, пока я была на службе.',\n",
       " 'rationales_eng': 'The voice are always fimilar (someone she knows) Im very concerned about this and hope it has nothing to do with my pregnancy while on active duty.'}"
      ]
     },
     "execution_count": 71,
     "metadata": {},
     "output_type": "execute_result"
    }
   ],
   "source": [
    "rationales_data[0]"
   ]
  },
  {
   "cell_type": "code",
   "execution_count": null,
   "id": "75c33961",
   "metadata": {},
   "outputs": [],
   "source": [
    "modelname = 'gpt-4o'\n",
    "\n",
    "config = OmegaConf.load('../configs/conf.yaml')\n",
    "rationales_translation_config = config.rationales_translation\n",
    "\n",
    "model_config = read_json(rationales_translation_config.model_config_path)\n",
    "model_config['model'] = modelname\n",
    "\n",
    "rationales_translation_config.batch_result_dir = f\"batches_res_general_translation_cognitive_{modelname}_all_rationales\"\n",
    "rationales_translation_config.batches = f\"batches_general_translation_cognitive_{modelname}_all_rationales\"\n",
    "rationales_translation_config.batch_size = 4\n",
    "\n",
    "\n",
    "rational_translator = Translator(\n",
    "    system_message=read_file(rationales_translation_config.prompt_path), \n",
    "    model_config=model_config, \n",
    "    example_data=read_json(rationales_translation_config.filepath_examples), \n",
    "    batch_size=rationales_translation_config.batch_size,\n",
    "    batch_result_dir=rationales_translation_config.batch_result_dir,\n",
    "    batch_dir=rationales_translation_config.batches,\n",
    "    model_type=\"openai\"\n",
    ")"
   ]
  },
  {
   "cell_type": "code",
   "execution_count": null,
   "id": "f37d6a1c",
   "metadata": {},
   "outputs": [],
   "source": [
    "translation_result_rationales = rational_translator.translate(rationales_data, RationaleTranslationResultSchema)"
   ]
  },
  {
   "cell_type": "code",
   "execution_count": null,
   "id": "a1e9f2f4",
   "metadata": {},
   "outputs": [],
   "source": [
    "incorrectly_translated = [] \n",
    "for item in translation_result_rationales:\n",
    "\trats = item['rationales_rus'].strip('|').split('|')\n",
    "\t# if len(item['rationales_eng'].strip('|').split(\"|\")) != len(rats):\n",
    "\t# \tincorrectly_translated.append(item)\n",
    "\tfor r in rats:\n",
    "\t\tif item['text_rus'].find(r) == -1:\n",
    "\t\t\tincorrectly_translated.append(item)"
   ]
  },
  {
   "cell_type": "code",
   "execution_count": 161,
   "id": "2c20ff0b",
   "metadata": {},
   "outputs": [],
   "source": [
    "for i in incorrectly_translated:\n",
    "    if 'rationales_rus' in i:\n",
    "    \tdel i['rationales_rus']"
   ]
  },
  {
   "cell_type": "code",
   "execution_count": null,
   "id": "9d7decf7",
   "metadata": {},
   "outputs": [],
   "source": [
    "translated_rationales = list(filter(lambda x : x not in incorrectly_translated, translation_result_rationales))\n",
    "len(translated_rationales)"
   ]
  },
  {
   "cell_type": "code",
   "execution_count": null,
   "id": "3d51a8e7",
   "metadata": {},
   "outputs": [],
   "source": [
    "save_json(translated_rationales, 'cognitive_distortions_translated.json')"
   ]
  },
  {
   "cell_type": "code",
   "execution_count": 167,
   "id": "d2466a37",
   "metadata": {},
   "outputs": [],
   "source": [
    "def index(a_list, value):\n",
    "    try:\n",
    "        return a_list.index(value)\n",
    "    except ValueError:\n",
    "        return -1"
   ]
  },
  {
   "cell_type": "code",
   "execution_count": 168,
   "id": "c212f723",
   "metadata": {},
   "outputs": [],
   "source": [
    "i = 0\n",
    "all_data_ids = [str(item[\"id\"]) for item in rationales_data]\n",
    "for t in translation_result_rationales:\n",
    "    present_idx = index(all_data_ids, t['id'])\n",
    "    if present_idx == -1:\n",
    "        i += 1"
   ]
  },
  {
   "cell_type": "code",
   "execution_count": 169,
   "id": "8b986ba1",
   "metadata": {},
   "outputs": [
    {
     "data": {
      "text/plain": [
       "0"
      ]
     },
     "execution_count": 169,
     "metadata": {},
     "output_type": "execute_result"
    }
   ],
   "source": [
    "i"
   ]
  },
  {
   "cell_type": "code",
   "execution_count": 170,
   "id": "df439a79",
   "metadata": {},
   "outputs": [],
   "source": [
    "k = 0\n",
    "to_correct = []\n",
    "all_translation_ids = [str(item[\"id\"]) for item in translation_result_rationales]\n",
    "for t in rationales_data:\n",
    "    present_idx = index(all_translation_ids, str(t['id']))\n",
    "    if present_idx == -1:\n",
    "        k += 1\n",
    "        to_correct.append(t)"
   ]
  },
  {
   "cell_type": "code",
   "execution_count": 171,
   "id": "5f7b551d",
   "metadata": {},
   "outputs": [
    {
     "data": {
      "text/plain": [
       "0"
      ]
     },
     "execution_count": 171,
     "metadata": {},
     "output_type": "execute_result"
    }
   ],
   "source": [
    "k"
   ]
  },
  {
   "cell_type": "markdown",
   "id": "177c0370",
   "metadata": {},
   "source": [
    "### Проверка и сбор данных"
   ]
  },
  {
   "cell_type": "markdown",
   "id": "805faaf6",
   "metadata": {},
   "source": [
    "после перевода подстрок и текстов соберем все данные и проверим корректны ли они."
   ]
  },
  {
   "cell_type": "code",
   "execution_count": 74,
   "id": "8c757877",
   "metadata": {},
   "outputs": [],
   "source": [
    "cogn_data = read_json('cognitive_distortions.json')\n",
    "tranlations = read_json('cognitive_distortions_translations_1592.json')"
   ]
  },
  {
   "cell_type": "markdown",
   "id": "5147a388",
   "metadata": {},
   "source": [
    "так как в процессе модели могут менять некоторые данные внутри возвращаемых словарей, убедимся, что у нас тексты корректны."
   ]
  },
  {
   "cell_type": "code",
   "execution_count": 75,
   "id": "33072d7e",
   "metadata": {},
   "outputs": [],
   "source": [
    "for i, tr in enumerate(tranlations):\n",
    "    for ff in cogn_data:\n",
    "        if tr['id'] == str(ff['id']):\n",
    "            tranlations[i]['text_eng'] = ff['text']\n",
    "            break"
   ]
  },
  {
   "cell_type": "code",
   "execution_count": 76,
   "id": "9f4319fa",
   "metadata": {},
   "outputs": [],
   "source": [
    "# save_json(tranlations, 'cognitive_distortions_translations_1592.json')"
   ]
  },
  {
   "cell_type": "code",
   "execution_count": 77,
   "id": "e8bd36f0",
   "metadata": {},
   "outputs": [],
   "source": [
    "translations_rat = read_json('cognitive_distortions_translations_1592.json')\n",
    "translations_rat_ids = [i['id'] for i in translations_rat]\n",
    "translations_rat_dict = {i['id']: i for i in translations_rat}\n",
    "\n",
    "translations = read_json('alltr_normalized_cognitive_distortions.json')\n",
    "translations_ids = [i['id'] for i in translations]\n",
    "translations_dict = {i['id']: i for i in translations}"
   ]
  },
  {
   "cell_type": "code",
   "execution_count": 78,
   "id": "fd196048",
   "metadata": {},
   "outputs": [
    {
     "data": {
      "text/plain": [
       "(2525, 1592)"
      ]
     },
     "execution_count": 78,
     "metadata": {},
     "output_type": "execute_result"
    }
   ],
   "source": [
    "len(translations), len(translations_rat)"
   ]
  },
  {
   "cell_type": "code",
   "execution_count": 79,
   "id": "8ea9dd58",
   "metadata": {},
   "outputs": [],
   "source": [
    "final_data = []\n",
    "for _, row in df.iterrows():\n",
    "    id = str(row.Id_Number)\n",
    "    if id in translations_rat_ids:\n",
    "        final_data.append({\n",
    "\t\t\t'id': id,\n",
    "\t\t\t'patient_question': translations_rat_dict[id]['text_eng'],\n",
    "\t\t\t'patient_question_rus': translations_rat_dict[id]['text_rus'],\n",
    "\t\t\t'distorted_part': translations_rat_dict[id]['rationales_eng'].split('|'),\n",
    "\t\t\t'distorted_part_rus': translations_rat_dict[id]['rationales_rus'].split('|'),\n",
    "            'dominant_distortion': row['Dominant Distortion'],\n",
    "\t\t\t'secondary_distortion': row['Secondary Distortion (Optional)'],\n",
    "\t\t})\n",
    "    elif id in translations_ids:\n",
    "        final_data.append({\n",
    "\t\t\t'id': id,\n",
    "\t\t\t'patient_question': translations_dict[id]['text'],\n",
    "\t\t\t'patient_question_rus': translations_dict[id]['text_rus'],\n",
    "\t\t\t'distorted_part': '',\n",
    "\t\t\t'distorted_part_rus': '',\n",
    "            'dominant_distortion': row['Dominant Distortion'],\n",
    "\t\t\t'secondary_distortion': row['Secondary Distortion (Optional)'],\n",
    "\t\t})"
   ]
  },
  {
   "cell_type": "code",
   "execution_count": 80,
   "id": "5dd272ba",
   "metadata": {},
   "outputs": [
    {
     "data": {
      "text/plain": [
       "2525"
      ]
     },
     "execution_count": 80,
     "metadata": {},
     "output_type": "execute_result"
    }
   ],
   "source": [
    "len(final_data)"
   ]
  },
  {
   "cell_type": "code",
   "execution_count": 81,
   "id": "5459c014",
   "metadata": {},
   "outputs": [],
   "source": [
    "final_data_df = pd.DataFrame(final_data)"
   ]
  },
  {
   "cell_type": "code",
   "execution_count": 83,
   "id": "3e6c911c",
   "metadata": {},
   "outputs": [
    {
     "data": {
      "text/plain": [
       "set()"
      ]
     },
     "execution_count": 83,
     "metadata": {},
     "output_type": "execute_result"
    }
   ],
   "source": [
    "set(final_data_df.id.unique()) - set([str(i) for i in df.Id_Number.unique()])"
   ]
  },
  {
   "cell_type": "code",
   "execution_count": 84,
   "id": "0eab16cd",
   "metadata": {},
   "outputs": [
    {
     "data": {
      "text/plain": [
       "set()"
      ]
     },
     "execution_count": 84,
     "metadata": {},
     "output_type": "execute_result"
    }
   ],
   "source": [
    "set([str(i) for i in df.Id_Number.unique()]) - set(final_data_df.id.unique()) "
   ]
  },
  {
   "cell_type": "code",
   "execution_count": null,
   "id": "5a68dcd6",
   "metadata": {},
   "outputs": [],
   "source": [
    "# final_data_df.to_csv(\"cognitive_distortions_translations.csv\", sep=\"|\")"
   ]
  },
  {
   "cell_type": "code",
   "execution_count": 86,
   "id": "a506b8c3",
   "metadata": {},
   "outputs": [
    {
     "data": {
      "text/html": [
       "<div>\n",
       "<style scoped>\n",
       "    .dataframe tbody tr th:only-of-type {\n",
       "        vertical-align: middle;\n",
       "    }\n",
       "\n",
       "    .dataframe tbody tr th {\n",
       "        vertical-align: top;\n",
       "    }\n",
       "\n",
       "    .dataframe thead th {\n",
       "        text-align: right;\n",
       "    }\n",
       "</style>\n",
       "<table border=\"1\" class=\"dataframe\">\n",
       "  <thead>\n",
       "    <tr style=\"text-align: right;\">\n",
       "      <th></th>\n",
       "      <th>id</th>\n",
       "      <th>patient_question</th>\n",
       "      <th>patient_question_rus</th>\n",
       "      <th>distorted_part</th>\n",
       "      <th>distorted_part_rus</th>\n",
       "      <th>dominant_distortion</th>\n",
       "      <th>secondary_distortion</th>\n",
       "    </tr>\n",
       "  </thead>\n",
       "  <tbody>\n",
       "    <tr>\n",
       "      <th>0</th>\n",
       "      <td>4500</td>\n",
       "      <td>Hello, I have a beautiful,smart,outgoing and a...</td>\n",
       "      <td>Здравствуйте, у меня есть красивая, умная, общ...</td>\n",
       "      <td>[The voice are always fimilar (someone she kno...</td>\n",
       "      <td>[Голоса всегда знакомы (кто-то, кого она знает...</td>\n",
       "      <td>Personalization</td>\n",
       "      <td>NaN</td>\n",
       "    </tr>\n",
       "    <tr>\n",
       "      <th>1</th>\n",
       "      <td>4501</td>\n",
       "      <td>Since I was about 16 years old I’ve had these ...</td>\n",
       "      <td>С 16 лет у меня бывают такие «приступы», когда...</td>\n",
       "      <td>[I feel trapped inside my disgusting self and ...</td>\n",
       "      <td>[Я чувствую себя запертым в своем отвратительн...</td>\n",
       "      <td>Labeling</td>\n",
       "      <td>Emotional Reasoning</td>\n",
       "    </tr>\n",
       "    <tr>\n",
       "      <th>2</th>\n",
       "      <td>4502</td>\n",
       "      <td>So I’ve been dating on and off this guy for al...</td>\n",
       "      <td>Итак, я встречаюсь с этим парнем то встречаюсь...</td>\n",
       "      <td></td>\n",
       "      <td></td>\n",
       "      <td>No Distortion</td>\n",
       "      <td>NaN</td>\n",
       "    </tr>\n",
       "  </tbody>\n",
       "</table>\n",
       "</div>"
      ],
      "text/plain": [
       "     id                                   patient_question  \\\n",
       "0  4500  Hello, I have a beautiful,smart,outgoing and a...   \n",
       "1  4501  Since I was about 16 years old I’ve had these ...   \n",
       "2  4502  So I’ve been dating on and off this guy for al...   \n",
       "\n",
       "                                patient_question_rus  \\\n",
       "0  Здравствуйте, у меня есть красивая, умная, общ...   \n",
       "1  С 16 лет у меня бывают такие «приступы», когда...   \n",
       "2  Итак, я встречаюсь с этим парнем то встречаюсь...   \n",
       "\n",
       "                                      distorted_part  \\\n",
       "0  [The voice are always fimilar (someone she kno...   \n",
       "1  [I feel trapped inside my disgusting self and ...   \n",
       "2                                                      \n",
       "\n",
       "                                  distorted_part_rus dominant_distortion  \\\n",
       "0  [Голоса всегда знакомы (кто-то, кого она знает...     Personalization   \n",
       "1  [Я чувствую себя запертым в своем отвратительн...            Labeling   \n",
       "2                                                          No Distortion   \n",
       "\n",
       "  secondary_distortion  \n",
       "0                  NaN  \n",
       "1  Emotional Reasoning  \n",
       "2                  NaN  "
      ]
     },
     "execution_count": 86,
     "metadata": {},
     "output_type": "execute_result"
    }
   ],
   "source": [
    "final_data_df.head(3)"
   ]
  },
  {
   "cell_type": "code",
   "execution_count": 5,
   "id": "ac6edf4f",
   "metadata": {},
   "outputs": [],
   "source": [
    "# df.to_csv(\"cognitive_distortions_gpt4_synthetic.csv\", sep=\"|\", index=False)"
   ]
  },
  {
   "cell_type": "markdown",
   "id": "41e3ef08",
   "metadata": {},
   "source": [
    "### Перевод синтетических данных\n",
    "https://huggingface.co/datasets/halilbabacan/cognitive_distortions_gpt4"
   ]
  },
  {
   "cell_type": "code",
   "execution_count": null,
   "id": "5e7d3256",
   "metadata": {},
   "outputs": [],
   "source": [
    "from deepmultilingualpunctuation import PunctuationModel"
   ]
  },
  {
   "cell_type": "code",
   "execution_count": 87,
   "id": "325c0263",
   "metadata": {},
   "outputs": [],
   "source": [
    "df_synt = pd.read_csv(\"cognitive_distortions_gpt4_synthetic.csv\", sep=\"|\")"
   ]
  },
  {
   "cell_type": "code",
   "execution_count": null,
   "id": "afb19c72",
   "metadata": {},
   "outputs": [],
   "source": [
    "model = PunctuationModel()\n",
    "df_synt.dropna(inplace=True)\n",
    "texts = df_synt.text.tolist()"
   ]
  },
  {
   "cell_type": "code",
   "execution_count": null,
   "id": "847e6b18",
   "metadata": {},
   "outputs": [],
   "source": [
    "restored = {}\n",
    "for t in tqdm(texts):\n",
    "    restored[t] = model.restore_punctuation(t)"
   ]
  },
  {
   "cell_type": "code",
   "execution_count": null,
   "id": "27e161b2",
   "metadata": {},
   "outputs": [],
   "source": [
    "df_synt['restored_punct'] = df_synt.text.apply(lambda x: restored[x])"
   ]
  },
  {
   "cell_type": "code",
   "execution_count": null,
   "id": "130db7af",
   "metadata": {},
   "outputs": [],
   "source": [
    "# df_synt.to_csv('cognitive_distortions_gpt4_synthetic.csv', sep=\"|\")"
   ]
  },
  {
   "cell_type": "code",
   "execution_count": null,
   "id": "fc912e5b",
   "metadata": {},
   "outputs": [],
   "source": [
    "df_synt = pd.read_csv(\"cognitive_distortions_gpt4_synthetic.csv\", sep=\"|\")"
   ]
  },
  {
   "cell_type": "code",
   "execution_count": null,
   "id": "82a73681",
   "metadata": {},
   "outputs": [],
   "source": [
    "modelname = 'grok-4'\n",
    "\n",
    "config = OmegaConf.load('../configs/conf.yaml')\n",
    "general_translation_config = config.general_translation\n",
    "\n",
    "model_config = read_json(general_translation_config.model_config_path)\n",
    "model_config['model'] = modelname\n",
    "\n",
    "general_translation_config.batch_result_dir = f\"batches_res_general_translation_cognitive_{modelname}_syn\"\n",
    "general_translation_config.batches = f\"batches_general_translation_cognitive_{modelname}_syn\"\n",
    "general_translation_config.prompt_path = \"../configs/prompts/translation_promp_cognitive_distortions.txt\"\n",
    "general_translation_config.batch_size = 32\n",
    "\n",
    "\n",
    "general_translator = Translator(\n",
    "\tsystem_message=read_file(general_translation_config.prompt_path), \n",
    "\tmodel_config=model_config, \n",
    "\texample_data=read_json(general_translation_config.filepath_examples), \n",
    "\tbatch_size=general_translation_config.batch_size,\n",
    "\tbatch_result_dir=general_translation_config.batch_result_dir,\n",
    "\tbatch_dir=general_translation_config.batches,\n",
    "\tmodel_type=\"openai\"\n",
    ")"
   ]
  },
  {
   "cell_type": "code",
   "execution_count": 97,
   "id": "97ea58e7",
   "metadata": {},
   "outputs": [],
   "source": [
    "df_synt_no_dup = df_synt.drop_duplicates(subset=['text', 'label'])\n",
    "df_synt_no_dup = df_synt_no_dup.rename(columns={'Unnamed: 0': 'id'})"
   ]
  },
  {
   "cell_type": "code",
   "execution_count": 98,
   "id": "76545f97",
   "metadata": {},
   "outputs": [
    {
     "data": {
      "text/plain": [
       "(1473, 4)"
      ]
     },
     "execution_count": 98,
     "metadata": {},
     "output_type": "execute_result"
    }
   ],
   "source": [
    "df_synt_no_dup.shape"
   ]
  },
  {
   "cell_type": "code",
   "execution_count": 111,
   "id": "3ee2a4b1",
   "metadata": {},
   "outputs": [
    {
     "data": {
      "text/plain": [
       "{'id': 242, 'text': \"I couldn't solve the math problem. I'm not good at math.\"}"
      ]
     },
     "execution_count": 111,
     "metadata": {},
     "output_type": "execute_result"
    }
   ],
   "source": [
    "samples_data = [{'id': i.id, 'text': i['restored_punct']} for _, i in df_synt_no_dup.iterrows()]\n",
    "samples_data[182]"
   ]
  },
  {
   "cell_type": "code",
   "execution_count": 57,
   "id": "3ff04874",
   "metadata": {},
   "outputs": [
    {
     "name": "stderr",
     "output_type": "stream",
     "text": [
      "Creating json from Arrow format: 100%|██████████| 1/1 [00:00<00:00, 123.90ba/s]\n"
     ]
    },
    {
     "name": "stdout",
     "output_type": "stream",
     "text": [
      "Processing batch 1/1...\n"
     ]
    },
    {
     "name": "stderr",
     "output_type": "stream",
     "text": [
      "Creating json from Arrow format: 100%|██████████| 1/1 [00:00<00:00, 854.76ba/s]\n"
     ]
    }
   ],
   "source": [
    "general_input_dataset = Dataset.from_list(samples_data)\n",
    "translation_result = general_translator.translate(general_input_dataset, GeneralTranslationResultSchema)"
   ]
  },
  {
   "cell_type": "code",
   "execution_count": null,
   "id": "3be90a0a",
   "metadata": {},
   "outputs": [],
   "source": [
    "# save_json(translation_result1, f\"cognitive_distortions_synthetic-{modelname}.json\")"
   ]
  },
  {
   "cell_type": "code",
   "execution_count": 109,
   "id": "c329c016",
   "metadata": {},
   "outputs": [
    {
     "data": {
      "text/plain": [
       "{'id': '0',\n",
       " 'text': 'John walked past me without saying a word. He must be angry at me for something.',\n",
       " 'text_rus': 'Джон прошел мимо меня, не сказав ни слова. Он, должно быть, сердится на меня за что-то.'}"
      ]
     },
     "execution_count": 109,
     "metadata": {},
     "output_type": "execute_result"
    }
   ],
   "source": [
    "translation_result = read_json(f\"cognitive_distortions_synthetic-{modelname}.json\")\n",
    "translation_result_dict = {i['id']: i for i in translation_result}\n",
    "translation_result[0]"
   ]
  },
  {
   "cell_type": "code",
   "execution_count": null,
   "id": "18b263d4",
   "metadata": {},
   "outputs": [],
   "source": [
    "set(translation_result_dict) - set(df_synt_no_dup.id.astype(str).unique())"
   ]
  },
  {
   "cell_type": "code",
   "execution_count": null,
   "id": "43e43943",
   "metadata": {},
   "outputs": [],
   "source": [
    "set(df_synt_no_dup.id.astype(str).unique()) - set(translation_result_dict)"
   ]
  },
  {
   "cell_type": "code",
   "execution_count": 117,
   "id": "11238363",
   "metadata": {},
   "outputs": [],
   "source": [
    "alldata_synthetic = []\n",
    "inc = []\n",
    "trs_dict = {i['text']: i['text_rus'] for i in translation_result}\n",
    "for idx, row in df_synt_no_dup.iterrows():\n",
    "\tt = row.restored_punct\n",
    "\tif t in trs_dict:\n",
    "\t\talldata_synthetic.append({\n",
    "\t\t\t\"id\": row['id'],\n",
    "\t\t\t\"text_eng\": t,\n",
    "\t\t\t\"text_rus\": trs_dict[t],\n",
    "\t\t\t\"label\": row.label,\n",
    "\t\t})\n",
    "\telse:\n",
    "\t\tinc.append({\n",
    "\t\t\t\"id\": row['id'],\n",
    "\t\t\t\"text\": t,\n",
    "\t\t})"
   ]
  },
  {
   "cell_type": "code",
   "execution_count": 118,
   "id": "7971cf5e",
   "metadata": {},
   "outputs": [
    {
     "data": {
      "text/plain": [
       "0"
      ]
     },
     "execution_count": 118,
     "metadata": {},
     "output_type": "execute_result"
    }
   ],
   "source": [
    "len(inc)"
   ]
  },
  {
   "cell_type": "code",
   "execution_count": 119,
   "id": "75c21456",
   "metadata": {},
   "outputs": [
    {
     "data": {
      "text/html": [
       "<div>\n",
       "<style scoped>\n",
       "    .dataframe tbody tr th:only-of-type {\n",
       "        vertical-align: middle;\n",
       "    }\n",
       "\n",
       "    .dataframe tbody tr th {\n",
       "        vertical-align: top;\n",
       "    }\n",
       "\n",
       "    .dataframe thead th {\n",
       "        text-align: right;\n",
       "    }\n",
       "</style>\n",
       "<table border=\"1\" class=\"dataframe\">\n",
       "  <thead>\n",
       "    <tr style=\"text-align: right;\">\n",
       "      <th></th>\n",
       "      <th>id</th>\n",
       "      <th>text_eng</th>\n",
       "      <th>text_rus</th>\n",
       "      <th>label</th>\n",
       "    </tr>\n",
       "  </thead>\n",
       "  <tbody>\n",
       "    <tr>\n",
       "      <th>186</th>\n",
       "      <td>246</td>\n",
       "      <td>I didn't get the grant. I'll never get funding...</td>\n",
       "      <td>Я не получил грант. Я никогда не получу финанс...</td>\n",
       "      <td>Overgeneralization</td>\n",
       "    </tr>\n",
       "    <tr>\n",
       "      <th>1208</th>\n",
       "      <td>1542</td>\n",
       "      <td>My boss praised my performance, but I'm fixate...</td>\n",
       "      <td>Мой начальник похвалил мое выступление, но я з...</td>\n",
       "      <td>Mental Filter</td>\n",
       "    </tr>\n",
       "    <tr>\n",
       "      <th>1325</th>\n",
       "      <td>1720</td>\n",
       "      <td>My colleagues should always appreciate my work...</td>\n",
       "      <td>Мои коллеги всегда должны ценить мою работу. Е...</td>\n",
       "      <td>Should Statements</td>\n",
       "    </tr>\n",
       "  </tbody>\n",
       "</table>\n",
       "</div>"
      ],
      "text/plain": [
       "        id                                           text_eng  \\\n",
       "186    246  I didn't get the grant. I'll never get funding...   \n",
       "1208  1542  My boss praised my performance, but I'm fixate...   \n",
       "1325  1720  My colleagues should always appreciate my work...   \n",
       "\n",
       "                                               text_rus               label  \n",
       "186   Я не получил грант. Я никогда не получу финанс...  Overgeneralization  \n",
       "1208  Мой начальник похвалил мое выступление, но я з...       Mental Filter  \n",
       "1325  Мои коллеги всегда должны ценить мою работу. Е...   Should Statements  "
      ]
     },
     "execution_count": 119,
     "metadata": {},
     "output_type": "execute_result"
    }
   ],
   "source": [
    "pd.DataFrame(alldata_synthetic).sample(3)"
   ]
  },
  {
   "cell_type": "code",
   "execution_count": null,
   "id": "2b2f5683",
   "metadata": {},
   "outputs": [],
   "source": [
    "# pd.DataFrame(alldata_synthetic).to_csv(\"cognitive_distortions_gpt4_translated.csv\", sep=\"|\")"
   ]
  },
  {
   "cell_type": "code",
   "execution_count": null,
   "id": "410dbc96",
   "metadata": {},
   "outputs": [],
   "source": []
  }
 ],
 "metadata": {
  "kernelspec": {
   "display_name": "empathy-dataset-transfer-U0sX-K_5-py3.12",
   "language": "python",
   "name": "python3"
  },
  "language_info": {
   "codemirror_mode": {
    "name": "ipython",
    "version": 3
   },
   "file_extension": ".py",
   "mimetype": "text/x-python",
   "name": "python",
   "nbconvert_exporter": "python",
   "pygments_lexer": "ipython3",
   "version": "3.12.2"
  }
 },
 "nbformat": 4,
 "nbformat_minor": 5
}
