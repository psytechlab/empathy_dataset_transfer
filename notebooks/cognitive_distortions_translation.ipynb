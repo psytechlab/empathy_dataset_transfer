{
 "cells": [
  {
   "cell_type": "markdown",
   "id": "84a08cc1",
   "metadata": {},
   "source": [
    "# Перевести датасет с когнитивными искажениями\n",
    "https://github.com/psytechlab/empathy_dataset_transfer/issues/33"
   ]
  },
  {
   "cell_type": "code",
   "execution_count": 30,
   "id": "af306384",
   "metadata": {},
   "outputs": [
    {
     "name": "stdout",
     "output_type": "stream",
     "text": [
      "The autoreload extension is already loaded. To reload it, use:\n",
      "  %reload_ext autoreload\n"
     ]
    },
    {
     "data": {
      "text/plain": [
       "'%.3f'"
      ]
     },
     "execution_count": 30,
     "metadata": {},
     "output_type": "execute_result"
    }
   ],
   "source": [
    "%load_ext autoreload\n",
    "%autoreload 2\n",
    "\n",
    "%precision 3"
   ]
  },
  {
   "cell_type": "code",
   "execution_count": 31,
   "id": "94c17051",
   "metadata": {},
   "outputs": [],
   "source": [
    "import pandas as pd"
   ]
  },
  {
   "cell_type": "code",
   "execution_count": 32,
   "id": "a34bd99b",
   "metadata": {},
   "outputs": [],
   "source": [
    "df = pd.read_csv(\"../Annotated_data.csv\")\n",
    "df.loc[df['Distorted part'].isna(), 'Distorted part'] = ''"
   ]
  },
  {
   "cell_type": "code",
   "execution_count": 33,
   "id": "2d1147e9",
   "metadata": {},
   "outputs": [
    {
     "data": {
      "text/html": [
       "<div>\n",
       "<style scoped>\n",
       "    .dataframe tbody tr th:only-of-type {\n",
       "        vertical-align: middle;\n",
       "    }\n",
       "\n",
       "    .dataframe tbody tr th {\n",
       "        vertical-align: top;\n",
       "    }\n",
       "\n",
       "    .dataframe thead th {\n",
       "        text-align: right;\n",
       "    }\n",
       "</style>\n",
       "<table border=\"1\" class=\"dataframe\">\n",
       "  <thead>\n",
       "    <tr style=\"text-align: right;\">\n",
       "      <th></th>\n",
       "      <th>Id_Number</th>\n",
       "      <th>Patient Question</th>\n",
       "      <th>Distorted part</th>\n",
       "      <th>Dominant Distortion</th>\n",
       "      <th>Secondary Distortion (Optional)</th>\n",
       "    </tr>\n",
       "  </thead>\n",
       "  <tbody>\n",
       "    <tr>\n",
       "      <th>0</th>\n",
       "      <td>4500</td>\n",
       "      <td>Hello, I have a beautiful,smart,outgoing and a...</td>\n",
       "      <td>The voice are always fimilar (someone she know...</td>\n",
       "      <td>Personalization</td>\n",
       "      <td>NaN</td>\n",
       "    </tr>\n",
       "    <tr>\n",
       "      <th>1</th>\n",
       "      <td>4501</td>\n",
       "      <td>Since I was about 16 years old I’ve had these ...</td>\n",
       "      <td>I feel trapped inside my disgusting self and l...</td>\n",
       "      <td>Labeling</td>\n",
       "      <td>Emotional Reasoning</td>\n",
       "    </tr>\n",
       "    <tr>\n",
       "      <th>2</th>\n",
       "      <td>4502</td>\n",
       "      <td>So I’ve been dating on and off this guy for a...</td>\n",
       "      <td></td>\n",
       "      <td>No Distortion</td>\n",
       "      <td>NaN</td>\n",
       "    </tr>\n",
       "    <tr>\n",
       "      <th>3</th>\n",
       "      <td>4503</td>\n",
       "      <td>My parents got divorced in 2004. My mother has...</td>\n",
       "      <td></td>\n",
       "      <td>No Distortion</td>\n",
       "      <td>NaN</td>\n",
       "    </tr>\n",
       "    <tr>\n",
       "      <th>4</th>\n",
       "      <td>4504</td>\n",
       "      <td>I don’t really know how to explain the situati...</td>\n",
       "      <td>I refused to go because I didn’t know if it wa...</td>\n",
       "      <td>Fortune-telling</td>\n",
       "      <td>Emotional Reasoning</td>\n",
       "    </tr>\n",
       "  </tbody>\n",
       "</table>\n",
       "</div>"
      ],
      "text/plain": [
       "   Id_Number                                   Patient Question  \\\n",
       "0       4500  Hello, I have a beautiful,smart,outgoing and a...   \n",
       "1       4501  Since I was about 16 years old I’ve had these ...   \n",
       "2       4502   So I’ve been dating on and off this guy for a...   \n",
       "3       4503  My parents got divorced in 2004. My mother has...   \n",
       "4       4504  I don’t really know how to explain the situati...   \n",
       "\n",
       "                                      Distorted part Dominant Distortion  \\\n",
       "0  The voice are always fimilar (someone she know...     Personalization   \n",
       "1  I feel trapped inside my disgusting self and l...            Labeling   \n",
       "2                                                          No Distortion   \n",
       "3                                                          No Distortion   \n",
       "4  I refused to go because I didn’t know if it wa...     Fortune-telling   \n",
       "\n",
       "  Secondary Distortion (Optional)  \n",
       "0                             NaN  \n",
       "1             Emotional Reasoning  \n",
       "2                             NaN  \n",
       "3                             NaN  \n",
       "4             Emotional Reasoning  "
      ]
     },
     "execution_count": 33,
     "metadata": {},
     "output_type": "execute_result"
    }
   ],
   "source": [
    "df.head()"
   ]
  },
  {
   "cell_type": "code",
   "execution_count": 34,
   "id": "1fe9fdf4",
   "metadata": {},
   "outputs": [],
   "source": [
    "def split_distorted_by_max_matches(question, distorted):\n",
    "    q_lower = question.lower()\n",
    "    d = distorted.strip()\n",
    "    i = 0\n",
    "    segments = []\n",
    "    while i < len(d):\n",
    "        best = \"\"\n",
    "        for j in range(i+1, len(d)+1):\n",
    "            sub = d[i:j]\n",
    "            if sub.lower() in q_lower:\n",
    "                best = sub\n",
    "            else:\n",
    "                break\n",
    "        if best:\n",
    "            segments.append(best)\n",
    "            i += len(best)\n",
    "        else:\n",
    "            i += 1 \n",
    "    return [seg.strip() for seg in segments if seg.strip()]\n"
   ]
  },
  {
   "cell_type": "code",
   "execution_count": 35,
   "id": "bbfbd10d",
   "metadata": {},
   "outputs": [
    {
     "name": "stdout",
     "output_type": "stream",
     "text": [
      "From a grandmother in Canada: My grandchildren ages 7 and 8 have been telling me for almost 2 years that they are afraid of mommy, my Grandson age 7 started soiling his pants, so I took him to the doctors and he said he’s afraid of mommy and she smacks them quite a bit in the head, I got the CPS involved and they sent the children to counselling. The counsellor seen the children one time and informed the children’s father the children are lying and are making stories up to get mommy and daddy back together.\n",
      "\n",
      "Hi, Doctor, I think I’m continued dive in the depression. I can’t feel very well. When I trying to get rid of my bad thoughts which is continuously coming to my mind –I can’t. When I trying to concentrate on my work I can’t. Every time I think about ” what happened next or what if I can’t do anything in my life.” I literally struggled to live a normal Happy life. 'Please help me to overcome my meaningless fear and the big one of the big problems for me is I’m not very Happy with my physique… I’m a very skinny guy and of course, I just want to get rid of this skinny shit… Pls help me what should I do…….pls pls pls reply soon…..Awaited to ur reply. (From India)\n",
      "\n",
      "Hi. I have had Obsessive-Compulsive Disorder for a number of years. I eventually got help for it, and it went away for a while , but it has now come back again. I hear a voice telling me that if I do not do a particular ritual, I will die. (I also have phobias and general fears). As I have had OCD for many years (since I was 11 years old), I believe I can more or less deal with it. However, in recent months, I have experienced new voices. They are telling me that I do not love my boyfriend. They do not require any kind of ritualistic behaviour and therefore i cannot make them go away. I constantly have 2 different thoughts and i argue with myself all the time in my head. 'Could they be a different form of OCD? or could it be some form of schizophrenia? Either way what is the best approach to deal with them and finally make them go away? Thank you very much in advance for your help.\n",
      "\n"
     ]
    }
   ],
   "source": [
    "parts = df['Distorted part'].tolist()\n",
    "qus = df['Patient Question'].tolist()\n",
    "new_parts = []\n",
    "i = 0\n",
    "inc = []\n",
    "for q, p in zip(qus, parts):\n",
    "\tif p in q:\n",
    "\t\ti += 1\n",
    "\t\tnew_parts.append([p])\n",
    "\telse:\n",
    "\t\trr = split_distorted_by_max_matches(q, p)\n",
    "\t\tgood = True\n",
    "\t\tfor t in rr:\n",
    "\t\t\tif t not in q:\n",
    "\t\t\t\tprint(q)\n",
    "\t\t\t\tprint()\n",
    "\t\t\t\tinc.append(q)\n",
    "\t\t\t\tgood = False\n",
    "\t\t\t\tbreak\n",
    "\t\tif good:\n",
    "\t\t\tnew_parts.append(rr)\n",
    "\t\telse:\n",
    "\t\t\tnew_parts.append([])"
   ]
  },
  {
   "cell_type": "code",
   "execution_count": 36,
   "id": "7307c730",
   "metadata": {},
   "outputs": [],
   "source": [
    "df['restored_distorted_part'] = new_parts\n",
    "df.drop(df[df['Patient Question'].isin(inc)].index, inplace=True)"
   ]
  },
  {
   "cell_type": "code",
   "execution_count": 38,
   "id": "73f53aa5",
   "metadata": {},
   "outputs": [
    {
     "data": {
      "text/html": [
       "<div>\n",
       "<style scoped>\n",
       "    .dataframe tbody tr th:only-of-type {\n",
       "        vertical-align: middle;\n",
       "    }\n",
       "\n",
       "    .dataframe tbody tr th {\n",
       "        vertical-align: top;\n",
       "    }\n",
       "\n",
       "    .dataframe thead th {\n",
       "        text-align: right;\n",
       "    }\n",
       "</style>\n",
       "<table border=\"1\" class=\"dataframe\">\n",
       "  <thead>\n",
       "    <tr style=\"text-align: right;\">\n",
       "      <th></th>\n",
       "      <th>Id_Number</th>\n",
       "      <th>Patient Question</th>\n",
       "      <th>Distorted part</th>\n",
       "      <th>Dominant Distortion</th>\n",
       "      <th>Secondary Distortion (Optional)</th>\n",
       "      <th>restored_distorted_part</th>\n",
       "    </tr>\n",
       "  </thead>\n",
       "  <tbody>\n",
       "    <tr>\n",
       "      <th>0</th>\n",
       "      <td>4500</td>\n",
       "      <td>Hello, I have a beautiful,smart,outgoing and a...</td>\n",
       "      <td>The voice are always fimilar (someone she know...</td>\n",
       "      <td>Personalization</td>\n",
       "      <td>NaN</td>\n",
       "      <td>[The voice are always fimilar (someone she kno...</td>\n",
       "    </tr>\n",
       "    <tr>\n",
       "      <th>1</th>\n",
       "      <td>4501</td>\n",
       "      <td>Since I was about 16 years old I’ve had these ...</td>\n",
       "      <td>I feel trapped inside my disgusting self and l...</td>\n",
       "      <td>Labeling</td>\n",
       "      <td>Emotional Reasoning</td>\n",
       "      <td>[I feel trapped inside my disgusting self and ...</td>\n",
       "    </tr>\n",
       "    <tr>\n",
       "      <th>2</th>\n",
       "      <td>4502</td>\n",
       "      <td>So I’ve been dating on and off this guy for a...</td>\n",
       "      <td></td>\n",
       "      <td>No Distortion</td>\n",
       "      <td>NaN</td>\n",
       "      <td>[]</td>\n",
       "    </tr>\n",
       "    <tr>\n",
       "      <th>3</th>\n",
       "      <td>4503</td>\n",
       "      <td>My parents got divorced in 2004. My mother has...</td>\n",
       "      <td></td>\n",
       "      <td>No Distortion</td>\n",
       "      <td>NaN</td>\n",
       "      <td>[]</td>\n",
       "    </tr>\n",
       "    <tr>\n",
       "      <th>4</th>\n",
       "      <td>4504</td>\n",
       "      <td>I don’t really know how to explain the situati...</td>\n",
       "      <td>I refused to go because I didn’t know if it wa...</td>\n",
       "      <td>Fortune-telling</td>\n",
       "      <td>Emotional Reasoning</td>\n",
       "      <td>[I refused to go because I didn’t know if it w...</td>\n",
       "    </tr>\n",
       "  </tbody>\n",
       "</table>\n",
       "</div>"
      ],
      "text/plain": [
       "   Id_Number                                   Patient Question  \\\n",
       "0       4500  Hello, I have a beautiful,smart,outgoing and a...   \n",
       "1       4501  Since I was about 16 years old I’ve had these ...   \n",
       "2       4502   So I’ve been dating on and off this guy for a...   \n",
       "3       4503  My parents got divorced in 2004. My mother has...   \n",
       "4       4504  I don’t really know how to explain the situati...   \n",
       "\n",
       "                                      Distorted part Dominant Distortion  \\\n",
       "0  The voice are always fimilar (someone she know...     Personalization   \n",
       "1  I feel trapped inside my disgusting self and l...            Labeling   \n",
       "2                                                          No Distortion   \n",
       "3                                                          No Distortion   \n",
       "4  I refused to go because I didn’t know if it wa...     Fortune-telling   \n",
       "\n",
       "  Secondary Distortion (Optional)  \\\n",
       "0                             NaN   \n",
       "1             Emotional Reasoning   \n",
       "2                             NaN   \n",
       "3                             NaN   \n",
       "4             Emotional Reasoning   \n",
       "\n",
       "                             restored_distorted_part  \n",
       "0  [The voice are always fimilar (someone she kno...  \n",
       "1  [I feel trapped inside my disgusting self and ...  \n",
       "2                                                 []  \n",
       "3                                                 []  \n",
       "4  [I refused to go because I didn’t know if it w...  "
      ]
     },
     "execution_count": 38,
     "metadata": {},
     "output_type": "execute_result"
    }
   ],
   "source": [
    "df.head()"
   ]
  },
  {
   "cell_type": "code",
   "execution_count": 39,
   "id": "e212b091",
   "metadata": {},
   "outputs": [
    {
     "data": {
      "text/plain": [
       "(2527, 6)"
      ]
     },
     "execution_count": 39,
     "metadata": {},
     "output_type": "execute_result"
    }
   ],
   "source": [
    "df.shape"
   ]
  },
  {
   "cell_type": "code",
   "execution_count": 43,
   "id": "fcb40a87",
   "metadata": {},
   "outputs": [],
   "source": [
    "df.to_csv(\"annotated_data_restored.csv\", index=False, sep=\"|\")"
   ]
  },
  {
   "cell_type": "code",
   "execution_count": null,
   "id": "d730428e",
   "metadata": {},
   "outputs": [],
   "source": []
  }
 ],
 "metadata": {
  "kernelspec": {
   "display_name": "empathy-dataset-transfer-U0sX-K_5-py3.12",
   "language": "python",
   "name": "python3"
  },
  "language_info": {
   "codemirror_mode": {
    "name": "ipython",
    "version": 3
   },
   "file_extension": ".py",
   "mimetype": "text/x-python",
   "name": "python",
   "nbconvert_exporter": "python",
   "pygments_lexer": "ipython3",
   "version": "3.12.2"
  }
 },
 "nbformat": 4,
 "nbformat_minor": 5
}
