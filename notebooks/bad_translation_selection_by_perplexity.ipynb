{
 "cells": [
  {
   "cell_type": "code",
   "execution_count": 1,
   "id": "98c7ebb8",
   "metadata": {},
   "outputs": [],
   "source": [
    "import json\n",
    "import pandas as pd\n",
    "import seaborn as sns\n",
    "from matplotlib import pyplot as plt\n",
    "import numpy as np\n",
    "pd.set_option(\"max_colwidth\", None)\n"
   ]
  },
  {
   "cell_type": "code",
   "execution_count": 3,
   "id": "41d53f9f",
   "metadata": {},
   "outputs": [],
   "source": [
    "with open(\"full_results_rugpt3small.json\") as f:\n",
    "    data = json.load(f)"
   ]
  },
  {
   "cell_type": "code",
   "execution_count": 7,
   "id": "a6940fea",
   "metadata": {},
   "outputs": [],
   "source": [
    "data = pd.DataFrame(data)"
   ]
  },
  {
   "cell_type": "code",
   "execution_count": 12,
   "id": "14556c03",
   "metadata": {},
   "outputs": [
    {
     "data": {
      "text/html": [
       "<div>\n",
       "<style scoped>\n",
       "    .dataframe tbody tr th:only-of-type {\n",
       "        vertical-align: middle;\n",
       "    }\n",
       "\n",
       "    .dataframe tbody tr th {\n",
       "        vertical-align: top;\n",
       "    }\n",
       "\n",
       "    .dataframe thead th {\n",
       "        text-align: right;\n",
       "    }\n",
       "</style>\n",
       "<table border=\"1\" class=\"dataframe\">\n",
       "  <thead>\n",
       "    <tr style=\"text-align: right;\">\n",
       "      <th></th>\n",
       "      <th>id</th>\n",
       "      <th>text</th>\n",
       "      <th>text_rus</th>\n",
       "      <th>perplexity</th>\n",
       "      <th>text_len</th>\n",
       "    </tr>\n",
       "  </thead>\n",
       "  <tbody>\n",
       "    <tr>\n",
       "      <th>0</th>\n",
       "      <td>0_0</td>\n",
       "      <td>Hello\\n</td>\n",
       "      <td>Привет\\n</td>\n",
       "      <td>147517.750000</td>\n",
       "      <td>1</td>\n",
       "    </tr>\n",
       "    <tr>\n",
       "      <th>1</th>\n",
       "      <td>0_1</td>\n",
       "      <td>Hello, what would you like to talk about?</td>\n",
       "      <td>Привет, о чём бы ты хотел поговорить?</td>\n",
       "      <td>79.524506</td>\n",
       "      <td>7</td>\n",
       "    </tr>\n",
       "    <tr>\n",
       "      <th>2</th>\n",
       "      <td>0_2</td>\n",
       "      <td>I am having a lot of anxiety about quitting my...</td>\n",
       "      <td>У меня много тревог из-за того, что я ухожу с ...</td>\n",
       "      <td>80.749954</td>\n",
       "      <td>18</td>\n",
       "    </tr>\n",
       "    <tr>\n",
       "      <th>3</th>\n",
       "      <td>0_3</td>\n",
       "      <td>What makes your job stressful for you?</td>\n",
       "      <td>Что делает твою работу стрессовой для тебя?</td>\n",
       "      <td>136.674347</td>\n",
       "      <td>7</td>\n",
       "    </tr>\n",
       "    <tr>\n",
       "      <th>4</th>\n",
       "      <td>0_4</td>\n",
       "      <td>I have to deal with many people in hard financ...</td>\n",
       "      <td>Мне приходится иметь дело со многими людьми в ...</td>\n",
       "      <td>59.763260</td>\n",
       "      <td>14</td>\n",
       "    </tr>\n",
       "  </tbody>\n",
       "</table>\n",
       "</div>"
      ],
      "text/plain": [
       "    id                                               text  \\\n",
       "0  0_0                                            Hello\\n   \n",
       "1  0_1          Hello, what would you like to talk about?   \n",
       "2  0_2  I am having a lot of anxiety about quitting my...   \n",
       "3  0_3             What makes your job stressful for you?   \n",
       "4  0_4  I have to deal with many people in hard financ...   \n",
       "\n",
       "                                            text_rus     perplexity  text_len  \n",
       "0                                           Привет\\n  147517.750000         1  \n",
       "1              Привет, о чём бы ты хотел поговорить?      79.524506         7  \n",
       "2  У меня много тревог из-за того, что я ухожу с ...      80.749954        18  \n",
       "3        Что делает твою работу стрессовой для тебя?     136.674347         7  \n",
       "4  Мне приходится иметь дело со многими людьми в ...      59.763260        14  "
      ]
     },
     "execution_count": 12,
     "metadata": {},
     "output_type": "execute_result"
    }
   ],
   "source": [
    "data.head()"
   ]
  },
  {
   "cell_type": "code",
   "execution_count": 9,
   "id": "8ebd4715",
   "metadata": {},
   "outputs": [],
   "source": [
    "data[\"text_len\"] = data.text_rus.apply(lambda x: len(x.split()))\n",
    "data[\"perplexity_log\"] = data.perplexity.apply(lambda x: np.log(x))"
   ]
  },
  {
   "cell_type": "code",
   "execution_count": 71,
   "id": "c8cb1c4b",
   "metadata": {},
   "outputs": [
    {
     "data": {
      "text/plain": [
       "count    38365.000000\n",
       "mean        13.735671\n",
       "std         11.216333\n",
       "min          1.000000\n",
       "25%          6.000000\n",
       "50%         11.000000\n",
       "75%         18.000000\n",
       "max        151.000000\n",
       "Name: text_len, dtype: float64"
      ]
     },
     "execution_count": 71,
     "metadata": {},
     "output_type": "execute_result"
    }
   ],
   "source": [
    "data.text_len.describe()"
   ]
  },
  {
   "cell_type": "code",
   "execution_count": 40,
   "id": "e407936a",
   "metadata": {},
   "outputs": [
    {
     "data": {
      "text/plain": [
       "count    38365.000000\n",
       "mean         5.244102\n",
       "std          1.925209\n",
       "min          2.188075\n",
       "25%          4.081689\n",
       "50%          4.751866\n",
       "75%          5.773474\n",
       "max         20.926205\n",
       "Name: perplexity_log, dtype: float64"
      ]
     },
     "execution_count": 40,
     "metadata": {},
     "output_type": "execute_result"
    }
   ],
   "source": [
    "data.perplexity_log.describe()"
   ]
  },
  {
   "cell_type": "code",
   "execution_count": 39,
   "id": "30a31a66",
   "metadata": {},
   "outputs": [
    {
     "data": {
      "text/plain": [
       "<Axes: >"
      ]
     },
     "execution_count": 39,
     "metadata": {},
     "output_type": "execute_result"
    },
    {
     "data": {
      "image/png": "[encoded data removed]",
      "text/plain": [
       "<Figure size 640x480 with 1 Axes>"
      ]
     },
     "metadata": {},
     "output_type": "display_data"
    }
   ],
   "source": [
    "data.perplexity_log.hist(bins=100)"
   ]
  },
  {
   "cell_type": "code",
   "execution_count": 43,
   "id": "cc5157ab",
   "metadata": {},
   "outputs": [
    {
     "data": {
      "text/plain": [
       "(0.0, 20.0)"
      ]
     },
     "execution_count": 43,
     "metadata": {},
     "output_type": "execute_result"
    },
    {
     "data": {
      "image/png": "[encoded data removed]",
      "text/plain": [
       "<Figure size 640x480 with 1 Axes>"
      ]
     },
     "metadata": {},
     "output_type": "display_data"
    }
   ],
   "source": [
    "sns.scatterplot(data=data, x=\"text_len\", y=\"perplexity_log\")\n",
    "plt.xlim(0,20)"
   ]
  },
  {
   "cell_type": "code",
   "execution_count": 53,
   "id": "4b23544b",
   "metadata": {},
   "outputs": [
    {
     "data": {
      "text/plain": [
       "<Axes: >"
      ]
     },
     "execution_count": 53,
     "metadata": {},
     "output_type": "execute_result"
    },
    {
     "data": {
      "image/png": "[encoded data removed]",
      "text/plain": [
       "<Figure size 640x480 with 1 Axes>"
      ]
     },
     "metadata": {},
     "output_type": "display_data"
    }
   ],
   "source": [
    "data[(data.text_len >=10) & (data.text_len <=12)].perplexity_log.hist()"
   ]
  },
  {
   "cell_type": "code",
   "execution_count": 61,
   "id": "1fc7a4ef",
   "metadata": {},
   "outputs": [
    {
     "data": {
      "text/plain": [
       "count    5061.000000\n",
       "mean        4.794988\n",
       "std         0.803878\n",
       "min         2.609831\n",
       "25%         4.222119\n",
       "50%         4.728067\n",
       "75%         5.292323\n",
       "max         8.087142\n",
       "Name: perplexity_log, dtype: float64"
      ]
     },
     "execution_count": 61,
     "metadata": {},
     "output_type": "execute_result"
    }
   ],
   "source": [
    "data[(data.text_len >=10) & (data.text_len <=12)].perplexity_log.describe()"
   ]
  },
  {
   "cell_type": "code",
   "execution_count": 67,
   "id": "4a4c8435",
   "metadata": {},
   "outputs": [],
   "source": [
    "data[\"cat\"] = pd.qcut(data.text_len, [x*0.1 for x in range(0,11,)])"
   ]
  },
  {
   "cell_type": "code",
   "execution_count": 69,
   "id": "b5289ceb",
   "metadata": {},
   "outputs": [
    {
     "data": {
      "text/plain": [
       "cat\n",
       "(0.999, 3.0]     4508\n",
       "(5.0, 7.0]       4184\n",
       "(3.0, 5.0]       4040\n",
       "(7.0, 9.0]       3882\n",
       "(20.0, 27.0]     3857\n",
       "(13.0, 16.0]     3826\n",
       "(16.0, 20.0]     3787\n",
       "(27.0, 151.0]    3770\n",
       "(9.0, 11.0]      3424\n",
       "(11.0, 13.0]     3087\n",
       "Name: count, dtype: int64"
      ]
     },
     "execution_count": 69,
     "metadata": {},
     "output_type": "execute_result"
    }
   ],
   "source": [
    "data.cat.value_counts()"
   ]
  },
  {
   "cell_type": "code",
   "execution_count": 70,
   "id": "d926a98f",
   "metadata": {},
   "outputs": [
    {
     "data": {
      "text/html": [
       "<div>\n",
       "<style scoped>\n",
       "    .dataframe tbody tr th:only-of-type {\n",
       "        vertical-align: middle;\n",
       "    }\n",
       "\n",
       "    .dataframe tbody tr th {\n",
       "        vertical-align: top;\n",
       "    }\n",
       "\n",
       "    .dataframe thead th {\n",
       "        text-align: right;\n",
       "    }\n",
       "</style>\n",
       "<table border=\"1\" class=\"dataframe\">\n",
       "  <thead>\n",
       "    <tr style=\"text-align: right;\">\n",
       "      <th></th>\n",
       "      <th>id</th>\n",
       "      <th>text</th>\n",
       "      <th>text_rus</th>\n",
       "      <th>perplexity</th>\n",
       "      <th>text_len</th>\n",
       "      <th>perplexity_log</th>\n",
       "      <th>cat</th>\n",
       "    </tr>\n",
       "  </thead>\n",
       "  <tbody>\n",
       "    <tr>\n",
       "      <th>11103</th>\n",
       "      <td>352_20</td>\n",
       "      <td>Kinda Ok, but struggling with some issues such as eating unhealthy</td>\n",
       "      <td>Вроде нормально, но борюсь с некоторыми проблемами, например, с нездоровым питанием.</td>\n",
       "      <td>53.839737</td>\n",
       "      <td>11</td>\n",
       "      <td>3.986012</td>\n",
       "      <td>(9.0, 11.0]</td>\n",
       "    </tr>\n",
       "    <tr>\n",
       "      <th>33063</th>\n",
       "      <td>1109_5</td>\n",
       "      <td>Well, are you sure that he could have definitely afforded to loan you anything?</td>\n",
       "      <td>Ну, ты уверен, что он мог бы точно одолжить тебе что-то?</td>\n",
       "      <td>53.865505</td>\n",
       "      <td>11</td>\n",
       "      <td>3.986490</td>\n",
       "      <td>(9.0, 11.0]</td>\n",
       "    </tr>\n",
       "    <tr>\n",
       "      <th>28499</th>\n",
       "      <td>963_16</td>\n",
       "      <td>because same thing happen with me and i try it help me a lot</td>\n",
       "      <td>потому что со мной то же самое происходит, и это очень помогает</td>\n",
       "      <td>53.936569</td>\n",
       "      <td>12</td>\n",
       "      <td>3.987809</td>\n",
       "      <td>(11.0, 13.0]</td>\n",
       "    </tr>\n",
       "    <tr>\n",
       "      <th>29599</th>\n",
       "      <td>996_10</td>\n",
       "      <td>I am sorry, I was not trying to intrude :)</td>\n",
       "      <td>Извини, я не хотел лезть не в свое дело :)</td>\n",
       "      <td>53.961472</td>\n",
       "      <td>10</td>\n",
       "      <td>3.988270</td>\n",
       "      <td>(9.0, 11.0]</td>\n",
       "    </tr>\n",
       "    <tr>\n",
       "      <th>18120</th>\n",
       "      <td>599_3</td>\n",
       "      <td>I have been feeling very depressed and i don't know what to do. \\n</td>\n",
       "      <td>Я чувствую себя очень подавленным и не знаю, что делать. \\n</td>\n",
       "      <td>54.011269</td>\n",
       "      <td>10</td>\n",
       "      <td>3.989193</td>\n",
       "      <td>(9.0, 11.0]</td>\n",
       "    </tr>\n",
       "    <tr>\n",
       "      <th>5988</th>\n",
       "      <td>189_13</td>\n",
       "      <td>That's really had to deal with. Try to surround yourself with loyal and truthful people.\\n</td>\n",
       "      <td>Это действительно трудно пережить. Постарайся окружить себя преданными и честными людьми.\\n</td>\n",
       "      <td>54.024879</td>\n",
       "      <td>11</td>\n",
       "      <td>3.989445</td>\n",
       "      <td>(9.0, 11.0]</td>\n",
       "    </tr>\n",
       "    <tr>\n",
       "      <th>17315</th>\n",
       "      <td>571_23</td>\n",
       "      <td>Im glad i could help, thank you for sharing your thoughts with me</td>\n",
       "      <td>Я рад, что смог помочь. Спасибо, что поделились своими мыслями со мной</td>\n",
       "      <td>54.028400</td>\n",
       "      <td>12</td>\n",
       "      <td>3.989510</td>\n",
       "      <td>(11.0, 13.0]</td>\n",
       "    </tr>\n",
       "    <tr>\n",
       "      <th>24294</th>\n",
       "      <td>815_1</td>\n",
       "      <td>Hi.  I'm doing fine.  Just feeling a bit anxious.</td>\n",
       "      <td>Привет. У меня всё в порядке. Просто чувствую себя немного тревожно.</td>\n",
       "      <td>54.042496</td>\n",
       "      <td>11</td>\n",
       "      <td>3.989771</td>\n",
       "      <td>(9.0, 11.0]</td>\n",
       "    </tr>\n",
       "    <tr>\n",
       "      <th>17899</th>\n",
       "      <td>592_4</td>\n",
       "      <td>oh wow. Is that hard for you? Explain what's upsetting you about that.</td>\n",
       "      <td>о, вау. Это сложно для тебя? Объясни, что тебя в этом расстраивает.</td>\n",
       "      <td>54.052906</td>\n",
       "      <td>12</td>\n",
       "      <td>3.989963</td>\n",
       "      <td>(11.0, 13.0]</td>\n",
       "    </tr>\n",
       "    <tr>\n",
       "      <th>32505</th>\n",
       "      <td>1092_3</td>\n",
       "      <td>It was unexpected and sudden. I found out he was cheating on me.\\n</td>\n",
       "      <td>Это произошло неожиданно и внезапно. Я узнал, что он мне изменяет.\\n</td>\n",
       "      <td>54.066967</td>\n",
       "      <td>11</td>\n",
       "      <td>3.990223</td>\n",
       "      <td>(9.0, 11.0]</td>\n",
       "    </tr>\n",
       "    <tr>\n",
       "      <th>15875</th>\n",
       "      <td>517_3</td>\n",
       "      <td>I am sorry to hear that. What are you feeling helpless about?</td>\n",
       "      <td>Прости, что слышу это. Из-за чего ты чувствуешь себя беспомощным?</td>\n",
       "      <td>54.088432</td>\n",
       "      <td>10</td>\n",
       "      <td>3.990620</td>\n",
       "      <td>(9.0, 11.0]</td>\n",
       "    </tr>\n",
       "    <tr>\n",
       "      <th>35485</th>\n",
       "      <td>1195_16</td>\n",
       "      <td>Okay, I can understand your feelings. Have you heard of practice tests?</td>\n",
       "      <td>Понимаю, как ты себя чувствуешь. Слышала ли ты о пробных тестах?</td>\n",
       "      <td>54.105385</td>\n",
       "      <td>11</td>\n",
       "      <td>3.990934</td>\n",
       "      <td>(9.0, 11.0]</td>\n",
       "    </tr>\n",
       "    <tr>\n",
       "      <th>27805</th>\n",
       "      <td>941_30</td>\n",
       "      <td>Perhaps you could suggest him taking some deep breaths to calm down.</td>\n",
       "      <td>Может быть, ты мог бы предложить ему сделать глубокие вдохи, чтобы успокоиться.</td>\n",
       "      <td>54.209545</td>\n",
       "      <td>12</td>\n",
       "      <td>3.992857</td>\n",
       "      <td>(11.0, 13.0]</td>\n",
       "    </tr>\n",
       "    <tr>\n",
       "      <th>23087</th>\n",
       "      <td>771_24</td>\n",
       "      <td>I believe it's because I felt useless after that point</td>\n",
       "      <td>Я думаю, что это потому, что я чувствовал себя бесполезным после этого.</td>\n",
       "      <td>54.218422</td>\n",
       "      <td>12</td>\n",
       "      <td>3.993021</td>\n",
       "      <td>(11.0, 13.0]</td>\n",
       "    </tr>\n",
       "    <tr>\n",
       "      <th>23332</th>\n",
       "      <td>780_9</td>\n",
       "      <td>Ok. Do you have any ideas for sales positions?</td>\n",
       "      <td>Окей. У вас есть какие-то идеи по рабочим местам в продажах?</td>\n",
       "      <td>54.298420</td>\n",
       "      <td>11</td>\n",
       "      <td>3.994495</td>\n",
       "      <td>(9.0, 11.0]</td>\n",
       "    </tr>\n",
       "    <tr>\n",
       "      <th>30724</th>\n",
       "      <td>1034_18</td>\n",
       "      <td>Thank you so much. Sometimes it just takes someone believing in you</td>\n",
       "      <td>Спасибо большое. Иногда просто нужно, чтобы кто-то верил в тебя.</td>\n",
       "      <td>54.346306</td>\n",
       "      <td>10</td>\n",
       "      <td>3.995377</td>\n",
       "      <td>(9.0, 11.0]</td>\n",
       "    </tr>\n",
       "    <tr>\n",
       "      <th>37606</th>\n",
       "      <td>1272_2</td>\n",
       "      <td>I feel bad putting this on your shoulders, maybe you can help\\n</td>\n",
       "      <td>Мне плохо, что я взваливаю это на тебя, может, ты сможешь помочь?</td>\n",
       "      <td>54.392761</td>\n",
       "      <td>12</td>\n",
       "      <td>3.996231</td>\n",
       "      <td>(11.0, 13.0]</td>\n",
       "    </tr>\n",
       "    <tr>\n",
       "      <th>35716</th>\n",
       "      <td>1203_24</td>\n",
       "      <td>Is there anything else that I can help you with today?</td>\n",
       "      <td>Может, есть еще что-то, с чем я могу тебе помочь сегодня?</td>\n",
       "      <td>54.428631</td>\n",
       "      <td>11</td>\n",
       "      <td>3.996890</td>\n",
       "      <td>(9.0, 11.0]</td>\n",
       "    </tr>\n",
       "    <tr>\n",
       "      <th>27477</th>\n",
       "      <td>932_9</td>\n",
       "      <td>The counselor may be able to act as a mediator between you and your parents.</td>\n",
       "      <td>Психолог может выступить в роли посредника между тобой и твоими родителями.</td>\n",
       "      <td>54.528030</td>\n",
       "      <td>11</td>\n",
       "      <td>3.998715</td>\n",
       "      <td>(9.0, 11.0]</td>\n",
       "    </tr>\n",
       "    <tr>\n",
       "      <th>16532</th>\n",
       "      <td>543_3</td>\n",
       "      <td>My daughter was born about 3 months ago.  I guess it's post-partum.(2)\\n</td>\n",
       "      <td>Моя дочь родилась примерно 3 месяца назад. Думаю, это послеродовая депрессия.(2)\\n</td>\n",
       "      <td>54.574593</td>\n",
       "      <td>11</td>\n",
       "      <td>3.999568</td>\n",
       "      <td>(9.0, 11.0]</td>\n",
       "    </tr>\n",
       "  </tbody>\n",
       "</table>\n",
       "</div>"
      ],
      "text/plain": [
       "            id  \\\n",
       "11103   352_20   \n",
       "33063   1109_5   \n",
       "28499   963_16   \n",
       "29599   996_10   \n",
       "18120    599_3   \n",
       "5988    189_13   \n",
       "17315   571_23   \n",
       "24294    815_1   \n",
       "17899    592_4   \n",
       "32505   1092_3   \n",
       "15875    517_3   \n",
       "35485  1195_16   \n",
       "27805   941_30   \n",
       "23087   771_24   \n",
       "23332    780_9   \n",
       "30724  1034_18   \n",
       "37606   1272_2   \n",
       "35716  1203_24   \n",
       "27477    932_9   \n",
       "16532    543_3   \n",
       "\n",
       "                                                                                             text  \\\n",
       "11103                          Kinda Ok, but struggling with some issues such as eating unhealthy   \n",
       "33063             Well, are you sure that he could have definitely afforded to loan you anything?   \n",
       "28499                                because same thing happen with me and i try it help me a lot   \n",
       "29599                                                 I am sorry, I was not trying to intrude :)    \n",
       "18120                          I have been feeling very depressed and i don't know what to do. \\n   \n",
       "5988   That's really had to deal with. Try to surround yourself with loyal and truthful people.\\n   \n",
       "17315                           Im glad i could help, thank you for sharing your thoughts with me   \n",
       "24294                                           Hi.  I'm doing fine.  Just feeling a bit anxious.   \n",
       "17899                     oh wow. Is that hard for you? Explain what's upsetting you about that.    \n",
       "32505                          It was unexpected and sudden. I found out he was cheating on me.\\n   \n",
       "15875                               I am sorry to hear that. What are you feeling helpless about?   \n",
       "35485                     Okay, I can understand your feelings. Have you heard of practice tests?   \n",
       "27805                        Perhaps you could suggest him taking some deep breaths to calm down.   \n",
       "23087                                      I believe it's because I felt useless after that point   \n",
       "23332                                              Ok. Do you have any ideas for sales positions?   \n",
       "30724                         Thank you so much. Sometimes it just takes someone believing in you   \n",
       "37606                             I feel bad putting this on your shoulders, maybe you can help\\n   \n",
       "35716                                      Is there anything else that I can help you with today?   \n",
       "27477                The counselor may be able to act as a mediator between you and your parents.   \n",
       "16532                    My daughter was born about 3 months ago.  I guess it's post-partum.(2)\\n   \n",
       "\n",
       "                                                                                          text_rus  \\\n",
       "11103         Вроде нормально, но борюсь с некоторыми проблемами, например, с нездоровым питанием.   \n",
       "33063                                     Ну, ты уверен, что он мог бы точно одолжить тебе что-то?   \n",
       "28499                              потому что со мной то же самое происходит, и это очень помогает   \n",
       "29599                                                  Извини, я не хотел лезть не в свое дело :)    \n",
       "18120                                  Я чувствую себя очень подавленным и не знаю, что делать. \\n   \n",
       "5988   Это действительно трудно пережить. Постарайся окружить себя преданными и честными людьми.\\n   \n",
       "17315                       Я рад, что смог помочь. Спасибо, что поделились своими мыслями со мной   \n",
       "24294                         Привет. У меня всё в порядке. Просто чувствую себя немного тревожно.   \n",
       "17899                         о, вау. Это сложно для тебя? Объясни, что тебя в этом расстраивает.    \n",
       "32505                         Это произошло неожиданно и внезапно. Я узнал, что он мне изменяет.\\n   \n",
       "15875                            Прости, что слышу это. Из-за чего ты чувствуешь себя беспомощным?   \n",
       "35485                             Понимаю, как ты себя чувствуешь. Слышала ли ты о пробных тестах?   \n",
       "27805              Может быть, ты мог бы предложить ему сделать глубокие вдохи, чтобы успокоиться.   \n",
       "23087                      Я думаю, что это потому, что я чувствовал себя бесполезным после этого.   \n",
       "23332                                 Окей. У вас есть какие-то идеи по рабочим местам в продажах?   \n",
       "30724                             Спасибо большое. Иногда просто нужно, чтобы кто-то верил в тебя.   \n",
       "37606                            Мне плохо, что я взваливаю это на тебя, может, ты сможешь помочь?   \n",
       "35716                                    Может, есть еще что-то, с чем я могу тебе помочь сегодня?   \n",
       "27477                  Психолог может выступить в роли посредника между тобой и твоими родителями.   \n",
       "16532           Моя дочь родилась примерно 3 месяца назад. Думаю, это послеродовая депрессия.(2)\\n   \n",
       "\n",
       "       perplexity  text_len  perplexity_log           cat  \n",
       "11103   53.839737        11        3.986012   (9.0, 11.0]  \n",
       "33063   53.865505        11        3.986490   (9.0, 11.0]  \n",
       "28499   53.936569        12        3.987809  (11.0, 13.0]  \n",
       "29599   53.961472        10        3.988270   (9.0, 11.0]  \n",
       "18120   54.011269        10        3.989193   (9.0, 11.0]  \n",
       "5988    54.024879        11        3.989445   (9.0, 11.0]  \n",
       "17315   54.028400        12        3.989510  (11.0, 13.0]  \n",
       "24294   54.042496        11        3.989771   (9.0, 11.0]  \n",
       "17899   54.052906        12        3.989963  (11.0, 13.0]  \n",
       "32505   54.066967        11        3.990223   (9.0, 11.0]  \n",
       "15875   54.088432        10        3.990620   (9.0, 11.0]  \n",
       "35485   54.105385        11        3.990934   (9.0, 11.0]  \n",
       "27805   54.209545        12        3.992857  (11.0, 13.0]  \n",
       "23087   54.218422        12        3.993021  (11.0, 13.0]  \n",
       "23332   54.298420        11        3.994495   (9.0, 11.0]  \n",
       "30724   54.346306        10        3.995377   (9.0, 11.0]  \n",
       "37606   54.392761        12        3.996231  (11.0, 13.0]  \n",
       "35716   54.428631        11        3.996890   (9.0, 11.0]  \n",
       "27477   54.528030        11        3.998715   (9.0, 11.0]  \n",
       "16532   54.574593        11        3.999568   (9.0, 11.0]  "
      ]
     },
     "execution_count": 70,
     "metadata": {},
     "output_type": "execute_result"
    }
   ],
   "source": [
    "data[((data.text_len >=10) & (data.text_len <=12)) & (data.perplexity_log<5.3)].sort_values(\"perplexity\")[-20:]"
   ]
  },
  {
   "cell_type": "code",
   "execution_count": null,
   "id": "50cab4bb",
   "metadata": {},
   "outputs": [],
   "source": []
  }
 ],
 "metadata": {
  "kernelspec": {
   "display_name": "Python 3 (ipykernel)",
   "language": "python",
   "name": "python3"
  },
  "language_info": {
   "codemirror_mode": {
    "name": "ipython",
    "version": 3
   },
   "file_extension": ".py",
   "mimetype": "text/x-python",
   "name": "python",
   "nbconvert_exporter": "python",
   "pygments_lexer": "ipython3",
   "version": "3.10.12"
  }
 },
 "nbformat": 4,
 "nbformat_minor": 5
}
