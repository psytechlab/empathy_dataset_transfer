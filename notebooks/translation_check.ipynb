{
 "cells": [
  {
   "cell_type": "markdown",
   "metadata": {},
   "source": [
    "## Translating using Bothub"
   ]
  },
  {
   "cell_type": "code",
   "execution_count": 125,
   "metadata": {},
   "outputs": [],
   "source": [
    "SYSTEM_MESSAGE = \"\"\"###Instruction### You are the best tranlsator from English to Russian. I will send you some texts from a social site Reddit. You must follow the instructions I send you below. Think before you answer. I’m going to tip $100 for a better solution!\n",
    "Given a JSON object, write an accurate translation into Russian for the original English sentence and save the results in a new field named text_rus. The input JSON object contains the following fields:\n",
    "- id: Unique ID of sentence.\n",
    "- text: English source text.\n",
    "\n",
    "Your task is to: For each text in English **write its exact translation into Russian** taking into account the style of the sentence and save the results in a new field named text_rus.\n",
    "Just translate texts, no other comments are needed. We want to translate suicidal posts to russian to train a model on them to help people.\n",
    "\n",
    "Make sure you follow these instructions and check yourself:\n",
    "- Write down the corresponding translated Russian text in the form of a new text_rus field.\n",
    "- For English text in text, you should definitely get the Russian text in text_rus.\n",
    "- Translate each sentence as accurately as possible, preserving meaning, tone, and emotional depth.\n",
    "- Consider the linguistic and contextual nuances of suicidal ideation, distress, and mental health topics to ensure the translation maintains the intended sentiment.\n",
    "- Preserve the style of the original text, whether it is casual, slang-heavy, fragmented, poetic, or medically significant.\n",
    "- Maintain the tone and connotation of the original expression, adapting it appropriately for Russian. If the slang has no direct equivalent, use a natural-sounding phrase with a similar emotional impact.\n",
    "- If emojis and emoticons contribute to the emotional expression, they should be retained. If they are redundant, prioritize the text's meaning. \n",
    "- Sometimes people can add more letters to the word or use uppercase to experss emotions (sadness, loneliness, joy etc.). Make sure you understand such words and translate them correctly into Russian.\n",
    "- Maintain the acronyms and wordplay's intended meaning. If a direct equivalent exists in Russian, use it; otherwise, explain it naturally.\n",
    "- If misspellings and informal Grammar reflect the speaker's mental state (e.g., distress, exhaustion), preserve the same feeling in Russian.\n",
    "- Maintain the pauses and irregular structure if they contribute to the emotional expression.\n",
    "- Do not add or remove any information—only translate the text exactly as it is while preserving its intent and emotional weight.\n",
    "- If you see and redundant letter, symbol or word, try to make the trasnlation as precise as possible, even though for you the meaning looks strange.\n",
    "- Use your knowledge about posts from social sites, since you are given texts from Reddit. There might be slang words, acronyms or any other word reductions specific to the platform.\n",
    "No explanation, just output the updated JSON. \n",
    "###Examples###\n",
    "\"\"\""
   ]
  },
  {
   "cell_type": "code",
   "execution_count": 126,
   "metadata": {},
   "outputs": [],
   "source": [
    "import time\n",
    "from langchain_openai import ChatOpenAI\n",
    "from langchain_core.output_parsers import StrOutputParser\n",
    "from langchain_core.prompts import ChatPromptTemplate\n",
    "from datasets import Dataset\n",
    "from pydantic import BaseModel"
   ]
  },
  {
   "cell_type": "code",
   "execution_count": 127,
   "metadata": {},
   "outputs": [],
   "source": [
    "class ResultSchema(BaseModel):\n",
    "    id: str\n",
    "    text: str\n",
    "    text_rus: str"
   ]
  },
  {
   "cell_type": "code",
   "execution_count": 128,
   "metadata": {},
   "outputs": [],
   "source": [
    "data = {\n",
    "    'text': [\n",
    "        \"Is that really so bad? Maybe it was the smart decision because you needed that time to read recover. You're being kind to yourself when you need it and that's important. Hope you feel better soon.\",\n",
    "\t\t\"I don't want you to jump. I don't want you to die, in either one. I don't know exactly what you're going through but from the sounds of it, I'd suggest focusing on the parts in your life that you enjoy.\",\n",
    "\t\t\"sorry to hear that, but been in a similar situation after taking some time off of school. My best advice is to take the minimum amount of classes possible so you get too overwhelmed. For me essential to plan my assignments in advance, so that I can just do things one by one and not let it all get piled up cuz then I wanna die. Also, if you need a break, take one. School will always be there but good to take care of yourself too :)\",\n",
    "\t\t\"Hey, just wait it out. I know what you feel. Sometimes I think I'm attractive, and sometimes I can't even look at myself I'm so disgusted. I've come to realize it's all just a fucked up mind game I play with myself. I doubt you're actually that ugly, you're probably kinda cute honestly, but if you're anything like me, you've tricked yourself into thinking you're ugly. If you want people to want to be around you, you have to do some basic things like showering, putting on actual clothes, smiling, excercising a little and pretending you have confidence. It's honestly dumb, but these things can be hard to do, especially if you struggle with low confidence and depression. But if you take care of yourself, it's not too hard to find people. And just you wait until you find a person to kiss on New Years, because the feeling is worth the wait. I know this is all a bit corny, but if you ever wanna talk about anything I'd be more than happy to :)\",\n",
    "\t\t\"You're a good man, Median. I hope you know this. I hope that you have people around you that will tell your story for centuries, and that you live on as a hero in the minds of newer generations. But, I'd rather you live, personally.\",\n",
    "\t\t\"Thats totally normal, most people get that from time to time. It will pass, the when is the real question. Good news is you can work on the when, at least it works for me. I think the key is to accept whatever you are feeling, not fight it and not try to change it, even try to get yourself to cry. The point is really to change your mindset from 'i have depression i can't cure it, it is killing me' to 'i'm sad again for no reason, human brain is a pile of shit and buggy as hell, I'm gonny cry all day to give it what it wants'..\",\n",
    "\t\t\"Yes you are right from my experience.Not dealing with my problems. I isolated my family. It just came second nature.When they don't understand me.I kept busy on the shitty computer to avoid my problems. I realize that the worst thing i could have done. I need to try harder and put my family first who means everything to me.\",\n",
    "\t\t\"No friends here, willing to listen. Need someone to listen to me sometime too. I'm going to bed right now, but if you want to message me I will get back to you tomorrow.\",\n",
    "\t\t\"Omgosh. I just want to validate this feeling because I have been there. That said, if it's a matter of safety, there is no question. You know that you need to go. You just do it. It's not some kind of failure. You are taking care of yourself. It DOES super suck though. Don't let anyone tell you it's all fine and fun to go through that. I've been there. I've come out the other end and been okay for long periods too though so I mean, it doesn't stay like that. Hang on. It gets better.\",\n",
    "\t\t\"Get up and take a shower, and then go for a walk so you can clear your mind. That usually helps me after going through one of these periods. It sucks, but you'll get through it. And don't lose your job, you don't want to end up on the street. You're stronger than you think, there's just a cloud of depression around you that's obscuring your vision. Stay strong and don't give up. You can do this.\",\n",
    "\t\t\"I care, man. Hang in there, things will get better eventually.\",\n",
    "\t\t\"Congrats on your birthday. I've never thought as well that i might see my HS graduation this year.\",\n",
    "\t\t\"Maybe one day things will become brighter for you to see it in a better light so that dream job might be ideal\",\n",
    "\t\t\"I hope you're still here. It gets better.\",\n",
    "\t\t\"I'm trying to increase my self worth so I stop doing this exact thing. My frustration immediately gets taken out on the one thing I seem to hate the most: me. I've started to set small goals for myself every day so each day feels like a success when I achieve those goals. This has led me to branch out and actually put myself out there. In doing so I'm discovering a passion for mental health advocacy and rekindling a love for doing creative stuff. I'm not saying everything has immediately gotten better. Holy shit it hasn't. But this helps at least a little for me! Hope you can find omething that works for you. Let me know if you wanna talk about it\",\n",
    "\t\t\"The good is worth it! Hang in there! You can get through this because you're stronger than this! You can make it through cause the good will be worth it! Lots of love!\",\n",
    "\t\t\"Please know that someone out there cares for you and would be heartbroken if you here.\",\n",
    "\t\t\"I feel the same way. I'm angry and depressed. It takes a lot out of me emotionally to do little things like run errands. I hate interacting with people. They state at me funny and act like I'm scary which makes me angry. It's exhausting.\",\n",
    "\t\t\"I'm here. I'll try to help.\",\n",
    "\t\t\"It really is one of the worst feelings. My dog who was my best friend for 6 years was just gone one day when I got home. That was about two years ago and I still miss my buddy\",\n",
    "\t\t\"I'm sorry, my friend. I lost my mum too, two years ago. I feel your pain but it'll get better for you, I promise.\",\n",
    "\t\t\"Same, well obviosuly I don't know how you feel 100% but I thinks its appropiate to say I can relate to you deeply. Why don't we try distract ourselves, even if its just 5 mins. Listen to a song you like, watch a small video, browse r/eyebleach or even go drink water. Im gonna try and watch something in youtube to at least try and not think about you know what. Wannna try with me? :)\",\n",
    "\t\t\"Hellow, is bad to hear that you're doing bad, I feel kinda the same, don't kill yourself, you're going to die anyway, so try and enjoy as much as you can. I hate how my life is right now, I feel empty and bored with everything/everyone, but.. **I love being alive**, you know, even tho existence itself has no meaning, we can just try and take the best out of it as long as we can.\",\n",
    "\t\t\"same man I feel you\",\n",
    "\t\t\"Sounds like apathy to me. I'm guessing you feel kind of lost and without a direction and you just are following the path that you feel is required of you. While apathy is one symptom of depression, it doesn't necessarily mean that you have depression. By no means am I downplaying depression or trying to convince you that nothing is wrong because there isn't any on true definition of depression. I felt like you for a while, just a few small pleasures but nothing really else. For me, it went away after a few months. If you want to talk about it more or anything, feel free to ask anything. My only advice is don't give up now, because if it goes away, you'll regret a lot of things that you stopped caring about.\",\n",
    "\t\t\"Depressed since I was 9, I'm 23 now...I totally feel you, you are not alone. Thankfully life does seem to get better for each year that passes, I deal with the severe depression as it occurs and try to enjoy the times when it's milder. Good luck to you in life.\",\n",
    "\t\t\"As someone who's felt the same, what do you have? And I'm speaking objectively, because I typically don't want to admit that I have what I need when I feel as you do. Not that I'm saying that you do have a lot, but your post doesn't necessarily shed a lot of light on what's going on. It's easy, or it has been for me, at least, to say that I don't know what to live for, in the past. Somebody out there cares, man/woman, small or large. I don't know what your situation is, by your post, but feel free to message me if you want.\",\n",
    "\t\t\"You deserve it! No one does! should yourself, though. Try to roll with it instead of beating yourself down more. You could comfort yourself instead and see what that does.\",\n",
    "\t\t\"YOU ARE NOT ALONE!!!! You posting here proves that. No matter what give up. There is always a better day, a better year, and a better life. There is so much help waiting for you. Talk it all out here if you need to, we judge and we can all relate. Please rob the world of your life! PM if you need help or need to talk, always willing to!\",\n",
    "\t\t\"Dude don't say that man your family loves you and trust me you do not want cancer\",\n",
    "    ]\n",
    "}"
   ]
  },
  {
   "cell_type": "code",
   "execution_count": 129,
   "metadata": {},
   "outputs": [],
   "source": [
    "data['id'] = list(range(len(data['text'])))"
   ]
  },
  {
   "cell_type": "code",
   "execution_count": 130,
   "metadata": {},
   "outputs": [],
   "source": [
    "input_dataset = Dataset.from_dict(data)"
   ]
  },
  {
   "cell_type": "code",
   "execution_count": 131,
   "metadata": {},
   "outputs": [
    {
     "data": {
      "text/plain": [
       "Dataset({\n",
       "    features: ['text', 'id'],\n",
       "    num_rows: 30\n",
       "})"
      ]
     },
     "execution_count": 131,
     "metadata": {},
     "output_type": "execute_result"
    }
   ],
   "source": [
    "input_dataset"
   ]
  },
  {
   "cell_type": "code",
   "execution_count": 132,
   "metadata": {},
   "outputs": [],
   "source": [
    "import json\n",
    "import os\n",
    "from datasets import Dataset\n",
    "import logging\n",
    "\n",
    "def load_jsonl_to_dataset(filepath: str) -> Dataset:\n",
    "    \"\"\"Функция загружает файл JSONL и преобразует его обратно в формат dataset\"\"\"\n",
    "    data = []\n",
    "    with open(filepath, 'r', encoding='utf-8') as f:\n",
    "        for line in f:\n",
    "            data.append(json.loads(line))\n",
    "    return Dataset.from_dict({key: [d[key] for d in data] for key in data[0].keys()})\n",
    "\n",
    "def save_batch_to_json(batch: Dataset, base_filename: str, batch_num: int, save_dir: str = ''):\n",
    "    \"\"\"Функция сохраняет батч в файл с префиксом _batch_<номер>\"\"\"\n",
    "    batch_num += 1 # start with 1\n",
    "    batch_filename = os.path.join(save_dir, f\"{base_filename}_batch_{batch_num}.json\")\n",
    "    batch.to_json(batch_filename, force_ascii=False)\n",
    "    logging.info(f\"Batch {batch_num} saved to '{batch_filename}'\")\n",
    "\n",
    "def split_dataset_into_batches(dataset: Dataset, batch_size: int) -> list:\n",
    "    \"\"\"Функция разбивает датасет на батчи заданного размера\"\"\"\n",
    "    num_batches = (len(dataset) + batch_size - 1) // batch_size  # округление вверх\n",
    "    return [dataset.shard(num_shards=num_batches, index=i) for i in range(num_batches)]\n",
    "\n",
    "def process_and_save_batches(filepath: str, batch_size: int, save: bool = True):\n",
    "    \"\"\"Функция загружает датасет, разбивает на батчи и сохраняет (опционально)\"\"\"\n",
    "\n",
    "    base_filename = os.path.splitext(os.path.basename(filepath))[0] # Получаем имя файла без расширения и директорию\n",
    "    save_dir = os.path.dirname(filepath)\n",
    "    \n",
    "    dataset = load_jsonl_to_dataset(filepath)\n",
    "    logging.info(f\"loaded dataset from '{filepath}', total examples: {len(dataset)}\")\n",
    "\n",
    "    # Разбиение на батчи\n",
    "    batches = split_dataset_into_batches(dataset, batch_size)\n",
    "    logging.info(f\"split dataset into {len(batches)} batches\")\n",
    "\n",
    "    # Сохраняем батчи\n",
    "    if save:\n",
    "        for i, batch in enumerate(batches):\n",
    "            save_batch_to_json(batch, base_filename, i + 1, save_dir)\n",
    "\n",
    "    return batches\n",
    "def create_directory_if_not_exists(directory_path):\n",
    "    \"\"\"Создает папку, если она не существует.\"\"\"\n",
    "    try:\n",
    "        os.makedirs(directory_path, exist_ok=True)\n",
    "        logging.info(f\"Directory '{directory_path}' is ready.\")\n",
    "        return directory_path\n",
    "    except Exception as e:\n",
    "        logging.error(f\"Failed to create directory '{directory_path}': {e}\")\n",
    "        return './'"
   ]
  },
  {
   "cell_type": "code",
   "execution_count": 133,
   "metadata": {},
   "outputs": [],
   "source": [
    "with open('configs/conf.json', \"r\") as f:\n",
    "\tconfig = json.load(f)\n",
    "model = ChatOpenAI(\n",
    "\tbase_url=config[\"base_url\"],\n",
    "\tapi_key=config[\"api_key\"],\n",
    "\tmodel=config[\"model\"]\n",
    ")"
   ]
  },
  {
   "cell_type": "code",
   "execution_count": 134,
   "metadata": {},
   "outputs": [],
   "source": [
    "intermediate_path = f'data/int_path_{config[\"model\"]}.json'\n",
    "batch_size = 4\n",
    "BATCH_RESULT_DIR = 'batches_res/'\n",
    "BATCH_DIR = 'batches/'\n",
    "FAILED_INDEXES_PATH = \"failed_indexes.txt\""
   ]
  },
  {
   "cell_type": "code",
   "execution_count": 135,
   "metadata": {},
   "outputs": [],
   "source": [
    "parser = StrOutputParser()\n",
    "\n",
    "with open('configs/filepath_examples.json', encoding='utf-8') as f:\n",
    "\texamples_data = json.load(f)\n",
    "\n",
    "system_template = SYSTEM_MESSAGE\n",
    "examples = examples_data[\"examples\"]\n",
    "system_template += \"\\n\".join(\n",
    "\tf\"Example Input: {json.dumps(example['input'], ensure_ascii=False, indent=2).replace('{', '{{').replace('}', '}}')}\\n\"\n",
    "\tf\"Example Result: {json.dumps(example['result'], ensure_ascii=False, indent=2).replace('{', '{{').replace('}', '}}')}\"\n",
    "\tfor example in examples\n",
    ")\n",
    "\n",
    "prompt_template = ChatPromptTemplate.from_messages(\n",
    "\t[(\"system\", system_template), (\"user\", \"{text}\")]\n",
    ")\n",
    "\n",
    "chain = prompt_template | model | parser"
   ]
  },
  {
   "cell_type": "code",
   "execution_count": 136,
   "metadata": {},
   "outputs": [],
   "source": [
    "def split_into_batches(input_dataset, batch_dir = BATCH_DIR, batch_size = batch_size):\n",
    "\tif batch_size > 0:\n",
    "\t\tlogging.info(f\"Splitting dataset into batches of size {batch_size}.\")\n",
    "\t\tbatched_input_dataset = split_dataset_into_batches(input_dataset, batch_size)\n",
    "\t\tbatch_dir = create_directory_if_not_exists(BATCH_DIR)\n",
    "\t\tfor i, batch in enumerate(batched_input_dataset):\n",
    "\t\t\tsave_batch_to_json(batch=batch, base_filename= \"separated_\", batch_num = i, save_dir=batch_dir)\n",
    "\telse:\n",
    "\t\tlogging.info(\"Processing the entire dataset without batching.\")\n",
    "\t\tbatched_input_dataset = [input_dataset]\n",
    "\treturn batched_input_dataset"
   ]
  },
  {
   "cell_type": "code",
   "execution_count": 137,
   "metadata": {},
   "outputs": [
    {
     "name": "stderr",
     "output_type": "stream",
     "text": [
      "Creating json from Arrow format: 100%|██████████| 1/1 [00:00<00:00, 60.80ba/s]\n",
      "Creating json from Arrow format: 100%|██████████| 1/1 [00:00<00:00, 831.38ba/s]\n",
      "Creating json from Arrow format: 100%|██████████| 1/1 [00:00<00:00, 1157.37ba/s]\n",
      "Creating json from Arrow format: 100%|██████████| 1/1 [00:00<00:00, 321.06ba/s]\n",
      "Creating json from Arrow format: 100%|██████████| 1/1 [00:00<00:00, 1045.96ba/s]\n",
      "Creating json from Arrow format: 100%|██████████| 1/1 [00:00<00:00, 943.18ba/s]\n",
      "Creating json from Arrow format: 100%|██████████| 1/1 [00:00<00:00, 793.62ba/s]\n",
      "Creating json from Arrow format: 100%|██████████| 1/1 [00:00<00:00, 1147.87ba/s]\n"
     ]
    }
   ],
   "source": [
    "batched_input_dataset = split_into_batches(input_dataset)"
   ]
  },
  {
   "cell_type": "code",
   "execution_count": 138,
   "metadata": {},
   "outputs": [],
   "source": [
    "def translate(batched_input_dataset):\n",
    "\tlist_of_results = []\n",
    "\tfor batch_idx, batch in enumerate(batched_input_dataset):\n",
    "\t\tprint(f\"Processing batch {batch_idx + 1}/{len(batched_input_dataset)}...\")\n",
    "\t\t\n",
    "\t\tbatch_results = []\n",
    "\t\t\n",
    "\t\tfor i, input_example in enumerate(batch):\n",
    "\t\t\tuser_input = 'Input: {0}\\nResult:'.format(json.dumps(input_example, ensure_ascii=False))\n",
    "\t\t\texample_id = input_example.get(\"id\", f\"example_{i}\") # получаем id примера или создаем временный\n",
    "\n",
    "\t\t\tsuccess = False\n",
    "\t\t\tattempt = 0\n",
    "\t\t\tmax_retries = 3\n",
    "\t\t\tretry_delay = 2\n",
    "\n",
    "\t\t\twhile not success and attempt < max_retries:\n",
    "\t\t\t\ttry:\n",
    "\t\t\t\t\tres = chain.invoke({\"text\": user_input}).strip('`').strip('json').strip()\n",
    "\t\t\t\t\t# print(f'Res[0]: {res[0]}')\n",
    "\t\t\t\t\t# print(f'Res: {res}')\n",
    "\n",
    "\t\t\t\t\tif not res or not res.startswith(\"{\"):\n",
    "\t\t\t\t\t\traise ValueError(f\"Unexpected response format: {res}\")\n",
    "\t\t\t\t\tresult_json = json.loads(res)\n",
    "\t\t\t\t\t# print(f'Result json: {result_json}')\n",
    "\n",
    "\t\t\t\t\t# Приведение ID к строке\n",
    "\t\t\t\t\tresult_json[\"id\"] = str(result_json[\"id\"])\n",
    "\n",
    "\t\t\t\t\t# Проверка схемы\n",
    "\t\t\t\t\tResultSchema.parse_obj(result_json)\n",
    "\n",
    "\t\t\t\t\tbatch_results.append(result_json)\n",
    "\t\t\t\t\tsuccess = True\n",
    "\t\t\t\texcept (json.JSONDecodeError, ValueError) as e:\n",
    "\t\t\t\t\tattempt += 1\n",
    "\t\t\t\t\tlogging.warning(f\"Error on input #{i} (id: {example_id}): {str(e)}. Attempt {attempt} of {max_retries}. Retrying...\")\n",
    "\t\t\t\t\ttime.sleep(retry_delay)\n",
    "\t\t\t\texcept Exception as e:\n",
    "\t\t\t\t\tattempt += 1\n",
    "\t\t\t\t\tlogging.error(f\"Unexpected error on input #{i} (id: {example_id}): {str(e)}. Attempt {attempt} of {max_retries}. Retrying...\")\n",
    "\t\t\t\t\ttime.sleep(retry_delay)\n",
    "\t\n",
    "\t\t# Добавляем результаты текущего батча к общим результатам\n",
    "\t\tlist_of_results.extend(batch_results)\n",
    "\t\t\n",
    "\t\t# Сохраняем результаты батча только если используется разбиение на батчи\n",
    "\t\tif batch_size > 0:\n",
    "\t\t\tbatch_result_dir = create_directory_if_not_exists(BATCH_RESULT_DIR)\n",
    "\t\t\tsave_batch_to_json(batch=Dataset.from_list(batch_results), base_filename=\"model_result\", batch_num = batch_idx, save_dir=batch_result_dir)  # Сохраняем промежуточные результаты\n",
    "\n",
    "\treturn list_of_results"
   ]
  },
  {
   "cell_type": "code",
   "execution_count": 139,
   "metadata": {},
   "outputs": [
    {
     "name": "stdout",
     "output_type": "stream",
     "text": [
      "Processing batch 1/8...\n"
     ]
    },
    {
     "name": "stderr",
     "output_type": "stream",
     "text": [
      "ERROR:root:Unexpected error on input #0 (id: 0): Connection error.. Attempt 1 of 3. Retrying...\n",
      "Creating json from Arrow format: 100%|██████████| 1/1 [00:00<00:00, 45.40ba/s]\n"
     ]
    },
    {
     "name": "stdout",
     "output_type": "stream",
     "text": [
      "Processing batch 2/8...\n"
     ]
    },
    {
     "name": "stderr",
     "output_type": "stream",
     "text": [
      "Creating json from Arrow format: 100%|██████████| 1/1 [00:00<00:00, 223.90ba/s]\n"
     ]
    },
    {
     "name": "stdout",
     "output_type": "stream",
     "text": [
      "Processing batch 3/8...\n"
     ]
    },
    {
     "name": "stderr",
     "output_type": "stream",
     "text": [
      "Creating json from Arrow format: 100%|██████████| 1/1 [00:00<00:00, 41.21ba/s]\n"
     ]
    },
    {
     "name": "stdout",
     "output_type": "stream",
     "text": [
      "Processing batch 4/8...\n"
     ]
    },
    {
     "name": "stderr",
     "output_type": "stream",
     "text": [
      "Creating json from Arrow format: 100%|██████████| 1/1 [00:00<00:00, 46.13ba/s]\n"
     ]
    },
    {
     "name": "stdout",
     "output_type": "stream",
     "text": [
      "Processing batch 5/8...\n"
     ]
    },
    {
     "name": "stderr",
     "output_type": "stream",
     "text": [
      "Creating json from Arrow format: 100%|██████████| 1/1 [00:00<00:00, 162.50ba/s]\n"
     ]
    },
    {
     "name": "stdout",
     "output_type": "stream",
     "text": [
      "Processing batch 6/8...\n"
     ]
    },
    {
     "name": "stderr",
     "output_type": "stream",
     "text": [
      "Creating json from Arrow format: 100%|██████████| 1/1 [00:00<00:00, 406.98ba/s]\n"
     ]
    },
    {
     "name": "stdout",
     "output_type": "stream",
     "text": [
      "Processing batch 7/8...\n"
     ]
    },
    {
     "name": "stderr",
     "output_type": "stream",
     "text": [
      "Creating json from Arrow format: 100%|██████████| 1/1 [00:00<00:00, 186.95ba/s]\n"
     ]
    },
    {
     "name": "stdout",
     "output_type": "stream",
     "text": [
      "Processing batch 8/8...\n"
     ]
    },
    {
     "name": "stderr",
     "output_type": "stream",
     "text": [
      "Creating json from Arrow format: 100%|██████████| 1/1 [00:00<00:00, 379.82ba/s]\n"
     ]
    }
   ],
   "source": [
    "list_of_results = translate(batched_input_dataset)"
   ]
  },
  {
   "cell_type": "code",
   "execution_count": 140,
   "metadata": {},
   "outputs": [],
   "source": [
    "if intermediate_path:\n",
    "\td = Dataset.from_list(list_of_results)\n",
    "\twith open(intermediate_path, \"w\", encoding=\"utf-8\") as f:\n",
    "\t\tjson.dump(d.to_list(), f, ensure_ascii=False, indent=4)"
   ]
  },
  {
   "cell_type": "code",
   "execution_count": 141,
   "metadata": {},
   "outputs": [],
   "source": [
    "with open(intermediate_path) as f:\n",
    "    d = json.load(f)\n",
    "\n",
    "texts_to_translate = [item['text_rus'] for item in d]"
   ]
  },
  {
   "cell_type": "markdown",
   "metadata": {},
   "source": [
    "### Translating rationales"
   ]
  },
  {
   "cell_type": "code",
   "execution_count": 142,
   "metadata": {},
   "outputs": [],
   "source": [
    "SYSTEM_MESSAGE = \"\"\"###Instruction###\n",
    "You are the best translator from English to Russian.\n",
    "Given a JSON object containing:\n",
    "- text_rus: a sentence in Russian\n",
    "- text_eng: a sentnce in English\n",
    "- rationales_eng: a string of substrings in English, each devided by |.\n",
    "\n",
    "You are given a Russian-translated text and its corresponding English rationales. \n",
    "Your task is to translate the rationales into Russian so that each translated rationale is an exact substring of the provided Russian text. \n",
    "If there are multiple rationales in the English version, they are separated by the pipe symbol `|`. You must translate each rationale in such a way that **each one appears exactly, \n",
    "without modification, within the Russian text**. Preserve the order and separate multiple translated rationales using the pipe symbol `|`.\n",
    "Then return a JSON object with:\n",
    "- text_rus: a sentence in Russian\n",
    "- rationales_eng: rationales in English\n",
    "- rationales_rus: the list of translated substrings as they appear in text_rus, joined by '|'\n",
    "- text_eng: a sentence in English (just copy from the input data)\n",
    "\n",
    "Make sure:\n",
    "- All translated rationales are exact substrings of text_rus.\n",
    "- Do not summarize or paraphrase.\n",
    "- Preserve the structure and intent of the original response.\n",
    "\n",
    "###Example###\n",
    "\"\"\""
   ]
  },
  {
   "cell_type": "code",
   "execution_count": 143,
   "metadata": {},
   "outputs": [],
   "source": [
    "intermediate_path = f'data/int_path_{config[\"model\"]}_rationales.json'\n",
    "batch_size = 4\n",
    "BATCH_RESULT_DIR = 'batches_res/rationales'\n",
    "BATCH_DIR = 'batches/rationales'\n",
    "FAILED_INDEXES_PATH = \"failed_indexes_rationales.txt\""
   ]
  },
  {
   "cell_type": "code",
   "execution_count": 144,
   "metadata": {},
   "outputs": [],
   "source": [
    "class ResultSchema(BaseModel):\n",
    "    id: str\n",
    "    text_rus: str\n",
    "    rationales_eng: str\n",
    "    rationales_rus: str\n",
    "    text_eng: str"
   ]
  },
  {
   "cell_type": "code",
   "execution_count": 145,
   "metadata": {},
   "outputs": [],
   "source": [
    "data = {\n",
    "    'text_rus': texts_to_translate,\n",
    "    'rationales_eng': [\n",
    "        \"Hope you feel better soon|\",\n",
    "\t\t\"I don't want you to jump. I don't want you to die|\",\n",
    "\t\t\"sorry to hear that|\",\n",
    "\t\t\"if you ever wanna talk about anything I'd be more than happy to|\",\n",
    "\t\t\"You're a good man|I'd rather you live, personally.|\",\n",
    "\t\t\"Thats totally normal, most people get that from time to time.|\",\n",
    "\t\t\"Yes you are right from my experience.|\",\n",
    "\t\t\"No friends here, willing to listen.|if you want to message me|\",\n",
    "\t\t\"Omgosh. I just want to validate this feeling because I have been there|it doesn't stay like that. Hang on. It gets better.|\",\n",
    "\t\t\"you'll get through it.|You're stronger than you think|Stay strong and don't give up.|You can do this|\",\n",
    "\t\t\"I care, man|Hang in there|things will get better eventually.|\",\n",
    "\t\t\"Congrats on your birthday|\",\n",
    "\t\t\"Maybe one day things will become brighter for you|\",\n",
    "\t\t\"I hope you're still here. It gets better.|\",\n",
    "\t\t\"Let me know if you wanna talk about it|\",\n",
    "\t\t\"Hang in there!|You can get through this because you're stronger than this!|You can make it through cause the good will be worth it!|Lots of love!|\",\n",
    "\t\t\"Please know that someone out there cares for you and would be heartbroken if you here.|\",\n",
    "\t\t\"I feel the same way|\",\n",
    "\t\t\"I'm here. I'll try to help.|\",\n",
    "\t\t\"It really is one of the worst feelings|\",\n",
    "\t\t\"I'm sorry, my friend.|I feel your pain|\",\n",
    "\t\t\"Same, well obviosuly I don't know how you feel 100% but I thinks its appropiate to say I can relate to you deeply.|\",\n",
    "\t\t\"Hellow, is bad to|you know, even tho existence itself has no meaning, we can just try and take the best out of it as long as we can.|\",\n",
    "\t\t\"same man I feel you|\",\n",
    "\t\t\"If you want to talk about it more or anything, feel free to ask anything.|\",\n",
    "\t\t\"I totally feel you, you are not alone|\",\n",
    "\t\t\"feel free to message me if you want.|\",\n",
    "\t\t\"You deserve it! No one does!|\",\n",
    "\t\t\"Talk it all out here if you need to|PM if you need help or need to talk, always willing to!|YOU ARE NOT ALONE!|\",\n",
    "\t\t\"Dude don't say that man your family loves you|\"\n",
    "\t], \n",
    "    'text_eng': [\n",
    "        \"Is that really so bad? Maybe it was the smart decision because you needed that time to read recover. You're being kind to yourself when you need it and that's important. Hope you feel better soon.\",\n",
    "\t\t\"I don't want you to jump. I don't want you to die, in either one. I don't know exactly what you're going through but from the sounds of it, I'd suggest focusing on the parts in your life that you enjoy.\",\n",
    "\t\t\"sorry to hear that, but been in a similar situation after taking some time off of school. My best advice is to take the minimum amount of classes possible so you get too overwhelmed. For me essential to plan my assignments in advance, so that I can just do things one by one and not let it all get piled up cuz then I wanna die. Also, if you need a break, take one. School will always be there but good to take care of yourself too :)\",\n",
    "\t\t\"Hey, just wait it out. I know what you feel. Sometimes I think I'm attractive, and sometimes I can't even look at myself I'm so disgusted. I've come to realize it's all just a fucked up mind game I play with myself. I doubt you're actually that ugly, you're probably kinda cute honestly, but if you're anything like me, you've tricked yourself into thinking you're ugly. If you want people to want to be around you, you have to do some basic things like showering, putting on actual clothes, smiling, excercising a little and pretending you have confidence. It's honestly dumb, but these things can be hard to do, especially if you struggle with low confidence and depression. But if you take care of yourself, it's not too hard to find people. And just you wait until you find a person to kiss on New Years, because the feeling is worth the wait. I know this is all a bit corny, but if you ever wanna talk about anything I'd be more than happy to :)\",\n",
    "\t\t\"You're a good man, Median. I hope you know this. I hope that you have people around you that will tell your story for centuries, and that you live on as a hero in the minds of newer generations. But, I'd rather you live, personally.\",\n",
    "\t\t\"Thats totally normal, most people get that from time to time. It will pass, the when is the real question. Good news is you can work on the when, at least it works for me. I think the key is to accept whatever you are feeling, not fight it and not try to change it, even try to get yourself to cry. The point is really to change your mindset from 'i have depression i can't cure it, it is killing me' to 'i'm sad again for no reason, human brain is a pile of shit and buggy as hell, I'm gonny cry all day to give it what it wants'..\",\n",
    "\t\t\"Yes you are right from my experience.Not dealing with my problems. I isolated my family. It just came second nature.When they don't understand me.I kept busy on the shitty computer to avoid my problems. I realize that the worst thing i could have done. I need to try harder and put my family first who means everything to me.\",\n",
    "\t\t\"No friends here, willing to listen. Need someone to listen to me sometime too. I'm going to bed right now, but if you want to message me I will get back to you tomorrow.\",\n",
    "\t\t\"Omgosh. I just want to validate this feeling because I have been there. That said, if it's a matter of safety, there is no question. You know that you need to go. You just do it. It's not some kind of failure. You are taking care of yourself. It DOES super suck though. Don't let anyone tell you it's all fine and fun to go through that. I've been there. I've come out the other end and been okay for long periods too though so I mean, it doesn't stay like that. Hang on. It gets better.\",\n",
    "\t\t\"Get up and take a shower, and then go for a walk so you can clear your mind. That usually helps me after going through one of these periods. It sucks, but you'll get through it. And don't lose your job, you don't want to end up on the street. You're stronger than you think, there's just a cloud of depression around you that's obscuring your vision. Stay strong and don't give up. You can do this.\",\n",
    "\t\t\"I care, man. Hang in there, things will get better eventually.\",\n",
    "\t\t\"Congrats on your birthday. I've never thought as well that i might see my HS graduation this year.\",\n",
    "\t\t\"Maybe one day things will become brighter for you to see it in a better light so that dream job might be ideal\",\n",
    "\t\t\"I hope you're still here. It gets better.\",\n",
    "\t\t\"I'm trying to increase my self worth so I stop doing this exact thing. My frustration immediately gets taken out on the one thing I seem to hate the most: me. I've started to set small goals for myself every day so each day feels like a success when I achieve those goals. This has led me to branch out and actually put myself out there. In doing so I'm discovering a passion for mental health advocacy and rekindling a love for doing creative stuff. I'm not saying everything has immediately gotten better. Holy shit it hasn't. But this helps at least a little for me! Hope you can find omething that works for you. Let me know if you wanna talk about it\",\n",
    "\t\t\"The good is worth it! Hang in there! You can get through this because you're stronger than this! You can make it through cause the good will be worth it! Lots of love!\",\n",
    "\t\t\"Please know that someone out there cares for you and would be heartbroken if you here.\",\n",
    "\t\t\"I feel the same way. I'm angry and depressed. It takes a lot out of me emotionally to do little things like run errands. I hate interacting with people. They state at me funny and act like I'm scary which makes me angry. It's exhausting.\",\n",
    "\t\t\"I'm here. I'll try to help.\",\n",
    "\t\t\"It really is one of the worst feelings. My dog who was my best friend for 6 years was just gone one day when I got home. That was about two years ago and I still miss my buddy\",\n",
    "\t\t\"I'm sorry, my friend. I lost my mum too, two years ago. I feel your pain but it'll get better for you, I promise.\",\n",
    "\t\t\"Same, well obviosuly I don't know how you feel 100% but I thinks its appropiate to say I can relate to you deeply. Why don't we try distract ourselves, even if its just 5 mins. Listen to a song you like, watch a small video, browse r/eyebleach or even go drink water. Im gonna try and watch something in youtube to at least try and not think about you know what. Wannna try with me? :)\",\n",
    "\t\t\"Hellow, is bad to hear that you're doing bad, I feel kinda the same, don't kill yourself, you're going to die anyway, so try and enjoy as much as you can. I hate how my life is right now, I feel empty and bored with everything/everyone, but.. **I love being alive**, you know, even tho existence itself has no meaning, we can just try and take the best out of it as long as we can.\",\n",
    "\t\t\"same man I feel you\",\n",
    "\t\t\"Sounds like apathy to me. I'm guessing you feel kind of lost and without a direction and you just are following the path that you feel is required of you. While apathy is one symptom of depression, it doesn't necessarily mean that you have depression. By no means am I downplaying depression or trying to convince you that nothing is wrong because there isn't any on true definition of depression. I felt like you for a while, just a few small pleasures but nothing really else. For me, it went away after a few months. If you want to talk about it more or anything, feel free to ask anything. My only advice is don't give up now, because if it goes away, you'll regret a lot of things that you stopped caring about.\",\n",
    "\t\t\"Depressed since I was 9, I'm 23 now...I totally feel you, you are not alone. Thankfully life does seem to get better for each year that passes, I deal with the severe depression as it occurs and try to enjoy the times when it's milder. Good luck to you in life.\",\n",
    "\t\t\"As someone who's felt the same, what do you have? And I'm speaking objectively, because I typically don't want to admit that I have what I need when I feel as you do. Not that I'm saying that you do have a lot, but your post doesn't necessarily shed a lot of light on what's going on. It's easy, or it has been for me, at least, to say that I don't know what to live for, in the past. Somebody out there cares, man/woman, small or large. I don't know what your situation is, by your post, but feel free to message me if you want.\",\n",
    "\t\t\"You deserve it! No one does! should yourself, though. Try to roll with it instead of beating yourself down more. You could comfort yourself instead and see what that does.\",\n",
    "\t\t\"YOU ARE NOT ALONE!!!! You posting here proves that. No matter what give up. There is always a better day, a better year, and a better life. There is so much help waiting for you. Talk it all out here if you need to, we judge and we can all relate. Please rob the world of your life! PM if you need help or need to talk, always willing to!\",\n",
    "\t\t\"Dude don't say that man your family loves you and trust me you do not want cancer\",\n",
    "\t]\n",
    "}"
   ]
  },
  {
   "cell_type": "code",
   "execution_count": 146,
   "metadata": {},
   "outputs": [],
   "source": [
    "data['id'] = list(range(len(data['text_rus'])))"
   ]
  },
  {
   "cell_type": "code",
   "execution_count": 147,
   "metadata": {},
   "outputs": [],
   "source": [
    "input_dataset = Dataset.from_dict(data)"
   ]
  },
  {
   "cell_type": "code",
   "execution_count": 148,
   "metadata": {},
   "outputs": [],
   "source": [
    "with open('configs/filepath_examples_rat.json', encoding='utf-8') as f:\n",
    "\texamples_data = json.load(f)\n",
    "\n",
    "system_template = SYSTEM_MESSAGE\n",
    "examples = examples_data[\"examples\"]\n",
    "system_template += \"\\n\".join(\n",
    "\tf\"Example Input: {json.dumps(example['input'], ensure_ascii=False, indent=2).replace('{', '{{').replace('}', '}}')}\\n\"\n",
    "\tf\"Example Result: {json.dumps(example['result'], ensure_ascii=False, indent=2).replace('{', '{{').replace('}', '}}')}\"\n",
    "\tfor example in examples\n",
    ")\n",
    "\n",
    "prompt_template = ChatPromptTemplate.from_messages(\n",
    "\t[(\"system\", system_template), (\"user\", \"{text}\")]\n",
    ")\n",
    "\n",
    "chain = prompt_template | model | parser"
   ]
  },
  {
   "cell_type": "code",
   "execution_count": 149,
   "metadata": {},
   "outputs": [
    {
     "name": "stderr",
     "output_type": "stream",
     "text": [
      "Creating json from Arrow format: 100%|██████████| 1/1 [00:00<00:00, 555.32ba/s]\n",
      "Creating json from Arrow format: 100%|██████████| 1/1 [00:00<00:00, 545.21ba/s]\n",
      "Creating json from Arrow format: 100%|██████████| 1/1 [00:00<00:00, 960.67ba/s]\n",
      "Creating json from Arrow format: 100%|██████████| 1/1 [00:00<00:00, 1111.07ba/s]\n",
      "Creating json from Arrow format: 100%|██████████| 1/1 [00:00<00:00, 699.28ba/s]\n",
      "Creating json from Arrow format: 100%|██████████| 1/1 [00:00<00:00, 983.19ba/s]\n",
      "Creating json from Arrow format: 100%|██████████| 1/1 [00:00<00:00, 1050.68ba/s]\n",
      "Creating json from Arrow format: 100%|██████████| 1/1 [00:00<00:00, 1142.86ba/s]\n"
     ]
    }
   ],
   "source": [
    "batched_input_dataset = split_into_batches(input_dataset)"
   ]
  },
  {
   "cell_type": "code",
   "execution_count": 150,
   "metadata": {},
   "outputs": [
    {
     "name": "stdout",
     "output_type": "stream",
     "text": [
      "Processing batch 1/8...\n"
     ]
    },
    {
     "name": "stderr",
     "output_type": "stream",
     "text": [
      "Creating json from Arrow format: 100%|██████████| 1/1 [00:00<00:00, 442.72ba/s]\n"
     ]
    },
    {
     "name": "stdout",
     "output_type": "stream",
     "text": [
      "Processing batch 2/8...\n"
     ]
    },
    {
     "name": "stderr",
     "output_type": "stream",
     "text": [
      "Creating json from Arrow format: 100%|██████████| 1/1 [00:00<00:00, 306.20ba/s]\n"
     ]
    },
    {
     "name": "stdout",
     "output_type": "stream",
     "text": [
      "Processing batch 3/8...\n"
     ]
    },
    {
     "name": "stderr",
     "output_type": "stream",
     "text": [
      "Creating json from Arrow format: 100%|██████████| 1/1 [00:00<00:00, 395.88ba/s]\n"
     ]
    },
    {
     "name": "stdout",
     "output_type": "stream",
     "text": [
      "Processing batch 4/8...\n"
     ]
    },
    {
     "name": "stderr",
     "output_type": "stream",
     "text": [
      "Creating json from Arrow format: 100%|██████████| 1/1 [00:00<00:00, 179.53ba/s]\n"
     ]
    },
    {
     "name": "stdout",
     "output_type": "stream",
     "text": [
      "Processing batch 5/8...\n"
     ]
    },
    {
     "name": "stderr",
     "output_type": "stream",
     "text": [
      "Creating json from Arrow format: 100%|██████████| 1/1 [00:00<00:00, 231.84ba/s]\n"
     ]
    },
    {
     "name": "stdout",
     "output_type": "stream",
     "text": [
      "Processing batch 6/8...\n"
     ]
    },
    {
     "name": "stderr",
     "output_type": "stream",
     "text": [
      "Creating json from Arrow format: 100%|██████████| 1/1 [00:00<00:00, 161.19ba/s]\n"
     ]
    },
    {
     "name": "stdout",
     "output_type": "stream",
     "text": [
      "Processing batch 7/8...\n"
     ]
    },
    {
     "name": "stderr",
     "output_type": "stream",
     "text": [
      "Creating json from Arrow format: 100%|██████████| 1/1 [00:00<00:00, 181.55ba/s]\n"
     ]
    },
    {
     "name": "stdout",
     "output_type": "stream",
     "text": [
      "Processing batch 8/8...\n"
     ]
    },
    {
     "name": "stderr",
     "output_type": "stream",
     "text": [
      "Creating json from Arrow format: 100%|██████████| 1/1 [00:00<00:00, 74.69ba/s]\n"
     ]
    }
   ],
   "source": [
    "list_of_results = translate(batched_input_dataset)"
   ]
  },
  {
   "cell_type": "code",
   "execution_count": 151,
   "metadata": {},
   "outputs": [],
   "source": [
    "if intermediate_path:\n",
    "\td = Dataset.from_list(list_of_results)\n",
    "\twith open(intermediate_path, \"w\", encoding=\"utf-8\") as f:\n",
    "\t\tjson.dump(d.to_list(), f, ensure_ascii=False, indent=4)"
   ]
  },
  {
   "cell_type": "code",
   "execution_count": 152,
   "metadata": {},
   "outputs": [
    {
     "name": "stdout",
     "output_type": "stream",
     "text": [
      "{'id': '26', 'text_rus': 'Как человек, который испытывал то же самое, что у тебя есть? Я говорю объективно, потому что обычно не хочу признавать, что у меня есть то, что мне нужно, когда я чувствую себя так же, как и ты. Не то чтобы я говорил, что у тебя многое есть, но твой пост не дает много информации о том, что происходит. В прошлом, по крайней мере для меня, было легко говорить, что я не знаю, ради чего жить. Кто-то там точно заботится, мужчина/женщина, молодой или старый. Я не знаю твоей ситуации по твоему посту, но если хочешь, можешь написать мне.', 'text_eng': \"As someone who's felt the same, what do you have? And I'm speaking objectively, because I typically don't want to admit that I have what I need when I feel as you do. Not that I'm saying that you do have a lot, but your post doesn't necessarily shed a lot of light on what's going on. It's easy, or it has been for me, at least, to say that I don't know what to live for, in the past. Somebody out there cares, man/woman, small or large. I don't know what your situation is, by your post, but feel free to message me if you want.\", 'rationales_eng': 'feel free to message me if you want.|', 'rationales_rus': 'можешь написать мне, если хочешь.|'}\n"
     ]
    }
   ],
   "source": [
    "with open(intermediate_path, 'r') as f:\n",
    "    translated_rationales = json.load(f)\n",
    "    \n",
    "for item in translated_rationales:\n",
    "    rats = item['rationales_rus'].split('|')\n",
    "    for r in rats:\n",
    "        if r not in item['text_rus']:\n",
    "            print(item)"
   ]
  },
  {
   "cell_type": "markdown",
   "metadata": {},
   "source": [
    "## Translating using Yandex API"
   ]
  },
  {
   "cell_type": "code",
   "execution_count": 153,
   "metadata": {},
   "outputs": [],
   "source": [
    "import requests"
   ]
  },
  {
   "cell_type": "code",
   "execution_count": 154,
   "metadata": {},
   "outputs": [],
   "source": [
    "def translate_text_yandex(text, api_key):\n",
    "    url = \"https://translate.api.cloud.yandex.net/translate/v2/translate\"\n",
    "    headers = {\n",
    "        \"Authorization\": f\"Api-Key {api_key}\",\n",
    "        \"Content-Type\": \"application/json\"\n",
    "    }\n",
    "    data = {\n",
    "        \"targetLanguageCode\": \"ru\",\n",
    "        \"texts\": [text],\n",
    "        \"folderId\": \"\"\n",
    "    }\n",
    "    \n",
    "    response = requests.post(url, json=data, headers=headers)\n",
    "    \n",
    "    if response.status_code == 200:\n",
    "        result = response.json()\n",
    "        return result[\"translations\"][0][\"text\"]\n",
    "    else:\n",
    "        return f\"Error: {response.status_code}, {response.text}\""
   ]
  },
  {
   "cell_type": "code",
   "execution_count": 155,
   "metadata": {},
   "outputs": [],
   "source": [
    "api_key = \"\""
   ]
  },
  {
   "cell_type": "code",
   "execution_count": 156,
   "metadata": {},
   "outputs": [
    {
     "ename": "KeyError",
     "evalue": "'text'",
     "output_type": "error",
     "traceback": [
      "\u001b[0;31m---------------------------------------------------------------------------\u001b[0m",
      "\u001b[0;31mKeyError\u001b[0m                                  Traceback (most recent call last)",
      "Cell \u001b[0;32mIn[156], line 2\u001b[0m\n\u001b[1;32m      1\u001b[0m res \u001b[38;5;241m=\u001b[39m []\n\u001b[0;32m----> 2\u001b[0m \u001b[38;5;28;01mfor\u001b[39;00m text \u001b[38;5;129;01min\u001b[39;00m \u001b[43mdata\u001b[49m\u001b[43m[\u001b[49m\u001b[38;5;124;43m'\u001b[39;49m\u001b[38;5;124;43mtext\u001b[39;49m\u001b[38;5;124;43m'\u001b[39;49m\u001b[43m]\u001b[49m:\n\u001b[1;32m      3\u001b[0m     translated_text \u001b[38;5;241m=\u001b[39m translate_text_yandex(text, api_key)\n\u001b[1;32m      4\u001b[0m     res\u001b[38;5;241m.\u001b[39mappend(translated_text)\n",
      "\u001b[0;31mKeyError\u001b[0m: 'text'"
     ]
    }
   ],
   "source": [
    "res = []\n",
    "for text in data['text']:\n",
    "    translated_text = translate_text_yandex(text, api_key)\n",
    "    res.append(translated_text)"
   ]
  },
  {
   "cell_type": "code",
   "execution_count": 29,
   "metadata": {},
   "outputs": [],
   "source": [
    "with open('data/translation_yandex.txt', 'w') as f:\n",
    "    for r in res:\n",
    "        f.write(r + '\\n')"
   ]
  }
 ],
 "metadata": {
  "kernelspec": {
   "display_name": "base",
   "language": "python",
   "name": "python3"
  },
  "language_info": {
   "codemirror_mode": {
    "name": "ipython",
    "version": 3
   },
   "file_extension": ".py",
   "mimetype": "text/x-python",
   "name": "python",
   "nbconvert_exporter": "python",
   "pygments_lexer": "ipython3",
   "version": "3.10.14"
  }
 },
 "nbformat": 4,
 "nbformat_minor": 2
}
